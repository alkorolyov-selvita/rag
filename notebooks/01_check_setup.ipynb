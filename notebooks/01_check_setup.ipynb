{
 "cells": [
  {
   "cell_type": "code",
   "id": "initial_id",
   "metadata": {
    "collapsed": true,
    "ExecuteTime": {
     "end_time": "2025-10-11T05:22:21.160269Z",
     "start_time": "2025-10-11T05:22:21.114271Z"
    }
   },
   "source": [
    "from rag.config import settings\n",
    "settings"
   ],
   "outputs": [
    {
     "data": {
      "text/plain": [
       "Settings(environment='development', log_level='DEBUG', api_host='0.0.0.0', api_port=8000, postgres_db='ragdb', postgres_user='raguser', postgres_password=SecretStr('**********'), redis_url='redis://localhost:6379/0', embedding_provider='sentence-transformers', embedding_model='all-MiniLM-L6-v2', embedding_device='cpu', chunk_size=500, chunk_overlap=50, top_k=5, llm_model='gpt-4o-nano', llm_temperature=0.0, max_tokens=4000, openai_api_key=SecretStr('**********'), aws_access_key_id=SecretStr('**********'), aws_secret_access_key=SecretStr('**********'), dvc_s3_bucket='your-bucket-name', mlflow_tracking_uri='http://localhost:5000')"
      ]
     },
     "execution_count": 1,
     "metadata": {},
     "output_type": "execute_result"
    }
   ],
   "execution_count": 1
  },
  {
   "metadata": {
    "ExecuteTime": {
     "end_time": "2025-10-11T05:22:21.164440Z",
     "start_time": "2025-10-11T05:22:21.162280Z"
    }
   },
   "cell_type": "code",
   "source": [
    "from rag.config import settings, PROJECT_ROOT\n",
    "from rag.logger import setup_logger\n",
    "\n",
    "logger = setup_logger(__name__)\n",
    "\n",
    "logger.debug(f\"settings: {settings}\")\n",
    "logger.debug(f\"setup_logger: {setup_logger}\")"
   ],
   "id": "e9deff70ca9de983",
   "outputs": [
    {
     "name": "stdout",
     "output_type": "stream",
     "text": [
      "[2025-10-11 07:22:21] [__main__] [DEBUG] settings: environment='development' log_level='DEBUG' api_host='0.0.0.0' api_port=8000 postgres_db='ragdb' postgres_user='raguser' postgres_password=SecretStr('**********') redis_url='redis://localhost:6379/0' embedding_provider='sentence-transformers' embedding_model='all-MiniLM-L6-v2' embedding_device='cpu' chunk_size=500 chunk_overlap=50 top_k=5 llm_model='gpt-4o-nano' llm_temperature=0.0 max_tokens=4000 openai_api_key=SecretStr('**********') aws_access_key_id=SecretStr('**********') aws_secret_access_key=SecretStr('**********') dvc_s3_bucket='your-bucket-name' mlflow_tracking_uri='http://localhost:5000'\n",
      "[2025-10-11 07:22:21] [__main__] [DEBUG] setup_logger: <function setup_logger at 0x7752fffd3ba0>\n"
     ]
    }
   ],
   "execution_count": 2
  },
  {
   "metadata": {
    "ExecuteTime": {
     "end_time": "2025-10-12T04:31:30.127344Z",
     "start_time": "2025-10-12T04:31:30.124806Z"
    }
   },
   "cell_type": "code",
   "source": "__name__",
   "id": "cfcbbcef41860d90",
   "execution_count": 3,
   "outputs": [
    {
     "data": {
      "text/plain": [
       "'__main__'"
      ]
     },
     "execution_count": 3,
     "metadata": {},
     "output_type": "execute_result"
    }
   ]
  }
 ],
 "metadata": {
  "kernelspec": {
   "display_name": "Python 3",
   "language": "python",
   "name": "python3"
  },
  "language_info": {
   "codemirror_mode": {
    "name": "ipython",
    "version": 2
   },
   "file_extension": ".py",
   "mimetype": "text/x-python",
   "name": "python",
   "nbconvert_exporter": "python",
   "pygments_lexer": "ipython2",
   "version": "2.7.6"
  }
 },
 "nbformat": 4,
 "nbformat_minor": 5
}
