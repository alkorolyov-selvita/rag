{
 "cells": [
  {
   "cell_type": "code",
   "id": "initial_id",
   "metadata": {
    "collapsed": true,
    "ExecuteTime": {
     "end_time": "2025-10-25T12:32:09.131870Z",
     "start_time": "2025-10-25T12:32:06.759233Z"
    }
   },
   "source": [
    "%load_ext autoreload\n",
    "%autoreload 2\n",
    "\n",
    "from dotenv import load_dotenv\n",
    "from tqdm import tqdm\n",
    "\n",
    "from rag.config import settings, PROJECT_ROOT\n",
    "from rag.ingestion import create_chunker\n",
    "from rag.embeddings import create_embedder\n",
    "from rag.retrieval import create_reranker\n",
    "from rag.generation import create_llm\n",
    "from rag.storage import (\n",
    "    BaseDocumentStore,\n",
    "    BaseVectorStore,\n",
    "    Document,\n",
    "    SearchResult,\n",
    "    make_chunk_id,\n",
    "    parse_chunk_id,\n",
    "    InMemoryDocumentStore,\n",
    "    FAISSVectorStore, PostgresDocumentStore,\n",
    "    PgvectorVectorStore,\n",
    ")\n",
    "\n",
    "from datasets import load_dataset, Dataset\n",
    "\n",
    "load_dotenv()"
   ],
   "outputs": [
    {
     "name": "stderr",
     "output_type": "stream",
     "text": [
      "/home/ergot/projects/rag/.venv/lib/python3.12/site-packages/tqdm/auto.py:21: TqdmWarning: IProgress not found. Please update jupyter and ipywidgets. See https://ipywidgets.readthedocs.io/en/stable/user_install.html\n",
      "  from .autonotebook import tqdm as notebook_tqdm\n"
     ]
    },
    {
     "data": {
      "text/plain": [
       "True"
      ]
     },
     "execution_count": 1,
     "metadata": {},
     "output_type": "execute_result"
    }
   ],
   "execution_count": 1
  },
  {
   "metadata": {
    "ExecuteTime": {
     "end_time": "2025-10-25T12:32:15.384098Z",
     "start_time": "2025-10-25T12:32:09.134001Z"
    }
   },
   "cell_type": "code",
   "source": [
    "embedder = create_embedder(settings)\n",
    "chunker = create_chunker(settings)\n",
    "reranker = create_reranker(settings)\n",
    "llm = create_llm(settings)"
   ],
   "id": "2e1996d6c2a9be6c",
   "outputs": [
    {
     "name": "stderr",
     "output_type": "stream",
     "text": [
      "Loading checkpoint shards: 100%|██████████| 4/4 [00:00<00:00, 305.69it/s]\n"
     ]
    }
   ],
   "execution_count": 2
  },
  {
   "metadata": {
    "ExecuteTime": {
     "end_time": "2025-10-25T12:32:18.252970Z",
     "start_time": "2025-10-25T12:32:15.429937Z"
    }
   },
   "cell_type": "code",
   "source": [
    "corpus_ds = load_dataset(\"rag-datasets/rag-mini-bioasq\", \"text-corpus\")['passages']\n",
    "queries_ds = load_dataset(\"rag-datasets/rag-mini-bioasq\", \"question-answer-passages\")['test']"
   ],
   "id": "3b5b6e513302b89c",
   "outputs": [],
   "execution_count": 3
  },
  {
   "metadata": {
    "ExecuteTime": {
     "end_time": "2025-10-25T12:32:18.325772Z",
     "start_time": "2025-10-25T12:32:18.299201Z"
    }
   },
   "cell_type": "code",
   "source": [
    "corpus_ds = corpus_ds.filter(lambda row: row['passage'] != 'nan')\n",
    "chunked_ds = chunker.chunk_dataset(corpus_ds, text_col='passage', id_col='id')"
   ],
   "id": "23873360fac8531",
   "outputs": [],
   "execution_count": 4
  },
  {
   "metadata": {
    "ExecuteTime": {
     "end_time": "2025-10-25T12:32:18.355959Z",
     "start_time": "2025-10-25T12:32:18.341868Z"
    }
   },
   "cell_type": "code",
   "source": "chunked_ds",
   "id": "d4f6fecf7d9c882d",
   "outputs": [
    {
     "data": {
      "text/plain": [
       "Dataset({\n",
       "    features: ['text', 'doc_id', 'chunk_id'],\n",
       "    num_rows: 64042\n",
       "})"
      ]
     },
     "execution_count": 5,
     "metadata": {},
     "output_type": "execute_result"
    }
   ],
   "execution_count": 5
  },
  {
   "metadata": {
    "ExecuteTime": {
     "end_time": "2025-10-25T12:32:18.444277Z",
     "start_time": "2025-10-25T12:32:18.385730Z"
    }
   },
   "cell_type": "code",
   "source": [
    "from rag.utils import batched\n",
    "\n",
    "doc_store = PostgresDocumentStore(settings)\n"
   ],
   "id": "f38c427ce3f25c16",
   "outputs": [
    {
     "name": "stdout",
     "output_type": "stream",
     "text": [
      "[2025-10-25 14:32:18] [rag.storage.document_stores.postgres] [INFO] PostgresDocumentStore initialized\n",
      "[2025-10-25 14:32:18] [rag.storage.document_stores.postgres] [INFO] PostgresDocumentStore initialized\n"
     ]
    }
   ],
   "execution_count": 6
  },
  {
   "metadata": {
    "ExecuteTime": {
     "end_time": "2025-10-25T12:32:18.503593Z",
     "start_time": "2025-10-25T12:32:18.486451Z"
    }
   },
   "cell_type": "code",
   "source": "# add parents",
   "id": "ede77ae9730d7dc6",
   "outputs": [],
   "execution_count": 7
  },
  {
   "metadata": {
    "ExecuteTime": {
     "end_time": "2025-10-25T12:32:18.541847Z",
     "start_time": "2025-10-25T12:32:18.529808Z"
    }
   },
   "cell_type": "code",
   "source": "corpus_ds",
   "id": "a64315ea4ba2fd0b",
   "outputs": [
    {
     "data": {
      "text/plain": [
       "Dataset({\n",
       "    features: ['passage', 'id'],\n",
       "    num_rows: 28001\n",
       "})"
      ]
     },
     "execution_count": 8,
     "metadata": {},
     "output_type": "execute_result"
    }
   ],
   "execution_count": 8
  },
  {
   "metadata": {
    "ExecuteTime": {
     "end_time": "2025-10-25T07:05:28.396490Z",
     "start_time": "2025-10-25T07:05:28.378886Z"
    }
   },
   "cell_type": "code",
   "source": "\n",
   "id": "51c521c96d9b1745",
   "outputs": [
    {
     "name": "stderr",
     "output_type": "stream",
     "text": [
      "100%|██████████| 4719/4719 [00:00<00:00, 53785110.26it/s]\n"
     ]
    }
   ],
   "execution_count": 38
  },
  {
   "metadata": {
    "ExecuteTime": {
     "end_time": "2025-10-25T07:06:01.442268Z",
     "start_time": "2025-10-25T07:05:56.840448Z"
    }
   },
   "cell_type": "code",
   "source": [
    "with tqdm(total=len(corpus_ds)) as pbar:\n",
    "    for batch in batched(corpus_ds):\n",
    "        docs = [\n",
    "            Document(\n",
    "                id=row['id'],\n",
    "                text=row['passage'],\n",
    "                doc_type='parent',\n",
    "            ) for row in batch\n",
    "        ]\n",
    "        doc_store.add_documents(docs)\n",
    "        pbar.update(len(batch))"
   ],
   "id": "d5381e1bd0b09cce",
   "outputs": [
    {
     "name": "stderr",
     "output_type": "stream",
     "text": [
      "28001it [00:04, 6108.98it/s]                         \n"
     ]
    }
   ],
   "execution_count": 41
  },
  {
   "metadata": {
    "ExecuteTime": {
     "end_time": "2025-10-25T07:06:31.716080Z",
     "start_time": "2025-10-25T07:06:20.861645Z"
    }
   },
   "cell_type": "code",
   "source": [
    "with tqdm(total=len(chunked_ds)) as pbar:\n",
    "    for batch in batched(chunked_ds):\n",
    "        chunks = [\n",
    "            Document(\n",
    "                id=row['chunk_id'],\n",
    "                text=row['text'],\n",
    "                doc_type='chunk',\n",
    "                # meta={'parent_id': row['doc_id']},\n",
    "            ) for row in batch\n",
    "        ]\n",
    "        doc_store.add_chunks(chunks)\n",
    "        pbar.update(len(batch))"
   ],
   "id": "6fac905e44001ad4",
   "outputs": [
    {
     "name": "stderr",
     "output_type": "stream",
     "text": [
      "100%|██████████| 64042/64042 [00:10<00:00, 5909.81it/s]\n"
     ]
    }
   ],
   "execution_count": 42
  },
  {
   "metadata": {
    "ExecuteTime": {
     "end_time": "2025-10-25T12:32:29.121943Z",
     "start_time": "2025-10-25T12:32:26.839659Z"
    }
   },
   "cell_type": "code",
   "source": [
    "embedder = create_embedder(settings)\n",
    "\n",
    "vec_store = PgvectorVectorStore(\n",
    "    settings,\n",
    ")\n",
    "\n",
    "with tqdm(total=doc_store.count_chunks()) as pbar:\n",
    "    for batch in doc_store.iter_chunks():\n",
    "        texts = [x.text for x in batch]\n",
    "        ids = [x.id for x in batch]\n",
    "        embs = embedder.embed_batch(texts)\n",
    "        vec_store.add(embs, ids)\n",
    "        pbar.update(len(batch))"
   ],
   "id": "6d1b896c3cecee0c",
   "outputs": [
    {
     "name": "stdout",
     "output_type": "stream",
     "text": [
      "[2025-10-25 14:32:29] [rag.storage.vector_stores.pgvector] [INFO] PgvectorVectorStore initialized (cosine distance)\n",
      "[2025-10-25 14:32:29] [rag.storage.vector_stores.pgvector] [INFO] PgvectorVectorStore initialized (cosine distance)\n"
     ]
    }
   ],
   "execution_count": 9
  },
  {
   "metadata": {
    "ExecuteTime": {
     "end_time": "2025-10-25T12:32:32.269192Z",
     "start_time": "2025-10-25T12:32:32.251399Z"
    }
   },
   "cell_type": "code",
   "source": [
    "i = 13\n",
    "question = queries_ds[i]['question']\n",
    "\n",
    "print('Question:', question)\n",
    "print('Answer:', queries_ds[i]['answer'])"
   ],
   "id": "cbc2d1c10355e8da",
   "outputs": [
    {
     "name": "stdout",
     "output_type": "stream",
     "text": [
      "Question: Which are the major characteristics of cellular senescence?\n",
      "Answer: The defining characteristics of cellular senescence are altered morphology, arrested cell-cycle progression, development of aberrant gene expression with proinflammatory behavior, and telomere shortening.\n"
     ]
    }
   ],
   "execution_count": 10
  },
  {
   "metadata": {
    "ExecuteTime": {
     "end_time": "2025-10-25T12:32:39.172944Z",
     "start_time": "2025-10-25T12:32:39.084765Z"
    }
   },
   "cell_type": "code",
   "source": [
    "i = 10\n",
    "question = queries_ds[i]['question']\n",
    "\n",
    "print('Question:', question)\n",
    "print(80*'=')\n",
    "\n",
    "q_emb = embedder.embed_text(question)\n",
    "initial_results = vec_store.search(q_emb, k=settings.k)\n",
    "for res in initial_results[:5]:\n",
    "    print(doc_store.get_chunk(res.chunk_id).text)\n",
    "    print(80*'=')"
   ],
   "id": "6b23dbdf25347c44",
   "outputs": [
    {
     "name": "stdout",
     "output_type": "stream",
     "text": [
      "Question: Name synonym of Acrokeratosis paraneoplastica.\n",
      "================================================================================\n",
      "removed but recurred several times, with acrokeratosis paraneoplastica showing a \n",
      "parallel development. We, therefore, add liposarcoma to the growing list of \n",
      "malignant neoplasms associated with acrokeratosis paraneoplastica.\n",
      "================================================================================\n",
      "PURPOSE: Obligatory cutaneous paraneoplastic disorders comprising acanthosis \n",
      "nigricans maligna, erythema gyratum repens, paraneoplastic pemphigus, \n",
      "hypertrichosis lanuginosa acquisita, erythema necrolyticum migrans and \n",
      "acrokeratosis paraneoplastica are rare. However, as markers of an underlying \n",
      "internal malignancy they are of utmost importance for the patient. Acrokeratosis \n",
      "paraneoplastica (first described by Gougerot and Rupp in 1922) was named after \n",
      "Bazex who had then reported several cases in a French dermatological journal \n",
      "since 1965 (Bazex et al. in Bull Soc Fr Dermatol Syphiligr 72:182, 1965; Bazex \n",
      "and Griffiths in Br J Dermatol 102:301-306, 1980).\n",
      "METHOD: The study is a clinical case of a patient with acrokeratosis \n",
      "paraneoplastica.\n",
      "================================================================================\n",
      "The focus of this article is acrokeratosis paraneoplastica, one of two disorders \n",
      "that have acquired the eponym Bazex syndrome. To date, all of the patients \n",
      "reported in the literature have had an underlying neoplasm, most commonly \n",
      "squamous cell carcinoma of the upper aerodigestive tract. In this review of 113 \n",
      "cases of acrokeratosis paraneoplastica (mean age, 61 years; 105 males, 8 \n",
      "females), the psoriasiform lesions preceded the diagnosis of the associated \n",
      "malignancy in 73 (67%) of 109 patients, whereas the cutaneous manifestations \n",
      "followed the diagnosis of the neoplasm in only 16 (15%) of 109; in the \n",
      "remainder, the onset of the skin lesions and the diagnosis of the tumor occurred \n",
      "simultaneously. Therefore, awareness of the cutaneous signs of Bazex syndrome is \n",
      "of obvious importance to dermatologists. Evidence in favor of the paraneoplastic\n",
      "================================================================================\n",
      "Acrokeratosis paraneoplastica is a rare paraneoplastic syndrome commonly \n",
      "affecting males over 40 years of age. There exists a strong association with \n",
      "squamous cell carcinoma (SCC) of the upper aerodigestive tract or cervical \n",
      "metastatic disease originating from an unknown primary. We report a case \n",
      "associated with SCC of the right tonsil with persistent paraneoplastic cutaneous \n",
      "lesions 2 years after successful treatment of the underlying neoplasm.\n",
      "================================================================================\n",
      "and Griffiths in Br J Dermatol 102:301-306, 1980).\n",
      "METHOD: The study is a clinical case of a patient with acrokeratosis \n",
      "paraneoplastica.\n",
      "RESULTS: the patient was later diagnosed with a cervical lymph node metastasis \n",
      "and thereafter with a primary squamous cell carcinoma of the left upper lobe and \n",
      "upon treatment responded with the clearing of the skin changes.\n",
      "CONCLUSION: Identification of a paraneoplastic syndrome may enhance the earlier \n",
      "diagnosis of the associated tumor and may thus enable curative treatment.\n",
      "================================================================================\n"
     ]
    }
   ],
   "execution_count": 11
  },
  {
   "metadata": {
    "ExecuteTime": {
     "end_time": "2025-10-25T12:32:42.464085Z",
     "start_time": "2025-10-25T12:32:41.724958Z"
    }
   },
   "cell_type": "code",
   "source": [
    "retrived_docs = [doc_store.get_chunk(r.chunk_id) for r in initial_results]\n",
    "\n",
    "ranked = reranker.rerank(question, retrived_docs)\n",
    "reranked_docs = ranked[:settings.top_k]\n",
    "reranked_docs"
   ],
   "id": "bd5d3ae0a3cb9be2",
   "outputs": [
    {
     "data": {
      "text/plain": [
       "[Document(id='17097409#0', text=\"Acrokeratosis paraneoplastica (Bazex's syndrome) is a rare obligate \\nparaneoplastic dermatosis characterized by erythematosquamous lesions localized \\nsymmetrically at the acral sites. The condition almost exclusively affects \\nCaucasian men older than 40 years. It is usually associated with primary \\nmalignant neoplasms of the upper aerodigestive tract. In most cases, the skin \\nchanges precede the clinical manifestation of the underlying neoplasm. The \\ndermatosis can be cured only by removal of the underlying carcinoma. We describe \\na case of acrokeratosis paraneoplastica associated with a retroperitoneal \\nliposarcoma in a 71-year-old Caucasian man. The liposarcoma was surgically \\nremoved but recurred several times, with acrokeratosis paraneoplastica showing a \\nparallel development. We, therefore, add liposarcoma to the growing list of\", score=6.13846492767334, doc_type='chunk', meta={}),\n",
       " Document(id='6225397#0', text=\"Acrokeratosis paraneoplastica (Bazex' syndrome) is a rare but clinically \\ndistinctive dermatosis that has been associated in all reported cases, to our \\nknowledge, with either a primary malignant neoplasm of the upper aerodigestive \\ntract or metastatic cancer to the lymph nodes of the neck. Acrokeratosis \\nparaneoplastica was found in a 53-year-old black man with squamous cell \\ncarcinoma of the tonsil. A distinctive series of changes was found on \\nhistopathologic examination of biopsy specimens taken from his skin lesions, and \\ndirect immunofluorescence microscopy of both lesional and nonlesional skin \\nspecimens showed immunoglobulin and complement deposition on the epidermal \\nbasement membrane. The skin lesions largely resolved following radiation therapy \\nof the neoplasm and of the presumably involved lymph nodes.\", score=6.131587028503418, doc_type='chunk', meta={}),\n",
       " Document(id='8949310#0', text='Bazex syndrome, or acrokeratosis paraneoplastica, is a cutaneous paraneoplastic \\nsyndrome characterized by psoriasiform lesions associated with, usually, a \\nsquamous cell carcinoma of the upper aerodigestive tract. We present a case of \\nBazex syndrome associated with metastatic cervical squamous cell carcinoma with \\nan unknown primary. The features of the condition are discussed in the light of \\ncurrent knowledge.', score=5.674737930297852, doc_type='chunk', meta={}),\n",
       " Document(id='7640201#0', text='The focus of this article is acrokeratosis paraneoplastica, one of two disorders \\nthat have acquired the eponym Bazex syndrome. To date, all of the patients \\nreported in the literature have had an underlying neoplasm, most commonly \\nsquamous cell carcinoma of the upper aerodigestive tract. In this review of 113 \\ncases of acrokeratosis paraneoplastica (mean age, 61 years; 105 males, 8 \\nfemales), the psoriasiform lesions preceded the diagnosis of the associated \\nmalignancy in 73 (67%) of 109 patients, whereas the cutaneous manifestations \\nfollowed the diagnosis of the neoplasm in only 16 (15%) of 109; in the \\nremainder, the onset of the skin lesions and the diagnosis of the tumor occurred \\nsimultaneously. Therefore, awareness of the cutaneous signs of Bazex syndrome is \\nof obvious importance to dermatologists. Evidence in favor of the paraneoplastic', score=5.545587539672852, doc_type='chunk', meta={}),\n",
       " Document(id='16435144#0', text='PURPOSE: Obligatory cutaneous paraneoplastic disorders comprising acanthosis \\nnigricans maligna, erythema gyratum repens, paraneoplastic pemphigus, \\nhypertrichosis lanuginosa acquisita, erythema necrolyticum migrans and \\nacrokeratosis paraneoplastica are rare. However, as markers of an underlying \\ninternal malignancy they are of utmost importance for the patient. Acrokeratosis \\nparaneoplastica (first described by Gougerot and Rupp in 1922) was named after \\nBazex who had then reported several cases in a French dermatological journal \\nsince 1965 (Bazex et al. in Bull Soc Fr Dermatol Syphiligr 72:182, 1965; Bazex \\nand Griffiths in Br J Dermatol 102:301-306, 1980).\\nMETHOD: The study is a clinical case of a patient with acrokeratosis \\nparaneoplastica.', score=5.345436096191406, doc_type='chunk', meta={}),\n",
       " Document(id='22470801#0', text='Acrokeratosis paraneoplastic (Bazex syndrome) is a rare, but distinctive \\nparaneoplastic dermatosis characterized by erythematosquamous lesions located at \\nthe acral sites and is most commonly associated with carcinomas of the upper \\naerodigestive tract. We report a 58-year-old female with a history of a \\npigmented rash on her extremities, thick keratotic plaques on her hands, and \\nbrittle nails. Chest imaging revealed a right upper lobe mass that was proven to \\nbe small cell lung carcinoma. While Bazex syndrome has been described in the \\ndermatology literature, it is also important for the radiologist to be aware of \\nthis entity and its common presentations.', score=5.320486068725586, doc_type='chunk', meta={}),\n",
       " Document(id='18775590#0', text='Acrokeratosis paraneoplastica is a rare paraneoplastic syndrome commonly \\naffecting males over 40 years of age. There exists a strong association with \\nsquamous cell carcinoma (SCC) of the upper aerodigestive tract or cervical \\nmetastatic disease originating from an unknown primary. We report a case \\nassociated with SCC of the right tonsil with persistent paraneoplastic cutaneous \\nlesions 2 years after successful treatment of the underlying neoplasm.', score=5.280394554138184, doc_type='chunk', meta={}),\n",
       " Document(id='18672707#0', text='BACKGROUND: Acrokeratosis paraneoplastica Bazex (APB) is a very rare disease in \\nthe group of obligate paraneoplastic dermatoses, associated mostly with squamous \\ncell carcinoma of the upper aerodigestive tract and metastatic cervical \\nlymphadenopathy. The disease is characterized by violaceous erythemosquamous \\nchanges on the acral regions. This entity was first reported by Bazex in 1965. \\nAbout 160 cases have been presented so far.\\nCASE REPORT: We presented a patient with a three-month history of violaceous \\nerythema, edema, erosions and scaling on the acral regions, elbows and knees and \\nsevere nail dystrophy. When the diagnosis was established, he did not have any \\nsymptom of internal malignancy. Esophagogastroscopy revealed ulcerovegetant \\nlesion of the esophagus, while histology showed squamocellular invasive', score=5.208467960357666, doc_type='chunk', meta={}),\n",
       " Document(id='17097409#1', text='removed but recurred several times, with acrokeratosis paraneoplastica showing a \\nparallel development. We, therefore, add liposarcoma to the growing list of \\nmalignant neoplasms associated with acrokeratosis paraneoplastica.', score=2.9437220096588135, doc_type='chunk', meta={}),\n",
       " Document(id='7796616#0', text='A 65-year-old white man presented with all the clinical features of \\nacrokeratosis paraneoplastica of Bazex, characterized by violaceous erythema and \\nscaling of the nose, aural helices, fingers, and toes, with keratoderma and \\nsevere nail dystrophy. Examination of the patient for possible associated \\nmalignancy disclosed an asymptomatic squamous cell carcinoma at the \\noropharyngeal region. The skin lesions resolved almost completely following \\nradiation therapy of the neoplasm, but the onychodystrophy persisted. This case \\nreport illustrates the importance of early recognition of Bazex syndrome.', score=2.8242101669311523, doc_type='chunk', meta={})]"
      ]
     },
     "execution_count": 12,
     "metadata": {},
     "output_type": "execute_result"
    }
   ],
   "execution_count": 12
  },
  {
   "metadata": {
    "ExecuteTime": {
     "end_time": "2025-10-25T07:11:14.503450Z",
     "start_time": "2025-10-25T07:11:12.265932Z"
    }
   },
   "cell_type": "code",
   "source": [
    "system_prompt = \"\"\"You are a domain-careful, passage-bound assistant. You will be given:\n",
    "\n",
    "CONTEXT: a list of dictionaries, each with keys:\n",
    "\n",
    "text (string) — the passage content (use this only).\n",
    "\n",
    "score (float) — Higher means more relevant. Use for tie-breaking, not as ground truth.\n",
    "\n",
    "id (int or str) — unique identifier for citation (cite this).\n",
    "\n",
    "QUESTION: the user’s query.\n",
    "\n",
    "Ground Rules\n",
    "\n",
    "Use Only the Provided Passages\n",
    "\n",
    "All factual claims must come solely from text fields within CONTEXT.\n",
    "\n",
    "Ignore any prior knowledge and external facts.\n",
    "\n",
    "Cite by index\n",
    "\n",
    "After each factual claim or at the end of a sentence/ bullet, cite like [idx=2025].\n",
    "\n",
    "If multiple passages support a claim, cite the strongest 1–3 (prefer lower distance).\n",
    "\n",
    "Be Concise, Direct, and Structured\n",
    "\n",
    "Lead with a 1–3 sentence answer.\n",
    "\n",
    "Use bullets for lists, mechanisms, pros/cons, steps, etc.\n",
    "\n",
    "Include brief definitions only if needed to answer.\n",
    "\n",
    "Rank & Filter Passages Sensibly\n",
    "\n",
    "Prefer passages with lower distance, high topical match, and specific details.\n",
    "\n",
    "De-duplicate overlapping content; don’t over-cite.\n",
    "\n",
    "If passages conflict and can’t be resolved, state the disagreement and present both sides with citations.\n",
    "\n",
    "No Fabrication\n",
    "\n",
    "Do not invent numbers, dates, mechanisms, or terminology not explicitly present in text.\n",
    "\n",
    "When Information Is Insufficient\n",
    "\n",
    "Say: “I don’t have enough information in the provided passages to answer.”\n",
    "\n",
    "Optionally list what’s missing (e.g., “mechanism”, “dates”, “definitions”).\n",
    "\n",
    "Biomedical/Technical Care (if applicable)\n",
    "\n",
    "Distinguish hypotheses vs. established findings when the wording is tentative.\n",
    "\n",
    "Avoid over-generalization beyond what’s stated.\n",
    "\n",
    "If species/setting (rodent vs. human, in vitro vs. in vivo) isn’t specified in the passages, don’t assume.\n",
    "\n",
    "Working Steps (internal)\n",
    "\n",
    "Parse CONTEXT; extract only text and note each item’s index and distance.\n",
    "\n",
    "Identify passages most relevant to the QUESTION (favor lower distance).\n",
    "\n",
    "Synthesize the answer strictly from the chosen passages.\n",
    "\n",
    "Add minimal, targeted citations using [idx=…].\n",
    "\n",
    "If conflicts remain unresolved, present both views briefly.\n",
    "\n",
    "Input Format (exact)\n",
    "======================== CONTEXT ================================\n",
    "[{'text': '<passage 1 text>', 'distance': <float>, 'index': <int>},\n",
    " {'text': '<passage 2 text>', 'distance': <float>, 'index': <int>},\n",
    " ...\n",
    "]\n",
    "====================== QUESTION: <user question> ================\n",
    "\n",
    "Output Format (default)\n",
    "<Concise answer (1–3 sentences).>\n",
    "\n",
    "- <Key point 1>. [doc_id=33378]\n",
    "- <Key point 2>. [doc_id=37076, doc_id=33378]\n",
    "\n",
    "Citations: [doc_id=33378], [doc_id=37076]\n",
    "\n",
    "Insufficient Information\n",
    "I don’t have enough information in the provided passages to answer. I would need <briefly state what is missing>.\n",
    "Citations: —\n",
    "\n",
    "Optional (if you want a quick audit trail)\n",
    "\n",
    "After the answer (keep it short), you may append:\n",
    "\n",
    "Relevance notes (brief):\n",
    "- Used doc_id=37076 (lower distance, direct on H3 inverse agonism).\n",
    "- Used doc_id=33378 (mechanistic distribution & function).\n",
    "- Skipped doc_id=5234/2025/16517 (off-topic for QUESTION).\n",
    "\"\"\"\n",
    "\n",
    "prompt = f\"\"\"\n",
    "======================== CONTEXT ================================\n",
    "{[doc.to_dict() for doc in reranked_docs]}\n",
    "\n",
    "====================== QUESTION: {question} ================\"\"\"\n",
    "\n",
    "answer = llm.generate(\n",
    "    prompt=prompt,\n",
    "    system_prompt=system_prompt,\n",
    "    max_tokens=1000,\n",
    "    temperature=0.01,\n",
    ")\n",
    "\n",
    "print(answer)"
   ],
   "id": "59c27cf11e8b93aa",
   "outputs": [
    {
     "name": "stdout",
     "output_type": "stream",
     "text": [
      "Papilin is a secreted protein. [idx=3320045#0]\n",
      "\n",
      "- Papilin was isolated from the culture media of Drosophila Kc cells, indicating it is secreted. [idx=3320045#0]\n",
      "\n",
      "- The core protein of papilin is formed by some cell lines and by other cells on incubation with 1 mM 4-methylumbelliferyl xyloside, which suggests it can be secreted. [idx=3320045#0]\n",
      "\n",
      "Citations: [idx=3320045#0]\n"
     ]
    }
   ],
   "execution_count": 53
  },
  {
   "metadata": {},
   "cell_type": "code",
   "outputs": [],
   "execution_count": null,
   "source": "",
   "id": "80fab947fe0a451"
  },
  {
   "metadata": {},
   "cell_type": "code",
   "outputs": [],
   "execution_count": null,
   "source": "",
   "id": "a230e468ece6fc73"
  },
  {
   "metadata": {},
   "cell_type": "code",
   "outputs": [],
   "execution_count": null,
   "source": "",
   "id": "f7ec8617c5675c58"
  },
  {
   "metadata": {},
   "cell_type": "code",
   "outputs": [],
   "execution_count": null,
   "source": "",
   "id": "fb609c3c12699b8a"
  },
  {
   "metadata": {},
   "cell_type": "code",
   "outputs": [],
   "execution_count": null,
   "source": "",
   "id": "b1e1deeafdad0a96"
  }
 ],
 "metadata": {
  "kernelspec": {
   "display_name": "Python 3",
   "language": "python",
   "name": "python3"
  },
  "language_info": {
   "codemirror_mode": {
    "name": "ipython",
    "version": 2
   },
   "file_extension": ".py",
   "mimetype": "text/x-python",
   "name": "python",
   "nbconvert_exporter": "python",
   "pygments_lexer": "ipython2",
   "version": "2.7.6"
  }
 },
 "nbformat": 4,
 "nbformat_minor": 5
}
