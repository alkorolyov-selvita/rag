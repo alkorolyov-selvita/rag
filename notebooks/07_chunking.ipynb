{
 "cells": [
  {
   "cell_type": "code",
   "id": "initial_id",
   "metadata": {
    "collapsed": true,
    "ExecuteTime": {
     "end_time": "2025-10-20T04:11:43.854920Z",
     "start_time": "2025-10-20T04:11:43.836254Z"
    }
   },
   "source": [
    "%load_ext autoreload\n",
    "%autoreload 2\n",
    "\n",
    "from langchain_text_splitters import RecursiveCharacterTextSplitter\n",
    "\n",
    "from rag.embeddings import LocalEmbedder\n",
    "from datasets import load_dataset, load_from_disk\n",
    "from rag.config import PROJECT_ROOT\n",
    "from dotenv import load_dotenv\n",
    "\n",
    "load_dotenv(PROJECT_ROOT / '.env')"
   ],
   "execution_count": 115,
   "outputs": [
    {
     "name": "stdout",
     "output_type": "stream",
     "text": [
      "The autoreload extension is already loaded. To reload it, use:\n",
      "  %reload_ext autoreload\n"
     ]
    },
    {
     "data": {
      "text/plain": [
       "True"
      ]
     },
     "execution_count": 115,
     "metadata": {},
     "output_type": "execute_result"
    }
   ]
  },
  {
   "metadata": {
    "ExecuteTime": {
     "end_time": "2025-10-20T03:54:19.277429Z",
     "start_time": "2025-10-20T03:54:19.148105Z"
    }
   },
   "cell_type": "code",
   "source": [
    "ds = load_from_disk('bioasq-mini-arrow.docs')\n",
    "ds.load_faiss_index('embedding', 'bioasq-mini-arrow.index')\n",
    "ds"
   ],
   "id": "aa416f67e4c794f5",
   "outputs": [
    {
     "data": {
      "text/plain": [
       "Dataset({\n",
       "    features: ['passage', 'id', 'embedding'],\n",
       "    num_rows: 40221\n",
       "})"
      ]
     },
     "execution_count": 23,
     "metadata": {},
     "output_type": "execute_result"
    }
   ],
   "execution_count": 23
  },
  {
   "metadata": {
    "ExecuteTime": {
     "end_time": "2025-10-18T06:04:23.672567Z",
     "start_time": "2025-10-18T06:04:23.660861Z"
    }
   },
   "cell_type": "code",
   "source": [
    "test_ds = load_from_disk('bioasq-mini-arrow.qrels')\n",
    "test_ds"
   ],
   "id": "24de74d8c4761165",
   "outputs": [
    {
     "data": {
      "text/plain": [
       "Dataset({\n",
       "    features: ['question', 'answer', 'relevant_passage_ids', 'id', 'embedding'],\n",
       "    num_rows: 4719\n",
       "})"
      ]
     },
     "execution_count": 17,
     "metadata": {},
     "output_type": "execute_result"
    }
   ],
   "execution_count": 17
  },
  {
   "metadata": {
    "ExecuteTime": {
     "end_time": "2025-10-20T03:47:53.254779Z",
     "start_time": "2025-10-20T03:47:47.913404Z"
    }
   },
   "cell_type": "code",
   "source": "embedder = LocalEmbedder(\"Qwen/Qwen3-Embedding-4B\")",
   "id": "acb6cef141b62263",
   "outputs": [
    {
     "name": "stderr",
     "output_type": "stream",
     "text": [
      "Loading checkpoint shards: 100%|██████████| 2/2 [00:00<00:00,  2.21it/s]\n"
     ]
    }
   ],
   "execution_count": 5
  },
  {
   "metadata": {
    "ExecuteTime": {
     "end_time": "2025-10-20T03:53:35.675151Z",
     "start_time": "2025-10-20T03:53:35.657290Z"
    }
   },
   "cell_type": "code",
   "source": "",
   "id": "29e76c584e11ca40",
   "outputs": [
    {
     "data": {
      "text/plain": [
       "7"
      ]
     },
     "execution_count": 17,
     "metadata": {},
     "output_type": "execute_result"
    }
   ],
   "execution_count": 17
  },
  {
   "metadata": {
    "ExecuteTime": {
     "end_time": "2025-10-20T03:54:01.929910Z",
     "start_time": "2025-10-20T03:54:01.913673Z"
    }
   },
   "cell_type": "code",
   "source": [
    "\n",
    "\n"
   ],
   "id": "fe5f07445b333832",
   "outputs": [],
   "execution_count": 20
  },
  {
   "metadata": {
    "ExecuteTime": {
     "end_time": "2025-10-20T03:57:42.955481Z",
     "start_time": "2025-10-20T03:57:42.221682Z"
    }
   },
   "cell_type": "code",
   "source": [
    "ds = ds.map(lambda x: {\"len\": len(x['passage'])})\n",
    "ds"
   ],
   "id": "cf93673bb7800cfe",
   "outputs": [
    {
     "name": "stderr",
     "output_type": "stream",
     "text": [
      "Map: 100%|██████████| 40221/40221 [00:00<00:00, 56231.20 examples/s]\n"
     ]
    },
    {
     "data": {
      "text/plain": [
       "Dataset({\n",
       "    features: ['passage', 'id', 'embedding', 'len'],\n",
       "    num_rows: 40221\n",
       "})"
      ]
     },
     "execution_count": 47,
     "metadata": {},
     "output_type": "execute_result"
    }
   ],
   "execution_count": 47
  },
  {
   "metadata": {
    "ExecuteTime": {
     "end_time": "2025-10-20T04:05:01.190097Z",
     "start_time": "2025-10-20T04:05:01.008637Z"
    }
   },
   "cell_type": "code",
   "source": [
    "import numpy as np\n",
    "argids = np.argsort(ds['len'])[::-1]\n",
    "argids"
   ],
   "id": "9740e9c813d4105d",
   "outputs": [
    {
     "data": {
      "text/plain": [
       "array([29813, 30252, 36595, ..., 36327, 36326,  9334], shape=(40221,))"
      ]
     },
     "execution_count": 90,
     "metadata": {},
     "output_type": "execute_result"
    }
   ],
   "execution_count": 90
  },
  {
   "metadata": {
    "ExecuteTime": {
     "end_time": "2025-10-20T04:05:37.038614Z",
     "start_time": "2025-10-20T04:05:37.021063Z"
    }
   },
   "cell_type": "code",
   "source": "print(ds[argids[0]]['passage'])",
   "id": "eb588aa765d1424e",
   "outputs": [
    {
     "name": "stdout",
     "output_type": "stream",
     "text": [
      "Author information:\n",
      "(1)Imaging Genetics Center, Institute for Neuroimaging &Informatics, Keck School \n",
      "of Medicine of the University of Southern California, Los Angeles, California \n",
      "90292, USA.\n",
      "(2)1] Imaging Genetics Center, Institute for Neuroimaging &Informatics, Keck \n",
      "School of Medicine of the University of Southern California, Los Angeles, \n",
      "California 90292, USA. [2] Neurogenetics Program, Department of Neurology, UCLA \n",
      "School of Medicine, Los Angeles, California 90095, USA.\n",
      "(3)QIMR Berghofer Medical Research Institute, Brisbane 4006, Australia.\n",
      "(4)1] Department of Human Genetics, Radboud university medical center, Nijmegen \n",
      "6500 HB, The Netherlands. [2] Department of Psychiatry, Radboud university \n",
      "medical center, Nijmegen 6500 HB, The Netherlands. [3] Department of Cognitive \n",
      "Neuroscience, Radboud university medical center, Nijmegen 6500 HB, The \n",
      "Netherlands. [4] Donders Institute for Brain, Cognition and Behaviour, Radboud \n",
      "University, Nijmegen 6500 GL, The Netherlands.\n",
      "(5)MRC-SGDP Centre, Institute of Psychiatry, Psychology and Neuroscience, King's \n",
      "College London, London SE5 8AF, UK.\n",
      "(6)1] Laboratory of Human Genetics and Cognitive Functions, Institut Pasteur, \n",
      "Paris 75015, France. [2] Centre Nationale de Recherche Scientifique (CNRS) Unité \n",
      "de Recherche Associée (URA) 2182 Genes, Synapses and Cognition, Institut \n",
      "Pasteur, Paris 75015, France. [3] Université Paris Diderot, Sorbonne Paris Cité, \n",
      "Paris 75015, France.\n",
      "(7)1] German Center for Neurodegenerative Diseases (DZNE) Rostock/Greifswald, \n",
      "Greifswald 17487, Germany. [2] Department of Psychiatry, University Medicine \n",
      "Greifswald, Greifswald 17489, Germany.\n",
      "(8)Brain Center Rudolf Magnus, Department of Psychiatry, University Medical \n",
      "Center Utrecht, Utrecht, 3584 CX, The Netherlands.\n",
      "(9)Umeå Centre for Functional Brain Imaging (UFBI), Umeå University, Umeå 901 \n",
      "87, Sweden.\n",
      "(10)1] Brain Research Imaging Centre, University of Edinburgh, Edinburgh EH4 \n",
      "2XU, UK. [2] Department of Computer Science, Lagos State University, Lagos, \n",
      "Nigeria. [3] Scottish Imaging Network, A Platform for Scientific Excellence \n",
      "(SINAPSE) Collaboration, Department of Neuroimaging Sciences, University of \n",
      "Edinburgh, Edinburgh EH4 2XU, UK.\n",
      "(11)1] Centre for Healthy Brain Ageing, School of Psychiatry, University of New \n",
      "South Wales, Sydney 2052, Australia. [2] School of Mathematics and Statistics, \n",
      "University of Sydney, Sydney 2006, Australia.\n",
      "(12)The Hospital for Sick Children, University of Toronto, Toronto M5G 1X8, \n",
      "Canada.\n",
      "(13)1] Department of Human Genetics, Radboud university medical center, Nijmegen \n",
      "6500 HB, The Netherlands. [2] Department of Cognitive Neuroscience, Radboud \n",
      "university medical center, Nijmegen 6500 HB, The Netherlands. [3] Donders \n",
      "Institute for Brain, Cognition and Behaviour, Radboud University, Nijmegen 6500 \n",
      "GL, The Netherlands.\n",
      "(14)1] NORMENT - KG Jebsen Centre, Institute of Clinical Medicine, University of \n",
      "Oslo, Oslo N-0316, Norway. [2] NORMENT - KG Jebsen Centre, Division of Mental \n",
      "Health and Addiction, Oslo University Hospital, Oslo 0424, Norway.\n",
      "(15)1] Cerebral Imaging Centre, Douglas Mental Health University Institute, \n",
      "Montreal H4H 1R3, Canada. [2] Department of Psychiatry and Biomedical \n",
      "Engineering, McGill University, Montreal H3A 2B4, Canada.\n",
      "(16)Lieber Institute for Brain Development, Baltimore, Maryland 21205, USA.\n",
      "(17)1] Imaging Genetics Center, Institute for Neuroimaging &Informatics, Keck \n",
      "School of Medicine of the University of Southern California, Los Angeles, \n",
      "California 90292, USA. [2] Interdepartmental Neuroscience Graduate Program, UCLA \n",
      "School of Medicine, Los Angeles, California 90095, USA.\n",
      "(18)Biological Psychology, Neuroscience Campus Amsterdam &EMGO Institute for \n",
      "Health and Care Research, VU University &VU Medical Center, Amsterdam 1081 BT, \n",
      "The Netherlands.\n",
      "(19)1] NORMENT - KG Jebsen Centre for Psychosis Research, Department of Clinical \n",
      "Science, University of Bergen, 5021 Bergen, Norway. [2] Dr. Einar Martens \n",
      "Research Group for Biological Psychiatry, Center for Medical Genetics and \n",
      "Molecular Medicine, Haukeland University Hospital, Bergen 5021, Norway.\n",
      "(20)Central Institute of Mental Health, Medical Faculty Mannheim, University \n",
      "Heidelberg, Mannheim 68159, Germany.\n",
      "(21)1] Language and Genetics Department, Max Planck Institute for \n",
      "Psycholinguistics, Nijmegen 6525 XD, The Netherlands. [2] International Max \n",
      "Planck Research School for Language Sciences, Nijmegen 6525 XD, The Netherlands.\n",
      "(22)Department of Child and Adolescent Psychiatry, Faculty of Medicine of the TU \n",
      "Dresden, Dresden 01307 Germany.\n",
      "(23)Human Genetics Branch and Experimental Therapeutics and Pathophysiology \n",
      "Branch, National Institute of Mental Health Intramural Research Program, \n",
      "Bethesda, Maryland 20892, USA.\n",
      "(24)1] Department of Psychology, Yale University, New Haven, Connecticut 06511, \n",
      "USA. [2] Department of Psychiatry, Massachusetts General Hospital, Boston, \n",
      "Massachusetts 02115, USA.\n",
      "(25)1] Department of Human Genetics, Radboud university medical center, Nijmegen \n",
      "6500 HB, The Netherlands. [2] Donders Institute for Brain, Cognition and \n",
      "Behaviour, Radboud University, Nijmegen 6500 GL, The Netherlands.\n",
      "(26)Department of Psychiatry, University Medicine Greifswald, Greifswald 17489, \n",
      "Germany.\n",
      "(27)1] Center for Neuroimaging, Radiology and Imaging Sciences, Indiana \n",
      "University School of Medicine, Indianapolis, Indiana 46202, USA. [2] Center for \n",
      "Computational Biology and Bioinformatics, Indiana University School of Medicine, \n",
      "Indianapolis, Indiana 46202, USA. [3] Indiana Alzheimer Disease Center, Indiana \n",
      "University School of Medicine, Indianapolis, Indiana 46202, USA.\n",
      "(28)Center for Translational Research in Systems Neuroscience and Psychiatry, \n",
      "Department of Psychiatry and Psychotherapy, University Medical Center, \n",
      "Goettingen 37075, Germany.\n",
      "(29)1] Department of Psychiatry, Massachusetts General Hospital, Boston, \n",
      "Massachusetts 02115, USA. [2] Psychiatric and Neurodevelopmental Genetics Unit, \n",
      "Center for Human Genetic Research, Massachusetts General Hospital, Boston, \n",
      "Massachusetts 02115, USA. [3] Stanley Center for Psychiatric Research, Broad \n",
      "Institute of MIT and Harvard, Boston, Massachusetts 02141, USA. [4] Department \n",
      "of Psychiatry, Harvard Medical School, Boston, Massachusetts 02115, USA.\n",
      "(30)Center for Neurobehavioral Genetics, University of California, Los Angeles, \n",
      "California 90095, USA.\n",
      "(31)Centre for Cognitive Ageing and Cognitive Epidemiology, Psychology, \n",
      "University of Edinburgh, Edinburgh EH8 9JZ, UK.\n",
      "(32)Centre for Healthy Brain Ageing, School of Psychiatry, University of New \n",
      "South Wales, Sydney 2052, Australia.\n",
      "(33)1] Department of Biomedicine, Aarhus University, Aarhus DK-8000, Denmark. \n",
      "[2] The Lundbeck Foundation Initiative for Integrative Psychiatric Research, \n",
      "iPSYCH, Aarhus and Copenhagen DK-8000, Denmark. [3] Center for integrated \n",
      "Sequencing, iSEQ, Aarhus University, Aarhus DK-8000, Denmark.\n",
      "(34)Department of Psychiatry, Neuroscience Campus Amsterdam, VU University \n",
      "Medical Center/GGZ inGeest, Amsterdam 1081 HL, The Netherlands.\n",
      "(35)Division of Psychiatry, Royal Edinburgh Hospital, University of Edinburgh, \n",
      "Edinburgh EH10 5HF, UK.\n",
      "(36)1] Department of Medical and Molecular Genetics, King's College London, \n",
      "London SE1 9RT, UK. [2] Reta Lila Weston Institute and Department of Molecular \n",
      "Neuroscience, UCL Institute of Neurology, London WC1N 3BG, UK.\n",
      "(37)1] Center for Neuroimaging, Radiology and Imaging Sciences, Indiana \n",
      "University School of Medicine, Indianapolis, Indiana 46202, USA. [2] Indiana \n",
      "Alzheimer Disease Center, Indiana University School of Medicine, Indianapolis, \n",
      "Indiana 46202, USA.\n",
      "(38)1] Department of Psychiatry, University Hospital Marqués de Valdecilla, \n",
      "School of Medicine, University of Cantabria-IDIVAL, Santander 39008, Spain. [2] \n",
      "Cibersam (Centro Investigación Biomédica en Red Salud Mental), Madrid 28029, \n",
      "Spain.\n",
      "(39)1] Neuropsychiatric Genetics Research Group and Department of Psychiatry, \n",
      "Trinity College Institute of Psychiatry, Trinity College Dublin, Dublin 2, \n",
      "Ireland. [2] Center for Translational Research on Adversity, Neurodevelopment \n",
      "and Substance Abuse (C-TRANS), Department of Psychiatry, University of Maryland \n",
      "School of Medicine, Baltimore, Maryland 21045, USA.\n",
      "(40)1] Umeå Centre for Functional Brain Imaging (UFBI), Umeå University, Umeå \n",
      "901 87, Sweden. [2] Aging Research Center, Karolinska Institutet and Stockholm \n",
      "University, 11330 Stockholm, Sweden.\n",
      "(41)Max Planck Institute of Psychiatry, Munich 80804, Germany.\n",
      "(42)1] Multimodal Imaging Laboratory, Department of Neurosciences, University of \n",
      "California, San Diego, California 92093, USA. [2] Department of Cognitive \n",
      "Sciences, University of California, San Diego, California 92161, USA.\n",
      "(43)1] QIMR Berghofer Medical Research Institute, Brisbane 4006, Australia. [2] \n",
      "School of Psychology, University of Queensland, Brisbane 4072, Australia. [3] \n",
      "Centre for Advanced Imaging, University of Queensland, Brisbane 4072, Australia.\n",
      "(44)Institute for Community Medicine, University Medicine Greifswald, Greifswald \n",
      "D-17475, Germany.\n",
      "(45)1] Analytic and Translational Genetics Unit, Massachusetts General Hospital, \n",
      "Boston, Massachusetts 02114, USA. [2] Medical and Population Genetics Program, \n",
      "Broad Institute of Harvard and MIT, Boston, Massachusetts 02142, USA.\n",
      "(46)1] NORMENT - KG Jebsen Centre, Division of Mental Health and Addiction, Oslo \n",
      "University Hospital, Oslo 0424, Norway. [2] Department of Psychology, University \n",
      "of Oslo, Oslo 0373, Norway.\n",
      "(47)1] The Oxford Centre for Functional MRI of the Brain, Nuffield Department of \n",
      "Clinical Neurosciences, Oxford University, Oxford OX3 9DU, UK. [2] Department of \n",
      "Psychiatry, Yale School of Medicine, New Haven, Connecticut 06511, USA.\n",
      "(48)Donders Institute for Brain, Cognition and Behaviour, Radboud University, \n",
      "Nijmegen 6500 GL, The Netherlands.\n",
      "(49)Department of Neurology and Neurosurgery, Montreal Neurological Institute, \n",
      "McGill University, Montreal H3A 2B4, Canada.\n",
      "(50)1] Department of Child and Adolescent Psychiatry, Faculty of Medicine of the \n",
      "TU Dresden, Dresden 01307 Germany. [2] Department of Psychiatry, Massachusetts \n",
      "General Hospital, Boston, Massachusetts 02115, USA. [3] The Athinoula A.Martinos \n",
      "Center for Biomedical Imaging, Massachusetts General Hospital, Charlestown, \n",
      "Massachusetts 02129, USA.\n",
      "(51)1] NORMENT - KG Jebsen Centre, Institute of Clinical Medicine, University of \n",
      "Oslo, Oslo N-0316, Norway. [2] Department of Psychiatric Research and \n",
      "Development, Diakonhjemmet Hospital, Oslo 0319, Norway.\n",
      "(52)NORMENT - KG Jebsen Centre, Institute of Clinical Medicine, University of \n",
      "Oslo, Oslo N-0316, Norway.\n",
      "(53)1] UCL Institute of Neurology, London, United Kingdom and Epilepsy Society, \n",
      "London WC1N 3BG, UK. [2] Department of Medicine, Imperial College London, London \n",
      "W12 0NN, UK.\n",
      "(54)Department of Clinical and Experimental Epilepsy, UCL Institute of \n",
      "Neurology, London WC1N 3BG, UK.\n",
      "(55)1] Department of Psychiatry, Yale School of Medicine, New Haven, Connecticut \n",
      "06511, USA. [2] Olin Neuropsychiatric Research Center, Institute of Living, \n",
      "Hartford Hospital, Hartford, Connecticut 06106, USA.\n",
      "(56)Neuropsychiatric Genetics Research Group and Department of Psychiatry, \n",
      "Trinity College Institute of Psychiatry, Trinity College Dublin, Dublin 2, \n",
      "Ireland.\n",
      "(57)1] Brain Research Imaging Centre, University of Edinburgh, Edinburgh EH4 \n",
      "2XU, UK. [2] Centre for Cognitive Ageing and Cognitive Epidemiology, Psychology, \n",
      "University of Edinburgh, Edinburgh EH8 9JZ, UK. [3] Scottish Imaging Network, A \n",
      "Platform for Scientific Excellence (SINAPSE) Collaboration, Department of \n",
      "Neuroimaging Sciences, University of Edinburgh, Edinburgh EH4 2XU, UK.\n",
      "(58)1] Division of Psychiatry, Royal Edinburgh Hospital, University of \n",
      "Edinburgh, Edinburgh EH10 5HF, UK. [2] Department of Psychiatry, Yale School of \n",
      "Medicine, New Haven, Connecticut 06511, USA. [3] Olin Neuropsychiatric Research \n",
      "Center, Institute of Living, Hartford Hospital, Hartford, Connecticut 06106, \n",
      "USA.\n",
      "(59)1] Reta Lila Weston Institute and Department of Molecular Neuroscience, UCL \n",
      "Institute of Neurology, London WC1N 3BG, UK. [2] Department of Genetics, King \n",
      "Faisal Specialist Hospital and Research Centre, Riyadh 11211, Saudi Arabia.\n",
      "(60)1] Texas Biomedical Research Institute, San Antonio, Texas 78245, USA. [2] \n",
      "University of Texas Health Science Center, San Antonio, Texas 78229, USA.\n",
      "(61)1] National Ageing Research Institute, Royal Melbourne Hospital, Melbourne \n",
      "3052, Australia. [2] Academic Unit for Psychiatry of Old Age, University of \n",
      "Melbourne, Melbourne 3101, Australia.\n",
      "(62)Laboratory of Neurogenetics, National Institute on Aging, National \n",
      "Institutes of Health, Bethesda, Maryland 20892, USA.\n",
      "(63)1] Brain Research Imaging Centre, University of Edinburgh, Edinburgh EH4 \n",
      "2XU, UK. [2] Scottish Imaging Network, A Platform for Scientific Excellence \n",
      "(SINAPSE) Collaboration, Department of Neuroimaging Sciences, University of \n",
      "Edinburgh, Edinburgh EH4 2XU, UK. [3] Centre for Cognitive Ageing and Cognitive \n",
      "Epidemiology, Psychology, University of Edinburgh, Edinburgh EH8 9JZ, UK. [4] \n",
      "Centre for Clinical Brain Sciences, University of Edinburgh, Edinburgh EH4 2XU, \n",
      "UK.\n",
      "(64)N.I. Vavilov Institute of General Genetics, Russian Academy of Sciences, \n",
      "Moscow 119333, Russia.\n",
      "(65)Texas Biomedical Research Institute, San Antonio, Texas 78245, USA.\n",
      "(66)1] Division of Medical Genetics, Department of Biomedicine, University of \n",
      "Basel, Basel 4055, Switzerland. [2] Institute of Human Genetics, University of \n",
      "Bonn, Bonn, D-53127, Germany. [3] Institute of Neuroscience and Medicine \n",
      "(INM-1), Research Centre Jülich, Jülich, D-52425, Germany. [4] Department of \n",
      "Genomics, Life &Brain Center, University of Bonn, Bonn D-53127, Germany.\n",
      "(67)School of Psychology, University of Queensland, Brisbane 4072, Australia.\n",
      "(68)Department of Psychiatry and Psychotherapy, Charité Universitätsmedizin \n",
      "Berlin, CCM, Berlin 10117, Germany.\n",
      "(69)Clinical Research Branch, National Institute on Aging, Baltimore, Maryland \n",
      "20892, USA.\n",
      "(70)1] Indiana Alzheimer Disease Center, Indiana University School of Medicine, \n",
      "Indianapolis, Indiana 46202, USA. [2] Department of Medical and Molecular \n",
      "Genetics, Indiana University School of Medicine, Indianapolis, Indiana 46202, \n",
      "USA.\n",
      "(71)1] University of Texas Health Science Center, San Antonio, Texas 78229, USA. \n",
      "[2] South Texas Veterans Health Care System, San Antonio, Texas 78229, USA.\n",
      "(72)Biofunctional Imaging, Immunology Frontier Research Center, Osaka \n",
      "University, Osaka 565-0871, Japan.\n",
      "(73)1] Reta Lila Weston Institute and Department of Molecular Neuroscience, UCL \n",
      "Institute of Neurology, London WC1N 3BG, UK. [2] Academic Unit for Psychiatry of \n",
      "Old Age, University of Melbourne, Melbourne 3101, Australia.\n",
      "(74)1] Division of Genetics, Department of Medicine, Brigham and Women's \n",
      "Hospital, Boston, Massachusetts 02115, USA. [2] Harvard Medical School, Boston, \n",
      "Massachusetts 02115, USA.\n",
      "(75)Reta Lila Weston Institute and Department of Molecular Neuroscience, UCL \n",
      "Institute of Neurology, London WC1N 3BG, UK.\n",
      "(76)Department of Psychiatry, University of Groningen, University Medical Center \n",
      "Groningen, 9713 GZ Groningen, The Netherlands.\n",
      "(77)Institute of Diagnostic Radiology and Neuroradiology, University Medicine \n",
      "Greifswald, Greifswald 17475, Germany.\n",
      "(78)Department of Genomics, Life &Brain Center, University of Bonn, Bonn \n",
      "D-53127, Germany.\n",
      "(79)Departments of Cognitive and Clinical Neuropsychology, VU University \n",
      "Amsterdam, 1081 BT Amsterdam, The Netherlands.\n",
      "(80)Interfaculty Institute for Genetics and Functional Genomics, University \n",
      "Medicine Greifswald, Greifswald 17489, Germany.\n",
      "(81)Department of Psychiatry, Fujita Health University School of Medicine, \n",
      "Toyoake 470-1192, Japan.\n",
      "(82)Radiology, Mayo Clinic, Rochester, Minnesota 55905, USA.\n",
      "(83)FMRIB Centre, University of Oxford, Oxford OX3 9DU, UK.\n",
      "(84)NICHD Brain and Tissue Bank for Developmental Disorders, University of \n",
      "Maryland Medical School, Baltimore, Maryland 21201, USA.\n",
      "(85)1] School of Psychology, University of Sussex, Brighton BN1 9QH, UK. [2] \n",
      "Institute of Cognitive Neuroscience, University College London, London WC1N 3AR, \n",
      "UK.\n",
      "(86)Department of Psychiatry, Maryland Psychiatric Research Center, University \n",
      "of Maryland, Baltimore, Maryland 21201, USA.\n",
      "(87)1] Neuroscience Research Australia, Sydney 2031, Australia. [2] School of \n",
      "Medical Sciences, UNSW, Sydney 2052, Australia.\n",
      "(88)1] Human Genetics Branch and Experimental Therapeutics and Pathophysiology \n",
      "Branch, National Institute of Mental Health Intramural Research Program, \n",
      "Bethesda, Maryland 20892, USA. [2] Department of Pathology and Cell Biology, \n",
      "Columbia University Medical Center, New York 10032, USA.\n",
      "(89)Lymphocyte Cell Biology Unit, Laboratory of Genetics, National Institute on \n",
      "Aging, National Institutes of Health, Baltimore, Maryland 21224, USA.\n",
      "(90)Centre for Advanced Imaging, University of Queensland, Brisbane 4072, \n",
      "Australia.\n",
      "(91)Department of Psychiatry, Ludwig-Maximilians-Universität, Munich 80336, \n",
      "Germany.\n",
      "(92)1] Institute of Human Genetics, University of Bonn, Bonn, D-53127, Germany. \n",
      "[2] Institute of Neuroscience and Medicine (INM-1), Research Centre Jülich, \n",
      "Jülich, D-52425, Germany. [3] Department of Genomics, Life &Brain Center, \n",
      "University of Bonn, Bonn D-53127, Germany.\n",
      "(93)1] FMRIB Centre, University of Oxford, Oxford OX3 9DU, UK. [2] Department of \n",
      "Statistics &WMG, University of Warwick, Coventry CV4 7AL, UK.\n",
      "(94)1] Institute of Human Genetics, University of Bonn, Bonn, D-53127, Germany. \n",
      "[2] Department of Genomics, Life &Brain Center, University of Bonn, Bonn \n",
      "D-53127, Germany.\n",
      "(95)Department of Psychiatry, Osaka University Graduate School of Medicine, \n",
      "Osaka 565-0871, Japan.\n",
      "(96)Department of Medical and Molecular Genetics, Indiana University School of \n",
      "Medicine, Indianapolis, Indiana 46202, USA.\n",
      "(97)1] Cibersam (Centro Investigación Biomédica en Red Salud Mental), Madrid \n",
      "28029, Spain. [2] Institute of Psychiatry, King's College London, London SE5 \n",
      "8AF, UK.\n",
      "(98)1] Department of Neurology, University of Calgary, Calgary T2N 2T9, Canada. \n",
      "[2] Department of Clinical Neuroscience, University of Calgary, Calgary T2N 2T9, \n",
      "Canada.\n",
      "(99)Psychiatry and Human Behavior, University of California, Irvine, California \n",
      "92617, USA.\n",
      "(100)Department of Psychology, University of Oslo, Oslo 0373, Norway.\n",
      "(101)1] Department of Neurology, Beth Israel Deaconess Medical Center, Boston, \n",
      "Massachusetts 02215, USA. [2] Harvard Medical School, Boston, Massachusetts \n",
      "02115, USA.\n",
      "(102)Department of General Psychiatry, Heidelberg University Hospital, \n",
      "Heidelberg 69115, Germany.\n",
      "(103)Department of Neuropathology, MRC Sudden Death Brain Bank Project, \n",
      "University of Edinburgh, Edinburgh EH8 9AG, UK.\n",
      "(104)Laboratory of Neuro Imaging, Institute for Neuroimaging and Informatics, \n",
      "Keck School of Medicine of the University of Southern California, Los Angeles, \n",
      "California 90033, USA.\n",
      "(105)Department of Pathology, Johns Hopkins University, Baltimore, Maryland \n",
      "21287, USA.\n",
      "(106)Psychology Department and Neuroscience Institute, Georgia State University, \n",
      "Atlanta, Georgia 30302, USA.\n",
      "(107)Centre for Clinical Brain Sciences, University of Edinburgh, Edinburgh EH4 \n",
      "2XU, UK.\n",
      "(108)Genentech, South San Francisco, California 94080, USA.\n",
      "(109)Psychiatry and Leiden Institute for Brain and Cognition, Leiden University \n",
      "Medical Center, Leiden 2333 ZA, The Netherlands.\n",
      "(110)Neuroimaging Centre, University of Groningen, University Medical Center \n",
      "Groningen, Groningen 9713 AW, The Netherlands.\n",
      "(111)Department of Psychiatry, Carver College of Medicine, University of Iowa, \n",
      "Iowa City, Iowa 52242, USA.\n",
      "(112)Department of Neurobiology, Care Sciences and Society, Karolinska \n",
      "Institutet, Stockholm SE-141 83, Sweden.\n",
      "(113)Behavioral Epidemiology Section, National Institute on Aging Intramural \n",
      "Research Program, Baltimore, Maryland 20892, USA.\n",
      "(114)Faculty of Life Sciences, University of Manchester, Manchester M13 9PT, UK.\n",
      "(115)1] Center for Integrative and Translational Genomics, University of \n",
      "Tennessee Health Science Center, Memphis, Tennessee 38163, USA. [2] Department \n",
      "of Genetics, Genomics, and Informatics, University of Tennessee Health Science \n",
      "Center, Memphis, Tennessee 38163, USA. [3] Jiangsu Province Key Laboratory for \n",
      "Inflammation and Molecular Drug Target, Medical College of Nantong University, \n",
      "Nantong 226001, China.\n",
      "(116)1] Neuropsychiatric Genetics Research Group and Department of Psychiatry, \n",
      "Trinity College Institute of Psychiatry, Trinity College Dublin, Dublin 2, \n",
      "Ireland. [2] Cognitive Genetics and Therapy Group, School of Psychology \n",
      "&Discipline of Biochemistry, National University of Ireland Galway, Galway, \n",
      "Ireland.\n",
      "(117)1] Center for Integrative and Translational Genomics, University of \n",
      "Tennessee Health Science Center, Memphis, Tennessee 38163, USA. [2] Department \n",
      "of Genetics, Genomics, and Informatics, University of Tennessee Health Science \n",
      "Center, Memphis, Tennessee 38163, USA.\n",
      "(118)1] Department of Human Genetics, Radboud university medical center, \n",
      "Nijmegen 6500 HB, The Netherlands. [2] Donders Institute for Brain, Cognition \n",
      "and Behaviour, Radboud University, Nijmegen 6500 GL, The Netherlands. [3] \n",
      "Department of Clinical Genetics, Maastricht University Medical Center, \n",
      "Maastricht 6200 MD, The Netherlands.\n",
      "(119)1] Department of Psychiatry, Massachusetts General Hospital, Boston, \n",
      "Massachusetts 02115, USA. [2] Department of Psychology, Center for Brain \n",
      "Science, Harvard University, Boston, Massachusetts 02138, USA.\n",
      "(120)1] Department of Cognitive Neuroscience, Radboud university medical center, \n",
      "Nijmegen 6500 HB, The Netherlands. [2] Donders Institute for Brain, Cognition \n",
      "and Behaviour, Radboud University, Nijmegen 6500 GL, The Netherlands. [3] \n",
      "Karakter Child and Adolescent Psychiatry, Radboud university medical center, \n",
      "Nijmegen 6500 HB, The Netherlands.\n",
      "(121)1] The Mind Research Network &LBERI, Albuquerque, New Mexico 87106, USA. \n",
      "[2] Department of ECE, University of New Mexico, Albuquerque, New Mexico 87131, \n",
      "USA.\n",
      "(122)1] Center for Translational Imaging and Personalized Medicine, University \n",
      "of California, San Diego, California 92093, USA. [2] Departments of \n",
      "Neurosciences, Radiology, Psychiatry, and Cognitive Science, University of \n",
      "California, San Diego, California 92093, USA.\n",
      "(123)Avera Institute for Human Genetics, Sioux Falls, South Dakota, 57108, USA.\n",
      "(124)1] Molecular and Cellular Therapeutics, The Royal College of Surgeons, \n",
      "Dublin 2, Ireland. [2] Neurology Division, Beaumont Hospital, Dublin 9, Ireland.\n",
      "(125)Department of Neurology, Hopital Erasme, Universite Libre de Bruxelles, \n",
      "Brussels 1070, Belgium.\n",
      "(126)1] NORMENT - KG Jebsen Centre, Institute of Clinical Medicine, University \n",
      "of Oslo, Oslo N-0316, Norway. [2] Department of Medical Genetics, Oslo \n",
      "University Hospital, Oslo 0450, Norway.\n",
      "(127)1] Human Genetics Branch and Experimental Therapeutics and Pathophysiology \n",
      "Branch, National Institute of Mental Health Intramural Research Program, \n",
      "Bethesda, Maryland 20892, USA. [2] Janssen Research &Development, Johnson \n",
      "&Johnson, Titusville, New Jersey 08560, USA.\n",
      "(128)1] Department of Psychiatry, Massachusetts General Hospital, Boston, \n",
      "Massachusetts 02115, USA. [2] The Athinoula A.Martinos Center for Biomedical \n",
      "Imaging, Massachusetts General Hospital, Charlestown, Massachusetts 02129, USA. \n",
      "[3] Harvard Medical School, Boston, Massachusetts 02115, USA.\n",
      "(129)Department of Psychiatry, University of Iowa, Iowa City, Iowa 52242, USA.\n",
      "(130)1] German Center for Neurodegenerative Diseases (DZNE) Rostock/Greifswald, \n",
      "Greifswald 17487, Germany. [2] Institute for Community Medicine, University \n",
      "Medicine Greifswald, Greifswald D-17475, Germany.\n",
      "(131)1] Max Planck Institute of Psychiatry, Munich 80804, Germany. [2] Munich \n",
      "Cluster for Systems Neurology (SyNergy), Munich 81377, Germany. [3] University \n",
      "of Liverpool, Institute of Translational Medicine, Liverpool L69 3BX, UK.\n",
      "(132)Institute of Clinical Chemistry and Laboratory Medicine, University \n",
      "Medicine Greifswald, Greifswald 17475, Germany.\n",
      "(133)Department of Psychiatry, Massachusetts General Hospital, Boston, \n",
      "Massachusetts 02115, USA.\n",
      "(134)UCL Institute of Neurology, London, United Kingdom and Epilepsy Society, \n",
      "London WC1N 3BG, UK.\n",
      "(135)1] Department of Psychiatry, Massachusetts General Hospital, Boston, \n",
      "Massachusetts 02115, USA. [2] Psychiatric and Neurodevelopmental Genetics Unit, \n",
      "Center for Human Genetic Research, Massachusetts General Hospital, Boston, \n",
      "Massachusetts 02115, USA. [3] Stanley Center for Psychiatric Research, Broad \n",
      "Institute of MIT and Harvard, Boston, Massachusetts 02141, USA. [4] Harvard \n",
      "Medical School, Boston, Massachusetts 02115, USA.\n",
      "(136)Center for Imaging of Neurodegenerative Disease, San Francisco VA Medical \n",
      "Center, University of California, San Francisco, California 94121, USA.\n",
      "(137)1] Department of Child and Adolescent Psychiatry, Erasmus University \n",
      "Medical Centre, Rotterdam 3000 CB, The Netherlands. [2] Department of Radiology, \n",
      "Erasmus University Medical Centre, Rotterdam 3015 CN, The Netherlands.\n",
      "(138)1] NORMENT - KG Jebsen Centre, Institute of Clinical Medicine, University \n",
      "of Oslo, Oslo N-0316, Norway. [2] Department of Psychiatric Research and \n",
      "Development, Diakonhjemmet Hospital, Oslo 0319, Norway. [3] Department of \n",
      "Clinical Neuroscience, Psychiatry Section, Karolinska Institutet, Stockholm \n",
      "SE-171 76, Sweden.\n",
      "(139)1] Human Genetics Branch and Experimental Therapeutics and Pathophysiology \n",
      "Branch, National Institute of Mental Health Intramural Research Program, \n",
      "Bethesda, Maryland 20892, USA. [2] Clinical Neuroimaging Laboratory, College of \n",
      "Medicine, Nursing and Health Sciences, National University of Ireland Galway, \n",
      "Galway, Ireland.\n",
      "(140)1] Department of Cognitive Neuroscience, Radboud university medical center, \n",
      "Nijmegen 6500 HB, The Netherlands. [2] Donders Institute for Brain, Cognition \n",
      "and Behaviour, Radboud University, Nijmegen 6500 GL, The Netherlands.\n",
      "(141)1] Donders Institute for Brain, Cognition and Behaviour, Radboud \n",
      "University, Nijmegen 6500 GL, The Netherlands. [2] Language and Genetics \n",
      "Department, Max Planck Institute for Psycholinguistics, Nijmegen 6525 XD, The \n",
      "Netherlands.\n",
      "(142)1] Department of Psychiatry, University Medicine Greifswald, Greifswald \n",
      "17489, Germany. [2] Department of Psychiatry and Psychotherapy, HELIOS Hospital \n",
      "Stralsund 18435, Germany.\n",
      "(143)1] Center for Translational Research in Systems Neuroscience and \n",
      "Psychiatry, Department of Psychiatry and Psychotherapy, University Medical \n",
      "Center, Goettingen 37075, Germany. [2] Max Planck Institute of Psychiatry, \n",
      "Munich 80804, Germany.\n",
      "(144)Molecular Research Center for Children's Mental Development, United \n",
      "Graduate School of Child Development, Osaka University, Osaka 565-0871, Japan.\n",
      "(145)1] NORMENT - KG Jebsen Centre, Institute of Clinical Medicine, University \n",
      "of Oslo, Oslo N-0316, Norway. [2] Department of Clinical Neuroscience, \n",
      "Psychiatry Section, Karolinska Institutet, Stockholm SE-171 76, Sweden.\n",
      "(146)Medical University of Lodz, Lodz 90-419, Poland.\n",
      "(147)1] Department of Psychiatry, University of Oxford, Oxford OX3 7JX, UK. [2] \n",
      "NIHR Dementia Biomedical Research Unit, King's College London, London SE5 8AF, \n",
      "UK.\n",
      "(148)1] Lieber Institute for Brain Development, Baltimore, Maryland 21205, USA. \n",
      "[2] Department of Neurology, Johns Hopkins University School of Medicine, \n",
      "Baltimore, Maryland 21205, USA.\n",
      "(149)Section of Gerontology and Geriatrics, Department of Medicine, University \n",
      "of Perugia, Perugia 06156, Italy.\n",
      "(150)Clinical Neuroimaging Laboratory, College of Medicine, Nursing and Health \n",
      "Sciences, National University of Ireland Galway, Galway, Ireland.\n",
      "(151)1] Centre for Cognitive Ageing and Cognitive Epidemiology, Psychology, \n",
      "University of Edinburgh, Edinburgh EH8 9JZ, UK. [2] Division of Psychiatry, \n",
      "Royal Edinburgh Hospital, University of Edinburgh, Edinburgh EH10 5HF, UK.\n",
      "(152)1] Brain Center Rudolf Magnus, Department of Psychiatry, University Medical \n",
      "Center Utrecht, Utrecht, 3584 CX, The Netherlands. [2] Center for \n",
      "Neurobehavioral Genetics, University of California, Los Angeles, California \n",
      "90095, USA.\n",
      "(153)1] Rotman Research Institute, University of Toronto, Toronto M6A 2E1, \n",
      "Canada. [2] Departments of Psychology and Psychiatry, University of Toronto, \n",
      "Toronto M5T 1R8, Canada.\n",
      "(154)1] The Hospital for Sick Children, University of Toronto, Toronto M5G 1X8, \n",
      "Canada. [2] Departments of Physiology and Nutritional Sciences, University of \n",
      "Toronto, Toronto M5S 3E2, Canada.\n",
      "(155)1] Reta Lila Weston Institute and Department of Molecular Neuroscience, UCL \n",
      "Institute of Neurology, London WC1N 3BG, UK. [2] Department of Medical and \n",
      "Molecular Genetics, King's College London, London SE1 9RT, UK.\n",
      "(156)1] Centre for Healthy Brain Ageing, School of Psychiatry, University of New \n",
      "South Wales, Sydney 2052, Australia. [2] Neuropsychiatric Institute, Prince of \n",
      "Wales Hospital, Sydney 2031, Australia.\n",
      "(157)1] Center for Neuroimaging, Radiology and Imaging Sciences, Indiana \n",
      "University School of Medicine, Indianapolis, Indiana 46202, USA. [2] Indiana \n",
      "Alzheimer Disease Center, Indiana University School of Medicine, Indianapolis, \n",
      "Indiana 46202, USA. [3] Department of Psychiatry and Psychotherapy, Charité \n",
      "Universitätsmedizin Berlin, CCM, Berlin 10117, Germany.\n",
      "(158)1] Department of Neuroimaging, Institute of Psychiatry, King's College \n",
      "London, London SE5 8AF, UK. [2] Biomedical Research Centre for Mental Health, \n",
      "King's College London, London SE5 8AF, UK. [3] Biomedical Research Unit for \n",
      "Dementia, King's College London, London SE5 8AF, UK.\n",
      "(159)1] Institute of Clinical Medicine, Neurology, University of Eastern \n",
      "Finland, Kuopio FI-70211, Finland. [2] Neurocentre Neurology, Kuopio University \n",
      "Hospital, Kuopio FI-70211, Finland.\n",
      "(160)Department of Medical and Molecular Genetics, King's College London, London \n",
      "SE1 9RT, UK.\n",
      "(161)1] Lieber Institute for Brain Development, Baltimore, Maryland 21205, USA. \n",
      "[2] Departments of Psychiatry, Neurology, Neuroscience and the Institute of \n",
      "Genetic Medicine, Johns Hopkins University School of Medicine, Baltimore, \n",
      "Maryland 21205, USA.\n",
      "(162)1] Department of Radiology, Erasmus University Medical Centre, Rotterdam \n",
      "3015 CN, The Netherlands. [2] Department of Epidemiology, Erasmus University \n",
      "Medical Centre, Rotterdam 3015 CN, The Netherlands.\n",
      "(163)Laboratory of Epidemiology and Population Sciences, Intramural Research \n",
      "Program, National Institute on Aging, Bethesda, Maryland 20892, USA.\n",
      "(164)Department of Neurology, Clinical Division of Neurogeriatrics, Medical \n",
      "University Graz, Graz 8010, Austria.\n",
      "(165)INSERM U897, University of Bordeaux, Bordeaux 33076, France.\n",
      "(166)1] Department of Neurology, Boston University School of Medicine, Boston, \n",
      "Massachusetts 02118, USA. [2] Framingham Heart Study, Framingham, Massachusetts \n",
      "01702, USA.\n",
      "(167)1] Department of Neurology, School of Medicine, University of Pittsburgh, \n",
      "Pittsburgh, Pennsylvania 15260, USA. [2] Department of Psychiatry, School of \n",
      "Medicine, University of Pittsburgh, Pittsburgh, Pennsylvania 15260, USA. [3] \n",
      "Department of Psychology, Dietrich School of Arts and Sciences, University of \n",
      "Pittsburgh, Pittsburgh, Pennsylvania 15260, USA.\n",
      "(168)General Internal Medicine, Johns Hopkins School of Medicine, Baltimore, \n",
      "Maryland 21205, USA.\n",
      "(169)Department of Epidemiology, Erasmus University Medical Centre, Rotterdam \n",
      "3015 CN, The Netherlands.\n",
      "(170)1] The Athinoula A.Martinos Center for Biomedical Imaging, Massachusetts \n",
      "General Hospital, Charlestown, Massachusetts 02129, USA. [2] Department of \n",
      "Radiology, Massachusetts General Hospital, Harvard Medical School, Boston, \n",
      "Massachusetts 02114, USA.\n",
      "(171)1] The Athinoula A.Martinos Center for Biomedical Imaging, Massachusetts \n",
      "General Hospital, Charlestown, Massachusetts 02129, USA. [2] Department of \n",
      "Radiology, Massachusetts General Hospital, Harvard Medical School, Boston, \n",
      "Massachusetts 02114, USA. [3] Computer Science and AI Lab, Massachusetts \n",
      "Institute of Technology, Boston, Massachusetts 02141, USA.\n",
      "(172)Department of Neurology University of Washington, Seattle, Washington \n",
      "98195, USA.\n",
      "(173)Institute of Molecular Biology and Biochemistry, Medical University Graz, \n",
      "8010 Graz, Austria.\n",
      "(174)Department of Neurology, Johns Hopkins University School of Medicine, \n",
      "Baltimore, Maryland 21205, USA.\n",
      "(175)Department of Biostatistics, Boston University School of Public Health, \n",
      "Boston, Massachusetts 02118, USA.\n",
      "(176)Groupe d'Imagerie Neurofonctionnelle, UMR5296 CNRS, CEA and University of \n",
      "Bordeaux, Bordeaux 33076, France.\n",
      "(177)Cardiovascular Health Research Unit, Department of Medicine, University of \n",
      "Washington, Seattle, Washington 98101, USA.\n",
      "(178)Icelandic Heart Association, University of Iceland, Faculty of Medicine, \n",
      "Reykjavik 101, Iceland.\n",
      "(179)1] Department of Neurology, Boston University School of Medicine, Boston, \n",
      "Massachusetts 02118, USA. [2] Department of Neurology, School of Medicine, \n",
      "University of Pittsburgh, Pittsburgh, Pennsylvania 15260, USA.\n",
      "(180)1] QIMR Berghofer Medical Research Institute, Brisbane 4006, Australia. [2] \n",
      "School of Psychology, University of Queensland, Brisbane 4072, Australia.\n",
      "(181)1] Department of Human Genetics, Radboud university medical center, \n",
      "Nijmegen 6500 HB, The Netherlands. [2] Department of Psychiatry, Radboud \n",
      "university medical center, Nijmegen 6500 HB, The Netherlands. [3] Donders \n",
      "Institute for Brain, Cognition and Behaviour, Radboud University, Nijmegen 6500 \n",
      "GL, The Netherlands.\n"
     ]
    }
   ],
   "execution_count": 112
  },
  {
   "metadata": {
    "ExecuteTime": {
     "end_time": "2025-10-20T04:02:33.032857Z",
     "start_time": "2025-10-20T04:02:33.015184Z"
    }
   },
   "cell_type": "code",
   "source": [
    "model = embedder.model\n",
    "tokenizer = model.tokenizer\n",
    "text = \"Marry had a little lamb\"\n",
    "\n",
    "\n",
    "def count_tokens(text):\n",
    "    return len(tokenizer.encode(text))\n",
    "\n",
    "\n",
    "count_tokens(text)"
   ],
   "id": "e41aa03f6241dd82",
   "execution_count": 58,
   "outputs": [
    {
     "data": {
      "text/plain": [
       "7"
      ]
     },
     "execution_count": 58,
     "metadata": {},
     "output_type": "execute_result"
    }
   ]
  },
  {
   "metadata": {
    "ExecuteTime": {
     "end_time": "2025-10-20T04:04:05.869814Z",
     "start_time": "2025-10-20T04:04:05.853425Z"
    }
   },
   "cell_type": "code",
   "source": [
    "chunker = RecursiveCharacterTextSplitter(\n",
    "    chunk_size=256,\n",
    "    chunk_overlap=50,\n",
    "    length_function=count_tokens,\n",
    "    separators=[\"\\n\\n\", \"\\n\", \". \", \" \", \"\"],\n",
    ")"
   ],
   "id": "2294dc4e35ff3ff7",
   "outputs": [],
   "execution_count": 71
  },
  {
   "metadata": {
    "ExecuteTime": {
     "end_time": "2025-10-20T04:05:47.703674Z",
     "start_time": "2025-10-20T04:05:47.654433Z"
    }
   },
   "cell_type": "code",
   "source": "len(chunker.split_text(ds[argids[0]]['passage']))",
   "id": "ff34aa996f3f5869",
   "outputs": [
    {
     "data": {
      "text/plain": [
       "53"
      ]
     },
     "execution_count": 114,
     "metadata": {},
     "output_type": "execute_result"
    }
   ],
   "execution_count": 114
  },
  {
   "metadata": {
    "ExecuteTime": {
     "end_time": "2025-10-20T04:13:34.651998Z",
     "start_time": "2025-10-20T04:12:53.648842Z"
    }
   },
   "cell_type": "code",
   "source": [
    "from datasets import Dataset\n",
    "from tqdm import tqdm\n",
    "\n",
    "\n",
    "def chunk_documents(dataset, chunker, text_col = 'passage', id_col = 'id'):\n",
    "    chunked_docs = []\n",
    "    pbar = tqdm(total=len(dataset), desc='Chunking')\n",
    "    for doc in dataset:\n",
    "        text = doc[text_col]\n",
    "        parent_id = doc[id_col]\n",
    "        chunks = chunker.split_text(text)\n",
    "        for i, chunk in enumerate(chunks):\n",
    "            chunked_docs.append({\n",
    "                'text': chunk,\n",
    "                'parent_id': parent_id,\n",
    "                'chunk_id': i,\n",
    "            })\n",
    "        pbar.update(1)\n",
    "    pbar.close()\n",
    "    return Dataset.from_list(chunked_docs)\n",
    "\n",
    "chunker = RecursiveCharacterTextSplitter(\n",
    "    chunk_size=256,\n",
    "    chunk_overlap=50,\n",
    "    length_function=count_tokens,\n",
    "    separators=[\"\\n\\n\", \"\\n\", \". \", \" \", \"\"],\n",
    ")\n",
    "\n",
    "chunked_ds = chunk_documents(ds, chunker)"
   ],
   "id": "2c7d72462b65621a",
   "outputs": [
    {
     "name": "stderr",
     "output_type": "stream",
     "text": [
      "100%|██████████| 40221/40221 [00:40<00:00, 985.04it/s] \n"
     ]
    }
   ],
   "execution_count": 118
  },
  {
   "metadata": {},
   "cell_type": "code",
   "outputs": [],
   "execution_count": null,
   "source": [
    "from langchain_text_splitters import TextSplitter\n",
    "\n",
    "TextSplitter"
   ],
   "id": "7ee6b28574734685"
  }
 ],
 "metadata": {
  "kernelspec": {
   "display_name": "Python 3",
   "language": "python",
   "name": "python3"
  },
  "language_info": {
   "codemirror_mode": {
    "name": "ipython",
    "version": 2
   },
   "file_extension": ".py",
   "mimetype": "text/x-python",
   "name": "python",
   "nbconvert_exporter": "python",
   "pygments_lexer": "ipython2",
   "version": "2.7.6"
  }
 },
 "nbformat": 4,
 "nbformat_minor": 5
}
