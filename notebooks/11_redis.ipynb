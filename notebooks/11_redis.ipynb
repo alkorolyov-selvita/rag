{
 "cells": [
  {
   "cell_type": "code",
   "id": "initial_id",
   "metadata": {
    "collapsed": true,
    "ExecuteTime": {
     "end_time": "2025-10-25T11:58:09.102144Z",
     "start_time": "2025-10-25T11:58:09.099231Z"
    }
   },
   "source": [
    "import numpy as np\n",
    "import redis\n",
    "from sentence_transformers.util import cos_sim\n",
    "\n",
    "from rag.api.dependencies import get_embedder\n",
    "from rag.caching.semantic import SemanticCache\n",
    "from rag.config import settings\n",
    "from rag.embeddings import create_embedder\n",
    "from rag.pipeline import RAGPipeline\n",
    "\n",
    "redis = redis.from_url(settings.redis_url)\n",
    "redis"
   ],
   "execution_count": 80,
   "outputs": [
    {
     "data": {
      "text/plain": [
       "<redis.client.Redis(<redis.connection.ConnectionPool(<redis.connection.Connection(host=localhost,port=6379,db=0)>)>)>"
      ]
     },
     "execution_count": 80,
     "metadata": {},
     "output_type": "execute_result"
    }
   ]
  },
  {
   "metadata": {
    "ExecuteTime": {
     "end_time": "2025-10-25T11:37:30.918351Z",
     "start_time": "2025-10-25T11:37:30.915291Z"
    }
   },
   "cell_type": "code",
   "source": "redis.set('foo', 'bar')",
   "id": "4abee9287f547afc",
   "outputs": [
    {
     "data": {
      "text/plain": [
       "True"
      ]
     },
     "execution_count": 29,
     "metadata": {},
     "output_type": "execute_result"
    }
   ],
   "execution_count": 29
  },
  {
   "metadata": {
    "ExecuteTime": {
     "end_time": "2025-10-25T11:37:30.961825Z",
     "start_time": "2025-10-25T11:37:30.959573Z"
    }
   },
   "cell_type": "code",
   "source": "redis.get('foo')",
   "id": "1d5da999e8ea8fa7",
   "outputs": [
    {
     "data": {
      "text/plain": [
       "b'bar'"
      ]
     },
     "execution_count": 30,
     "metadata": {},
     "output_type": "execute_result"
    }
   ],
   "execution_count": 30
  },
  {
   "metadata": {
    "ExecuteTime": {
     "end_time": "2025-10-25T11:37:33.009022Z",
     "start_time": "2025-10-25T11:37:31.003509Z"
    }
   },
   "cell_type": "code",
   "source": "embedder = create_embedder(settings)",
   "id": "59b43de9dec26020",
   "outputs": [],
   "execution_count": 31
  },
  {
   "metadata": {
    "ExecuteTime": {
     "end_time": "2025-10-25T11:37:33.056786Z",
     "start_time": "2025-10-25T11:37:33.054848Z"
    }
   },
   "cell_type": "code",
   "source": "embedder.dimension",
   "id": "58d97a21abf88662",
   "outputs": [
    {
     "data": {
      "text/plain": [
       "384"
      ]
     },
     "execution_count": 32,
     "metadata": {},
     "output_type": "execute_result"
    }
   ],
   "execution_count": 32
  },
  {
   "metadata": {
    "ExecuteTime": {
     "end_time": "2025-10-25T11:37:33.109750Z",
     "start_time": "2025-10-25T11:37:33.099550Z"
    }
   },
   "cell_type": "code",
   "source": [
    "text = 'Heart attack'\n",
    "emb = embedder.embed_text('Heart attack')\n",
    "emb.shape"
   ],
   "id": "8ea7a91707dcefe9",
   "outputs": [
    {
     "data": {
      "text/plain": [
       "(384,)"
      ]
     },
     "execution_count": 33,
     "metadata": {},
     "output_type": "execute_result"
    }
   ],
   "execution_count": 33
  },
  {
   "metadata": {
    "ExecuteTime": {
     "end_time": "2025-10-25T11:37:33.146542Z",
     "start_time": "2025-10-25T11:37:33.144248Z"
    }
   },
   "cell_type": "code",
   "source": [
    "import numpy as np\n",
    "\n",
    "emb.tobytes()"
   ],
   "id": "6cb01d9c870c4240",
   "outputs": [
    {
     "data": {
      "text/plain": [
       "b'\\xd5\\xdeu\\xbb\\x98G\\xed\\xbc\\x8f\\xfe\\x93<\\x93\\x86-=\\x02Y\\x01\\xb8bC\\x88\\xbc\\xe5pL=ePu<\\x05`D\\xbb\\xdf%\\';6\\x9b\\xed\\xbc\\x03\\x84 \\xbdOg\\x85\\xbbd\\x92\\x96<yU\\x8b\\xbc\\xf3\\xecN\\xbc\\xf06\\xfa<_\\xebm<\\xc7\\xe4\\xb1\\xbd\\x9b\\xb0\\xc8<\\x8c4\\xa8\\xbc\\xa89\\xb0<s\\x9a\\xd3\\xbc\\xeaER\\xbd\\n\\x13\\x04=\\x8b\\xf6\\x05\\xbc!\\xed\\n\\xbdo\\xe1\\xe3\\xbc\\xac\\xad\\xa1\\xbdt\\xa1\\x7f\\xbd\\x05\\xf0\\xc4<\\xf1\\xcc\\x92\\xbc)o\\xd4=\\xfe?\\x95<\\x91\\x0f6\\xbc\\x00\\xac\\x1b\\xbdE\\xc0-\\xbd\"\\xa8\\x7f=\\x03/@\\xbb\\xcch\\x1e<!\\xfa\\xeb<\\x8c\\x93}<\\x16+\\x90\\xbb\\xc3\\xfd[\\xbd\\rq\\x8b=X\\xc7\\x9d;O\\xde\\n\\xbd\\x05\\x9e\\xac\\xbb\\xc0\\x127>\\xfa\\xda\\x12\\xbd\\x02<\\x87\\xbd\\xfb\\xf3\\xc3<wh`=\\xd36\\xb7\\xbc\\x05,\\x88=\\xf6\\xb3\\xc9\\xbd=#\\t=14\\xac\\xbc\\x90?\\x87;\\xed\\xa33=p?\\n=-\\xd9\\x01=\\x89m\\x0b\\xbe\\xcf`L=\\x93\\x84\\x0f\\xbd\\n\\xc4H\\xbb\\xc2\\xd0\\xff;J\\x00\\xae<\\x8f\\xe6\\xa5=*5\\xbe<]\\xdeu<\\xe1\\xba\\xfe<\\xa1_Z=\\xe2\\x9b&=3h9=\\xa6\\xb3\\xe8<|EY\\xbc\\xa2\\x97\\r\\xbd\\xd9R>=\\x84\\r\\x87\\xbc\\xf6k\\x13<\\xf7\\x9eS\\xbd\\x8c?\\xad\\xbb<\\xae\\xc6\\xbc\\xefE\\xf7\\xbb\\x0b\\x0b\\xc1\\xbc\\xc1\\xa86<\\xf3\\x98\\xc0\\xbc\\xf9\"\\x8b\\xbcQ\\x8e,=(\\x7f\\x15\\xbb\\xd2\\xa5c\\xbd0\\x86j\\xbce\\xfba=+\\xd0\\x8e\\xbc\\x0c<I\\xbb\\xf3Dd=\\xcb\\xf3t\\xbc\\xc4\\xc5\\x06\\xbe\\xd3\\x0f\\x9e>\\xfe}\\x0e\\xbb}*{<}\\x9e^\\xbdB\\xcb5=\\xf9u\\xa1=m\\xdd\\x04\\xbd\\x16u\\xad<\\xe3 \\x95\\xbd\\x96\\xc3o\\xbd\\xef\\xab\\xb5\\xbb\\xdb\\xcd\\xc7<\\x87Wk\\xbd\\xd1\\x08\\x80\\xbc\\xf2\\x83e\\xbc\\xf31\\xe5<Z4\\x81=\\xf5\\xd35=\\xa7j\\xbe\\xbc-sR\\xbcr4\\xda\\xbb\\x1f\\xc5\\xad;\\x99i::\\xdb\\x98\\xca\\xbbb\\xb5M<\\xa2C\\xb8<I\\xbb\\xee\\xbcH*\\x12\\xbcn\\xee\\xe7=*\\n==Y\\xf6\\xf9\\xbc-\\x80\\x9b=\\xc4\\xbax<\\x8d\\x8d\\xcd\\xbc0-\\xdd\\xbc\\x8a\\x7f\\x80\\xbc\\x98,\\xd3;{!\\xa1:\\xa1\\xbb7\\xbb\\x1b1e\\xbc\\xc3\\x8e6<\\xadg\\xc7<\\xc2\\xe7\\x91\\xbd\\xb5\\xb1\\xa0<\\xd5\\xb5\\x82\\xbd\\xf4\\xd1\\x8e\\xbdEP\\xed=\\x08\\xd16=\\xabca=<\\xef\\x82\\xbd\\x10\\x8eJ\\xbd\\x17\\x1f\\xe9\\xbc\\xa2Gf<\\xa8\\xb7\\x11\\xbd\\xba%\\xad=`]\\x15\\xbd\\xae\\xab\\xf7;\\x02(\\xd1<zD\\x1b<\\x89.{;\\x10\\xa1\\x9d\\xbdk\\xd1\\xb4\\xbc\\xfe\\x12{\\xbc\\x7f-\\x92\\xbd\\x9cVe=\\xf4h\\x06=\\xea\\xf1B=\\xcd\\xbc\\x1b\\xbd\\xa4\\xafh\\xbd\\xe2\\xa0Q<\\x88\\xbb\\x0c\\xbd\\x81\\xdeB<\\x9d\\\\O;\\xd6K,=\\xe4\\xa1j;\\xb1\\xcc\\xad=\\x84\\xfft=\\xa4\\xe8\\x7f=\\xe3\\x10\\xe5\\xbc\\x0c\\x03T<\\xb3+\\xde;D\\xb2<=1\\xbb\\xd2<\\xb3#r\\xbcr\\x97.<\\xf0\\xaa\\x85\\xbb\\xde\\xa0\\x98\\xbc\\x87\\xf9\\xb4\\xbc\\x02\\xd5\\x1d\\xbc\\xf9Q\\x8f<\\x04\\xa0\"=\\xe9\\xb6 \\xbdJo\\xc0;\\xb0\\xcc\\x19\\xbd\\xff\\xcf\\x01<V\"\\x8c\\xbdlt\\xfd\\xbc\\xbe;\\x87\\xbdjg\\x89\\xbc\\xf5\\xe5\\xa9\\xbc=\\xe7\\x1d\\xbc\\x07%\\xaf=G\\xc5\\x86\\xbd\\xaa\\xa8z\\xbc\\xe6\\x05\\xb2\\xbc\\xd0\\x04w<\\xe0J\\x80\\xbc\\xcc\\xdaP\\xbd$N\\xc6\\xbc\\x1b\\x1a\\xd8\\xbdJv\\x88\\xbc:z\\x03=8`-=\\x89\\xe8\\xb1=\\x8c\\x93\\x06=\\xe7\\xab7\\xbd\\xd4\\xf1\\xdc;\\x828\\x05\\xbbe\\xacz=\\x08\\xc8\\xac\\xbc\\x7f\\xf2O=y\\x9d\\x8c=\\xb5\\x99<\\xbd\\xf6\\xcf\\x1f=\\x993\\x94\\xbe\\xd5A\\x0f\\xbd,\\xb4\\xb2<\\x165\\xce\\xbd8\\xbe\\xd4\\xbcj\\xe5\\x97\\xbc\\x92\\xd3\\x94<\\xe3\\r\\xca\\xbcn>\\xc5;e\\x05\\xf7<bZ\\xb0;l\\x80\\x97<\\x08\\x82\\x86\\xbd\\xfa\\xa3A\\xbcC\\x1d\\xf8<\\x1a\\xb8 =\\xe0\\xd7,=\\x95\\xd8\\xc5\\xbc\\x11\\x1b`\\xbd\\n\\xd5\\xb5<\\x8a\\x0f^\\xbc\\x89{\\x9f;\\xaa]\\x07\\xbd\\xee\\x03X\\xbd\\x08Rp=x\\x04==\\xb9M_>\\x1e\\xd3==c\\xe4h\\xbd\\xbb\\xe2\\xc4\\xbc\\xc7\\x84K\\xbd\\x96\\x9e\\xf8<\\x97C6\\xbc&\\x95\\xf3\\xbd\\xaa\\xcb\\xd8<\\x95h\\x85\\xbd\\x84\\x10+=!\\xda\\xcd<\\x11\\xcb\\x93\\xbd\\xd2\\x16\\xb2\\xbcq\\xc0\\xd7\\xbdADM=\\xa9\\xfe1=\\xba\\xc1\\xa6\\xbc\\xda\\xcb\\xb1\\xba^ox\\xbd\\xbf\\xde\\xef\\xbb\\xfb\\xf0==\\xc1\\xe0%\\xbd\\x850P=/\\x8b\\xf4<\\xaa\\xa1\\x82\\xbc\\xb6\\x1f\\x89=.\\xe5\\xcb<\\xb9\\x11\\xae=wX3\\xbdS\\xe2\\xae\\xbd\\x1a\\xd5\\xd3<\\xdb@\\x11\\xbd\\xac\\xb3Y\\xbd\\x8a.\\xd69\\xbd\\xce\\xa7\\xbb-\\x94g=\\xc8\\x04y\\xbdo\\x03\\xc7;(~\\x18=\\xf5,\\xb8\\xbb\\x9aV\\xc5<\\r35<N\\t\\xb6\\xbc\\x00r\\x89\\xbd\\x99\\xde\\xa8=\\xadkB<P\\xabs\\xbdre\\x9f=\\x95\\x91\\xe3<z\\xda\\xa7;\\x90\\x87\\xba\\xbd\\x87\\xe9I<H\\xd8\\x0c<\\xedk\\xea<\\xa2\\xb6\\xb9\\xbd\\x08\\x91\\x9a\\xbc\\xe2\\x1b\\xbf<[J\\x84<\\x13\\x9c\\xa7\\xbcgt\\x98\\xbb\\x96\\xac\\xd7\\xbc\\x15\\xfcp<\\xb9\\xd6 \\xbdg\\x1f\\xc6<\\xda\\xf4\\x1a\\xbd\\xec\\x9e)\\xbd\\x81\\xd38\\xbdk\\x05$\\xbc\\x07\\xb2\\x9a\\xbb\\x06\\xcdw\\xbej\\xb4\\'\\xbb*\\xfa\\x98<\\xdck\\x00=\\xba\\xf3V\\xbb\\xa9\\xe7\\x9c\\xbb\\xa0\\x9b\\x18\\xbd\\xcc\\xf6\\xce<\\xbf\\xa4\\x08\\xbd6\\x00T=R\\x84\\xaa\\xbdR\\t\\x0c<\\xae\\xdek=\\x83\\xd5\\t<\\\\\\x10\\xa5\\xbd\\xf4\\xae\\x88\\xb9\\x8b\\xce\\x83<\\xd6iK\\xbc\\x1d\\xca\\x18=f;n=m6Y\\xbc\\xea\\xb0y=D\\xa4\\x0e>.\\xaf\\xc5<\\xa8\\xa2\\x8f\\xbc\\x1d\\x96 <@\\xee?</\\xc4?=\\xae.\\xb5\\xbc\\xf4n\\xbe<_f\\xd1<\\xc3\\xfa\\x0f\\xbd\\x93;\\xc0<\\xaf\\xa64\\xbck\\xdaS=WuH=\\xe8\\xb9G=\\xa9\\xc5\\xe9<\\xe3Xf<\\x1d\\xabm\\xbc\\xcf\\x8f\\xa0<\\xb8\\x15\\x81<vj\\xca\\xbc##\\x9a\\xbc\\xcdc\\xb1=/&R\\xbd\\x12\\x8aU;O\\xee\\xf9\\xbb\\x1fBI\\xbb\\x95\\x8a\\x80\\xbc\\xa5\\x89\\xd5<\\xc6\\x0e\\x9f<%\\xce\\x1a=\\xf2\\x17*=\\x19G\\xf7<yc\\xc0<\\n}\\x89\\xbd\\x05\\xbf-\\xbd\\xe8\\xac\\x10\\xbc\\xbd}\\xb1\\xbc\\xbbp\\xa8\\xbb*=\\x85\\xbc\\xadm\\xef<9$^=jO\\xcb<'"
      ]
     },
     "execution_count": 34,
     "metadata": {},
     "output_type": "execute_result"
    }
   ],
   "execution_count": 34
  },
  {
   "metadata": {
    "ExecuteTime": {
     "end_time": "2025-10-25T11:37:33.191767Z",
     "start_time": "2025-10-25T11:37:33.188607Z"
    }
   },
   "cell_type": "code",
   "source": [
    "from random import random, uniform\n",
    "\n",
    "key = hash(text)\n",
    "\n",
    "redis.setex(key, value=emb.tobytes(), time=int(settings.redis_ttl * uniform(0.9, 1.1)))"
   ],
   "id": "7c709f914cea05a2",
   "outputs": [
    {
     "data": {
      "text/plain": [
       "True"
      ]
     },
     "execution_count": 35,
     "metadata": {},
     "output_type": "execute_result"
    }
   ],
   "execution_count": 35
  },
  {
   "metadata": {
    "ExecuteTime": {
     "end_time": "2025-10-25T11:37:33.236754Z",
     "start_time": "2025-10-25T11:37:33.233261Z"
    }
   },
   "cell_type": "code",
   "source": "np.frombuffer(redis.get(key), dtype=np.float32)",
   "id": "bbd3c3e31a32eb52",
   "outputs": [
    {
     "data": {
      "text/plain": [
       "array([-3.75168514e-03, -2.89648026e-02,  1.80657189e-02,  4.23646681e-02,\n",
       "       -3.08388917e-05, -1.66336931e-02,  4.99123521e-02,  1.49727808e-02,\n",
       "       -2.99644587e-03,  2.55047507e-03, -2.90046744e-02, -3.91883962e-02,\n",
       "       -4.07115323e-03,  1.83803514e-02, -1.70085300e-02, -1.26297353e-02,\n",
       "        3.05437744e-02,  1.45214489e-02, -8.68621394e-02,  2.44982745e-02,\n",
       "       -2.05328688e-02,  2.15118676e-02, -2.58304831e-02, -5.13362065e-02,\n",
       "        3.22447196e-02, -8.17645621e-03, -3.39175500e-02, -2.78174561e-02,\n",
       "       -7.89445341e-02, -6.24098331e-02,  2.40402315e-02, -1.79199893e-02,\n",
       "        1.03727646e-01,  1.82189904e-02, -1.11121098e-02, -3.80058289e-02,\n",
       "       -4.24196906e-02,  6.24162033e-02, -2.93248962e-03,  9.66854021e-03,\n",
       "        2.88057942e-02,  1.54770724e-02, -4.39966749e-03, -5.37088029e-02,\n",
       "        6.80867210e-02,  4.81502339e-03, -3.39034162e-02, -5.26786083e-03,\n",
       "        1.78782463e-01, -3.58533636e-02, -6.60324246e-02,  2.39200499e-02,\n",
       "        5.47871254e-02, -2.23650094e-02,  6.64902106e-02, -9.84877795e-02,\n",
       "        3.34808715e-02, -2.10209806e-02,  4.12745029e-03,  4.38575037e-02,\n",
       "        3.37519050e-02,  3.17012556e-02, -1.36160031e-01,  4.98970114e-02,\n",
       "       -3.50385420e-02, -3.06344265e-03,  7.80686829e-03,  2.12403722e-02,\n",
       "        8.10061619e-02,  2.32187100e-02,  1.50066288e-02,  3.10949702e-02,\n",
       "        5.33138551e-02,  4.06760052e-02,  4.52653877e-02,  2.84059756e-02,\n",
       "       -1.32611953e-02, -3.45684364e-02,  4.64657284e-02, -1.64859369e-02,\n",
       "        8.99790786e-03, -5.16652726e-02, -5.28711639e-03, -2.42530033e-02,\n",
       "       -7.54617853e-03, -2.35648360e-02,  1.11486325e-02, -2.35104319e-02,\n",
       "       -1.69844497e-02,  4.21279110e-02, -2.28113867e-03, -5.55780604e-02,\n",
       "       -1.43142194e-02,  5.51713891e-02, -1.74332466e-02, -3.07059567e-03,\n",
       "        5.57298176e-02, -1.49507029e-02, -1.31613791e-01,  3.08714479e-01,\n",
       "       -2.17425777e-03,  1.53299542e-02, -5.43503650e-02,  4.43832949e-02,\n",
       "        7.88382962e-02, -3.24377306e-02,  2.11739950e-02, -7.28166327e-02,\n",
       "       -5.85361347e-02, -5.54417772e-03,  2.43901517e-02, -5.74565195e-02,\n",
       "       -1.56292040e-02, -1.40085090e-02,  2.79779192e-02,  6.30881339e-02,\n",
       "        4.43915911e-02, -2.32442152e-02, -1.28448429e-02, -6.65908400e-03,\n",
       "        5.30303968e-03,  7.11107219e-04, -6.18277257e-03,  1.25554521e-02,\n",
       "        2.24931873e-02, -2.91420389e-02, -8.92121345e-03,  1.13247737e-01,\n",
       "        4.61522713e-02, -3.05129755e-02,  7.59280697e-02,  1.51812471e-02,\n",
       "       -2.50919107e-02, -2.69990861e-02, -1.56858154e-02,  6.44452497e-03,\n",
       "        1.22933032e-03, -2.80354195e-03, -1.39887584e-02,  1.11424355e-02,\n",
       "        2.43414287e-02, -7.12428242e-02,  1.96159873e-02, -6.38233796e-02,\n",
       "       -6.97363913e-02,  1.15875758e-01,  4.46329415e-02,  5.50266914e-02,\n",
       "       -6.39328659e-02, -4.94518876e-02, -2.84572076e-02,  1.40551645e-02,\n",
       "       -3.55755389e-02,  8.45446140e-02, -3.64660025e-02,  7.55830761e-03,\n",
       "        2.55317725e-02,  9.47677530e-03,  3.83272977e-03, -7.69673586e-02,\n",
       "       -2.20725145e-02, -1.53243523e-02, -7.13758394e-02,  5.59908003e-02,\n",
       "        3.28149348e-02,  4.75939885e-02, -3.80218513e-02, -5.68081290e-02,\n",
       "        1.27947051e-02, -3.43585312e-02,  1.18938694e-02,  3.16408952e-03,\n",
       "        4.20645103e-02,  3.58020607e-03,  8.48630741e-02,  5.98139912e-02,\n",
       "        6.24777228e-02, -2.79621538e-02,  1.29401796e-02,  6.78011170e-03,\n",
       "        4.60684448e-02,  2.57240254e-02, -1.47790192e-02,  1.06562246e-02,\n",
       "       -4.07921523e-03, -1.86313950e-02, -2.20916402e-02, -9.63330455e-03,\n",
       "        1.74951423e-02,  3.97033840e-02, -3.92369367e-02,  5.87264169e-03,\n",
       "       -3.75487208e-02,  7.92312529e-03, -6.84248656e-02, -3.09393033e-02,\n",
       "       -6.60319179e-02, -1.67729445e-02, -2.07395349e-02, -9.63765103e-03,\n",
       "        8.55198428e-02, -6.58059642e-02, -1.52990017e-02, -2.17313282e-02,\n",
       "        1.50768310e-02, -1.56607032e-02, -5.09899110e-02, -2.42071822e-02,\n",
       "       -1.05518542e-01, -1.66579671e-02,  3.20989862e-02,  4.23280895e-02,\n",
       "        8.68693069e-02,  3.28555554e-02, -4.48416732e-02,  6.74269535e-03,\n",
       "       -2.03278707e-03,  6.11995645e-02, -2.10914761e-02,  5.07683717e-02,\n",
       "        6.86597303e-02, -4.60450239e-02,  3.90166864e-02, -2.89456159e-01,\n",
       "       -3.49748917e-02,  2.18144283e-02, -1.00687191e-01, -2.59696096e-02,\n",
       "       -1.85420103e-02,  1.81672908e-02, -2.46648248e-02,  6.01940509e-03,\n",
       "        3.01539395e-02,  5.38186822e-03,  1.84938535e-02, -6.56777024e-02,\n",
       "       -1.18188802e-02,  3.02873906e-02,  3.92380729e-02,  4.21980619e-02,\n",
       "       -2.41511259e-02, -5.47133125e-02,  2.21963115e-02, -1.35535095e-02,\n",
       "        4.86702146e-03, -3.30483094e-02, -5.27381226e-02,  5.86719811e-02,\n",
       "        4.61468399e-02,  2.18069926e-01,  4.63439152e-02, -5.68584315e-02,\n",
       "       -2.40338948e-02, -4.96871732e-02,  3.03490572e-02, -1.11245131e-02,\n",
       "       -1.18936822e-01,  2.64643021e-02, -6.51408806e-02,  4.17637974e-02,\n",
       "        2.51284260e-02, -7.21646622e-02, -2.17393972e-02, -1.05347522e-01,\n",
       "        5.01139201e-02,  4.34557535e-02, -2.03560479e-02, -1.35647808e-03,\n",
       "       -6.06530830e-02, -7.32025458e-03,  4.63723950e-02, -4.04975452e-02,\n",
       "        5.08275218e-02,  2.98515242e-02, -1.59462281e-02,  6.69550151e-02,\n",
       "        2.48895548e-02,  8.49947408e-02, -4.37855385e-02, -8.53926167e-02,\n",
       "        2.58584507e-02, -3.54622416e-02, -5.31498641e-02,  4.08519350e-04,\n",
       "       -5.12108067e-03,  5.65377958e-02, -6.07955754e-02,  6.07340736e-03,\n",
       "        3.72296870e-02, -5.62059367e-03,  2.40891464e-02,  1.10595347e-02,\n",
       "       -2.22212337e-02, -6.71119690e-02,  8.24558213e-02,  1.18664922e-02,\n",
       "       -5.94895482e-02,  7.78302103e-02,  2.77793799e-02,  5.12247998e-03,\n",
       "       -9.10788774e-02,  1.23237437e-02,  8.59648734e-03,  2.86159161e-02,\n",
       "       -9.06803757e-02, -1.88679844e-02,  2.33287252e-02,  1.61487367e-02,\n",
       "       -2.04601642e-02, -4.65254812e-03, -2.63274126e-02,  1.47085385e-02,\n",
       "       -3.92672755e-02,  2.41848957e-02, -3.78311649e-02, -4.14113253e-02,\n",
       "       -4.51235808e-02, -1.00110574e-02, -4.72092954e-03, -2.41993040e-01,\n",
       "       -2.55897129e-03,  1.86739750e-02,  3.13528627e-02, -3.27990809e-03,\n",
       "       -4.78835823e-03, -3.72577906e-02,  2.52641663e-02, -3.33602391e-02,\n",
       "        5.17580137e-02, -8.32601935e-02,  8.54714401e-03,  5.75854108e-02,\n",
       "        8.41272157e-03, -8.05976093e-02, -2.60702916e-04,  1.60896983e-02,\n",
       "       -1.24153700e-02,  3.73021252e-02,  5.81621155e-02, -1.32576050e-02,\n",
       "        6.09597340e-02,  1.39298499e-01,  2.41313837e-02, -1.75336152e-02,\n",
       "        9.80141480e-03,  1.17145181e-02,  4.68179546e-02, -2.21169852e-02,\n",
       "        2.32462659e-02,  2.55615097e-02, -3.51512544e-02,  2.34659072e-02,\n",
       "       -1.10260686e-02,  5.17219715e-02,  4.89400290e-02,  4.87612784e-02,\n",
       "        2.85366345e-02,  1.40592782e-02, -1.45061286e-02,  1.95998233e-02,\n",
       "        1.57574266e-02, -2.47089677e-02, -1.88155826e-02,  8.66161361e-02,\n",
       "       -5.13059460e-02,  3.25835170e-03, -7.62728555e-03, -3.07095773e-03,\n",
       "       -1.56910811e-02,  2.60666106e-02,  1.94162242e-02,  3.77942510e-02,\n",
       "        4.15267423e-02,  3.01852692e-02,  2.34849323e-02, -6.71330243e-02,\n",
       "       -4.24184985e-02, -8.83028656e-03, -2.16664020e-02, -5.14039164e-03,\n",
       "       -1.62645169e-02,  2.92271022e-02,  5.42337634e-02,  2.48181410e-02],\n",
       "      dtype=float32)"
      ]
     },
     "execution_count": 36,
     "metadata": {},
     "output_type": "execute_result"
    }
   ],
   "execution_count": 36
  },
  {
   "metadata": {
    "ExecuteTime": {
     "end_time": "2025-10-25T11:37:33.281466Z",
     "start_time": "2025-10-25T11:37:33.279648Z"
    }
   },
   "cell_type": "code",
   "source": [
    "from rag.caching.embedding import EmbeddingCache\n",
    "\n",
    "emb_cache = EmbeddingCache(settings)"
   ],
   "id": "92d29091ac8fe962",
   "outputs": [],
   "execution_count": 37
  },
  {
   "metadata": {
    "ExecuteTime": {
     "end_time": "2025-10-25T11:37:33.325868Z",
     "start_time": "2025-10-25T11:37:33.322832Z"
    }
   },
   "cell_type": "code",
   "source": "text, emb",
   "id": "93c144d8c2973b4b",
   "outputs": [
    {
     "data": {
      "text/plain": [
       "('Heart attack',\n",
       " array([-3.75168514e-03, -2.89648026e-02,  1.80657189e-02,  4.23646681e-02,\n",
       "        -3.08388917e-05, -1.66336931e-02,  4.99123521e-02,  1.49727808e-02,\n",
       "        -2.99644587e-03,  2.55047507e-03, -2.90046744e-02, -3.91883962e-02,\n",
       "        -4.07115323e-03,  1.83803514e-02, -1.70085300e-02, -1.26297353e-02,\n",
       "         3.05437744e-02,  1.45214489e-02, -8.68621394e-02,  2.44982745e-02,\n",
       "        -2.05328688e-02,  2.15118676e-02, -2.58304831e-02, -5.13362065e-02,\n",
       "         3.22447196e-02, -8.17645621e-03, -3.39175500e-02, -2.78174561e-02,\n",
       "        -7.89445341e-02, -6.24098331e-02,  2.40402315e-02, -1.79199893e-02,\n",
       "         1.03727646e-01,  1.82189904e-02, -1.11121098e-02, -3.80058289e-02,\n",
       "        -4.24196906e-02,  6.24162033e-02, -2.93248962e-03,  9.66854021e-03,\n",
       "         2.88057942e-02,  1.54770724e-02, -4.39966749e-03, -5.37088029e-02,\n",
       "         6.80867210e-02,  4.81502339e-03, -3.39034162e-02, -5.26786083e-03,\n",
       "         1.78782463e-01, -3.58533636e-02, -6.60324246e-02,  2.39200499e-02,\n",
       "         5.47871254e-02, -2.23650094e-02,  6.64902106e-02, -9.84877795e-02,\n",
       "         3.34808715e-02, -2.10209806e-02,  4.12745029e-03,  4.38575037e-02,\n",
       "         3.37519050e-02,  3.17012556e-02, -1.36160031e-01,  4.98970114e-02,\n",
       "        -3.50385420e-02, -3.06344265e-03,  7.80686829e-03,  2.12403722e-02,\n",
       "         8.10061619e-02,  2.32187100e-02,  1.50066288e-02,  3.10949702e-02,\n",
       "         5.33138551e-02,  4.06760052e-02,  4.52653877e-02,  2.84059756e-02,\n",
       "        -1.32611953e-02, -3.45684364e-02,  4.64657284e-02, -1.64859369e-02,\n",
       "         8.99790786e-03, -5.16652726e-02, -5.28711639e-03, -2.42530033e-02,\n",
       "        -7.54617853e-03, -2.35648360e-02,  1.11486325e-02, -2.35104319e-02,\n",
       "        -1.69844497e-02,  4.21279110e-02, -2.28113867e-03, -5.55780604e-02,\n",
       "        -1.43142194e-02,  5.51713891e-02, -1.74332466e-02, -3.07059567e-03,\n",
       "         5.57298176e-02, -1.49507029e-02, -1.31613791e-01,  3.08714479e-01,\n",
       "        -2.17425777e-03,  1.53299542e-02, -5.43503650e-02,  4.43832949e-02,\n",
       "         7.88382962e-02, -3.24377306e-02,  2.11739950e-02, -7.28166327e-02,\n",
       "        -5.85361347e-02, -5.54417772e-03,  2.43901517e-02, -5.74565195e-02,\n",
       "        -1.56292040e-02, -1.40085090e-02,  2.79779192e-02,  6.30881339e-02,\n",
       "         4.43915911e-02, -2.32442152e-02, -1.28448429e-02, -6.65908400e-03,\n",
       "         5.30303968e-03,  7.11107219e-04, -6.18277257e-03,  1.25554521e-02,\n",
       "         2.24931873e-02, -2.91420389e-02, -8.92121345e-03,  1.13247737e-01,\n",
       "         4.61522713e-02, -3.05129755e-02,  7.59280697e-02,  1.51812471e-02,\n",
       "        -2.50919107e-02, -2.69990861e-02, -1.56858154e-02,  6.44452497e-03,\n",
       "         1.22933032e-03, -2.80354195e-03, -1.39887584e-02,  1.11424355e-02,\n",
       "         2.43414287e-02, -7.12428242e-02,  1.96159873e-02, -6.38233796e-02,\n",
       "        -6.97363913e-02,  1.15875758e-01,  4.46329415e-02,  5.50266914e-02,\n",
       "        -6.39328659e-02, -4.94518876e-02, -2.84572076e-02,  1.40551645e-02,\n",
       "        -3.55755389e-02,  8.45446140e-02, -3.64660025e-02,  7.55830761e-03,\n",
       "         2.55317725e-02,  9.47677530e-03,  3.83272977e-03, -7.69673586e-02,\n",
       "        -2.20725145e-02, -1.53243523e-02, -7.13758394e-02,  5.59908003e-02,\n",
       "         3.28149348e-02,  4.75939885e-02, -3.80218513e-02, -5.68081290e-02,\n",
       "         1.27947051e-02, -3.43585312e-02,  1.18938694e-02,  3.16408952e-03,\n",
       "         4.20645103e-02,  3.58020607e-03,  8.48630741e-02,  5.98139912e-02,\n",
       "         6.24777228e-02, -2.79621538e-02,  1.29401796e-02,  6.78011170e-03,\n",
       "         4.60684448e-02,  2.57240254e-02, -1.47790192e-02,  1.06562246e-02,\n",
       "        -4.07921523e-03, -1.86313950e-02, -2.20916402e-02, -9.63330455e-03,\n",
       "         1.74951423e-02,  3.97033840e-02, -3.92369367e-02,  5.87264169e-03,\n",
       "        -3.75487208e-02,  7.92312529e-03, -6.84248656e-02, -3.09393033e-02,\n",
       "        -6.60319179e-02, -1.67729445e-02, -2.07395349e-02, -9.63765103e-03,\n",
       "         8.55198428e-02, -6.58059642e-02, -1.52990017e-02, -2.17313282e-02,\n",
       "         1.50768310e-02, -1.56607032e-02, -5.09899110e-02, -2.42071822e-02,\n",
       "        -1.05518542e-01, -1.66579671e-02,  3.20989862e-02,  4.23280895e-02,\n",
       "         8.68693069e-02,  3.28555554e-02, -4.48416732e-02,  6.74269535e-03,\n",
       "        -2.03278707e-03,  6.11995645e-02, -2.10914761e-02,  5.07683717e-02,\n",
       "         6.86597303e-02, -4.60450239e-02,  3.90166864e-02, -2.89456159e-01,\n",
       "        -3.49748917e-02,  2.18144283e-02, -1.00687191e-01, -2.59696096e-02,\n",
       "        -1.85420103e-02,  1.81672908e-02, -2.46648248e-02,  6.01940509e-03,\n",
       "         3.01539395e-02,  5.38186822e-03,  1.84938535e-02, -6.56777024e-02,\n",
       "        -1.18188802e-02,  3.02873906e-02,  3.92380729e-02,  4.21980619e-02,\n",
       "        -2.41511259e-02, -5.47133125e-02,  2.21963115e-02, -1.35535095e-02,\n",
       "         4.86702146e-03, -3.30483094e-02, -5.27381226e-02,  5.86719811e-02,\n",
       "         4.61468399e-02,  2.18069926e-01,  4.63439152e-02, -5.68584315e-02,\n",
       "        -2.40338948e-02, -4.96871732e-02,  3.03490572e-02, -1.11245131e-02,\n",
       "        -1.18936822e-01,  2.64643021e-02, -6.51408806e-02,  4.17637974e-02,\n",
       "         2.51284260e-02, -7.21646622e-02, -2.17393972e-02, -1.05347522e-01,\n",
       "         5.01139201e-02,  4.34557535e-02, -2.03560479e-02, -1.35647808e-03,\n",
       "        -6.06530830e-02, -7.32025458e-03,  4.63723950e-02, -4.04975452e-02,\n",
       "         5.08275218e-02,  2.98515242e-02, -1.59462281e-02,  6.69550151e-02,\n",
       "         2.48895548e-02,  8.49947408e-02, -4.37855385e-02, -8.53926167e-02,\n",
       "         2.58584507e-02, -3.54622416e-02, -5.31498641e-02,  4.08519350e-04,\n",
       "        -5.12108067e-03,  5.65377958e-02, -6.07955754e-02,  6.07340736e-03,\n",
       "         3.72296870e-02, -5.62059367e-03,  2.40891464e-02,  1.10595347e-02,\n",
       "        -2.22212337e-02, -6.71119690e-02,  8.24558213e-02,  1.18664922e-02,\n",
       "        -5.94895482e-02,  7.78302103e-02,  2.77793799e-02,  5.12247998e-03,\n",
       "        -9.10788774e-02,  1.23237437e-02,  8.59648734e-03,  2.86159161e-02,\n",
       "        -9.06803757e-02, -1.88679844e-02,  2.33287252e-02,  1.61487367e-02,\n",
       "        -2.04601642e-02, -4.65254812e-03, -2.63274126e-02,  1.47085385e-02,\n",
       "        -3.92672755e-02,  2.41848957e-02, -3.78311649e-02, -4.14113253e-02,\n",
       "        -4.51235808e-02, -1.00110574e-02, -4.72092954e-03, -2.41993040e-01,\n",
       "        -2.55897129e-03,  1.86739750e-02,  3.13528627e-02, -3.27990809e-03,\n",
       "        -4.78835823e-03, -3.72577906e-02,  2.52641663e-02, -3.33602391e-02,\n",
       "         5.17580137e-02, -8.32601935e-02,  8.54714401e-03,  5.75854108e-02,\n",
       "         8.41272157e-03, -8.05976093e-02, -2.60702916e-04,  1.60896983e-02,\n",
       "        -1.24153700e-02,  3.73021252e-02,  5.81621155e-02, -1.32576050e-02,\n",
       "         6.09597340e-02,  1.39298499e-01,  2.41313837e-02, -1.75336152e-02,\n",
       "         9.80141480e-03,  1.17145181e-02,  4.68179546e-02, -2.21169852e-02,\n",
       "         2.32462659e-02,  2.55615097e-02, -3.51512544e-02,  2.34659072e-02,\n",
       "        -1.10260686e-02,  5.17219715e-02,  4.89400290e-02,  4.87612784e-02,\n",
       "         2.85366345e-02,  1.40592782e-02, -1.45061286e-02,  1.95998233e-02,\n",
       "         1.57574266e-02, -2.47089677e-02, -1.88155826e-02,  8.66161361e-02,\n",
       "        -5.13059460e-02,  3.25835170e-03, -7.62728555e-03, -3.07095773e-03,\n",
       "        -1.56910811e-02,  2.60666106e-02,  1.94162242e-02,  3.77942510e-02,\n",
       "         4.15267423e-02,  3.01852692e-02,  2.34849323e-02, -6.71330243e-02,\n",
       "        -4.24184985e-02, -8.83028656e-03, -2.16664020e-02, -5.14039164e-03,\n",
       "        -1.62645169e-02,  2.92271022e-02,  5.42337634e-02,  2.48181410e-02],\n",
       "       dtype=float32))"
      ]
     },
     "execution_count": 38,
     "metadata": {},
     "output_type": "execute_result"
    }
   ],
   "execution_count": 38
  },
  {
   "metadata": {
    "ExecuteTime": {
     "end_time": "2025-10-25T11:37:33.371001Z",
     "start_time": "2025-10-25T11:37:33.368473Z"
    }
   },
   "cell_type": "code",
   "source": "emb_cache.set(text, emb)",
   "id": "2267e7dc5daf2a9f",
   "outputs": [],
   "execution_count": 39
  },
  {
   "metadata": {
    "ExecuteTime": {
     "end_time": "2025-10-25T11:37:33.414648Z",
     "start_time": "2025-10-25T11:37:33.412269Z"
    }
   },
   "cell_type": "code",
   "source": "emb_cache.get(text).shape",
   "id": "4d124e689ce17af9",
   "outputs": [
    {
     "data": {
      "text/plain": [
       "(384,)"
      ]
     },
     "execution_count": 40,
     "metadata": {},
     "output_type": "execute_result"
    }
   ],
   "execution_count": 40
  },
  {
   "metadata": {
    "ExecuteTime": {
     "end_time": "2025-10-25T11:37:33.458185Z",
     "start_time": "2025-10-25T11:37:33.455893Z"
    }
   },
   "cell_type": "code",
   "source": "np.isclose(emb_cache.get(text), emb).all()",
   "id": "e39dc9e6798d0591",
   "outputs": [
    {
     "data": {
      "text/plain": [
       "np.True_"
      ]
     },
     "execution_count": 41,
     "metadata": {},
     "output_type": "execute_result"
    }
   ],
   "execution_count": 41
  },
  {
   "metadata": {
    "ExecuteTime": {
     "end_time": "2025-10-25T11:37:33.502387Z",
     "start_time": "2025-10-25T11:37:33.500332Z"
    }
   },
   "cell_type": "code",
   "source": [
    "text = \"\"\"In 1877, Dr Heinrich Koebner inflicted an experimental trauma on the uninvolved\n",
    "skin of a psoriatic patient. This resulted in the appearance of a typical\n",
    "psoriatic lesion at the site of trauma. This reaction, known as Koebner's\n",
    "phenomenon (KP), has subsequently been associated with several skin diseases.\n",
    "However, it has not been associated previously with necrobiosis lipoidica\n",
    "diabeticorum (NBL), a rare skin manifestation of diabetes mellitus. This report\n",
    "presents the unusual finding of NBL associated with KP in a patient with\n",
    "diabetes mellitus.\"\"\""
   ],
   "id": "ff07b9a4e3903502",
   "outputs": [],
   "execution_count": 42
  },
  {
   "metadata": {
    "ExecuteTime": {
     "end_time": "2025-10-25T11:37:33.562100Z",
     "start_time": "2025-10-25T11:37:33.544466Z"
    }
   },
   "cell_type": "code",
   "source": "embedder.embed_text(text).shape",
   "id": "19b5b2e1aa29dc9c",
   "outputs": [
    {
     "data": {
      "text/plain": [
       "(384,)"
      ]
     },
     "execution_count": 43,
     "metadata": {},
     "output_type": "execute_result"
    }
   ],
   "execution_count": 43
  },
  {
   "metadata": {
    "ExecuteTime": {
     "end_time": "2025-10-25T11:37:42.840644Z",
     "start_time": "2025-10-25T11:37:33.588649Z"
    }
   },
   "cell_type": "code",
   "source": "%timeit embedder.embed_text(text)",
   "id": "59b9fbba6f76b973",
   "outputs": [
    {
     "name": "stdout",
     "output_type": "stream",
     "text": [
      "11.4 ms ± 85.6 μs per loop (mean ± std. dev. of 7 runs, 100 loops each)\n"
     ]
    }
   ],
   "execution_count": 44
  },
  {
   "metadata": {
    "ExecuteTime": {
     "end_time": "2025-10-25T11:37:42.886331Z",
     "start_time": "2025-10-25T11:37:42.885027Z"
    }
   },
   "cell_type": "code",
   "source": "",
   "id": "7c06fb8b7b10967d",
   "outputs": [],
   "execution_count": null
  },
  {
   "metadata": {},
   "cell_type": "markdown",
   "source": "# Sematic cache",
   "id": "6f6c52b01e84a2d1"
  },
  {
   "metadata": {
    "ExecuteTime": {
     "end_time": "2025-10-25T11:40:47.500169Z",
     "start_time": "2025-10-25T11:40:47.461529Z"
    }
   },
   "cell_type": "code",
   "source": [
    "from langchain_core.embeddings import Embeddings\n",
    "from typing import List\n",
    "from langchain_redis import RedisSemanticCache\n",
    "from langchain.embeddings import HuggingFaceEmbeddings\n",
    "\n",
    "# embedder = HuggingFaceEmbeddings(model_name = settings.embedding_model)\n",
    "\n",
    "class LangChainEmbedderAdapter(Embeddings):\n",
    "  \"\"\"Adapter to make your BaseEmbedder work with LangChain\"\"\"\n",
    "\n",
    "  def __init__(self, base_embedder):\n",
    "      self.embedder = base_embedder\n",
    "\n",
    "  def embed_documents(self, texts: List[str]) -> List[List[float]]:\n",
    "      \"\"\"Embed multiple documents\"\"\"\n",
    "      embeddings = self.embedder.embed_texts(texts)  # Returns (n, dim) numpy array\n",
    "      return embeddings.tolist()  # Convert to list of lists\n",
    "\n",
    "  def embed_query(self, text: str) -> List[float]:\n",
    "      \"\"\"Embed a single query\"\"\"\n",
    "      embedding = self.embedder.embed_text(text)  # Returns (dim,) numpy array\n",
    "      return embedding.tolist()  # Convert to list\n",
    "\n",
    "sem_cache = RedisSemanticCache(\n",
    "    redis_url=settings.redis_url,\n",
    "    embeddings=LangChainEmbedderAdapter(embedder),\n",
    "    distance_threshold=0.2,\n",
    ")"
   ],
   "id": "1c9d082d0e2115c6",
   "outputs": [
    {
     "name": "stderr",
     "output_type": "stream",
     "text": [
      "Batches: 100%|██████████| 1/1 [00:00<00:00, 165.01it/s]"
     ]
    },
    {
     "name": "stdout",
     "output_type": "stream",
     "text": [
      "13:40:47 redisvl.index.index INFO   Index already exists, not overwriting.\n"
     ]
    },
    {
     "name": "stderr",
     "output_type": "stream",
     "text": [
      "\n"
     ]
    }
   ],
   "execution_count": 54
  },
  {
   "metadata": {
    "ExecuteTime": {
     "end_time": "2025-10-25T11:37:48.733413Z",
     "start_time": "2025-10-25T11:37:42.972902Z"
    }
   },
   "cell_type": "code",
   "source": [
    "from dotenv import load_dotenv\n",
    "\n",
    "from rag.config import settings, PROJECT_ROOT\n",
    "from rag.ingestion import create_chunker\n",
    "from rag.embeddings import create_embedder\n",
    "from rag.retrieval import create_reranker\n",
    "from rag.generation import create_llm\n",
    "from rag.storage import (\n",
    "    BaseDocumentStore,\n",
    "    BaseVectorStore,\n",
    "    Document,\n",
    "    SearchResult,\n",
    "    make_chunk_id,\n",
    "    parse_chunk_id,\n",
    "    InMemoryDocumentStore,\n",
    "    FAISSVectorStore, PostgresDocumentStore, PgvectorVectorStore,\n",
    ")\n",
    "\n",
    "from datasets import load_dataset, Dataset\n",
    "\n",
    "load_dotenv()\n",
    "\n",
    "embedder = create_embedder(settings)\n",
    "chunker = create_chunker(settings)\n",
    "reranker = create_reranker(settings)\n",
    "llm = create_llm(settings)"
   ],
   "id": "874f77b043fd3751",
   "outputs": [
    {
     "name": "stderr",
     "output_type": "stream",
     "text": [
      "Loading checkpoint shards: 100%|██████████| 4/4 [00:00<00:00, 297.37it/s]\n"
     ]
    }
   ],
   "execution_count": 46
  },
  {
   "metadata": {
    "ExecuteTime": {
     "end_time": "2025-10-25T11:37:48.796018Z",
     "start_time": "2025-10-25T11:37:48.781038Z"
    }
   },
   "cell_type": "code",
   "source": [
    "doc_store = PostgresDocumentStore(settings)\n",
    "vec_store = PgvectorVectorStore(settings)"
   ],
   "id": "c805a6bd2bfdb0cd",
   "outputs": [
    {
     "name": "stdout",
     "output_type": "stream",
     "text": [
      "[2025-10-25 13:37:48] [rag.storage.document_stores.postgres] [INFO] PostgresDocumentStore initialized\n",
      "[2025-10-25 13:37:48] [rag.storage.document_stores.postgres] [INFO] PostgresDocumentStore initialized\n",
      "[2025-10-25 13:37:48] [rag.storage.vector_stores.pgvector] [INFO] PgvectorVectorStore initialized (cosine distance)\n",
      "[2025-10-25 13:37:48] [rag.storage.vector_stores.pgvector] [INFO] PgvectorVectorStore initialized (cosine distance)\n"
     ]
    }
   ],
   "execution_count": 47
  },
  {
   "metadata": {
    "ExecuteTime": {
     "end_time": "2025-10-25T12:05:34.805449Z",
     "start_time": "2025-10-25T12:05:34.803542Z"
    }
   },
   "cell_type": "code",
   "source": [
    "question =  \"What causes heart attacks?\"\n",
    "question =  \"What is the reason of myocarditis?\""
   ],
   "id": "c612fb4493feae5b",
   "outputs": [],
   "execution_count": 94
  },
  {
   "metadata": {
    "ExecuteTime": {
     "end_time": "2025-10-25T12:05:39.983022Z",
     "start_time": "2025-10-25T12:05:35.141268Z"
    }
   },
   "cell_type": "code",
   "source": [
    "from rag.prompts import get_user_prompt, SYSTEM_PROMPT\n",
    "from langchain.schema import Generation\n",
    "\n",
    "llm_string = settings.llm_model + str(settings.llm_temperature)\n",
    "\n",
    "# 0. Check semanti cache first\n",
    "\n",
    "res = sem_cache.lookup(\n",
    "    prompt=question,\n",
    "    llm_string=llm_string,\n",
    ")\n",
    "\n",
    "if res is not None:\n",
    "    answer = res[0].text\n",
    "    print('Got from cache')\n",
    "\n",
    "# 1. Embed query\n",
    "q_emb = emb_cache.get(question)\n",
    "\n",
    "# 1.1 Cache query\n",
    "if q_emb is None:\n",
    "    q_emb = embedder.embed_text(question)\n",
    "    emb_cache.set(question, q_emb)\n",
    "\n",
    "# 2. Vector search\n",
    "search_results = vec_store.search(q_emb, settings.k)\n",
    "\n",
    "# 3. Retrieve full documents\n",
    "initial_docs = [doc_store.get_chunk(r.chunk_id) for r in search_results]\n",
    "\n",
    "# 4. Rerank and take top_k\n",
    "reranked_docs = reranker.rerank(question, initial_docs)[:settings.top_k]\n",
    "\n",
    "# 5. Format prompt\n",
    "prompt = get_user_prompt(question, reranked_docs)\n",
    "\n",
    "# 6. Generate answer\n",
    "answer = llm.generate(\n",
    "    prompt,\n",
    "    system_prompt=SYSTEM_PROMPT,\n",
    "    max_tokens=settings.llm_max_tokens,\n",
    "    temperature=settings.llm_temperature,\n",
    ")\n",
    "\n",
    "print(answer)"
   ],
   "id": "c08f036b5dbfd992",
   "outputs": [
    {
     "name": "stderr",
     "output_type": "stream",
     "text": [
      "Batches: 100%|██████████| 1/1 [00:00<00:00, 146.55it/s]\n",
      "Batches: 100%|██████████| 1/1 [00:00<00:00, 150.49it/s]\n",
      "Batches: 100%|██████████| 4/4 [00:00<00:00,  6.73it/s]\n"
     ]
    },
    {
     "name": "stdout",
     "output_type": "stream",
     "text": [
      "Myocarditis can be caused by various factors, including viral infections such as enteroviruses, adenoviruses, and herpes viruses [idx=18039618]. Additionally, it can be associated with inflammatory bowel disease (IBD) [idx=12603508], systemic lupus erythematosus (SLE) [idx=24268009], and autoimmune conditions like Behçet disease [idx=26740268].\n",
      "\n",
      "- Enteroviruses, adenoviruses, and herpes viruses are frequent causes of myocarditis and dilated cardiomyopathy [idx=18039618].\n",
      "- Myopericarditis is a rare extraintestinal complication of IBD, and recurrent episodes can be a sign of IBD [idx=12603508].\n",
      "- SLE can affect the heart, leading to myocarditis among other cardiac manifestations [idx=24268009].\n",
      "- Behçet disease can also lead to myocarditis, often alongside other systemic symptoms [idx=26740268].\n",
      "\n",
      "Citations: [idx=18039618], [idx=12603508], [idx=24268009], [idx=26740268]\n"
     ]
    }
   ],
   "execution_count": 95
  },
  {
   "metadata": {
    "ExecuteTime": {
     "end_time": "2025-10-25T11:40:55.700847Z",
     "start_time": "2025-10-25T11:40:55.688045Z"
    }
   },
   "cell_type": "code",
   "source": [
    "from langchain.schema import Generation\n",
    "llm_string = settings.llm_model + str(settings.llm_temperature)\n",
    "\n",
    "sem_cache.update(prompt=question, llm_string=llm_string, return_val=[Generation(text=answer)])"
   ],
   "id": "776cc4b1a8bd72c1",
   "outputs": [
    {
     "name": "stderr",
     "output_type": "stream",
     "text": [
      "Batches: 100%|██████████| 1/1 [00:00<00:00, 147.79it/s]\n"
     ]
    }
   ],
   "execution_count": 55
  },
  {
   "metadata": {
    "ExecuteTime": {
     "end_time": "2025-10-25T11:41:36.330108Z",
     "start_time": "2025-10-25T11:41:36.328008Z"
    }
   },
   "cell_type": "code",
   "source": "question",
   "id": "e9c4c69b4b09c490",
   "outputs": [
    {
     "data": {
      "text/plain": [
       "'What causes heart attacks?'"
      ]
     },
     "execution_count": 56,
     "metadata": {},
     "output_type": "execute_result"
    }
   ],
   "execution_count": 56
  },
  {
   "metadata": {},
   "cell_type": "code",
   "outputs": [],
   "execution_count": null,
   "source": "",
   "id": "d82229c439739677"
  },
  {
   "metadata": {
    "ExecuteTime": {
     "end_time": "2025-10-25T11:43:21.591616Z",
     "start_time": "2025-10-25T11:43:21.579159Z"
    }
   },
   "cell_type": "code",
   "source": [
    "res = sem_cache.lookup(prompt=\"What is the reason of heart attack?\", llm_string=llm_string)\n",
    "res"
   ],
   "id": "349dbd00335d1003",
   "outputs": [
    {
     "name": "stderr",
     "output_type": "stream",
     "text": [
      "Batches: 100%|██████████| 1/1 [00:00<00:00, 153.23it/s]\n"
     ]
    },
    {
     "data": {
      "text/plain": [
       "[Generation(text=\"Heart attacks, also known as myocardial infarctions, are primarily caused by the acute loss of a large number of myocardial cells due to blockages in the coronary arteries. This blockage leads to a lack of blood flow to the heart muscle, resulting in cell death. [idx=18620057#0]\\n\\n- The heart's limited regenerative capacity means that when cardiomyocytes die, it triggers a reparative response that often results in scar tissue formation and ventricular dilation. [idx=18620057#0]\\n\\nCitations: [idx=18620057#0]\")]"
      ]
     },
     "execution_count": 62,
     "metadata": {},
     "output_type": "execute_result"
    }
   ],
   "execution_count": 62
  },
  {
   "metadata": {},
   "cell_type": "code",
   "outputs": [],
   "execution_count": null,
   "source": "",
   "id": "96c54b23a78feddf"
  },
  {
   "metadata": {},
   "cell_type": "code",
   "outputs": [],
   "execution_count": null,
   "source": "",
   "id": "76a0b1d4c6fa78a8"
  },
  {
   "metadata": {
    "ExecuteTime": {
     "end_time": "2025-10-25T12:04:58.165318Z",
     "start_time": "2025-10-25T12:04:56.150335Z"
    }
   },
   "cell_type": "code",
   "source": "semantic_cache = SemanticCache(settings)",
   "id": "c47e298f26317aff",
   "outputs": [
    {
     "name": "stdout",
     "output_type": "stream",
     "text": [
      "14:04:56 sentence_transformers.SentenceTransformer INFO   Load pretrained SentenceTransformer: BAAI/bge-small-en-v1.5\n"
     ]
    },
    {
     "name": "stderr",
     "output_type": "stream",
     "text": [
      "Batches: 100%|██████████| 1/1 [00:00<00:00, 161.03it/s]"
     ]
    },
    {
     "name": "stdout",
     "output_type": "stream",
     "text": [
      "14:04:58 redisvl.index.index INFO   Index already exists, not overwriting.\n"
     ]
    },
    {
     "name": "stderr",
     "output_type": "stream",
     "text": [
      "\n"
     ]
    }
   ],
   "execution_count": 88
  },
  {
   "metadata": {
    "ExecuteTime": {
     "end_time": "2025-10-25T12:04:58.178036Z",
     "start_time": "2025-10-25T12:04:58.166922Z"
    }
   },
   "cell_type": "code",
   "source": "semantic_cache.get('Why heart attack happens?')",
   "id": "74e1b9c284e312e0",
   "outputs": [
    {
     "name": "stderr",
     "output_type": "stream",
     "text": [
      "Batches: 100%|██████████| 1/1 [00:00<00:00, 160.08it/s]\n"
     ]
    },
    {
     "data": {
      "text/plain": [
       "\"Heart attacks, also known as myocardial infarctions, are primarily caused by the acute loss of a large number of myocardial cells due to blockages in the coronary arteries. This blockage leads to a lack of blood flow to the heart muscle, resulting in cell death. [idx=18620057#0]\\n\\n- The heart's limited regenerative capacity means that when cardiomyocytes die, it triggers a reparative response that often results in scar tissue formation and ventricular dilation. [idx=18620057#0]\\n\\nCitations: [idx=18620057#0]\""
      ]
     },
     "execution_count": 89,
     "metadata": {},
     "output_type": "execute_result"
    }
   ],
   "execution_count": 89
  },
  {
   "metadata": {
    "ExecuteTime": {
     "end_time": "2025-10-25T12:05:02.566997Z",
     "start_time": "2025-10-25T12:05:02.554217Z"
    }
   },
   "cell_type": "code",
   "source": "semantic_cache.get('What is the primary reason of heart attack?')",
   "id": "850bb61873d70996",
   "outputs": [
    {
     "name": "stderr",
     "output_type": "stream",
     "text": [
      "Batches: 100%|██████████| 1/1 [00:00<00:00, 142.58it/s]\n"
     ]
    },
    {
     "data": {
      "text/plain": [
       "\"Heart attacks, also known as myocardial infarctions, are primarily caused by the acute loss of a large number of myocardial cells due to blockages in the coronary arteries. This blockage leads to a lack of blood flow to the heart muscle, resulting in cell death. [idx=18620057#0]\\n\\n- The heart's limited regenerative capacity means that when cardiomyocytes die, it triggers a reparative response that often results in scar tissue formation and ventricular dilation. [idx=18620057#0]\\n\\nCitations: [idx=18620057#0]\""
      ]
     },
     "execution_count": 90,
     "metadata": {},
     "output_type": "execute_result"
    }
   ],
   "execution_count": 90
  },
  {
   "metadata": {
    "ExecuteTime": {
     "end_time": "2025-10-25T12:05:04.093809Z",
     "start_time": "2025-10-25T12:05:04.079716Z"
    }
   },
   "cell_type": "code",
   "source": "semantic_cache.get('What is the secondary reason of heart attack?')",
   "id": "f6f60fce693ad27a",
   "outputs": [
    {
     "name": "stderr",
     "output_type": "stream",
     "text": [
      "Batches: 100%|██████████| 1/1 [00:00<00:00, 144.40it/s]\n"
     ]
    },
    {
     "data": {
      "text/plain": [
       "\"Heart attacks, also known as myocardial infarctions, are primarily caused by the acute loss of a large number of myocardial cells due to blockages in the coronary arteries. This blockage leads to a lack of blood flow to the heart muscle, resulting in cell death. [idx=18620057#0]\\n\\n- The heart's limited regenerative capacity means that when cardiomyocytes die, it triggers a reparative response that often results in scar tissue formation and ventricular dilation. [idx=18620057#0]\\n\\nCitations: [idx=18620057#0]\""
      ]
     },
     "execution_count": 91,
     "metadata": {},
     "output_type": "execute_result"
    }
   ],
   "execution_count": 91
  },
  {
   "metadata": {
    "ExecuteTime": {
     "end_time": "2025-10-25T12:05:05.842484Z",
     "start_time": "2025-10-25T12:05:05.830524Z"
    }
   },
   "cell_type": "code",
   "source": "semantic_cache.get('What is the reason of myocarditis?')",
   "id": "d5f549af1de196f0",
   "outputs": [
    {
     "name": "stderr",
     "output_type": "stream",
     "text": [
      "Batches: 100%|██████████| 1/1 [00:00<00:00, 159.33it/s]\n"
     ]
    }
   ],
   "execution_count": 92
  },
  {
   "metadata": {
    "ExecuteTime": {
     "end_time": "2025-10-25T11:58:36.781362Z",
     "start_time": "2025-10-25T11:58:36.761642Z"
    }
   },
   "cell_type": "code",
   "source": [
    "def cosine_similarity(a: str, b: str) -> float:\n",
    "    emb1 = embedder.embed_text(a)\n",
    "    emb2 = embedder.embed_text(b)\n",
    "    return cos_sim(emb1, emb2).flatten()\n",
    "\n",
    "cosine_similarity('What is the reason of myocarditis?', \"What causes heart attacks?\")"
   ],
   "id": "88ceac4f149b0934",
   "outputs": [
    {
     "name": "stderr",
     "output_type": "stream",
     "text": [
      "Batches: 100%|██████████| 1/1 [00:00<00:00, 150.85it/s]\n",
      "Batches: 100%|██████████| 1/1 [00:00<00:00, 184.71it/s]\n"
     ]
    },
    {
     "data": {
      "text/plain": [
       "tensor([0.7841])"
      ]
     },
     "execution_count": 85,
     "metadata": {},
     "output_type": "execute_result"
    }
   ],
   "execution_count": 85
  },
  {
   "metadata": {
    "ExecuteTime": {
     "end_time": "2025-10-25T11:58:59.008786Z",
     "start_time": "2025-10-25T11:58:58.991854Z"
    }
   },
   "cell_type": "code",
   "source": "cosine_similarity('What is the reason of myocarditis?', \"What causes heart failures?\")",
   "id": "407dc9d3eb644428",
   "outputs": [
    {
     "name": "stderr",
     "output_type": "stream",
     "text": [
      "Batches: 100%|██████████| 1/1 [00:00<00:00, 166.71it/s]\n",
      "Batches: 100%|██████████| 1/1 [00:00<00:00, 209.53it/s]\n"
     ]
    },
    {
     "data": {
      "text/plain": [
       "tensor([0.7626])"
      ]
     },
     "execution_count": 86,
     "metadata": {},
     "output_type": "execute_result"
    }
   ],
   "execution_count": 86
  },
  {
   "metadata": {
    "ExecuteTime": {
     "end_time": "2025-10-25T11:59:19.798086Z",
     "start_time": "2025-10-25T11:59:19.780404Z"
    }
   },
   "cell_type": "code",
   "source": "cosine_similarity(\"What causes heart attacks?\", \"What causes heart failures?\")",
   "id": "bf9c8eae4be9018b",
   "outputs": [
    {
     "name": "stderr",
     "output_type": "stream",
     "text": [
      "Batches: 100%|██████████| 1/1 [00:00<00:00, 172.31it/s]\n",
      "Batches: 100%|██████████| 1/1 [00:00<00:00, 198.07it/s]\n"
     ]
    },
    {
     "data": {
      "text/plain": [
       "tensor([0.8505])"
      ]
     },
     "execution_count": 87,
     "metadata": {},
     "output_type": "execute_result"
    }
   ],
   "execution_count": 87
  },
  {
   "metadata": {},
   "cell_type": "code",
   "outputs": [],
   "execution_count": null,
   "source": "",
   "id": "cac4984ac000bd91"
  }
 ],
 "metadata": {
  "kernelspec": {
   "display_name": "Python 3",
   "language": "python",
   "name": "python3"
  },
  "language_info": {
   "codemirror_mode": {
    "name": "ipython",
    "version": 2
   },
   "file_extension": ".py",
   "mimetype": "text/x-python",
   "name": "python",
   "nbconvert_exporter": "python",
   "pygments_lexer": "ipython2",
   "version": "2.7.6"
  }
 },
 "nbformat": 4,
 "nbformat_minor": 5
}
