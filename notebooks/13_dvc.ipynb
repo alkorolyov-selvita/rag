{
 "cells": [
  {
   "cell_type": "code",
   "id": "initial_id",
   "metadata": {
    "collapsed": true,
    "ExecuteTime": {
     "end_time": "2025-10-26T05:00:58.931369Z",
     "start_time": "2025-10-26T05:00:57.738303Z"
    }
   },
   "source": [
    "from rag.config import PROJECT_ROOT\n",
    "from datasets import load_dataset, load_from_disk\n",
    "\n",
    "ds = load_dataset(\"rag-datasets/rag-mini-bioasq\", 'text-corpus', split='passages')\n",
    "ds.save_to_disk(PROJECT_ROOT / 'data' / 'rag-mini-bioasq')"
   ],
   "execution_count": 9,
   "outputs": [
    {
     "name": "stderr",
     "output_type": "stream",
     "text": [
      "Saving the dataset (1/1 shards): 100%|██████████| 40221/40221 [00:00<00:00, 1333315.69 examples/s]\n"
     ]
    }
   ]
  },
  {
   "metadata": {
    "ExecuteTime": {
     "end_time": "2025-10-26T05:01:05.290100Z",
     "start_time": "2025-10-26T05:01:05.284668Z"
    }
   },
   "cell_type": "code",
   "source": [
    "ds = load_from_disk(PROJECT_ROOT / 'data' / 'rag-mini-bioasq')\n",
    "ds"
   ],
   "id": "d65ee27717a9fc67",
   "outputs": [
    {
     "data": {
      "text/plain": [
       "Dataset({\n",
       "    features: ['passage', 'id'],\n",
       "    num_rows: 40221\n",
       "})"
      ]
     },
     "execution_count": 11,
     "metadata": {},
     "output_type": "execute_result"
    }
   ],
   "execution_count": 11
  },
  {
   "metadata": {
    "ExecuteTime": {
     "end_time": "2025-10-26T05:27:49.151596Z",
     "start_time": "2025-10-26T05:27:47.530157Z"
    }
   },
   "cell_type": "code",
   "source": "ds = load_dataset(\"rag-datasets/rag-mini-bioasq\", \"question-answer-passages\", split='test')",
   "id": "e9101c5c19b814ca",
   "outputs": [],
   "execution_count": 12
  },
  {
   "metadata": {
    "ExecuteTime": {
     "end_time": "2025-10-26T05:29:11.152109Z",
     "start_time": "2025-10-26T05:29:11.145766Z"
    }
   },
   "cell_type": "code",
   "source": "ds.save_to_disk(PROJECT_ROOT / 'data' / 'rag-mini-bioasq-qrels')",
   "id": "4f42d572dfdfc9a5",
   "outputs": [
    {
     "name": "stderr",
     "output_type": "stream",
     "text": [
      "Saving the dataset (1/1 shards): 100%|██████████| 4719/4719 [00:00<00:00, 1540904.68 examples/s]\n"
     ]
    }
   ],
   "execution_count": 13
  },
  {
   "metadata": {},
   "cell_type": "code",
   "outputs": [],
   "execution_count": null,
   "source": "",
   "id": "4016d205f8288017"
  }
 ],
 "metadata": {
  "kernelspec": {
   "display_name": "Python 3",
   "language": "python",
   "name": "python3"
  },
  "language_info": {
   "codemirror_mode": {
    "name": "ipython",
    "version": 2
   },
   "file_extension": ".py",
   "mimetype": "text/x-python",
   "name": "python",
   "nbconvert_exporter": "python",
   "pygments_lexer": "ipython2",
   "version": "2.7.6"
  }
 },
 "nbformat": 4,
 "nbformat_minor": 5
}
