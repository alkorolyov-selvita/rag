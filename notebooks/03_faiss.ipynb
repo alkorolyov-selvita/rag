{
 "cells": [
  {
   "cell_type": "code",
   "id": "initial_id",
   "metadata": {
    "collapsed": true,
    "ExecuteTime": {
     "end_time": "2025-10-12T16:17:00.467407Z",
     "start_time": "2025-10-12T16:16:56.811776Z"
    }
   },
   "source": [
    "%load_ext autoreload\n",
    "%autoreload 2\n",
    "\n",
    "import faiss\n",
    "import pandas as pd\n",
    "from datasets import load_dataset\n",
    "\n",
    "from rag.embeddings import create_embedder\n",
    "\n",
    "ds = load_dataset(\"rag-datasets/rag-mini-bioasq\", \"text-corpus\")['passages']\n",
    "ds"
   ],
   "outputs": [
    {
     "name": "stderr",
     "output_type": "stream",
     "text": [
      "/home/ergot/projects/rag/.venv/lib/python3.12/site-packages/tqdm/auto.py:21: TqdmWarning: IProgress not found. Please update jupyter and ipywidgets. See https://ipywidgets.readthedocs.io/en/stable/user_install.html\n",
      "  from .autonotebook import tqdm as notebook_tqdm\n"
     ]
    },
    {
     "data": {
      "text/plain": [
       "Dataset({\n",
       "    features: ['passage', 'id'],\n",
       "    num_rows: 40221\n",
       "})"
      ]
     },
     "execution_count": 1,
     "metadata": {},
     "output_type": "execute_result"
    }
   ],
   "execution_count": 1
  },
  {
   "metadata": {
    "ExecuteTime": {
     "end_time": "2025-10-12T16:49:42.983569Z",
     "start_time": "2025-10-12T16:49:42.964887Z"
    }
   },
   "cell_type": "code",
   "source": [
    "from rag.utils import chunked\n",
    "\n",
    "for batch in chunked([1, 2, 3, 4], size=2):\n",
    "    print(batch)"
   ],
   "id": "3d0a5d8238c75f62",
   "outputs": [
    {
     "name": "stdout",
     "output_type": "stream",
     "text": [
      "[1, 2]\n",
      "[3, 4]\n"
     ]
    }
   ],
   "execution_count": 27
  },
  {
   "metadata": {
    "ExecuteTime": {
     "end_time": "2025-10-12T16:17:00.486625Z",
     "start_time": "2025-10-12T16:17:00.469276Z"
    }
   },
   "cell_type": "code",
   "source": "print(ds[0]['passage'])",
   "id": "c3413de6d0521420",
   "outputs": [
    {
     "name": "stdout",
     "output_type": "stream",
     "text": [
      "New data on viruses isolated from patients with subacute thyroiditis de Quervain \n",
      "are reported. Characteristic morphological, cytological, some physico-chemical \n",
      "and biological features of the isolated viruses are described. A possible role \n",
      "of these viruses in human and animal health disorders is discussed. The isolated \n",
      "viruses remain unclassified so far.\n"
     ]
    }
   ],
   "execution_count": 2
  },
  {
   "metadata": {
    "ExecuteTime": {
     "end_time": "2025-10-12T16:17:01.619094Z",
     "start_time": "2025-10-12T16:17:00.511045Z"
    }
   },
   "cell_type": "code",
   "source": [
    "test_ds = load_dataset(\"rag-datasets/rag-mini-bioasq\", \"question-answer-passages\")['test']\n",
    "test_ds"
   ],
   "id": "79734899637c46e4",
   "outputs": [
    {
     "data": {
      "text/plain": [
       "Dataset({\n",
       "    features: ['question', 'answer', 'relevant_passage_ids', 'id'],\n",
       "    num_rows: 4719\n",
       "})"
      ]
     },
     "execution_count": 3,
     "metadata": {},
     "output_type": "execute_result"
    }
   ],
   "execution_count": 3
  },
  {
   "metadata": {
    "ExecuteTime": {
     "end_time": "2025-10-12T16:17:01.679008Z",
     "start_time": "2025-10-12T16:17:01.662857Z"
    }
   },
   "cell_type": "code",
   "source": "test_ds[0]",
   "id": "5f5ac6bd55a3305b",
   "outputs": [
    {
     "data": {
      "text/plain": [
       "{'question': 'Is Hirschsprung disease a mendelian or a multifactorial disorder?',\n",
       " 'answer': \"Coding sequence mutations in RET, GDNF, EDNRB, EDN3, and SOX10 are involved in the development of Hirschsprung disease. The majority of these genes was shown to be related to Mendelian syndromic forms of Hirschsprung's disease, whereas the non-Mendelian inheritance of sporadic non-syndromic Hirschsprung disease proved to be complex; involvement of multiple loci was demonstrated in a multiplicative model.\",\n",
       " 'relevant_passage_ids': '[20598273, 6650562, 15829955, 15617541, 23001136, 8896569, 21995290, 12239580, 15858239]',\n",
       " 'id': 0}"
      ]
     },
     "execution_count": 4,
     "metadata": {},
     "output_type": "execute_result"
    }
   ],
   "execution_count": 4
  },
  {
   "metadata": {
    "ExecuteTime": {
     "end_time": "2025-10-12T16:17:01.744297Z",
     "start_time": "2025-10-12T16:17:01.706154Z"
    }
   },
   "cell_type": "code",
   "source": "pd.DataFrame.from_dict(ds[:5])",
   "id": "9ca7bbde57af5955",
   "outputs": [
    {
     "data": {
      "text/plain": [
       "                                             passage     id\n",
       "0  New data on viruses isolated from patients wit...   9797\n",
       "1  We describe an improved method for detecting d...  11906\n",
       "2  We have studied the effects of curare on respo...  16083\n",
       "3  Kinetic and electrophoretic properties of 230-...  23188\n",
       "4  Male Wistar specific-pathogen-free rats aged 2...  23469"
      ],
      "text/html": [
       "<div>\n",
       "<style scoped>\n",
       "    .dataframe tbody tr th:only-of-type {\n",
       "        vertical-align: middle;\n",
       "    }\n",
       "\n",
       "    .dataframe tbody tr th {\n",
       "        vertical-align: top;\n",
       "    }\n",
       "\n",
       "    .dataframe thead th {\n",
       "        text-align: right;\n",
       "    }\n",
       "</style>\n",
       "<table border=\"1\" class=\"dataframe\">\n",
       "  <thead>\n",
       "    <tr style=\"text-align: right;\">\n",
       "      <th></th>\n",
       "      <th>passage</th>\n",
       "      <th>id</th>\n",
       "    </tr>\n",
       "  </thead>\n",
       "  <tbody>\n",
       "    <tr>\n",
       "      <th>0</th>\n",
       "      <td>New data on viruses isolated from patients wit...</td>\n",
       "      <td>9797</td>\n",
       "    </tr>\n",
       "    <tr>\n",
       "      <th>1</th>\n",
       "      <td>We describe an improved method for detecting d...</td>\n",
       "      <td>11906</td>\n",
       "    </tr>\n",
       "    <tr>\n",
       "      <th>2</th>\n",
       "      <td>We have studied the effects of curare on respo...</td>\n",
       "      <td>16083</td>\n",
       "    </tr>\n",
       "    <tr>\n",
       "      <th>3</th>\n",
       "      <td>Kinetic and electrophoretic properties of 230-...</td>\n",
       "      <td>23188</td>\n",
       "    </tr>\n",
       "    <tr>\n",
       "      <th>4</th>\n",
       "      <td>Male Wistar specific-pathogen-free rats aged 2...</td>\n",
       "      <td>23469</td>\n",
       "    </tr>\n",
       "  </tbody>\n",
       "</table>\n",
       "</div>"
      ]
     },
     "execution_count": 5,
     "metadata": {},
     "output_type": "execute_result"
    }
   ],
   "execution_count": 5
  },
  {
   "metadata": {
    "ExecuteTime": {
     "end_time": "2025-10-12T16:19:19.643882Z",
     "start_time": "2025-10-12T16:19:17.655330Z"
    }
   },
   "cell_type": "code",
   "source": [
    "from rag.embeddings import create_embedder\n",
    "from rag.config import settings\n",
    "\n",
    "embedder = create_embedder(settings)\n",
    "embedder"
   ],
   "id": "3a59c81b43863174",
   "outputs": [
    {
     "data": {
      "text/plain": [
       "LocalEmbedder(\"all-MiniLM-L6-v2\", dim=384)"
      ]
     },
     "execution_count": 9,
     "metadata": {},
     "output_type": "execute_result"
    }
   ],
   "execution_count": 9
  },
  {
   "metadata": {
    "ExecuteTime": {
     "end_time": "2025-10-12T16:19:25.793446Z",
     "start_time": "2025-10-12T16:19:25.777868Z"
    }
   },
   "cell_type": "code",
   "source": [
    "def embed(batch, column):\n",
    "    embs = embedder.embed_batch(batch[column])\n",
    "    return {'embedding': embs}"
   ],
   "id": "7b7aedc2c54b2169",
   "outputs": [],
   "execution_count": 10
  },
  {
   "metadata": {
    "ExecuteTime": {
     "end_time": "2025-10-12T16:22:58.984444Z",
     "start_time": "2025-10-12T16:19:28.893346Z"
    }
   },
   "cell_type": "code",
   "source": [
    "ds = ds.map(embed, batched=True, fn_kwargs={'column': 'passage'}, load_from_cache_file=True)\n",
    "ds"
   ],
   "id": "ea0858ffb57ed275",
   "outputs": [
    {
     "name": "stderr",
     "output_type": "stream",
     "text": [
      "Map: 100%|██████████| 40221/40221 [03:22<00:00, 198.62 examples/s]\n"
     ]
    },
    {
     "data": {
      "text/plain": [
       "Dataset({\n",
       "    features: ['passage', 'id', 'embedding'],\n",
       "    num_rows: 40221\n",
       "})"
      ]
     },
     "execution_count": 11,
     "metadata": {},
     "output_type": "execute_result"
    }
   ],
   "execution_count": 11
  },
  {
   "metadata": {
    "ExecuteTime": {
     "end_time": "2025-10-12T16:02:03.316959Z",
     "start_time": "2025-10-12T16:02:03.261674Z"
    }
   },
   "cell_type": "code",
   "source": [
    "ds = ds.add_faiss_index(\n",
    "    column='embedding',\n",
    "    string_factory='Flat',\n",
    "    metric_type=faiss.METRIC_INNER_PRODUCT,\n",
    ")\n",
    "ds"
   ],
   "id": "c54a80056086f695",
   "outputs": [
    {
     "name": "stderr",
     "output_type": "stream",
     "text": [
      "100%|██████████| 41/41 [00:00<00:00, 834.52it/s]\n"
     ]
    },
    {
     "data": {
      "text/plain": [
       "Dataset({\n",
       "    features: ['passage', 'id', 'embedding'],\n",
       "    num_rows: 40221\n",
       "})"
      ]
     },
     "execution_count": 24,
     "metadata": {},
     "output_type": "execute_result"
    }
   ],
   "execution_count": 24
  },
  {
   "metadata": {},
   "cell_type": "markdown",
   "source": "# Embed questions",
   "id": "6f4b7d9f67eb5890"
  },
  {
   "metadata": {
    "ExecuteTime": {
     "end_time": "2025-10-12T16:30:50.684912Z",
     "start_time": "2025-10-12T16:30:39.445526Z"
    }
   },
   "cell_type": "code",
   "source": [
    "test_ds = test_ds.map(embed, batched=True, fn_kwargs={'column': 'question'}, load_from_cache_file=True)\n",
    "test_ds"
   ],
   "id": "d6ff99c0cf2d9208",
   "outputs": [
    {
     "name": "stderr",
     "output_type": "stream",
     "text": [
      "Map: 100%|██████████| 4719/4719 [00:03<00:00, 1563.26 examples/s]\n"
     ]
    },
    {
     "data": {
      "text/plain": [
       "Dataset({\n",
       "    features: ['question', 'answer', 'relevant_passage_ids', 'id', 'embedding'],\n",
       "    num_rows: 4719\n",
       "})"
      ]
     },
     "execution_count": 20,
     "metadata": {},
     "output_type": "execute_result"
    }
   ],
   "execution_count": 20
  },
  {
   "metadata": {
    "ExecuteTime": {
     "end_time": "2025-10-12T15:16:21.482198Z",
     "start_time": "2025-10-12T15:16:21.479057Z"
    }
   },
   "cell_type": "code",
   "source": "test_ds['embedding'][0]",
   "id": "c41839ed1915920e",
   "outputs": [
    {
     "data": {
      "text/plain": [
       "[0.07215375453233719,\n",
       " -0.016066282987594604,\n",
       " -0.0032892690505832434,\n",
       " 0.04249546304345131,\n",
       " -0.07963531464338303,\n",
       " 0.00860125944018364,\n",
       " -0.03193581849336624,\n",
       " 0.008533375337719917,\n",
       " -0.03716431185603142,\n",
       " 0.007979831658303738,\n",
       " -0.03151911124587059,\n",
       " 0.022167010232806206,\n",
       " -0.09924126416444778,\n",
       " 0.04778265580534935,\n",
       " -0.11697079241275787,\n",
       " -0.02087186463177204,\n",
       " -0.12253177165985107,\n",
       " -0.021098876371979713,\n",
       " -0.015072673559188843,\n",
       " 0.042420029640197754,\n",
       " 0.0001467171823605895,\n",
       " -0.03716767206788063,\n",
       " 0.0016443022759631276,\n",
       " -0.02426200732588768,\n",
       " -0.047754351049661636,\n",
       " -0.07843972742557526,\n",
       " -0.029823824763298035,\n",
       " -0.014371898025274277,\n",
       " -0.007594732567667961,\n",
       " 0.030507974326610565,\n",
       " -0.0160763431340456,\n",
       " -4.933291347697377e-05,\n",
       " -0.0009512815740890801,\n",
       " 0.04093099758028984,\n",
       " 0.029748782515525818,\n",
       " 0.04580683633685112,\n",
       " 0.049364253878593445,\n",
       " -0.05096195265650749,\n",
       " -0.08573810011148453,\n",
       " 0.07842497527599335,\n",
       " 0.010967549867928028,\n",
       " -0.02801661565899849,\n",
       " -0.0022133474703878164,\n",
       " 0.04701764136552811,\n",
       " -0.025822710245847702,\n",
       " 0.012228915467858315,\n",
       " -0.06832730025053024,\n",
       " -0.003095834981650114,\n",
       " 0.0006032797391526401,\n",
       " 0.05440131202340126,\n",
       " -0.012792772613465786,\n",
       " -0.14067105948925018,\n",
       " 0.04149717837572098,\n",
       " 0.033125367015600204,\n",
       " 0.049642499536275864,\n",
       " 0.007731076795607805,\n",
       " -0.00799542386084795,\n",
       " -0.0243529099971056,\n",
       " -0.03326883912086487,\n",
       " -0.0007604523561894894,\n",
       " 0.013978932984173298,\n",
       " -0.032899774610996246,\n",
       " -0.03632400929927826,\n",
       " 0.03753650188446045,\n",
       " 0.08992113918066025,\n",
       " 0.0714765340089798,\n",
       " -0.028208481147885323,\n",
       " -0.07529191672801971,\n",
       " -0.0034526893869042397,\n",
       " 0.021603412926197052,\n",
       " 0.10307091474533081,\n",
       " -0.06360742449760437,\n",
       " -0.012618696317076683,\n",
       " 0.06690987199544907,\n",
       " 0.0605795793235302,\n",
       " -0.046251364052295685,\n",
       " -0.038490425795316696,\n",
       " -0.09167858213186264,\n",
       " 0.048309408128261566,\n",
       " -0.0029687960632145405,\n",
       " -0.01674570143222809,\n",
       " 0.11139749735593796,\n",
       " -0.049476929008960724,\n",
       " -0.00319534819573164,\n",
       " 0.05278154835104942,\n",
       " -0.01148761436343193,\n",
       " -0.034577980637550354,\n",
       " -0.03278755396604538,\n",
       " -0.06052573025226593,\n",
       " 0.049252770841121674,\n",
       " -0.06572677940130234,\n",
       " -0.048994362354278564,\n",
       " -0.04704985395073891,\n",
       " -0.007881497964262962,\n",
       " -0.13441550731658936,\n",
       " 0.033767037093639374,\n",
       " 0.014774611219763756,\n",
       " -0.004299656488001347,\n",
       " -0.03693901374936104,\n",
       " -0.08313903212547302,\n",
       " -0.050774380564689636,\n",
       " -0.04597105085849762,\n",
       " 0.13279643654823303,\n",
       " 0.09460253268480301,\n",
       " -0.032067734748125076,\n",
       " -0.02157483622431755,\n",
       " -0.05031483620405197,\n",
       " 0.01926416903734207,\n",
       " -0.026781372725963593,\n",
       " -0.05065527558326721,\n",
       " -0.0314214788377285,\n",
       " 0.1082904189825058,\n",
       " 0.07011207193136215,\n",
       " 0.054460927844047546,\n",
       " 0.041532598435878754,\n",
       " -0.027827663347125053,\n",
       " -0.017631590366363525,\n",
       " -0.045939330011606216,\n",
       " 0.06776686757802963,\n",
       " 0.05371534451842308,\n",
       " -0.025841984897851944,\n",
       " 0.034493934363126755,\n",
       " 0.055052902549505234,\n",
       " -0.017722610384225845,\n",
       " -0.06596875190734863,\n",
       " 0.006695902906358242,\n",
       " -0.15309160947799683,\n",
       " -1.5218490776817705e-33,\n",
       " -0.02524648606777191,\n",
       " -0.03220649063587189,\n",
       " 0.05113627761602402,\n",
       " 0.045434676110744476,\n",
       " 0.006456596311181784,\n",
       " 0.04756753146648407,\n",
       " -0.04691831022500992,\n",
       " -0.06161976605653763,\n",
       " 0.037107255309820175,\n",
       " -0.05232538655400276,\n",
       " 0.042561352252960205,\n",
       " -0.04946032539010048,\n",
       " 0.05044761300086975,\n",
       " 0.007545513566583395,\n",
       " -0.02927272953093052,\n",
       " 0.007553380448371172,\n",
       " -0.023299377411603928,\n",
       " 0.04586184397339821,\n",
       " -0.06991183757781982,\n",
       " 0.07101472467184067,\n",
       " 0.022161373868584633,\n",
       " 0.12815316021442413,\n",
       " -0.05889745056629181,\n",
       " -0.0825289785861969,\n",
       " 0.03091338649392128,\n",
       " -0.07334430515766144,\n",
       " -0.05761566013097763,\n",
       " -0.0027522696182131767,\n",
       " 0.05407281592488289,\n",
       " 0.02823983132839203,\n",
       " 0.03247920423746109,\n",
       " 0.05589289218187332,\n",
       " -0.10121381282806396,\n",
       " -0.012140091508626938,\n",
       " 0.004631918389350176,\n",
       " 0.020911894738674164,\n",
       " 0.02837997116148472,\n",
       " -0.01825854554772377,\n",
       " 0.028478430584073067,\n",
       " -0.0034930077381432056,\n",
       " -0.041940268129110336,\n",
       " -0.07302942872047424,\n",
       " -0.035090409219264984,\n",
       " -0.03252550959587097,\n",
       " 0.03216029703617096,\n",
       " 0.012085901573300362,\n",
       " 0.03316056728363037,\n",
       " 0.010670630261301994,\n",
       " -0.035258736461400986,\n",
       " -0.0525997094810009,\n",
       " 0.07700522243976593,\n",
       " 0.00565647566691041,\n",
       " 0.022692574188113213,\n",
       " -0.07540105283260345,\n",
       " 0.05617649108171463,\n",
       " 0.0027039332780987024,\n",
       " 0.001300422358326614,\n",
       " -0.04835546016693115,\n",
       " 0.026623249053955078,\n",
       " 0.06976040452718735,\n",
       " 0.054379746317863464,\n",
       " 0.12004901468753815,\n",
       " -0.01623760163784027,\n",
       " 0.026694197207689285,\n",
       " 0.021318379789590836,\n",
       " -0.10147033631801605,\n",
       " 0.008843543939292431,\n",
       " -0.021187113597989082,\n",
       " -0.06880350410938263,\n",
       " 0.06481021642684937,\n",
       " -0.007357337046414614,\n",
       " -0.01676633395254612,\n",
       " 0.04062158986926079,\n",
       " 0.03127991780638695,\n",
       " 0.00197948538698256,\n",
       " -0.056850615888834,\n",
       " -0.027017200365662575,\n",
       " 0.1255262792110443,\n",
       " -0.08127515763044357,\n",
       " 0.054993387311697006,\n",
       " -0.029872920364141464,\n",
       " -0.04450586438179016,\n",
       " 0.029205618426203728,\n",
       " -0.01497745979577303,\n",
       " -0.03254150226712227,\n",
       " -0.009206498041749,\n",
       " 0.007911312393844128,\n",
       " 0.03640959784388542,\n",
       " -0.033828843384981155,\n",
       " 0.04321185126900673,\n",
       " 0.1060643419623375,\n",
       " 0.0005870014429092407,\n",
       " 0.024747047573328018,\n",
       " 0.020634781569242477,\n",
       " -0.06695101410150528,\n",
       " -1.0202881378824591e-33,\n",
       " -0.04119642823934555,\n",
       " -0.042123984545469284,\n",
       " 0.03429527208209038,\n",
       " -0.04983338713645935,\n",
       " 0.00943267997354269,\n",
       " 0.03858448937535286,\n",
       " 0.036334678530693054,\n",
       " 0.04884131997823715,\n",
       " 0.005374355707317591,\n",
       " -0.023106668144464493,\n",
       " 0.08409751206636429,\n",
       " 0.010585678741335869,\n",
       " -0.004522609058767557,\n",
       " -0.06533990055322647,\n",
       " -0.0033005273435264826,\n",
       " 0.008186553604900837,\n",
       " 0.0177297405898571,\n",
       " -0.023834306746721268,\n",
       " -0.00027640664484351873,\n",
       " -0.06099066138267517,\n",
       " -0.02818230167031288,\n",
       " 0.03936795890331268,\n",
       " -0.05439606308937073,\n",
       " -0.055568043142557144,\n",
       " -0.01797538623213768,\n",
       " 0.00304587883874774,\n",
       " -0.021533502265810966,\n",
       " 0.05686527490615845,\n",
       " -0.1397780328989029,\n",
       " 0.049299586564302444,\n",
       " 0.030721046030521393,\n",
       " 0.009934547357261181,\n",
       " -0.03369269147515297,\n",
       " -0.041913069784641266,\n",
       " 0.025129713118076324,\n",
       " -0.01596168801188469,\n",
       " -0.08729630708694458,\n",
       " 0.0008076000376604497,\n",
       " 0.005349770653992891,\n",
       " -0.036448925733566284,\n",
       " -0.023170173168182373,\n",
       " 0.01470191776752472,\n",
       " 0.050933968275785446,\n",
       " 0.15404324233531952,\n",
       " 0.09105493128299713,\n",
       " 0.0977027416229248,\n",
       " -0.010841400362551212,\n",
       " 0.01620495691895485,\n",
       " 0.030627118423581123,\n",
       " 0.023186884820461273,\n",
       " -0.09527457505464554,\n",
       " -0.0025977499317377806,\n",
       " 0.003930679522454739,\n",
       " -0.0034573746379464865,\n",
       " -0.01060461811721325,\n",
       " -0.011708460748195648,\n",
       " -0.0030590977985411882,\n",
       " -0.08786837756633759,\n",
       " -0.052103206515312195,\n",
       " 0.029233774170279503,\n",
       " 0.0016633885679766536,\n",
       " -0.014218783937394619,\n",
       " -0.007058584596961737,\n",
       " 0.021550748497247696,\n",
       " 0.02161300927400589,\n",
       " -0.03372029587626457,\n",
       " -0.026618592441082,\n",
       " -0.06118602678179741,\n",
       " 0.03929811716079712,\n",
       " 0.021168699488043785,\n",
       " 0.019386114552617073,\n",
       " 0.054666321724653244,\n",
       " 0.05071195587515831,\n",
       " 0.008309016935527325,\n",
       " -0.021963948383927345,\n",
       " -0.006125451531261206,\n",
       " -0.0371125228703022,\n",
       " 0.08766502141952515,\n",
       " -0.014368121512234211,\n",
       " -0.016722911968827248,\n",
       " -0.04469510540366173,\n",
       " -0.05289151892066002,\n",
       " 0.0631941556930542,\n",
       " 0.05053389072418213,\n",
       " -0.013982431963086128,\n",
       " -0.05549592524766922,\n",
       " 0.037059612572193146,\n",
       " 0.025607237592339516,\n",
       " 0.0009395228116773069,\n",
       " -0.010172894224524498,\n",
       " -0.008059421554207802,\n",
       " 0.0375828854739666,\n",
       " -0.044940248131752014,\n",
       " -0.0183668602257967,\n",
       " 0.049980033189058304,\n",
       " -2.044774305431929e-08,\n",
       " 0.04734900966286659,\n",
       " -0.0037211724556982517,\n",
       " 0.021149281412363052,\n",
       " -0.17934183776378632,\n",
       " 0.003497243393212557,\n",
       " -0.033800385892391205,\n",
       " -0.032568469643592834,\n",
       " 0.07786817103624344,\n",
       " 0.023269299417734146,\n",
       " 0.07345647364854813,\n",
       " -0.06941654533147812,\n",
       " 0.07222190499305725,\n",
       " -0.03260491415858269,\n",
       " 0.005952059756964445,\n",
       " 0.014331744983792305,\n",
       " -0.16052666306495667,\n",
       " 0.043351903557777405,\n",
       " 0.06861851364374161,\n",
       " -0.026687420904636383,\n",
       " -0.01229584775865078,\n",
       " -0.012205914594233036,\n",
       " -0.030212141573429108,\n",
       " -0.027273014187812805,\n",
       " 0.024717755615711212,\n",
       " 0.019567148759961128,\n",
       " 0.013801823370158672,\n",
       " 0.10941104590892792,\n",
       " -0.033708665519952774,\n",
       " -0.05578343942761421,\n",
       " -0.056287169456481934,\n",
       " 0.021913250908255577,\n",
       " 0.05193071812391281,\n",
       " -0.05355866998434067,\n",
       " 0.05930522829294205,\n",
       " -0.021998099982738495,\n",
       " 0.017400184646248817,\n",
       " 0.00751790776848793,\n",
       " 0.030731309205293655,\n",
       " 0.03676069900393486,\n",
       " -0.03982686623930931,\n",
       " 0.08758251368999481,\n",
       " 0.026497317478060722,\n",
       " 0.07696114480495453,\n",
       " 0.06999024748802185,\n",
       " 0.04941464588046074,\n",
       " -0.03595302626490593,\n",
       " 0.047210320830345154,\n",
       " 0.02181759849190712,\n",
       " 0.13566406071186066,\n",
       " -0.013019687496125698,\n",
       " 0.05704083293676376,\n",
       " 0.0018821002449840307,\n",
       " 0.024381928145885468,\n",
       " -0.0069318194873631,\n",
       " -0.046584416180849075,\n",
       " 0.000415882735978812,\n",
       " -0.016461946070194244,\n",
       " 0.03149370849132538,\n",
       " -0.07009367644786835,\n",
       " -0.04394439235329628,\n",
       " 0.07661156356334686,\n",
       " -0.0195436030626297,\n",
       " 0.08207954466342926,\n",
       " 0.08449681103229523]"
      ]
     },
     "execution_count": 11,
     "metadata": {},
     "output_type": "execute_result"
    }
   ],
   "execution_count": 11
  },
  {
   "metadata": {
    "ExecuteTime": {
     "end_time": "2025-10-12T15:16:21.852592Z",
     "start_time": "2025-10-12T15:16:21.523416Z"
    }
   },
   "cell_type": "code",
   "source": [
    "import numpy as np\n",
    "\n",
    "queries = np.asarray(test_ds[\"embedding\"], dtype=\"float32\")\n",
    "queries.shape"
   ],
   "id": "e261b1d8b5dfdde8",
   "outputs": [
    {
     "data": {
      "text/plain": [
       "(4719, 384)"
      ]
     },
     "execution_count": 12,
     "metadata": {},
     "output_type": "execute_result"
    }
   ],
   "execution_count": 12
  },
  {
   "metadata": {
    "ExecuteTime": {
     "end_time": "2025-10-12T15:16:21.856896Z",
     "start_time": "2025-10-12T15:16:21.854730Z"
    }
   },
   "cell_type": "code",
   "source": [
    "i = 2\n",
    "\n",
    "true_ids = eval(test_ds[i]['relevant_passage_ids'])\n",
    "len(true_ids)"
   ],
   "id": "34b28a6be3f0fd64",
   "outputs": [
    {
     "data": {
      "text/plain": [
       "10"
      ]
     },
     "execution_count": 13,
     "metadata": {},
     "output_type": "execute_result"
    }
   ],
   "execution_count": 13
  },
  {
   "metadata": {
    "ExecuteTime": {
     "end_time": "2025-10-12T15:16:21.903856Z",
     "start_time": "2025-10-12T15:16:21.897870Z"
    }
   },
   "cell_type": "code",
   "source": [
    "pred_ids = ds.get_nearest_examples(\"embedding\", np.array(test_ds['embedding'][i]), k=5).examples['id']\n",
    "len(pred_ids)"
   ],
   "id": "86761e7870068aac",
   "outputs": [
    {
     "data": {
      "text/plain": [
       "5"
      ]
     },
     "execution_count": 14,
     "metadata": {},
     "output_type": "execute_result"
    }
   ],
   "execution_count": 14
  },
  {
   "metadata": {
    "ExecuteTime": {
     "end_time": "2025-10-12T15:16:21.944725Z",
     "start_time": "2025-10-12T15:16:21.942659Z"
    }
   },
   "cell_type": "code",
   "source": [
    "recall_at_top_k = len(set(pred_ids) & set(true_ids)) / len(pred_ids)\n",
    "recall_at_top_k"
   ],
   "id": "e3c85f7b37955d52",
   "outputs": [
    {
     "data": {
      "text/plain": [
       "0.8"
      ]
     },
     "execution_count": 15,
     "metadata": {},
     "output_type": "execute_result"
    }
   ],
   "execution_count": 15
  },
  {
   "metadata": {
    "ExecuteTime": {
     "end_time": "2025-10-12T15:16:38.743164Z",
     "start_time": "2025-10-12T15:16:21.985535Z"
    }
   },
   "cell_type": "code",
   "source": [
    "from tqdm import tqdm, trange\n",
    "\n",
    "n = len(test_ds)\n",
    "true_ids_len = []\n",
    "recalls = []\n",
    "precisions = []\n",
    "k = 1\n",
    "\n",
    "for i in trange(n):\n",
    "    true_ids = eval(test_ds[i]['relevant_passage_ids'])\n",
    "    pred_ids = ds.get_nearest_examples(\"embedding\", np.array(test_ds['embedding'][i]), k=30).examples['id'][:k]\n",
    "    recalls.append(len(set(pred_ids) & set(true_ids)) / len(true_ids))\n",
    "    precisions.append(len(set(pred_ids) & set(true_ids)) / len(pred_ids))\n",
    "\n",
    "    true_ids_len.append(len(true_ids))\n",
    "\n",
    "\n",
    "print(f\"Recall@{k}: {np.array(recalls).mean():.3f}\")\n",
    "print(f\"Precision@{k}: {np.array(precisions).mean():.3f}\")\n",
    "# print(f\"True average length: {np.mean(true_ids_len):.3f}\")"
   ],
   "id": "80e89a80c48e0a85",
   "outputs": [
    {
     "name": "stderr",
     "output_type": "stream",
     "text": [
      "100%|██████████| 4719/4719 [00:16<00:00, 281.66it/s]"
     ]
    },
    {
     "name": "stdout",
     "output_type": "stream",
     "text": [
      "Recall@1: 0.132\n",
      "Precision@1: 0.560\n"
     ]
    },
    {
     "name": "stderr",
     "output_type": "stream",
     "text": [
      "\n"
     ]
    }
   ],
   "execution_count": 16
  },
  {
   "metadata": {
    "ExecuteTime": {
     "end_time": "2025-10-12T16:28:03.868956Z",
     "start_time": "2025-10-12T16:28:00.831943Z"
    }
   },
   "cell_type": "code",
   "source": [
    "import numpy as np\n",
    "import faiss\n",
    "\n",
    "# index = faiss.IndexFlatIP(embedder.dimension)\n",
    "index = faiss.IndexFlatL2(embedder.dimension)\n",
    "index.add(np.array(ds['embedding']))"
   ],
   "id": "25286444f0a5a747",
   "outputs": [],
   "execution_count": 18
  },
  {
   "metadata": {
    "ExecuteTime": {
     "end_time": "2025-10-12T16:26:44.134505Z",
     "start_time": "2025-10-12T16:26:44.118268Z"
    }
   },
   "cell_type": "code",
   "source": "index",
   "id": "81c25b32b6f52dcb",
   "outputs": [
    {
     "data": {
      "text/plain": [
       "<faiss.swigfaiss_avx512.IndexFlatIP; proxy of <Swig Object of type 'faiss::IndexFlatIP *' at 0x77ac71a8d230> >"
      ]
     },
     "execution_count": 14,
     "metadata": {},
     "output_type": "execute_result"
    }
   ],
   "execution_count": 14
  },
  {
   "metadata": {
    "ExecuteTime": {
     "end_time": "2025-10-12T16:26:46.040973Z",
     "start_time": "2025-10-12T16:26:46.024422Z"
    }
   },
   "cell_type": "code",
   "source": "index.ntotal",
   "id": "71a5bac18de72aa",
   "outputs": [
    {
     "data": {
      "text/plain": [
       "40221"
      ]
     },
     "execution_count": 15,
     "metadata": {},
     "output_type": "execute_result"
    }
   ],
   "execution_count": 15
  },
  {
   "metadata": {
    "ExecuteTime": {
     "end_time": "2025-10-12T16:30:59.338355Z",
     "start_time": "2025-10-12T16:30:56.617629Z"
    }
   },
   "cell_type": "code",
   "source": "distances, indices = index.search(np.array(test_ds['embedding']), k=5)",
   "id": "4488c96ec7b44620",
   "outputs": [],
   "execution_count": 21
  },
  {
   "metadata": {
    "ExecuteTime": {
     "end_time": "2025-10-12T16:31:11.418397Z",
     "start_time": "2025-10-12T16:31:11.401920Z"
    }
   },
   "cell_type": "code",
   "source": "distances.dtype",
   "id": "9be116b528c9f5f6",
   "outputs": [
    {
     "data": {
      "text/plain": [
       "dtype('float32')"
      ]
     },
     "execution_count": 25,
     "metadata": {},
     "output_type": "execute_result"
    }
   ],
   "execution_count": 25
  },
  {
   "metadata": {
    "ExecuteTime": {
     "end_time": "2025-10-12T16:31:06.965145Z",
     "start_time": "2025-10-12T16:31:06.948664Z"
    }
   },
   "cell_type": "code",
   "source": "indices",
   "id": "edfa2e4ca701996e",
   "outputs": [
    {
     "data": {
      "text/plain": [
       "array([[22260,   435,  3307, 11166, 21024],\n",
       "       [23647, 32793, 21714, 40093, 24595],\n",
       "       [ 7017,  1072,  4422, 39902,  6083],\n",
       "       ...,\n",
       "       [38617, 34598, 12269,  8809, 14798],\n",
       "       [34585, 12552, 39704,  1676, 12296],\n",
       "       [37276, 26956,  2099, 35832,  5886]], shape=(4719, 5))"
      ]
     },
     "execution_count": 24,
     "metadata": {},
     "output_type": "execute_result"
    }
   ],
   "execution_count": 24
  },
  {
   "metadata": {},
   "cell_type": "code",
   "outputs": [],
   "execution_count": null,
   "source": "",
   "id": "5bc99d6826dcf7e4"
  }
 ],
 "metadata": {
  "kernelspec": {
   "display_name": "Python 3",
   "language": "python",
   "name": "python3"
  },
  "language_info": {
   "codemirror_mode": {
    "name": "ipython",
    "version": 2
   },
   "file_extension": ".py",
   "mimetype": "text/x-python",
   "name": "python",
   "nbconvert_exporter": "python",
   "pygments_lexer": "ipython2",
   "version": "2.7.6"
  }
 },
 "nbformat": 4,
 "nbformat_minor": 5
}
