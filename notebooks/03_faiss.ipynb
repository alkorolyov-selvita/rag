{
 "cells": [
  {
   "cell_type": "code",
   "id": "initial_id",
   "metadata": {
    "collapsed": true,
    "ExecuteTime": {
     "end_time": "2025-10-18T04:15:36.538096Z",
     "start_time": "2025-10-18T04:15:34.322969Z"
    }
   },
   "source": [
    "%load_ext autoreload\n",
    "%autoreload 2\n",
    "\n",
    "import faiss\n",
    "import pandas as pd\n",
    "from datasets import load_dataset\n",
    "\n",
    "from rag.embeddings import create_embedder"
   ],
   "outputs": [
    {
     "name": "stderr",
     "output_type": "stream",
     "text": [
      "/home/ergot/projects/rag/.venv/lib/python3.12/site-packages/tqdm/auto.py:21: TqdmWarning: IProgress not found. Please update jupyter and ipywidgets. See https://ipywidgets.readthedocs.io/en/stable/user_install.html\n",
      "  from .autonotebook import tqdm as notebook_tqdm\n"
     ]
    }
   ],
   "execution_count": 1
  },
  {
   "metadata": {},
   "cell_type": "markdown",
   "source": "# Load RAG bioasq dataset",
   "id": "1e348333eb8a8f20"
  },
  {
   "metadata": {
    "ExecuteTime": {
     "end_time": "2025-10-18T04:16:31.700051Z",
     "start_time": "2025-10-18T04:16:30.548371Z"
    }
   },
   "cell_type": "code",
   "source": [
    "ds = load_dataset(\"rag-datasets/rag-mini-bioasq\", \"text-corpus\")['passages']\n",
    "ds"
   ],
   "id": "48a671c1e5fc9b53",
   "outputs": [
    {
     "data": {
      "text/plain": [
       "Dataset({\n",
       "    features: ['passage', 'id'],\n",
       "    num_rows: 40221\n",
       "})"
      ]
     },
     "execution_count": 13,
     "metadata": {},
     "output_type": "execute_result"
    }
   ],
   "execution_count": 13
  },
  {
   "metadata": {
    "ExecuteTime": {
     "end_time": "2025-10-18T04:16:00.330737Z",
     "start_time": "2025-10-18T04:16:00.315141Z"
    }
   },
   "cell_type": "code",
   "source": "print(ds[0]['passage'])",
   "id": "c3413de6d0521420",
   "outputs": [
    {
     "name": "stdout",
     "output_type": "stream",
     "text": [
      "New data on viruses isolated from patients with subacute thyroiditis de Quervain \n",
      "are reported. Characteristic morphological, cytological, some physico-chemical \n",
      "and biological features of the isolated viruses are described. A possible role \n",
      "of these viruses in human and animal health disorders is discussed. The isolated \n",
      "viruses remain unclassified so far.\n"
     ]
    }
   ],
   "execution_count": 7
  },
  {
   "metadata": {
    "ExecuteTime": {
     "end_time": "2025-10-18T04:16:39.627149Z",
     "start_time": "2025-10-18T04:16:38.256968Z"
    }
   },
   "cell_type": "code",
   "source": [
    "test_ds = load_dataset(\"rag-datasets/rag-mini-bioasq\", \"question-answer-passages\")['test']\n",
    "test_ds"
   ],
   "id": "79734899637c46e4",
   "outputs": [
    {
     "data": {
      "text/plain": [
       "Dataset({\n",
       "    features: ['question', 'answer', 'relevant_passage_ids', 'id'],\n",
       "    num_rows: 4719\n",
       "})"
      ]
     },
     "execution_count": 14,
     "metadata": {},
     "output_type": "execute_result"
    }
   ],
   "execution_count": 14
  },
  {
   "metadata": {
    "ExecuteTime": {
     "end_time": "2025-10-18T04:16:04.687089Z",
     "start_time": "2025-10-18T04:16:04.670977Z"
    }
   },
   "cell_type": "code",
   "source": "test_ds[0]",
   "id": "5f5ac6bd55a3305b",
   "outputs": [
    {
     "data": {
      "text/plain": [
       "{'question': 'Is Hirschsprung disease a mendelian or a multifactorial disorder?',\n",
       " 'answer': \"Coding sequence mutations in RET, GDNF, EDNRB, EDN3, and SOX10 are involved in the development of Hirschsprung disease. The majority of these genes was shown to be related to Mendelian syndromic forms of Hirschsprung's disease, whereas the non-Mendelian inheritance of sporadic non-syndromic Hirschsprung disease proved to be complex; involvement of multiple loci was demonstrated in a multiplicative model.\",\n",
       " 'relevant_passage_ids': '[20598273, 6650562, 15829955, 15617541, 23001136, 8896569, 21995290, 12239580, 15858239]',\n",
       " 'id': 0}"
      ]
     },
     "execution_count": 9,
     "metadata": {},
     "output_type": "execute_result"
    }
   ],
   "execution_count": 9
  },
  {
   "metadata": {},
   "cell_type": "markdown",
   "source": "# Embed with Local Embedderm",
   "id": "393c1ccd124bdf94"
  },
  {
   "metadata": {
    "ExecuteTime": {
     "end_time": "2025-10-18T08:16:26.964439Z",
     "start_time": "2025-10-18T08:16:16.536071Z"
    }
   },
   "cell_type": "code",
   "source": [
    "from rag.embeddings import create_embedder\n",
    "from rag.embeddings import LocalEmbedder\n",
    "from rag.config import settings\n",
    "\n",
    "\n",
    "# embedder = LocalEmbedder(\"pritamdeka/S-BioBert-snli-multinli-stsb\")\n",
    "embedder = LocalEmbedder(\"cambridgeltl/SapBERT-from-PubMedBERT-fulltext\")\n",
    "# embedder = create_embedder(settings)\n",
    "embedder"
   ],
   "id": "3a59c81b43863174",
   "outputs": [
    {
     "data": {
      "text/plain": [
       "LocalEmbedder(\"pritamdeka/S-BioBert-snli-multinli-stsb\", dim=768)"
      ]
     },
     "execution_count": 201,
     "metadata": {},
     "output_type": "execute_result"
    }
   ],
   "execution_count": 201
  },
  {
   "metadata": {
    "ExecuteTime": {
     "end_time": "2025-10-18T08:17:29.094711Z",
     "start_time": "2025-10-18T08:17:05.423785Z"
    }
   },
   "cell_type": "code",
   "source": [
    "from rag.config import PROJECT_ROOT\n",
    "\n",
    "def embed(batch, column):\n",
    "    embs = embedder.embed_batch(batch[column])\n",
    "    return {'embedding': embs}\n",
    "\n",
    "ds = ds.map(\n",
    "    embed,\n",
    "    batched=True,\n",
    "    fn_kwargs={'column': 'passage'},\n",
    "    # load_from_cache_file=True,\n",
    "    # cache_file_name= str(PROJECT_ROOT / \".cache/rag_bioasq_mini.arrow\")\n",
    ")\n",
    "ds"
   ],
   "id": "ea0858ffb57ed275",
   "outputs": [
    {
     "name": "stderr",
     "output_type": "stream",
     "text": [
      "Map: 100%|██████████| 40221/40221 [00:15<00:00, 2657.03 examples/s]\n"
     ]
    },
    {
     "data": {
      "text/plain": [
       "Dataset({\n",
       "    features: ['passage', 'id', 'embedding'],\n",
       "    num_rows: 40221\n",
       "})"
      ]
     },
     "execution_count": 205,
     "metadata": {},
     "output_type": "execute_result"
    }
   ],
   "execution_count": 205
  },
  {
   "metadata": {
    "ExecuteTime": {
     "end_time": "2025-10-18T08:17:42.565785Z",
     "start_time": "2025-10-18T08:17:32.776052Z"
    }
   },
   "cell_type": "code",
   "source": [
    "test_ds = test_ds.map(\n",
    "    embed,\n",
    "    batched=True,\n",
    "    fn_kwargs={'column': 'question'},\n",
    "    # load_from_cache_file=True,\n",
    "    # cache_file_name= str(PROJECT_ROOT / \".cache/rag_bioasq_mini_test.arrow\")\n",
    ")\n",
    "test_ds"
   ],
   "id": "bfeb765d452ab609",
   "outputs": [
    {
     "name": "stderr",
     "output_type": "stream",
     "text": [
      "Map: 100%|██████████| 4719/4719 [00:01<00:00, 4573.82 examples/s]\n"
     ]
    },
    {
     "data": {
      "text/plain": [
       "Dataset({\n",
       "    features: ['question', 'answer', 'relevant_passage_ids', 'id', 'embedding'],\n",
       "    num_rows: 4719\n",
       "})"
      ]
     },
     "execution_count": 206,
     "metadata": {},
     "output_type": "execute_result"
    }
   ],
   "execution_count": 206
  },
  {
   "metadata": {},
   "cell_type": "markdown",
   "source": "# Add native faiss index by arrow",
   "id": "574697b72c497839"
  },
  {
   "metadata": {
    "ExecuteTime": {
     "end_time": "2025-10-18T08:17:44.242388Z",
     "start_time": "2025-10-18T08:17:44.130347Z"
    }
   },
   "cell_type": "code",
   "source": [
    "ds = ds.add_faiss_index(\n",
    "    column='embedding',\n",
    "    string_factory='Flat',\n",
    "    metric_type=faiss.METRIC_INNER_PRODUCT,\n",
    "    batch_size=128,\n",
    ")\n",
    "ds"
   ],
   "id": "c54a80056086f695",
   "outputs": [
    {
     "name": "stderr",
     "output_type": "stream",
     "text": [
      "100%|██████████| 315/315 [00:00<00:00, 3417.69it/s]\n"
     ]
    },
    {
     "data": {
      "text/plain": [
       "Dataset({\n",
       "    features: ['passage', 'id', 'embedding'],\n",
       "    num_rows: 40221\n",
       "})"
      ]
     },
     "execution_count": 207,
     "metadata": {},
     "output_type": "execute_result"
    }
   ],
   "execution_count": 207
  },
  {
   "metadata": {
    "ExecuteTime": {
     "end_time": "2025-10-18T04:23:25.736768Z",
     "start_time": "2025-10-18T04:23:25.657983Z"
    }
   },
   "cell_type": "code",
   "source": [
    "ds.save_faiss_index(\"embedding\", \"bioasq-mini-arrow.index\")\n",
    "ds.drop_index(\"embedding\")\n",
    "ds.save_to_disk(\"bioasq-mini-arrow.docs\")"
   ],
   "id": "ad427adf98498326",
   "outputs": [
    {
     "name": "stderr",
     "output_type": "stream",
     "text": [
      "Saving the dataset (1/1 shards): 100%|██████████| 40221/40221 [00:00<00:00, 1121341.50 examples/s]\n"
     ]
    }
   ],
   "execution_count": 25
  },
  {
   "metadata": {
    "ExecuteTime": {
     "end_time": "2025-10-18T06:04:06.757090Z",
     "start_time": "2025-10-18T06:04:06.728264Z"
    }
   },
   "cell_type": "code",
   "source": "test_ds.save_to_disk(\"bioasq-mini-arrow.qrels\")",
   "id": "19b9dc1536352cf0",
   "outputs": [
    {
     "name": "stderr",
     "output_type": "stream",
     "text": [
      "Saving the dataset (1/1 shards): 100%|██████████| 4719/4719 [00:00<00:00, 665935.02 examples/s]\n"
     ]
    }
   ],
   "execution_count": 72
  },
  {
   "metadata": {},
   "cell_type": "markdown",
   "source": "# Check native arrow searchm",
   "id": "6f4b7d9f67eb5890"
  },
  {
   "metadata": {
    "ExecuteTime": {
     "end_time": "2025-10-18T08:18:23.673681Z",
     "start_time": "2025-10-18T08:18:18.674600Z"
    }
   },
   "cell_type": "code",
   "source": [
    "import numpy as np\n",
    "\n",
    "res = ds.get_index('embedding').search_batch(np.array(test_ds['embedding']), k=5)\n",
    "res"
   ],
   "id": "417494b814592923",
   "outputs": [
    {
     "data": {
      "text/plain": [
       "BatchedSearchResults(total_scores=array([[0.76342267, 0.7587638 , 0.7465499 , 0.7461885 , 0.7456034 ],\n",
       "       [0.7370676 , 0.7298986 , 0.71763325, 0.6868064 , 0.68301857],\n",
       "       [0.47025472, 0.45580637, 0.4535181 , 0.45100364, 0.44160718],\n",
       "       ...,\n",
       "       [0.45328766, 0.42834824, 0.41921014, 0.41430444, 0.41389298],\n",
       "       [0.8394382 , 0.81101155, 0.757771  , 0.7550446 , 0.7212372 ],\n",
       "       [0.7403879 , 0.696525  , 0.68430775, 0.6641858 , 0.6601447 ]],\n",
       "      shape=(4719, 5), dtype=float32), total_indices=array([[  691,  5660, 22260, 18975,  8872],\n",
       "       [23647, 18918, 28563, 23167,  6232],\n",
       "       [39440,  7902,  8430,  4422, 35272],\n",
       "       ...,\n",
       "       [23197, 24967, 35449, 24662, 28307],\n",
       "       [39704, 12552, 37768,  9760, 12296],\n",
       "       [37276,  3970, 23266, 11042,  9249]], shape=(4719, 5)))"
      ]
     },
     "execution_count": 208,
     "metadata": {},
     "output_type": "execute_result"
    }
   ],
   "execution_count": 208
  },
  {
   "metadata": {
    "ExecuteTime": {
     "end_time": "2025-10-18T07:27:42.784217Z",
     "start_time": "2025-10-18T07:27:42.625942Z"
    }
   },
   "cell_type": "code",
   "source": "",
   "id": "79b7841d1abf0f47",
   "outputs": [],
   "execution_count": 75
  },
  {
   "metadata": {
    "ExecuteTime": {
     "end_time": "2025-10-18T04:34:05.320578Z",
     "start_time": "2025-10-18T04:34:05.306362Z"
    }
   },
   "cell_type": "code",
   "source": "res.total_indices",
   "id": "5414582aa6b051f3",
   "outputs": [
    {
     "data": {
      "text/plain": [
       "array([[22260,   435,  3307, 11166, 21024],\n",
       "       [23647, 32793, 21714, 40093, 24595],\n",
       "       [ 7017,  1072,  4422, 39902,  6083],\n",
       "       ...,\n",
       "       [38617, 34598, 12269,  8809, 14798],\n",
       "       [34585, 12552, 39704,  1676, 12296],\n",
       "       [37276, 26956,  2099, 35832,  5886]], shape=(4719, 5))"
      ]
     },
     "execution_count": 62,
     "metadata": {},
     "output_type": "execute_result"
    }
   ],
   "execution_count": 62
  },
  {
   "metadata": {},
   "cell_type": "code",
   "outputs": [],
   "execution_count": null,
   "source": "",
   "id": "d86bf7e0279cb291"
  },
  {
   "metadata": {},
   "cell_type": "markdown",
   "source": "# Index using faiss lib",
   "id": "bd09eb605c47060b"
  },
  {
   "metadata": {
    "ExecuteTime": {
     "end_time": "2025-10-18T04:28:21.018025Z",
     "start_time": "2025-10-18T04:28:21.002632Z"
    }
   },
   "cell_type": "code",
   "source": [
    "import numpy as np\n",
    "import faiss\n",
    "\n",
    "index = faiss.IndexFlatIP(embedder.dimension)\n",
    "# index = faiss.IndexFlatL2(embedder.dimension)"
   ],
   "id": "25286444f0a5a747",
   "outputs": [],
   "execution_count": 43
  },
  {
   "metadata": {
    "ExecuteTime": {
     "end_time": "2025-10-18T04:28:25.086019Z",
     "start_time": "2025-10-18T04:28:22.400037Z"
    }
   },
   "cell_type": "code",
   "source": "index.add(np.array(ds['embedding']))",
   "id": "aea2b5b809241506",
   "outputs": [],
   "execution_count": 44
  },
  {
   "metadata": {
    "ExecuteTime": {
     "end_time": "2025-10-18T04:26:38.864789Z",
     "start_time": "2025-10-18T04:26:38.849329Z"
    }
   },
   "cell_type": "code",
   "source": "index",
   "id": "81c25b32b6f52dcb",
   "outputs": [
    {
     "data": {
      "text/plain": [
       "<faiss.swigfaiss_avx512.IndexFlatIP; proxy of <Swig Object of type 'faiss::IndexFlatIP *' at 0x77d380582d30> >"
      ]
     },
     "execution_count": 38,
     "metadata": {},
     "output_type": "execute_result"
    }
   ],
   "execution_count": 38
  },
  {
   "metadata": {
    "ExecuteTime": {
     "end_time": "2025-10-18T04:26:41.841768Z",
     "start_time": "2025-10-18T04:26:41.826116Z"
    }
   },
   "cell_type": "code",
   "source": "index.ntotal",
   "id": "71a5bac18de72aa",
   "outputs": [
    {
     "data": {
      "text/plain": [
       "40221"
      ]
     },
     "execution_count": 39,
     "metadata": {},
     "output_type": "execute_result"
    }
   ],
   "execution_count": 39
  },
  {
   "metadata": {
    "ExecuteTime": {
     "end_time": "2025-10-18T04:29:43.212788Z",
     "start_time": "2025-10-18T04:29:40.564511Z"
    }
   },
   "cell_type": "code",
   "source": [
    "k = 5\n",
    "\n",
    "distances, pred_ids = index.search(np.array(test_ds['embedding']), k=k)"
   ],
   "id": "4488c96ec7b44620",
   "outputs": [],
   "execution_count": 48
  },
  {
   "metadata": {
    "ExecuteTime": {
     "end_time": "2025-10-18T04:26:55.297514Z",
     "start_time": "2025-10-18T04:26:55.281833Z"
    }
   },
   "cell_type": "code",
   "source": "distances.dtype",
   "id": "9be116b528c9f5f6",
   "outputs": [
    {
     "data": {
      "text/plain": [
       "dtype('float32')"
      ]
     },
     "execution_count": 41,
     "metadata": {},
     "output_type": "execute_result"
    }
   ],
   "execution_count": 41
  },
  {
   "metadata": {
    "ExecuteTime": {
     "end_time": "2025-10-18T04:29:24.504285Z",
     "start_time": "2025-10-18T04:29:24.489005Z"
    }
   },
   "cell_type": "code",
   "source": "pred_ids",
   "id": "edfa2e4ca701996e",
   "outputs": [
    {
     "data": {
      "text/plain": [
       "array([[22260,   435,  3307, 11166, 21024],\n",
       "       [23647, 32793, 21714, 40093, 24595],\n",
       "       [ 7017,  1072,  4422, 39902,  6083],\n",
       "       ...,\n",
       "       [38617, 34598, 12269,  8809, 14798],\n",
       "       [34585, 12552, 39704,  1676, 12296],\n",
       "       [37276, 26956,  2099, 35832,  5886]], shape=(4719, 5))"
      ]
     },
     "execution_count": 46,
     "metadata": {},
     "output_type": "execute_result"
    }
   ],
   "execution_count": 46
  },
  {
   "metadata": {},
   "cell_type": "markdown",
   "source": "# Evaluate with RAGAS",
   "id": "d213817b1963017a"
  },
  {
   "metadata": {
    "ExecuteTime": {
     "end_time": "2025-10-18T05:18:41.891088Z",
     "start_time": "2025-10-18T05:18:41.866873Z"
    }
   },
   "cell_type": "code",
   "source": [
    "# load dot env for OPENAI API keys\n",
    "from dotenv import load_dotenv\n",
    "\n",
    "load_dotenv(PROJECT_ROOT / '.env')"
   ],
   "id": "ad0ead4c023fbb0e",
   "outputs": [
    {
     "data": {
      "text/plain": [
       "True"
      ]
     },
     "execution_count": 67,
     "metadata": {},
     "output_type": "execute_result"
    }
   ],
   "execution_count": 67
  },
  {
   "metadata": {
    "ExecuteTime": {
     "end_time": "2025-10-18T05:19:46.685061Z",
     "start_time": "2025-10-18T05:19:44.023358Z"
    }
   },
   "cell_type": "code",
   "source": [
    "res = ds.get_index('embedding').search_batch(np.array(test_ds['embedding']), k=5)\n",
    "res"
   ],
   "id": "37f4c6f362fc102e",
   "execution_count": 68,
   "outputs": [
    {
     "data": {
      "text/plain": [
       "BatchedSearchResults(total_scores=array([[0.6631991 , 0.6363485 , 0.61760235, 0.60579264, 0.6037774 ],\n",
       "       [0.5931436 , 0.54778117, 0.5428606 , 0.5413512 , 0.5342575 ],\n",
       "       [0.61819255, 0.5982094 , 0.5524874 , 0.47593287, 0.45271417],\n",
       "       ...,\n",
       "       [0.3502987 , 0.35011643, 0.32357284, 0.31465802, 0.2996544 ],\n",
       "       [0.7555245 , 0.72723746, 0.71668005, 0.6510484 , 0.6401484 ],\n",
       "       [0.626945  , 0.5422195 , 0.53387046, 0.51882434, 0.51590806]],\n",
       "      shape=(4719, 5), dtype=float32), total_indices=array([[22260,   435,  3307, 11166, 21024],\n",
       "       [23647, 32793, 21714, 40093, 24595],\n",
       "       [ 7017,  1072,  4422, 39902,  6083],\n",
       "       ...,\n",
       "       [38617, 34598, 12269,  8809, 14798],\n",
       "       [34585, 12552, 39704,  1676, 12296],\n",
       "       [37276, 26956,  2099, 35832,  5886]], shape=(4719, 5)))"
      ]
     },
     "execution_count": 68,
     "metadata": {},
     "output_type": "execute_result"
    }
   ]
  },
  {
   "metadata": {
    "ExecuteTime": {
     "end_time": "2025-10-18T05:19:56.152159Z",
     "start_time": "2025-10-18T05:19:56.133920Z"
    }
   },
   "cell_type": "code",
   "source": "res.total_indices",
   "id": "a014218b44010ed7",
   "outputs": [
    {
     "data": {
      "text/plain": [
       "array([[22260,   435,  3307, 11166, 21024],\n",
       "       [23647, 32793, 21714, 40093, 24595],\n",
       "       [ 7017,  1072,  4422, 39902,  6083],\n",
       "       ...,\n",
       "       [38617, 34598, 12269,  8809, 14798],\n",
       "       [34585, 12552, 39704,  1676, 12296],\n",
       "       [37276, 26956,  2099, 35832,  5886]], shape=(4719, 5))"
      ]
     },
     "execution_count": 70,
     "metadata": {},
     "output_type": "execute_result"
    }
   ],
   "execution_count": 70
  },
  {
   "metadata": {
    "ExecuteTime": {
     "end_time": "2025-10-18T07:28:21.002373Z",
     "start_time": "2025-10-18T07:28:20.841876Z"
    }
   },
   "cell_type": "code",
   "source": [
    "index_to_passage_id = np.array(ds['id'])\n",
    "\n",
    "retrieved_ids = index_to_passage_id[res.total_indices]\n",
    "retrieved_ids"
   ],
   "id": "81bcbf765eed8814",
   "outputs": [
    {
     "data": {
      "text/plain": [
       "array([[23001136,  1785632,  9727738, 17965226, 22584707],\n",
       "       [23382875, 27426127, 22829865, 34667080, 23637683],\n",
       "       [15094122,  3320045, 11076767, 34489718, 12666201],\n",
       "       ...,\n",
       "       [32529410, 28624872, 18637493, 16394582, 20007317],\n",
       "       [28614408, 18824533, 34169075,  7676521, 18654798],\n",
       "       [30580288, 24310308,  8275569, 29383495, 12497758]],\n",
       "      shape=(4719, 5))"
      ]
     },
     "execution_count": 77,
     "metadata": {},
     "output_type": "execute_result"
    }
   ],
   "execution_count": 77
  },
  {
   "metadata": {
    "ExecuteTime": {
     "end_time": "2025-10-18T07:30:14.667247Z",
     "start_time": "2025-10-18T07:30:14.648250Z"
    }
   },
   "cell_type": "code",
   "source": "test_ds",
   "id": "67e3fcff2de41cb6",
   "outputs": [
    {
     "data": {
      "text/plain": [
       "Dataset({\n",
       "    features: ['question', 'answer', 'relevant_passage_ids', 'id', 'embedding'],\n",
       "    num_rows: 4719\n",
       "})"
      ]
     },
     "execution_count": 78,
     "metadata": {},
     "output_type": "execute_result"
    }
   ],
   "execution_count": 78
  },
  {
   "metadata": {},
   "cell_type": "code",
   "outputs": [],
   "execution_count": null,
   "source": "",
   "id": "f95dd6ccae8a4445"
  },
  {
   "metadata": {},
   "cell_type": "code",
   "outputs": [],
   "execution_count": null,
   "source": "",
   "id": "658e084e43321129"
  },
  {
   "metadata": {
    "ExecuteTime": {
     "end_time": "2025-10-18T07:40:24.309272Z",
     "start_time": "2025-10-18T07:40:24.237866Z"
    }
   },
   "cell_type": "code",
   "source": [
    "gold_sets = [np.array(eval(gold)) for gold in test_ds['relevant_passage_ids']]\n",
    "len(gold_sets)"
   ],
   "id": "2561176b1f80955",
   "outputs": [
    {
     "data": {
      "text/plain": [
       "4719"
      ]
     },
     "execution_count": 105,
     "metadata": {},
     "output_type": "execute_result"
    }
   ],
   "execution_count": 105
  },
  {
   "metadata": {
    "ExecuteTime": {
     "end_time": "2025-10-18T08:01:26.116744Z",
     "start_time": "2025-10-18T08:01:26.098461Z"
    }
   },
   "cell_type": "code",
   "source": [
    "num_q, k = retrieved_ids.shape\n",
    "hit_flags = np.zeros((num_q, k), dtype=int)\n",
    "hit_flags"
   ],
   "id": "be47989a32a94cf",
   "outputs": [
    {
     "data": {
      "text/plain": [
       "array([[0, 0, 0, 0, 0],\n",
       "       [0, 0, 0, 0, 0],\n",
       "       [0, 0, 0, 0, 0],\n",
       "       ...,\n",
       "       [0, 0, 0, 0, 0],\n",
       "       [0, 0, 0, 0, 0],\n",
       "       [0, 0, 0, 0, 0]], shape=(4719, 5))"
      ]
     },
     "execution_count": 150,
     "metadata": {},
     "output_type": "execute_result"
    }
   ],
   "execution_count": 150
  },
  {
   "metadata": {
    "ExecuteTime": {
     "end_time": "2025-10-18T08:01:28.040284Z",
     "start_time": "2025-10-18T08:01:28.022813Z"
    }
   },
   "cell_type": "code",
   "source": "retrieved_ids[0]",
   "id": "18ebab0131ea63a2",
   "outputs": [
    {
     "data": {
      "text/plain": [
       "array([23001136,  1785632,  9727738, 17965226, 22584707])"
      ]
     },
     "execution_count": 151,
     "metadata": {},
     "output_type": "execute_result"
    }
   ],
   "execution_count": 151
  },
  {
   "metadata": {
    "ExecuteTime": {
     "end_time": "2025-10-18T08:01:28.628433Z",
     "start_time": "2025-10-18T08:01:28.609257Z"
    }
   },
   "cell_type": "code",
   "source": "gold_sets[0]",
   "id": "18f6fcb3647d86da",
   "outputs": [
    {
     "data": {
      "text/plain": [
       "array([20598273,  6650562, 15829955, 15617541, 23001136,  8896569,\n",
       "       21995290, 12239580, 15858239])"
      ]
     },
     "execution_count": 152,
     "metadata": {},
     "output_type": "execute_result"
    }
   ],
   "execution_count": 152
  },
  {
   "metadata": {
    "ExecuteTime": {
     "end_time": "2025-10-18T08:01:29.448804Z",
     "start_time": "2025-10-18T08:01:29.430614Z"
    }
   },
   "cell_type": "code",
   "source": "np.isin(retrieved_ids[0], gold_sets[0])",
   "id": "2cb0d6623d9fde3d",
   "outputs": [
    {
     "data": {
      "text/plain": [
       "array([ True, False, False, False, False])"
      ]
     },
     "execution_count": 153,
     "metadata": {},
     "output_type": "execute_result"
    }
   ],
   "execution_count": 153
  },
  {
   "metadata": {
    "ExecuteTime": {
     "end_time": "2025-10-18T08:01:30.649540Z",
     "start_time": "2025-10-18T08:01:30.591686Z"
    }
   },
   "cell_type": "code",
   "source": [
    "for i in range(num_q):\n",
    "    hit_flags[i] = np.isin(retrieved_ids[i], gold_sets[i])\n",
    "hit_flags"
   ],
   "id": "ae7c96f820008b2",
   "outputs": [
    {
     "data": {
      "text/plain": [
       "array([[1, 0, 0, 0, 0],\n",
       "       [1, 0, 0, 0, 0],\n",
       "       [1, 1, 1, 0, 1],\n",
       "       ...,\n",
       "       [0, 0, 0, 0, 0],\n",
       "       [1, 1, 1, 0, 1],\n",
       "       [1, 0, 0, 0, 0]], shape=(4719, 5))"
      ]
     },
     "execution_count": 154,
     "metadata": {},
     "output_type": "execute_result"
    }
   ],
   "execution_count": 154
  },
  {
   "metadata": {
    "ExecuteTime": {
     "end_time": "2025-10-18T08:01:34.844768Z",
     "start_time": "2025-10-18T08:01:34.827041Z"
    }
   },
   "cell_type": "code",
   "source": "gold_counts = np.array([len(s) for s in gold_sets])",
   "id": "f8f428eb77c63c8d",
   "outputs": [],
   "execution_count": 155
  },
  {
   "metadata": {
    "ExecuteTime": {
     "end_time": "2025-10-18T08:01:36.106347Z",
     "start_time": "2025-10-18T08:01:36.087752Z"
    }
   },
   "cell_type": "code",
   "source": [
    "def precision_at_k(hit_flags):\n",
    "    return float(hit_flags.mean(axis=1).mean())\n",
    "\n",
    "def recall_at_k(hit_flags, gold_counts):\n",
    "    retrieved = hit_flags.sum(axis=1)\n",
    "    recall = retrieved / gold_counts\n",
    "    return float(recall.mean())\n",
    "\n",
    "\n",
    "precision_at_k(hit_flags)\n",
    "recall_at_k(hit_flags, gold_counts)"
   ],
   "id": "ef79cd3d1b714f53",
   "outputs": [
    {
     "data": {
      "text/plain": [
       "0.2926906106714452"
      ]
     },
     "execution_count": 156,
     "metadata": {},
     "output_type": "execute_result"
    }
   ],
   "execution_count": 156
  },
  {
   "metadata": {
    "ExecuteTime": {
     "end_time": "2025-10-18T08:01:37.527785Z",
     "start_time": "2025-10-18T08:01:37.509370Z"
    }
   },
   "cell_type": "code",
   "source": [
    "# argmax to get first\n",
    "ranks = np.argmax(hit_flags, axis=1) + 1\n",
    "ranks[:100]"
   ],
   "id": "1d8cbf95b1210005",
   "outputs": [
    {
     "data": {
      "text/plain": [
       "array([1, 1, 1, 2, 1, 1, 1, 2, 2, 1, 1, 1, 1, 1, 1, 1, 1, 1, 1, 1, 1, 1,\n",
       "       2, 1, 1, 3, 1, 1, 1, 1, 1, 1, 1, 1, 1, 1, 1, 1, 1, 1, 1, 1, 1, 1,\n",
       "       1, 1, 1, 1, 2, 5, 1, 3, 2, 2, 2, 1, 1, 1, 1, 1, 1, 2, 1, 5, 1, 1,\n",
       "       1, 1, 1, 1, 4, 5, 2, 1, 2, 2, 1, 1, 1, 1, 1, 1, 1, 2, 2, 1, 1, 1,\n",
       "       1, 1, 1, 1, 1, 1, 1, 1, 1, 2, 1, 1])"
      ]
     },
     "execution_count": 157,
     "metadata": {},
     "output_type": "execute_result"
    }
   ],
   "execution_count": 157
  },
  {
   "metadata": {
    "ExecuteTime": {
     "end_time": "2025-10-18T08:01:38.639969Z",
     "start_time": "2025-10-18T08:01:38.621919Z"
    }
   },
   "cell_type": "code",
   "source": [
    "has_hit = hit_flags.any(axis=1)\n",
    "reciprocal = np.zeros_like(ranks, dtype=np.float32)\n",
    "reciprocal[has_hit] = 1.0 / ranks[has_hit]\n",
    "reciprocal[:100]"
   ],
   "id": "fe64f1325f1564ee",
   "outputs": [
    {
     "data": {
      "text/plain": [
       "array([1.        , 1.        , 1.        , 0.5       , 0.        ,\n",
       "       0.        , 1.        , 0.5       , 0.5       , 0.        ,\n",
       "       1.        , 1.        , 1.        , 0.        , 1.        ,\n",
       "       1.        , 1.        , 1.        , 1.        , 1.        ,\n",
       "       1.        , 1.        , 0.5       , 1.        , 1.        ,\n",
       "       0.33333334, 1.        , 1.        , 1.        , 1.        ,\n",
       "       1.        , 1.        , 1.        , 1.        , 1.        ,\n",
       "       0.        , 1.        , 1.        , 1.        , 1.        ,\n",
       "       0.        , 1.        , 1.        , 1.        , 1.        ,\n",
       "       1.        , 1.        , 1.        , 0.5       , 0.2       ,\n",
       "       1.        , 0.33333334, 0.5       , 0.5       , 0.5       ,\n",
       "       1.        , 1.        , 1.        , 0.        , 0.        ,\n",
       "       0.        , 0.5       , 1.        , 0.2       , 1.        ,\n",
       "       1.        , 0.        , 1.        , 1.        , 0.        ,\n",
       "       0.25      , 0.2       , 0.5       , 1.        , 0.5       ,\n",
       "       0.5       , 0.        , 0.        , 1.        , 1.        ,\n",
       "       1.        , 1.        , 1.        , 0.5       , 0.5       ,\n",
       "       1.        , 1.        , 0.        , 1.        , 1.        ,\n",
       "       1.        , 1.        , 0.        , 0.        , 1.        ,\n",
       "       1.        , 1.        , 0.5       , 1.        , 0.        ],\n",
       "      dtype=float32)"
      ]
     },
     "execution_count": 158,
     "metadata": {},
     "output_type": "execute_result"
    }
   ],
   "execution_count": 158
  },
  {
   "metadata": {
    "ExecuteTime": {
     "end_time": "2025-10-18T08:01:39.812392Z",
     "start_time": "2025-10-18T08:01:39.793618Z"
    }
   },
   "cell_type": "code",
   "source": "float(reciprocal.mean())",
   "id": "7a6967139cd39b98",
   "outputs": [
    {
     "data": {
      "text/plain": [
       "0.6261213421821594"
      ]
     },
     "execution_count": 159,
     "metadata": {},
     "output_type": "execute_result"
    }
   ],
   "execution_count": 159
  },
  {
   "metadata": {
    "ExecuteTime": {
     "end_time": "2025-10-18T08:01:40.823363Z",
     "start_time": "2025-10-18T08:01:40.805599Z"
    }
   },
   "cell_type": "code",
   "source": [
    "def mrr_at_k(hit_flags):\n",
    "    has_hit = hit_flags.any(axis=1)\n",
    "    ranks = np.argmax(hit_flags, axis=1) + 1\n",
    "    reciprocal = np.zeros_like(ranks, dtype=np.float32)\n",
    "    reciprocal[has_hit] = 1.0 / ranks[has_hit]\n",
    "    return float(reciprocal.mean())\n",
    "\n",
    "mrr_at_k(hit_flags)"
   ],
   "id": "27e3d9212501b877",
   "outputs": [
    {
     "data": {
      "text/plain": [
       "0.6261213421821594"
      ]
     },
     "execution_count": 160,
     "metadata": {},
     "output_type": "execute_result"
    }
   ],
   "execution_count": 160
  },
  {
   "metadata": {
    "ExecuteTime": {
     "end_time": "2025-10-18T08:09:41.838798Z",
     "start_time": "2025-10-18T08:09:41.817968Z"
    }
   },
   "cell_type": "code",
   "source": [
    "def ndcg_at_k(hit_flags: np.ndarray) -> float:\n",
    "    # Binary relevance (1 if retrieved id is in gold set)\n",
    "    # DCG = sum_{i=1..k} (rel_i / log2(i+1)), since rel∈{0,1} we can simplify\n",
    "    k = hit_flags.shape[1]\n",
    "    discounts = 1.0 / np.log2(np.arange(2, k+2))  # [1/log2(2), 1/log2(3), ...]\n",
    "    dcg = (hit_flags * discounts).sum(axis=1)\n",
    "    # Ideal DCG for binary relevance = sum of top min(k, |gold|) discounts\n",
    "    # We need |gold| per query:\n",
    "    ndcg = dcg / np.array([discounts[:min(k, c)].sum() if c > 0 else 1.0\n",
    "                           for c in gold_counts])\n",
    "    return float(ndcg.mean())\n",
    "\n",
    "ndcg_at_k(hit_flags)"
   ],
   "id": "4a72970cbcde0288",
   "outputs": [
    {
     "data": {
      "text/plain": [
       "0.5596524687433778"
      ]
     },
     "execution_count": 187,
     "metadata": {},
     "output_type": "execute_result"
    }
   ],
   "execution_count": 187
  },
  {
   "metadata": {},
   "cell_type": "code",
   "outputs": [],
   "execution_count": null,
   "source": "",
   "id": "9b71ae90af60c6cc"
  },
  {
   "metadata": {},
   "cell_type": "code",
   "outputs": [],
   "execution_count": null,
   "source": "",
   "id": "92dc0e646851cfe9"
  },
  {
   "metadata": {},
   "cell_type": "code",
   "outputs": [],
   "execution_count": null,
   "source": "",
   "id": "a61ebf3dedf31578"
  },
  {
   "metadata": {},
   "cell_type": "code",
   "outputs": [],
   "execution_count": null,
   "source": "",
   "id": "c5e02545e4680b54"
  },
  {
   "metadata": {},
   "cell_type": "code",
   "outputs": [],
   "execution_count": null,
   "source": "",
   "id": "192061e09198ffcd"
  },
  {
   "metadata": {
    "ExecuteTime": {
     "end_time": "2025-10-18T08:29:49.069615Z",
     "start_time": "2025-10-18T08:29:49.067758Z"
    }
   },
   "cell_type": "code",
   "source": "",
   "id": "6d43c14c63203b81",
   "outputs": [],
   "execution_count": null
  },
  {
   "metadata": {},
   "cell_type": "markdown",
   "source": "# Embed",
   "id": "b2100c0423e9ac23"
  },
  {
   "metadata": {
    "ExecuteTime": {
     "end_time": "2025-10-19T03:33:03.935796Z",
     "start_time": "2025-10-19T03:33:00.340056Z"
    }
   },
   "cell_type": "code",
   "source": [
    "from datasets import load_dataset\n",
    "from\n",
    "\n",
    "ds = load_dataset(\"rag-datasets/rag-mini-bioasq\", \"text-corpus\")['passages']\n",
    "test_df = load_dataset(\"rag-datasets/rag-mini-bioasq\", \"question-answer-passages\")['test']"
   ],
   "id": "50acedd6ac03d85a",
   "outputs": [
    {
     "name": "stderr",
     "output_type": "stream",
     "text": [
      "/home/ergot/projects/rag/.venv/lib/python3.12/site-packages/tqdm/auto.py:21: TqdmWarning: IProgress not found. Please update jupyter and ipywidgets. See https://ipywidgets.readthedocs.io/en/stable/user_install.html\n",
      "  from .autonotebook import tqdm as notebook_tqdm\n"
     ]
    }
   ],
   "execution_count": 2
  },
  {
   "metadata": {
    "ExecuteTime": {
     "end_time": "2025-10-19T03:33:14.495091Z",
     "start_time": "2025-10-19T03:33:14.457340Z"
    }
   },
   "cell_type": "code",
   "source": [
    "# embedder = LocalEmbedder(\"BAAI/bge-large-en-v1.5\", device='cpu')\n",
    "# embedder = LocalEmbedder(\"BAAI/bge-small-en-v1.5\", device='cuda')\n",
    "# embedder = LocalEmbedder(\"Qwen/Qwen3-Embedding-8B\", device='cuda')\n",
    "embedder = LocalEmbedder(\"Qwen/Qwen3-Embedding-0.6B\", device='cuda')\n",
    "\n",
    "def embed(batch, column):\n",
    "    embs = embedder.embed_batch(batch[column])\n",
    "    return {'embedding': embs}\n",
    "\n",
    "ds = ds.map(\n",
    "    embed,\n",
    "    batched=True,\n",
    "    fn_kwargs={'column': 'passage'},\n",
    ")\n",
    "test_ds = test_ds.map(\n",
    "    embed,\n",
    "    batched=True,\n",
    "    fn_kwargs={'column': 'question'},\n",
    ")"
   ],
   "id": "97a8d8ba8a992d4e",
   "outputs": [
    {
     "ename": "NameError",
     "evalue": "name 'LocalEmbedder' is not defined",
     "output_type": "error",
     "traceback": [
      "\u001B[31m---------------------------------------------------------------------------\u001B[39m",
      "\u001B[31mNameError\u001B[39m                                 Traceback (most recent call last)",
      "\u001B[36mCell\u001B[39m\u001B[36m \u001B[39m\u001B[32mIn[3]\u001B[39m\u001B[32m, line 4\u001B[39m\n\u001B[32m      1\u001B[39m \u001B[38;5;66;03m# embedder = LocalEmbedder(\"BAAI/bge-large-en-v1.5\", device='cpu')\u001B[39;00m\n\u001B[32m      2\u001B[39m \u001B[38;5;66;03m# embedder = LocalEmbedder(\"BAAI/bge-small-en-v1.5\", device='cuda')\u001B[39;00m\n\u001B[32m      3\u001B[39m \u001B[38;5;66;03m# embedder = LocalEmbedder(\"Qwen/Qwen3-Embedding-8B\", device='cuda')\u001B[39;00m\n\u001B[32m----> \u001B[39m\u001B[32m4\u001B[39m embedder = \u001B[43mLocalEmbedder\u001B[49m(\u001B[33m\"\u001B[39m\u001B[33mQwen/Qwen3-Embedding-0.6B\u001B[39m\u001B[33m\"\u001B[39m, device=\u001B[33m'\u001B[39m\u001B[33mcuda\u001B[39m\u001B[33m'\u001B[39m)\n\u001B[32m      6\u001B[39m \u001B[38;5;28;01mdef\u001B[39;00m\u001B[38;5;250m \u001B[39m\u001B[34membed\u001B[39m(batch, column):\n\u001B[32m      7\u001B[39m     embs = embedder.embed_batch(batch[column])\n",
      "\u001B[31mNameError\u001B[39m: name 'LocalEmbedder' is not defined"
     ]
    }
   ],
   "execution_count": 3
  },
  {
   "metadata": {
    "ExecuteTime": {
     "end_time": "2025-10-18T15:38:48.472684Z",
     "start_time": "2025-10-18T15:38:48.399822Z"
    }
   },
   "cell_type": "code",
   "source": [
    "ds = ds.add_faiss_index(\n",
    "    column='embedding',\n",
    "    string_factory='Flat',\n",
    "    metric_type=faiss.METRIC_INNER_PRODUCT,\n",
    "    batch_size=128,\n",
    ")"
   ],
   "id": "d7c4fb66e650caaa",
   "outputs": [
    {
     "name": "stderr",
     "output_type": "stream",
     "text": [
      "100%|██████████| 315/315 [00:00<00:00, 5794.48it/s]\n"
     ]
    }
   ],
   "execution_count": 252
  },
  {
   "metadata": {},
   "cell_type": "markdown",
   "source": "# Precompute,m",
   "id": "a76416cd686b5b6a"
  },
  {
   "metadata": {
    "ExecuteTime": {
     "end_time": "2025-10-18T15:46:15.109543Z",
     "start_time": "2025-10-18T15:46:15.033013Z"
    }
   },
   "cell_type": "code",
   "source": "passage_id_to_text = ds.select_columns(['id', 'passage']).to_pandas().set_index('id')['passage'].to_dict()",
   "id": "b722eda7f722cc06",
   "outputs": [],
   "execution_count": 275
  },
  {
   "metadata": {
    "ExecuteTime": {
     "end_time": "2025-10-18T15:46:18.063555Z",
     "start_time": "2025-10-18T15:46:17.826328Z"
    }
   },
   "cell_type": "code",
   "source": [
    "index_to_passage_id = np.array(ds['id'])\n",
    "queries = np.array(test_ds['question'])\n",
    "\n",
    "gold_sets = [np.array(eval(gold)) for gold in test_ds['relevant_passage_ids']]\n",
    "gold_counts = [len(s) for s in gold_sets]"
   ],
   "id": "4239b81348753817",
   "outputs": [],
   "execution_count": 276
  },
  {
   "metadata": {},
   "cell_type": "markdown",
   "source": "# Actual Search",
   "id": "283dcf6be2dcaa94"
  },
  {
   "metadata": {
    "ExecuteTime": {
     "end_time": "2025-10-18T16:05:07.234418Z",
     "start_time": "2025-10-18T16:05:04.463193Z"
    }
   },
   "cell_type": "code",
   "source": [
    "k0 = 100\n",
    "res = ds.get_index('embedding').search_batch(np.array(test_ds['embedding']), k=k0)\n",
    "retrieved_ids = index_to_passage_id[res.total_indices]\n",
    "retrieved_ids"
   ],
   "id": "26e733df33ccb921",
   "outputs": [
    {
     "data": {
      "text/plain": [
       "array([[15617541, 23001136,  2309705, ..., 27714920,  8862623, 18091433],\n",
       "       [23382875, 34667080, 29680500, ..., 16730855, 16049312, 24307346],\n",
       "       [15094122,  3320045, 11076767, ..., 20130175, 24022122, 22751350],\n",
       "       ...,\n",
       "       [33826820, 32176765, 30559259, ..., 24298040, 25457975, 23647909],\n",
       "       [34169075, 28614408, 17042799, ..., 19929788, 28381231, 25470471],\n",
       "       [30580288, 22318908, 21834047, ..., 24840526, 16937455, 19822006]],\n",
       "      shape=(4719, 100))"
      ]
     },
     "execution_count": 308,
     "metadata": {},
     "output_type": "execute_result"
    }
   ],
   "execution_count": 308
  },
  {
   "metadata": {},
   "cell_type": "markdown",
   "source": "# Get Metrics",
   "id": "c1a70939b90e9cfc"
  },
  {
   "metadata": {
    "ExecuteTime": {
     "end_time": "2025-10-18T15:57:30.575517Z",
     "start_time": "2025-10-18T15:57:30.501189Z"
    }
   },
   "cell_type": "code",
   "source": [
    "def get_hit_flags(retrieved_ids):\n",
    "    hit_flags = np.zeros_like(retrieved_ids, dtype=np.bool)\n",
    "    for i in range(len(retrieved_ids)):\n",
    "        hit_flags[i] = np.isin(retrieved_ids[i], gold_sets[i])\n",
    "    return hit_flags\n",
    "\n",
    "# hit_flags = get_hit_flags(retrieved_ids)\n",
    "\n",
    "def print_metrics(retrieved_ids, gold_counts, k):\n",
    "    hit_flags = get_hit_flags(retrieved_ids)\n",
    "\n",
    "    print(f'Embedding model: {embedder.model_name}')\n",
    "    print(f\"P@{k}:    {precision_at_k(hit_flags):.3f}\")\n",
    "    print(f\"R@{k}:    {recall_at_k(hit_flags, gold_counts):.3f}\")\n",
    "    print(f\"MRR@{k}:  {mrr_at_k(hit_flags):.3f}\")\n",
    "    print(f\"nDCG@{k}: {ndcg_at_k(hit_flags):.3f}\")\n",
    "\n",
    "print_metrics(retrieved_ids, gold_counts, k0)"
   ],
   "id": "13b3b1f39b2e340",
   "execution_count": 298,
   "outputs": [
    {
     "name": "stdout",
     "output_type": "stream",
     "text": [
      "Embedding model: BAAI/bge-small-en-v1.5\n",
      "P@100:    0.459\n",
      "R@100:    0.363\n",
      "MRR@100:  0.734\n",
      "nDCG@100: 0.598\n"
     ]
    }
   ]
  },
  {
   "metadata": {
    "ExecuteTime": {
     "end_time": "2025-10-18T15:57:35.958718Z",
     "start_time": "2025-10-18T15:57:35.939126Z"
    }
   },
   "cell_type": "code",
   "source": "retrieved_ids",
   "id": "98961916d7439e64",
   "outputs": [
    {
     "data": {
      "text/plain": [
       "array([[15617541, 23001136,  2309705, 16816022, 12239580],\n",
       "       [23382875, 34667080, 29680500, 16159418, 15871762],\n",
       "       [15094122,  3320045, 11076767, 12666201, 11419941],\n",
       "       ...,\n",
       "       [33826820, 32176765, 30559259, 30462303, 19351152],\n",
       "       [34169075, 28614408, 17042799, 18824533, 18654798],\n",
       "       [30580288, 22318908, 21834047, 10620111,  2300390]],\n",
       "      shape=(4719, 5))"
      ]
     },
     "execution_count": 299,
     "metadata": {},
     "output_type": "execute_result"
    }
   ],
   "execution_count": 299
  },
  {
   "metadata": {},
   "cell_type": "markdown",
   "source": "# Reranker",
   "id": "18f991ffbae42e8f"
  },
  {
   "metadata": {
    "ExecuteTime": {
     "end_time": "2025-10-18T16:26:33.351248Z",
     "start_time": "2025-10-18T16:12:35.813720Z"
    }
   },
   "cell_type": "code",
   "source": [
    "from tqdm import trange\n",
    "from sentence_transformers import CrossEncoder\n",
    "from FlagEmbedding import FlagReranker\n",
    "import numpy as np\n",
    "\n",
    "k = 5\n",
    "\n",
    "ce = CrossEncoder(\"cross-encoder/ms-marco-MiniLM-L-6-v2\", max_length=512, device='cuda')\n",
    "# fr = FlagReranker(\"BAAI/bge-reranker-base\", max_length=512, device='cuda')\n",
    "num_q, k0 = retrieved_ids.shape\n",
    "pairs, ptr = [], []\n",
    "\n",
    "for i in trange(num_q):\n",
    "    pids = index_to_passage_id[res.total_indices[i]]\n",
    "    ctxs = [passage_id_to_text[pid] for pid in pids]\n",
    "    for j, ctx in enumerate(ctxs):\n",
    "        pairs.append((queries[i], ctx))\n",
    "        ptr.append((i, j))\n",
    "\n",
    "# scores_flat = fr.compute_score(pairs, batch_size=128)  # GPU if available\n",
    "scores_flat = ce.predict(pairs, show_progress_bar=True, batch_size=128)  # GPU if available\n",
    "scores = np.zeros((num_q, k0), dtype=np.float32)\n",
    "\n",
    "for s, (i, j) in zip(scores_flat, ptr):\n",
    "    scores[i, j] = s\n",
    "\n",
    "order = np.argsort(-scores, axis=1)\n",
    "topk = order[:, :k]  # final K\n",
    "reranked_ids = np.take_along_axis(retrieved_ids, topk, axis=1)\n",
    "\n",
    "print_metrics(reranked_ids, gold_counts, k)"
   ],
   "id": "fec4cf9e39585d53",
   "outputs": [
    {
     "name": "stderr",
     "output_type": "stream",
     "text": [
      "100%|██████████| 4719/4719 [00:00<00:00, 19540.25it/s]\n",
      "pre tokenize:   0%|          | 0/3687 [00:00<?, ?it/s]You're using a XLMRobertaTokenizerFast tokenizer. Please note that with a fast tokenizer, using the `__call__` method is faster than using a method to encode the text followed by a call to the `pad` method to get a padded encoding.\n",
      "pre tokenize: 100%|██████████| 3687/3687 [00:58<00:00, 63.39it/s]\n",
      "Compute Scores: 100%|██████████| 3687/3687 [12:52<00:00,  4.78it/s]\n"
     ]
    },
    {
     "name": "stdout",
     "output_type": "stream",
     "text": [
      "Embedding model: BAAI/bge-small-en-v1.5\n",
      "P@5:    0.406\n",
      "R@5:    0.331\n",
      "MRR@5:  0.649\n",
      "nDCG@5: 0.524\n"
     ]
    }
   ],
   "execution_count": 311
  },
  {
   "metadata": {
    "ExecuteTime": {
     "end_time": "2025-10-18T15:38:51.318086Z",
     "start_time": "2025-10-18T15:38:51.316729Z"
    }
   },
   "cell_type": "code",
   "source": "",
   "id": "60651c2f7d08dedd",
   "outputs": [],
   "execution_count": null
  },
  {
   "metadata": {},
   "cell_type": "code",
   "outputs": [],
   "execution_count": null,
   "source": "",
   "id": "50774f4cde8518fa"
  }
 ],
 "metadata": {
  "kernelspec": {
   "display_name": "Python 3",
   "language": "python",
   "name": "python3"
  },
  "language_info": {
   "codemirror_mode": {
    "name": "ipython",
    "version": 2
   },
   "file_extension": ".py",
   "mimetype": "text/x-python",
   "name": "python",
   "nbconvert_exporter": "python",
   "pygments_lexer": "ipython2",
   "version": "2.7.6"
  }
 },
 "nbformat": 4,
 "nbformat_minor": 5
}
