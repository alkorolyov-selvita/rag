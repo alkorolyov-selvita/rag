{
 "cells": [
  {
   "cell_type": "code",
   "id": "initial_id",
   "metadata": {
    "collapsed": true,
    "ExecuteTime": {
     "end_time": "2025-10-26T07:41:33.822639Z",
     "start_time": "2025-10-26T07:41:32.891554Z"
    }
   },
   "source": [
    "import os\n",
    "from datasets import load_from_disk, disable_caching, load_dataset\n",
    "from rag.config import PROJECT_ROOT\n",
    "\n",
    "doc_ds = load_dataset(\"rag-datasets/rag-mini-bioasq\", \"text-corpus\", split=\"passages\")\n",
    "doc_ds = doc_ds.filter(lambda row: row['passage'] != 'nan')\n",
    "query_ds = load_dataset(\"rag-datasets/rag-mini-bioasq\", \"question-answer-passages\", split=\"test\")\n",
    "\n",
    "disable_caching()"
   ],
   "outputs": [
    {
     "name": "stderr",
     "output_type": "stream",
     "text": [
      "/home/ergot/projects/rag/.venv/lib/python3.12/site-packages/tqdm/auto.py:21: TqdmWarning: IProgress not found. Please update jupyter and ipywidgets. See https://ipywidgets.readthedocs.io/en/stable/user_install.html\n",
      "  from .autonotebook import tqdm as notebook_tqdm\n"
     ]
    }
   ],
   "execution_count": 1
  },
  {
   "metadata": {
    "ExecuteTime": {
     "end_time": "2025-10-26T07:41:34.444555Z",
     "start_time": "2025-10-26T07:41:33.825375Z"
    }
   },
   "cell_type": "code",
   "source": [
    "from pathlib import Path\n",
    "from rag.tracking import ExperimentTracker\n",
    "\n",
    "tracker = ExperimentTracker('test_experiment')\n",
    "\n",
    "with tracker.start_run(run_name='test'):\n",
    "    tracker.log_dvc_data(PROJECT_ROOT / 'data' / 'rag-mini-bioasq.dvc')\n",
    "    tracker.log_params({\"chunk_size\": 512})\n",
    "    tracker.log_metrics({\"P@10\": 0.25})\n"
   ],
   "id": "66d85c59bbaf22c2",
   "outputs": [
    {
     "name": "stdout",
     "output_type": "stream",
     "text": [
      "[2025-10-26 08:41:34] [rag.tracking] [INFO] Tracking to: http://localhost:5000\n",
      "[2025-10-26 08:41:34] [rag.tracking] [INFO] Experiment: test_experiment\n",
      "[2025-10-26 08:41:34] [rag.tracking] [INFO] Logged DVC hash for rag-mini-bioasq.dvc: 0b9d04ec...\n",
      "🏃 View run test at: http://localhost:5000/#/experiments/521976983953332643/runs/8c53a1d7929d46afa6ddbfd53bd19094\n",
      "🧪 View experiment at: http://localhost:5000/#/experiments/521976983953332643\n"
     ]
    }
   ],
   "execution_count": 2
  },
  {
   "metadata": {
    "ExecuteTime": {
     "end_time": "2025-10-26T07:41:34.447537Z",
     "start_time": "2025-10-26T07:41:34.446446Z"
    }
   },
   "cell_type": "code",
   "source": "",
   "id": "edde1606ca87c1d6",
   "outputs": [],
   "execution_count": null
  },
  {
   "metadata": {
    "ExecuteTime": {
     "end_time": "2025-10-26T07:41:34.495469Z",
     "start_time": "2025-10-26T07:41:34.488988Z"
    }
   },
   "cell_type": "code",
   "source": "tracker = ExperimentTracker('embedder-comparison-bioasq')",
   "id": "4201e9dba4438004",
   "outputs": [
    {
     "name": "stdout",
     "output_type": "stream",
     "text": [
      "[2025-10-26 08:41:34] [rag.tracking] [INFO] Tracking to: http://localhost:5000\n",
      "[2025-10-26 08:41:34] [rag.tracking] [INFO] Experiment: embedder-comparison-bioasq\n"
     ]
    }
   ],
   "execution_count": 3
  },
  {
   "metadata": {
    "ExecuteTime": {
     "end_time": "2025-10-26T07:41:34.776884Z",
     "start_time": "2025-10-26T07:41:34.531946Z"
    }
   },
   "cell_type": "code",
   "source": [
    "import numpy as np\n",
    "\n",
    "# Precompute\n",
    "doc_id_to_text = doc_ds.select_columns(['id', 'passage']).to_pandas().set_index('id')['passage'].to_dict()\n",
    "index_to_doc_id = np.array(doc_ds['id'])\n",
    "queries = np.array(query_ds['question'])\n",
    "\n",
    "qrels = [np.array(eval(gold)) for gold in query_ds['relevant_passage_ids']]\n",
    "qrels_counts = [len(s) for s in qrels]"
   ],
   "id": "ec0053ec5fb99d68",
   "outputs": [],
   "execution_count": 4
  },
  {
   "metadata": {
    "ExecuteTime": {
     "end_time": "2025-10-26T07:49:16.000654Z",
     "start_time": "2025-10-26T07:41:34.779100Z"
    }
   },
   "cell_type": "code",
   "source": [
    "import faiss\n",
    "import torch\n",
    "import gc\n",
    "from time import time\n",
    "from rag.utils import embed_dataset, get_metrics\n",
    "from rag.embeddings import LocalEmbedder\n",
    "\n",
    "embedder_models = [\n",
    "        # \"all-MiniLM-L6-v2\",\n",
    "        # \"all-MiniLM-L12-v2\",\n",
    "        # \"all-mpnet-base-v2\",\n",
    "        # \"BAAI/bge-small-en-v1.5\",\n",
    "        # \"BAAI/bge-base-en-v1.5\",\n",
    "        # \"BAAI/bge-large-en-v1.5\",\n",
    "        # \"Snowflake/snowflake-arctic-embed-l-v2.0\",\n",
    "        \"jinaai/jina-embeddings-v3\",\n",
    "        \"intfloat/e5-base-v2\",\n",
    "        \"BAAI/bge-m3\",\n",
    "        \"Lajavaness/bilingual-embedding-base\",\n",
    "]\n",
    "\n",
    "faiss_metric = 'IP'\n",
    "chunk_size = None\n",
    "chunk_overlap = None\n",
    "rerank_model = None\n",
    "\n",
    "\n",
    "for embedder_name in embedder_models:\n",
    "    embedder_name_short = embedder_name.split('/')[-1]\n",
    "    try:\n",
    "        embedder = LocalEmbedder(embedder_name, device=\"cuda\")\n",
    "        start_time = time()\n",
    "        doc_ds = embed_dataset(doc_ds, embedder, column=\"passage\")\n",
    "        query_ds = embed_dataset(query_ds, embedder, column=\"question\")\n",
    "        elapsed_time = time() - start_time\n",
    "    except Exception as e:\n",
    "        print(f\"Failed to embed {embedder_name}: {e}\")\n",
    "        gc.collect()\n",
    "        torch.cuda.empty_cache()\n",
    "        continue\n",
    "\n",
    "    doc_ds.add_faiss_index(\n",
    "        column='embedding',\n",
    "        string_factory='Flat',\n",
    "        metric_type=faiss.METRIC_INNER_PRODUCT,\n",
    "        batch_size=128,\n",
    "    )\n",
    "\n",
    "    metrics = {}\n",
    "    res = doc_ds.get_index('embedding').search_batch(np.array(query_ds['embedding']), k=11)\n",
    "    retrieved_ids_all = index_to_doc_id[res.total_indices]\n",
    "\n",
    "    for k in [1, 3, 5, 10]:\n",
    "        retrieved_ids = retrieved_ids_all[:, :k]\n",
    "        metrics = {\n",
    "            **metrics,\n",
    "            **get_metrics(retrieved_ids, query_ds, k),\n",
    "        }\n",
    "    metrics = {\n",
    "        **{k: round(v, 4) for k,v in metrics.items()},\n",
    "        \"elapsed_time\": round(elapsed_time, 1),\n",
    "    }\n",
    "\n",
    "    params = {\n",
    "        'embed_model': embedder_name,\n",
    "        'rerank_model': rerank_model,\n",
    "        'chunked': False,\n",
    "        'chunk_size': chunk_size,\n",
    "        'chunk_overlap': chunk_overlap,\n",
    "        'faiss_metric': faiss_metric,\n",
    "    }\n",
    "\n",
    "    res_dict = {\n",
    "        **params,\n",
    "        **metrics,\n",
    "    }\n",
    "\n",
    "    run_name = f\"{embedder_name_short}\"\n",
    "    tags = {\n",
    "        'experiment_type': 'embedder',\n",
    "        'phase': 'exploration',\n",
    "        'dataset': 'bioasq-mini',\n",
    "        'embedder':  embedder_name_short,\n",
    "    }\n",
    "    with tracker.start_run(run_name=run_name, tags=tags):\n",
    "        tracker.log_params(params)\n",
    "        tracker.log_metrics(metrics)\n",
    "        tracker.log_dvc_data(PROJECT_ROOT / 'data' / 'rag-mini-bioasq.dvc')\n",
    "        tracker.log_dvc_data(PROJECT_ROOT / 'data' / 'rag-mini-bioasq-qrels.dvc')\n",
    "\n",
    "    # FIX 3: Drop FAISS index\n",
    "    doc_ds.drop_index('embedding')\n",
    "\n",
    "    # Cleanup\n",
    "    del embedder\n",
    "    gc.collect()\n",
    "    torch.cuda.empty_cache()"
   ],
   "id": "c2c7a17c8e143bc6",
   "outputs": [
    {
     "name": "stdout",
     "output_type": "stream",
     "text": [
      "Failed to embed jinaai/jina-embeddings-v3: No module named 'custom_st'\n"
     ]
    },
    {
     "name": "stderr",
     "output_type": "stream",
     "text": [
      "Map: 100%|██████████| 40221/40221 [01:34<00:00, 427.61 examples/s]\n",
      "Map: 100%|██████████| 4719/4719 [00:03<00:00, 1527.60 examples/s]\n",
      "100%|██████████| 315/315 [00:00<00:00, 2616.95it/s]\n"
     ]
    },
    {
     "name": "stdout",
     "output_type": "stream",
     "text": [
      "[2025-10-26 08:43:40] [rag.tracking] [INFO] Logged DVC hash for rag-mini-bioasq.dvc: 0b9d04ec...\n",
      "[2025-10-26 08:43:40] [rag.tracking] [INFO] Logged DVC hash for rag-mini-bioasq-qrels.dvc: c39757e3...\n",
      "🏃 View run e5-base-v2 at: http://localhost:5000/#/experiments/803843227128346260/runs/1b231e46bc5e43e8aaa820a90e0a2e8a\n",
      "🧪 View experiment at: http://localhost:5000/#/experiments/803843227128346260\n"
     ]
    },
    {
     "name": "stderr",
     "output_type": "stream",
     "text": [
      "Map: 100%|██████████| 40221/40221 [04:55<00:00, 136.17 examples/s]\n",
      "Map: 100%|██████████| 4719/4719 [00:06<00:00, 708.12 examples/s]\n",
      "100%|██████████| 315/315 [00:00<00:00, 4196.89it/s]\n"
     ]
    },
    {
     "name": "stdout",
     "output_type": "stream",
     "text": [
      "[2025-10-26 08:49:13] [rag.tracking] [INFO] Logged DVC hash for rag-mini-bioasq.dvc: 0b9d04ec...\n",
      "[2025-10-26 08:49:13] [rag.tracking] [INFO] Logged DVC hash for rag-mini-bioasq-qrels.dvc: c39757e3...\n",
      "🏃 View run bge-m3 at: http://localhost:5000/#/experiments/803843227128346260/runs/1b64799b81034a9ab23371700720d5e1\n",
      "🧪 View experiment at: http://localhost:5000/#/experiments/803843227128346260\n",
      "Failed to embed Lajavaness/bilingual-embedding-base: dangvantuan/bilingual_impl You can inspect the repository content at https://hf.co/Lajavaness/bilingual-embedding-base.\n",
      "Please pass the argument `trust_remote_code=True` to allow custom code to be run.\n"
     ]
    }
   ],
   "execution_count": 5
  },
  {
   "metadata": {
    "ExecuteTime": {
     "end_time": "2025-10-26T07:49:16.048792Z",
     "start_time": "2025-10-26T07:49:16.047220Z"
    }
   },
   "cell_type": "code",
   "source": "",
   "id": "22dccec4a2e2895b",
   "outputs": [],
   "execution_count": null
  }
 ],
 "metadata": {
  "kernelspec": {
   "display_name": "Python 3",
   "language": "python",
   "name": "python3"
  },
  "language_info": {
   "codemirror_mode": {
    "name": "ipython",
    "version": 2
   },
   "file_extension": ".py",
   "mimetype": "text/x-python",
   "name": "python",
   "nbconvert_exporter": "python",
   "pygments_lexer": "ipython2",
   "version": "2.7.6"
  }
 },
 "nbformat": 4,
 "nbformat_minor": 5
}
