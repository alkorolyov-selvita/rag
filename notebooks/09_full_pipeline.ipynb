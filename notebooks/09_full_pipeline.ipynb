{
 "cells": [
  {
   "cell_type": "code",
   "id": "initial_id",
   "metadata": {
    "collapsed": true,
    "ExecuteTime": {
     "end_time": "2025-10-25T04:21:12.377710Z",
     "start_time": "2025-10-25T04:21:12.360216Z"
    }
   },
   "source": [
    "from sknetwork.ranking import top_k\n",
    "%load_ext autoreload\n",
    "%autoreload 2\n",
    "\n",
    "from dotenv import load_dotenv\n",
    "\n",
    "from rag.config import settings, PROJECT_ROOT\n",
    "from rag.ingestion import create_chunker\n",
    "from rag.embeddings import create_embedder\n",
    "from rag.retrieval import create_reranker\n",
    "from rag.generation import create_llm\n",
    "from rag.storage import (\n",
    "    BaseDocumentStore,\n",
    "    BaseVectorStore,\n",
    "    Document,\n",
    "    SearchResult,\n",
    "    make_chunk_id,\n",
    "    parse_chunk_id,\n",
    "    InMemoryDocumentStore,\n",
    "    FAISSVectorStore,\n",
    ")\n",
    "\n",
    "from datasets import load_dataset, Dataset\n",
    "\n",
    "load_dotenv()"
   ],
   "outputs": [
    {
     "name": "stdout",
     "output_type": "stream",
     "text": [
      "The autoreload extension is already loaded. To reload it, use:\n",
      "  %reload_ext autoreload\n"
     ]
    },
    {
     "data": {
      "text/plain": [
       "True"
      ]
     },
     "execution_count": 11,
     "metadata": {},
     "output_type": "execute_result"
    }
   ],
   "execution_count": 11
  },
  {
   "metadata": {
    "ExecuteTime": {
     "end_time": "2025-10-25T04:20:19.565346Z",
     "start_time": "2025-10-25T04:20:13.373209Z"
    }
   },
   "cell_type": "code",
   "source": [
    "\n",
    "\n",
    "embedder = create_embedder(settings)\n",
    "chunker = create_chunker(settings)\n",
    "reranker = create_reranker(settings)\n",
    "llm = create_llm(settings)"
   ],
   "id": "e94a6db8a11a9c34",
   "outputs": [
    {
     "name": "stderr",
     "output_type": "stream",
     "text": [
      "Loading checkpoint shards: 100%|██████████| 4/4 [00:00<00:00, 301.44it/s]\n"
     ]
    }
   ],
   "execution_count": 2
  },
  {
   "metadata": {
    "ExecuteTime": {
     "end_time": "2025-10-25T04:20:22.510011Z",
     "start_time": "2025-10-25T04:20:19.612400Z"
    }
   },
   "cell_type": "code",
   "source": [
    "corpus_ds = load_dataset(\"rag-datasets/rag-mini-bioasq\", \"text-corpus\")['passages']\n",
    "queries_ds = load_dataset(\"rag-datasets/rag-mini-bioasq\", \"question-answer-passages\")['test']"
   ],
   "id": "1eb8690662ff6a89",
   "outputs": [],
   "execution_count": 3
  },
  {
   "metadata": {
    "ExecuteTime": {
     "end_time": "2025-10-25T04:20:22.576096Z",
     "start_time": "2025-10-25T04:20:22.559107Z"
    }
   },
   "cell_type": "code",
   "source": "corpus_ds",
   "id": "3377db98104a205b",
   "outputs": [
    {
     "data": {
      "text/plain": [
       "Dataset({\n",
       "    features: ['passage', 'id'],\n",
       "    num_rows: 40221\n",
       "})"
      ]
     },
     "execution_count": 4,
     "metadata": {},
     "output_type": "execute_result"
    }
   ],
   "execution_count": 4
  },
  {
   "metadata": {
    "ExecuteTime": {
     "end_time": "2025-10-25T04:20:22.621548Z",
     "start_time": "2025-10-25T04:20:22.603757Z"
    }
   },
   "cell_type": "code",
   "source": "corpus_ds = corpus_ds.filter(lambda row: row['passage'] != 'nan')",
   "id": "ed7c8883a042e2fb",
   "outputs": [],
   "execution_count": 5
  },
  {
   "metadata": {
    "ExecuteTime": {
     "end_time": "2025-10-25T04:20:22.671295Z",
     "start_time": "2025-10-25T04:20:22.647825Z"
    }
   },
   "cell_type": "code",
   "source": "chunked_ds = chunker.chunk_dataset(corpus_ds, text_col='passage', id_col='id')",
   "id": "8f0b90645ee415c8",
   "outputs": [],
   "execution_count": 6
  },
  {
   "metadata": {
    "ExecuteTime": {
     "end_time": "2025-10-25T04:20:23.904832Z",
     "start_time": "2025-10-25T04:20:22.937588Z"
    }
   },
   "cell_type": "code",
   "source": [
    "from rag.utils import batched\n",
    "\n",
    "doc_store = InMemoryDocumentStore()\n",
    "\n",
    "for batch in batched(chunked_ds):\n",
    "    docs = [\n",
    "        Document(\n",
    "            id=row['chunk_id'],\n",
    "            text=row['text'],\n",
    "            doc_type='chunk',\n",
    "            metadata={'parent_id': row['doc_id']},\n",
    "        ) for row in batch\n",
    "    ]\n",
    "    doc_store.add(docs)"
   ],
   "id": "36247d077af72a81",
   "outputs": [],
   "execution_count": 7
  },
  {
   "metadata": {
    "ExecuteTime": {
     "end_time": "2025-10-25T04:20:24.686351Z",
     "start_time": "2025-10-25T04:20:24.671277Z"
    }
   },
   "cell_type": "code",
   "source": "doc_store",
   "id": "febde96d37bcb2a3",
   "outputs": [
    {
     "data": {
      "text/plain": [
       "InMemoryDocumentStore(count=64042)"
      ]
     },
     "execution_count": 8,
     "metadata": {},
     "output_type": "execute_result"
    }
   ],
   "execution_count": 8
  },
  {
   "metadata": {
    "ExecuteTime": {
     "end_time": "2025-10-25T04:41:02.395013Z",
     "start_time": "2025-10-25T04:41:02.265974Z"
    }
   },
   "cell_type": "code",
   "source": "doc_store.save(PROJECT_ROOT / 'data/doc_store.pkl')",
   "id": "731ec91ed9b9a83f",
   "execution_count": 29,
   "outputs": []
  },
  {
   "metadata": {
    "ExecuteTime": {
     "end_time": "2025-10-25T04:21:54.486991Z",
     "start_time": "2025-10-25T04:21:26.472938Z"
    }
   },
   "cell_type": "code",
   "source": [
    "from tqdm import tqdm\n",
    "\n",
    "embedder = create_embedder(settings)\n",
    "\n",
    "vec_store = FAISSVectorStore(\n",
    "    embedder.dimension,\n",
    ")\n",
    "\n",
    "pbar = tqdm(total=len(doc_store))\n",
    "\n",
    "for batch in batched(doc_store):\n",
    "    texts = [x.text for x in batch]\n",
    "    ids = [x.id for x in batch]\n",
    "    embs = embedder.embed_batch(texts)\n",
    "    vec_store.add(embs, ids)\n",
    "    pbar.update(len(batch))\n",
    "\n",
    "pbar.close()"
   ],
   "id": "228cc5093ea59354",
   "outputs": [
    {
     "name": "stderr",
     "output_type": "stream",
     "text": [
      "100%|██████████| 64042/64042 [00:26<00:00, 2461.69it/s]\n"
     ]
    }
   ],
   "execution_count": 13
  },
  {
   "metadata": {
    "ExecuteTime": {
     "end_time": "2025-10-25T04:21:54.502949Z",
     "start_time": "2025-10-25T04:21:54.489270Z"
    }
   },
   "cell_type": "code",
   "source": "vec_store",
   "id": "849db6fd763e201a",
   "outputs": [
    {
     "data": {
      "text/plain": [
       "FAISSVectorStore(count=64042, dimension=384, index_type=flat_ip)"
      ]
     },
     "execution_count": 14,
     "metadata": {},
     "output_type": "execute_result"
    }
   ],
   "execution_count": 14
  },
  {
   "metadata": {
    "ExecuteTime": {
     "end_time": "2025-10-25T04:21:54.653047Z",
     "start_time": "2025-10-25T04:21:54.577982Z"
    }
   },
   "cell_type": "code",
   "source": "vec_store.save(PROJECT_ROOT / 'data/vec_store')",
   "id": "544f1ed45deda608",
   "outputs": [],
   "execution_count": 16
  },
  {
   "metadata": {
    "ExecuteTime": {
     "end_time": "2025-10-25T04:22:04.092167Z",
     "start_time": "2025-10-25T04:22:04.067636Z"
    }
   },
   "cell_type": "code",
   "source": [
    "i = 2\n",
    "question = queries_ds[i]['question']\n",
    "\n",
    "print('Question:', question)\n",
    "print(80*'=')\n",
    "\n",
    "q_emb = embedder.embed_text(question)\n",
    "initial_results = vec_store.search(q_emb, k=settings.k)\n",
    "for res in initial_results[:5]:\n",
    "    print(doc_store.get_by_id(res.chunk_id).text)\n",
    "    print(80*'=')"
   ],
   "id": "478f4d4c81906db7",
   "outputs": [
    {
     "name": "stdout",
     "output_type": "stream",
     "text": [
      "Question: Is the protein Papilin secreted?\n",
      "================================================================================\n",
      "Papilins are homologous, secreted extracellular matrix proteins which share a \n",
      "common order of protein domains. They occur widely, from nematodes to man, and \n",
      "can differ in the number of repeats of a given type of domain. Within one \n",
      "species the number of repeats can vary by differential RNA splicing. A \n",
      "distinctly conserved cassette of domains at the amino-end of papilins is \n",
      "homologous with a cassette of protein domains at the carboxyl-end of the ADAMTS \n",
      "subgroup of secreted, matrix-associated metalloproteases. Papilins primarily \n",
      "occur in basement membranes. Papilins interact with several extracellular matrix \n",
      "components and ADAMTS enzymes. Papilins are essential for embryonic development \n",
      "of Drosophila melanogaster and Caenorhabditis elegans.\n",
      "================================================================================\n",
      "A sulfated glycoprotein was isolated from the culture media of Drosophila Kc \n",
      "cells and named papilin. Affinity purified antibodies against this protein \n",
      "localized it primarily to the basement membranes of embryos. The antibodies \n",
      "cross-reacted with another material which was not sulfated and appeared to be \n",
      "the core protein of papilin, which is proteoglycan-like. After reduction, \n",
      "papilin electrophoresed in sodium dodecyl sulfate-polyacrylamide gel \n",
      "electrophoresis as a broad band of about 900,000 apparent molecular weight and \n",
      "the core protein as a narrow band of approximately 400,000. The core protein was \n",
      "formed by some cell lines and by other cells on incubation with 1 mM \n",
      "4-methylumbelliferyl xyloside, which inhibited formation of the \n",
      "proteoglycan-like form. The buoyant density of papilin in CsCl/4 M guanidine\n",
      "================================================================================\n",
      "Papilin is an extracellular matrix glycoprotein that we have found to be \n",
      "involved in, (1) thin matrix layers during gastrulation, (2) matrix associated \n",
      "with wandering, phagocytic hemocytes, (3) basement membranes and (4) \n",
      "space-filling matrix during Drosophila development. Determination of its cDNA \n",
      "sequence led to the identification of Caenorhabditis and mammalian papilins. A \n",
      "distinctly conserved 'papilin cassette' of domains at the amino-end of papilins \n",
      "is also the carboxyl-end of the ADAMTS subgroup of secreted, matrix-associated \n",
      "metalloproteinases; this cassette contains one thrombospondin type 1 (TSR) \n",
      "domain, a specific cysteine-rich domain and several partial TSR domains. In \n",
      "vitro, papilin non-competitively inhibits procollagen N-proteinase, an ADAMTS\n",
      "================================================================================\n",
      "Papilins are extracellular matrix proteins that share a particular, common order \n",
      "of types of protein domains. They occur widely, from nematodes to man, and can \n",
      "differ in the number of repeats of a given type of domain. Protein variety is \n",
      "increased by differential splicing of pre-mRNA. We report that Drosophila, which \n",
      "has a compact genome, expresses three splice variants of papilin during \n",
      "embryogenesis in developmentally defined patterns. These isoforms have different \n",
      "numbers of Kunitz and IgC2 domains. The papilin isoforms are expressed in \n",
      "specific cell types and contribute to different extracellular matrices in \n",
      "gastrulation folds, early mesoderm, heart formation, basement membranes, and \n",
      "elaboration of the excorporeal peritrophic membrane that lines the gut. This \n",
      "finding indicates an unexpectedly broad spectrum of different pericellular \n",
      "matrices in Drosophila embryos. Such papilin-containing matrices have \n",
      "developmental as well as functional significance, as we previously showed that\n",
      "================================================================================\n",
      "secretion was induced by lacritin or carbachol (Cch, positive control). Proteins \n",
      "were detected and identified by immunoblotting and immunocytochemistry. \n",
      "Intracellular Ca(2+) was measured with the fluorophore Calcium-4, and cell \n",
      "damage was determined by LDH leakage into the culture medium.\n",
      "RESULTS: In cultured monkey acinar cells, lacritin stimulated tear protein \n",
      "secretion in normal cells without elevating intracellular Ca(2+). In contrast, \n",
      "Cch elevated intracellular Ca(2+) and release of tear proteins. This contrast \n",
      "suggested an alternate, calcium-independent mechanism for lacritin-induced \n",
      "protein secretion. TNF-α plus IFN-γ caused LDH leakage from sensitive human \n",
      "corneal epithelial cells, but even higher doses of TNF-α plus IFN-γ did not \n",
      "cause LDH leakage from monkey acinar cells, suggesting a higher tolerance\n",
      "================================================================================\n"
     ]
    }
   ],
   "execution_count": 18
  },
  {
   "metadata": {
    "ExecuteTime": {
     "end_time": "2025-10-25T04:22:05.991561Z",
     "start_time": "2025-10-25T04:22:05.975054Z"
    }
   },
   "cell_type": "code",
   "source": "res",
   "id": "587da75ff868d852",
   "outputs": [
    {
     "data": {
      "text/plain": [
       "SearchResult(chunk_id='23482462#1', score=0.7417332530021667, metadata=None)"
      ]
     },
     "execution_count": 19,
     "metadata": {},
     "output_type": "execute_result"
    }
   ],
   "execution_count": 19
  },
  {
   "metadata": {
    "ExecuteTime": {
     "end_time": "2025-10-25T04:22:06.716475Z",
     "start_time": "2025-10-25T04:22:06.700338Z"
    }
   },
   "cell_type": "code",
   "source": "retrived_docs = [doc_store.get_by_id(r.chunk_id) for r in initial_results]",
   "id": "425cdc4786f602f6",
   "outputs": [],
   "execution_count": 20
  },
  {
   "metadata": {
    "ExecuteTime": {
     "end_time": "2025-10-25T04:22:08.030808Z",
     "start_time": "2025-10-25T04:22:07.991185Z"
    }
   },
   "cell_type": "code",
   "source": [
    "ranked = reranker.rerank(question, retrived_docs)\n",
    "reranked_docs = ranked[:settings.top_k]\n",
    "reranked_docs"
   ],
   "id": "f9b8703f13d3feb2",
   "outputs": [
    {
     "data": {
      "text/plain": [
       "[Document(id='15094122#0', text='Papilins are homologous, secreted extracellular matrix proteins which share a \\ncommon order of protein domains. They occur widely, from nematodes to man, and \\ncan differ in the number of repeats of a given type of domain. Within one \\nspecies the number of repeats can vary by differential RNA splicing. A \\ndistinctly conserved cassette of domains at the amino-end of papilins is \\nhomologous with a cassette of protein domains at the carboxyl-end of the ADAMTS \\nsubgroup of secreted, matrix-associated metalloproteases. Papilins primarily \\noccur in basement membranes. Papilins interact with several extracellular matrix \\ncomponents and ADAMTS enzymes. Papilins are essential for embryonic development \\nof Drosophila melanogaster and Caenorhabditis elegans.', score=6.969378471374512, doc_type='chunk', metadata={'parent_id': 15094122}),\n",
       " Document(id='11076767#0', text=\"Papilin is an extracellular matrix glycoprotein that we have found to be \\ninvolved in, (1) thin matrix layers during gastrulation, (2) matrix associated \\nwith wandering, phagocytic hemocytes, (3) basement membranes and (4) \\nspace-filling matrix during Drosophila development. Determination of its cDNA \\nsequence led to the identification of Caenorhabditis and mammalian papilins. A \\ndistinctly conserved 'papilin cassette' of domains at the amino-end of papilins \\nis also the carboxyl-end of the ADAMTS subgroup of secreted, matrix-associated \\nmetalloproteinases; this cassette contains one thrombospondin type 1 (TSR) \\ndomain, a specific cysteine-rich domain and several partial TSR domains. In \\nvitro, papilin non-competitively inhibits procollagen N-proteinase, an ADAMTS\", score=3.6127939224243164, doc_type='chunk', metadata={'parent_id': 11076767}),\n",
       " Document(id='3320045#0', text='A sulfated glycoprotein was isolated from the culture media of Drosophila Kc \\ncells and named papilin. Affinity purified antibodies against this protein \\nlocalized it primarily to the basement membranes of embryos. The antibodies \\ncross-reacted with another material which was not sulfated and appeared to be \\nthe core protein of papilin, which is proteoglycan-like. After reduction, \\npapilin electrophoresed in sodium dodecyl sulfate-polyacrylamide gel \\nelectrophoresis as a broad band of about 900,000 apparent molecular weight and \\nthe core protein as a narrow band of approximately 400,000. The core protein was \\nformed by some cell lines and by other cells on incubation with 1 mM \\n4-methylumbelliferyl xyloside, which inhibited formation of the \\nproteoglycan-like form. The buoyant density of papilin in CsCl/4 M guanidine', score=1.7963807582855225, doc_type='chunk', metadata={'parent_id': 3320045}),\n",
       " Document(id='12666201#0', text='Papilins are extracellular matrix proteins that share a particular, common order \\nof types of protein domains. They occur widely, from nematodes to man, and can \\ndiffer in the number of repeats of a given type of domain. Protein variety is \\nincreased by differential splicing of pre-mRNA. We report that Drosophila, which \\nhas a compact genome, expresses three splice variants of papilin during \\nembryogenesis in developmentally defined patterns. These isoforms have different \\nnumbers of Kunitz and IgC2 domains. The papilin isoforms are expressed in \\nspecific cell types and contribute to different extracellular matrices in \\ngastrulation folds, early mesoderm, heart formation, basement membranes, and \\nelaboration of the excorporeal peritrophic membrane that lines the gut. This \\nfinding indicates an unexpectedly broad spectrum of different pericellular \\nmatrices in Drosophila embryos. Such papilin-containing matrices have \\ndevelopmental as well as functional significance, as we previously showed that', score=0.6183948516845703, doc_type='chunk', metadata={'parent_id': 12666201}),\n",
       " Document(id='16424866#0', text='Secreted protein, acidic and rich in cysteine (SPARC), is a matricellular \\nglycoprotein with growth-inhibitory and antiangiogenic functions. Although SPARC \\nhas been implicated as a tumor suppressor in humans, its function in normal or \\nmalignant hematopoiesis has not previously been studied. We found that the \\nleukemic cells of AML patients with MLL gene rearrangements express low to \\nundetectable amounts of SPARC whereas normal hematopoietic progenitors and most \\nAML patients express this gene. SPARC RNA and protein levels were also low or \\nundetectable in AML cell lines with MLL translocations. Consistent with its \\ntumor suppressive effects in various solid tumor models, exogenous SPARC protein \\nselectively reduced the growth of cell lines with MLL rearrangements by \\ninhibiting cell cycle progression from G1 to S phase. The lack of SPARC', score=-1.5358200073242188, doc_type='chunk', metadata={'parent_id': 16424866}),\n",
       " Document(id='11076767#1', text='domain, a specific cysteine-rich domain and several partial TSR domains. In \\nvitro, papilin non-competitively inhibits procollagen N-proteinase, an ADAMTS \\nmetalloproteinase. Inhibiting papilin synthesis in Drosophila or Caenorhabditis \\ncauses defective cell arrangements and embryonic death. Ectopic expression of \\npapilin in Drosophila causes lethal abnormalities in muscle, Malpighian tubule \\nand trachea formation. We suggest that papilin influences cell rearrangements \\nand may modulate metalloproteinases during organogenesis.', score=-1.5527660846710205, doc_type='chunk', metadata={'parent_id': 11076767}),\n",
       " Document(id='26150355#0', text='Matrix metalloproteinase-9 (MMP-9) is a secreted glycoprotein with a major role \\nin shaping the extracellular matrix and a detailed understanding of the \\nsecretory mechanism could help identify methods to correct diseases resulting \\nfrom dysregulation of secretion. MMP-9 appears to follow a canonical secretory \\npathway through a quality control cycle in the endoplasmic reticulum (ER) before \\ntransport of the properly folded protein to the Golgi apparatus and beyond for \\nsecretion. Through a complementation assay, we determined that LMAN1, a \\nwell-studied lectin-carrier protein, interacts with a secretion-competent \\nN-glycosylated MMP-9 in the ER while N-glycosylation-deficient \\nsecretion-compromised MMP-9 does not. In contrast, co-immunoprecipitation \\ndemonstrated protein interaction between LMAN1 and secretion-compromised', score=-2.2372522354125977, doc_type='chunk', metadata={'parent_id': 26150355}),\n",
       " Document(id='3320045#1', text='proteoglycan-like form. The buoyant density of papilin in CsCl/4 M guanidine \\nhydrochloride is 1.4 g/ml, that of the core protein is much less. Papilin forms \\noligomers linked by disulfide bridges, as shown by sodium dodecyl \\nsulfate-agarose gel electrophoresis and electron microscopy. The protomer is a \\n225 +/- 15-nm thread which is disulfide-linked into a loop with fine, protruding \\nthread ends. Oligomers form clover-leaf-like structures. The protein contains \\n22% combined serine and threonine residues and 25% combined aspartic and \\nglutamic residues. 10 g of polypeptide has attached 6.4 g of glucosamine, 3.1 g \\nof galactosamine, 6.1 g of uronic acid, and 2.7 g of neutral sugars. There are', score=-2.314455986022949, doc_type='chunk', metadata={'parent_id': 3320045}),\n",
       " Document(id='3320045#2', text='of galactosamine, 6.1 g of uronic acid, and 2.7 g of neutral sugars. There are \\nabout 80 O-linked carbohydrate chains/core protein molecule. Sulfate is attached \\nto these chains. The O-linkage is through an unidentified neutral sugar. Papilin \\nis largely resistant to common glycosidases and several proteases. The degree of \\nsulfation varies with the sulfate concentration of the incubation medium. This \\nproteoglycan-like glycoprotein differs substantially from corresponding \\nproteoglycans found in vertebrate basement membranes, in contrast to Drosophila \\nbasement membrane laminin and collagen IV which have been conserved \\nevolutionarily.', score=-2.3610925674438477, doc_type='chunk', metadata={'parent_id': 3320045}),\n",
       " Document(id='1334264#0', text='In eukaryotic cells, protein secretion provides a complex organizational \\nproblem. Secretory proteins are first transported, in an unfolded state, across \\nthe membrane of the endoplasmic reticulum (ER), and are then carried in small \\nvesicles to the Golgi apparatus and finally to the cell membrane. The ER \\ncontains soluble proteins which catalyse the folding of newly synthesized \\npolypeptides. These proteins are sorted from secretory proteins in the Golgi \\ncomplex: they carry a sorting signal (the tetrapeptide KDEL or a related \\nsequence) that allows them to be selectively retrieved and returned to the ER. \\nThis retrieval process also appears to be used by some bacterial toxins to aid \\ntheir invasion of the cell: these toxins contain KDEL-like sequences and may, in \\neffect, follow the secretory pathway in reverse. The membrane-bound receptor \\nresponsible for sorting luminal ER proteins has been identified in yeast by', score=-2.4072518348693848, doc_type='chunk', metadata={'parent_id': 1334264})]"
      ]
     },
     "execution_count": 21,
     "metadata": {},
     "output_type": "execute_result"
    }
   ],
   "execution_count": 21
  },
  {
   "metadata": {
    "ExecuteTime": {
     "end_time": "2025-10-24T18:41:50.873363Z",
     "start_time": "2025-10-24T18:41:50.872120Z"
    }
   },
   "cell_type": "code",
   "source": "",
   "id": "c9feaf7616e339c4",
   "outputs": [],
   "execution_count": null
  },
  {
   "metadata": {
    "ExecuteTime": {
     "end_time": "2025-10-24T18:41:50.916860Z",
     "start_time": "2025-10-24T18:41:50.915056Z"
    }
   },
   "cell_type": "code",
   "source": "",
   "id": "be6c0a15e4f8ffd3",
   "outputs": [],
   "execution_count": null
  },
  {
   "metadata": {
    "ExecuteTime": {
     "end_time": "2025-10-25T04:22:12.480655Z",
     "start_time": "2025-10-25T04:22:10.511737Z"
    }
   },
   "cell_type": "code",
   "source": [
    "system_prompt = \"\"\"You are a domain-careful, passage-bound assistant. You will be given:\n",
    "\n",
    "CONTEXT: a list of dictionaries, each with keys:\n",
    "\n",
    "text (string) — the passage content (use this only).\n",
    "\n",
    "score (float) — Higher means more relevant. Use for tie-breaking, not as ground truth.\n",
    "\n",
    "id (int or str) — unique identifier for citation (cite this).\n",
    "\n",
    "QUESTION: the user’s query.\n",
    "\n",
    "Ground Rules\n",
    "\n",
    "Use Only the Provided Passages\n",
    "\n",
    "All factual claims must come solely from text fields within CONTEXT.\n",
    "\n",
    "Ignore any prior knowledge and external facts.\n",
    "\n",
    "Cite by index\n",
    "\n",
    "After each factual claim or at the end of a sentence/ bullet, cite like [idx=2025].\n",
    "\n",
    "If multiple passages support a claim, cite the strongest 1–3 (prefer lower distance).\n",
    "\n",
    "Be Concise, Direct, and Structured\n",
    "\n",
    "Lead with a 1–3 sentence answer.\n",
    "\n",
    "Use bullets for lists, mechanisms, pros/cons, steps, etc.\n",
    "\n",
    "Include brief definitions only if needed to answer.\n",
    "\n",
    "Rank & Filter Passages Sensibly\n",
    "\n",
    "Prefer passages with lower distance, high topical match, and specific details.\n",
    "\n",
    "De-duplicate overlapping content; don’t over-cite.\n",
    "\n",
    "If passages conflict and can’t be resolved, state the disagreement and present both sides with citations.\n",
    "\n",
    "No Fabrication\n",
    "\n",
    "Do not invent numbers, dates, mechanisms, or terminology not explicitly present in text.\n",
    "\n",
    "When Information Is Insufficient\n",
    "\n",
    "Say: “I don’t have enough information in the provided passages to answer.”\n",
    "\n",
    "Optionally list what’s missing (e.g., “mechanism”, “dates”, “definitions”).\n",
    "\n",
    "Biomedical/Technical Care (if applicable)\n",
    "\n",
    "Distinguish hypotheses vs. established findings when the wording is tentative.\n",
    "\n",
    "Avoid over-generalization beyond what’s stated.\n",
    "\n",
    "If species/setting (rodent vs. human, in vitro vs. in vivo) isn’t specified in the passages, don’t assume.\n",
    "\n",
    "Working Steps (internal)\n",
    "\n",
    "Parse CONTEXT; extract only text and note each item’s index and distance.\n",
    "\n",
    "Identify passages most relevant to the QUESTION (favor lower distance).\n",
    "\n",
    "Synthesize the answer strictly from the chosen passages.\n",
    "\n",
    "Add minimal, targeted citations using [idx=…].\n",
    "\n",
    "If conflicts remain unresolved, present both views briefly.\n",
    "\n",
    "Input Format (exact)\n",
    "======================== CONTEXT ================================\n",
    "[{'text': '<passage 1 text>', 'distance': <float>, 'index': <int>},\n",
    " {'text': '<passage 2 text>', 'distance': <float>, 'index': <int>},\n",
    " ...\n",
    "]\n",
    "====================== QUESTION: <user question> ================\n",
    "\n",
    "Output Format (default)\n",
    "<Concise answer (1–3 sentences).>\n",
    "\n",
    "- <Key point 1>. [doc_id=33378]\n",
    "- <Key point 2>. [doc_id=37076, doc_id=33378]\n",
    "\n",
    "Citations: [doc_id=33378], [doc_id=37076]\n",
    "\n",
    "Insufficient Information\n",
    "I don’t have enough information in the provided passages to answer. I would need <briefly state what is missing>.\n",
    "Citations: —\n",
    "\n",
    "Optional (if you want a quick audit trail)\n",
    "\n",
    "After the answer (keep it short), you may append:\n",
    "\n",
    "Relevance notes (brief):\n",
    "- Used doc_id=37076 (lower distance, direct on H3 inverse agonism).\n",
    "- Used doc_id=33378 (mechanistic distribution & function).\n",
    "- Skipped doc_id=5234/2025/16517 (off-topic for QUESTION).\n",
    "\"\"\"\n",
    "\n",
    "prompt = f\"\"\"\n",
    "======================== CONTEXT ================================\n",
    "{[doc.to_dict() for doc in reranked_docs]}\n",
    "\n",
    "====================== QUESTION: {question} ================\"\"\"\n",
    "\n",
    "answer = llm.generate(\n",
    "    prompt=prompt,\n",
    "    system_prompt=system_prompt,\n",
    "    max_tokens=1000,\n",
    "    temperature=0.01,\n",
    ")\n",
    "\n",
    "print(answer)"
   ],
   "id": "6e4f536204ff6756",
   "outputs": [
    {
     "name": "stdout",
     "output_type": "stream",
     "text": [
      "Papilin is secreted. [idx=15094122#0], [idx=11076767#0], [idx=12666201#0]\n",
      "\n",
      "Relevance notes:\n",
      "- Used idx=15094122#0 (direct statement on secreted nature).\n",
      "- Used idx=11076767#0 (functional roles indicating secretion).\n",
      "- Used idx=12666201#0 (developmental patterns suggesting secretion).\n"
     ]
    }
   ],
   "execution_count": 22
  },
  {
   "metadata": {
    "ExecuteTime": {
     "end_time": "2025-10-25T04:22:18.776506Z",
     "start_time": "2025-10-25T04:22:18.759799Z"
    }
   },
   "cell_type": "code",
   "source": [
    "print(queries_ds[i]['answer'])\n",
    "print(queries_ds[i]['relevant_passage_ids'])"
   ],
   "id": "8e61bad564859833",
   "outputs": [
    {
     "name": "stdout",
     "output_type": "stream",
     "text": [
      "Yes,  papilin is a secreted protein\n",
      "[21784067, 19297413, 15094122, 7515725, 3320045, 20805556, 19724244, 12666201, 15094110, 11076767]\n"
     ]
    }
   ],
   "execution_count": 23
  },
  {
   "metadata": {
    "ExecuteTime": {
     "end_time": "2025-10-25T04:22:20.101718Z",
     "start_time": "2025-10-25T04:22:20.085220Z"
    }
   },
   "cell_type": "code",
   "source": [
    "from rag.pipeline import RAGPipeline\n",
    "\n",
    "pipe = RAGPipeline(\n",
    "    doc_store,\n",
    "    vec_store,\n",
    "    embedder,\n",
    "    reranker,\n",
    "    llm,\n",
    "    settings,\n",
    ")"
   ],
   "id": "837eed82a32f0324",
   "outputs": [],
   "execution_count": 24
  },
  {
   "metadata": {
    "ExecuteTime": {
     "end_time": "2025-10-25T04:22:28.288971Z",
     "start_time": "2025-10-25T04:22:24.940691Z"
    }
   },
   "cell_type": "code",
   "source": [
    "i = 103\n",
    "question = queries_ds['question'][i]\n",
    "\n",
    "print('============== QUESTION =============')\n",
    "print(question, '\\n')\n",
    "\n",
    "print('=============== RAG ANSWER =============')\n",
    "answer = pipe.query(question)\n",
    "print(answer, '\\n')\n",
    "\n",
    "print('=============== TRUE ANSWER ================')\n",
    "print(queries_ds[i]['answer'])\n",
    "print(queries_ds[i]['relevant_passage_ids'])"
   ],
   "id": "dfb1798961a5aa08",
   "outputs": [
    {
     "name": "stdout",
     "output_type": "stream",
     "text": [
      "============== QUESTION =============\n",
      "How is spastic diplegia diagnosed? \n",
      "\n",
      "=============== RAG ANSWER =============\n",
      "('Spastic diplegia is diagnosed through a combination of clinical examination and gait analysis. Specifically, the physical status and gait patterns of children with spastic diplegia are assessed using methods such as three-dimensional gait analysis (3DGA) and physical examinations.\\n\\n- Gait patterns are analyzed to identify abnormalities in movement, which help in distinguishing between different groups of children with spastic diplegia. [idx=24182356]\\n\\n- Full-body movements, including those of the upper limbs, are also considered to differentiate between hereditary spastic paraplegia (HSP) and spastic diplegia (SD). [idx=23085499]\\n\\n- Additional diagnostic items include the absence of certain leg movements, such as simultaneous flexion and extension of the hips and knees, which are typically seen in control preterm infants but not in diplegic infants. [idx=1743414]\\n\\nCitations: [idx=24182356], [idx=23085499], [idx=1743414]', [Document(id='24182356#0', text='AIM: The aim of this study was to explore the physical status and gait patterns \\nof children with spastic diplegia secondary to human immunodeficiency virus \\nencephalopathy (HIVE).\\nMETHOD: A cross-sectional study was conducted on children diagnosed with HIVE \\nand spastic diplegia. Sociodemographic and clinical background information was \\nobtained, followed by three-dimensional gait analysis (3DGA) and a physical \\nexamination including assessments of muscle tone, strength, motor control, \\ncontractures, and bony deformities of the lower extremities.\\nRESULTS: Fourteen children (eight males, six females; mean age 5 y 8 mo [SD 9 \\nmo], range 4 y 4 mo-6 y 10 mo) were studied. The cohort was divided into two \\ngroups based on distinctive gait patterns. Nine participants in group I showed \\nonly limited abnormalities. Group II displayed a more pathological gait pattern', score=4.274109840393066, doc_type='chunk', metadata={'parent_id': 24182356}), Document(id='23085499#0', text=\"Hereditary spastic paraplegia (HSP) and spastic diplegia (SD) patients share a \\nstrong clinical resemblance. Thus, HSP patients are frequently misdiagnosed with \\na mild form of SD. Clinical gait analysis (CGA) has been highlighted as a \\npossible tool to support the differential diagnosis of HSP and SD. Previous \\nanalysis has focused on the lower-body but not the upper-body, where numerous \\ncompensations during walking occur. The aim of this study was to compare the \\nfull-body movements of HSP and SD groups and, in particular, the movement of the \\nupper limbs. Ten HSP and 12 SD patients were evaluated through a CGA (VICON 460 \\nand Mx3+; ViconPeak(®), Oxford, UK) between 2008 and 2012. The kinematic \\nparameters were computed using the ViconPeak(®) software (Plug-In-Gait). In \\naddition, the mean amplitude of normalised (by the patient's height) arm swing\", score=3.9116530418395996, doc_type='chunk', metadata={'parent_id': 23085499}), Document(id='1743414#0', text='Leg movements in the supine position of 49 infants with spastic diplegia (three \\nto 11 months corrected age) were examined. Only simultaneous flexion and \\nextension of the hips and knees were seen, with exceptional isolated hip \\nmovements; the simultaneous movements had synergic features. When the knees were \\nflexed, the hips were flexed, abducted and externally rotated, and the ankles \\nwere dorsiflexed. When the knees were extended, the hips were extended, adducted \\nand internally rotated and the ankles were plantar-flexed. Hip flexion combined \\nwith knee extension (leg elevation) and isolated knee movements were not seen in \\ndiplegic infants, but were seen in all control preterm infants with a good \\nprognosis, after five and six months corrected age, respectively. The absence of \\nthese movements is a useful diagnostic item for spastic diplegia.', score=2.6031737327575684, doc_type='chunk', metadata={'parent_id': 1743414}), Document(id='24409030#0', text=\"[Purpose] This study aimed to investigate the effects of Vojta therapy on \\nspatiotemporal gait parameters in children with spastic diplegia. [Methods] The \\nstudy population consisted of 3 children diagnosed with spastic diplegia. The \\nsubjects were treated with Vojta therapy for 8 weeks and followed up for 8 weeks \\nafter completion of the therapy. Vicon motion analysis was used to determine the \\nsubjects' spatiotemporal gait parameters. [Results] The following results were \\nnoted in the changes of each joint angle in the sagittal plane after Vojta \\ntherapy. Subject 1 remained in phase throughout the entire gait cycle and did \\nnot show any noticeable improvement, even demonstrating a negative range of \\nmotion when compared to the baseline. Subject 2 showed a normal anti-phase in \\nheel strike, and the mid-stance, and swing phases. Subject 3 showed a normal \\nanti-phase in heel strike and mid-stance, but the anti-phase during the swing\", score=2.52166748046875, doc_type='chunk', metadata={'parent_id': 24409030}), Document(id='23121133#0', text='AIM: To investigate the association between magnetic resonance imaging (MRI) \\npatterns and motor function, epileptic episodes, and IQ or developmental \\nquotient in patients born at term with spastic diplegia.\\nMETHOD: Eighty-six patients born at term with cerebral palsy (CP) and spastic \\ndiplegia (54 males, 32 females; median age 20 y, range 7-42 y) among 829 \\npatients with CP underwent brain MRI between 1990 and 2008. The MRI and clinical \\nfindings were analysed retrospectively. Intellectual disability was classified \\naccording to the Enjoji developmental test or the Wechsler Intelligence Scale \\nfor Children (3rd edition).\\nRESULTS: The median ages at diagnosis of CP, assignment of Gross Motor Function \\nClassification System (GMFCS) level, cognitive assessment, and MRI were 2 years \\n(range 5 mo-8 y), 6 years (2 y 8 mo-19 y), 6 years (1 y 4 mo-19 y), and 7 years', score=2.2117583751678467, doc_type='chunk', metadata={'parent_id': 23121133})]) \n",
      "\n",
      "=============== TRUE ANSWER ================\n",
      "Diagnosis of spastic diplegia is mainly carried out with through clinical gait analysis (CGA), with variations such as 1-minute walk, LSU, and 10-meter walk tests, or Gross Motor Function Measure-88 (GMFM-88). Other methods used for evaluation of patients include brain magnetic resonance imaging (MRI) and motor function, presence of epileptic episodes, and IQ or developmental quotient.\n",
      "[24901761, 21310339, 25276040, 24239880, 17826455, 20829081, 10427678, 1743414, 23085499, 25700542, 24409030, 24182356, 16344032, 2816867, 15157997, 23121133, 2600179, 7270517, 12549749, 17509240]\n"
     ]
    }
   ],
   "execution_count": 26
  },
  {
   "metadata": {},
   "cell_type": "code",
   "outputs": [],
   "execution_count": null,
   "source": "",
   "id": "d795719beb6364c"
  },
  {
   "metadata": {},
   "cell_type": "code",
   "outputs": [],
   "execution_count": null,
   "source": "",
   "id": "dd3a33ff0ded75b3"
  }
 ],
 "metadata": {
  "kernelspec": {
   "display_name": "Python 3",
   "language": "python",
   "name": "python3"
  },
  "language_info": {
   "codemirror_mode": {
    "name": "ipython",
    "version": 2
   },
   "file_extension": ".py",
   "mimetype": "text/x-python",
   "name": "python",
   "nbconvert_exporter": "python",
   "pygments_lexer": "ipython2",
   "version": "2.7.6"
  }
 },
 "nbformat": 4,
 "nbformat_minor": 5
}
