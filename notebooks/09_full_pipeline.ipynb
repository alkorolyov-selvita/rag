{
 "cells": [
  {
   "cell_type": "code",
   "id": "initial_id",
   "metadata": {
    "collapsed": true,
    "ExecuteTime": {
     "end_time": "2025-10-25T12:31:33.471724Z",
     "start_time": "2025-10-25T12:31:31.104587Z"
    }
   },
   "source": [
    "from sknetwork.ranking import top_k\n",
    "%load_ext autoreload\n",
    "%autoreload 2\n",
    "\n",
    "from dotenv import load_dotenv\n",
    "\n",
    "from rag.config import settings, PROJECT_ROOT\n",
    "from rag.ingestion import create_chunker\n",
    "from rag.embeddings import create_embedder\n",
    "from rag.retrieval import create_reranker\n",
    "from rag.generation import create_llm\n",
    "from rag.storage import (\n",
    "    BaseDocumentStore,\n",
    "    BaseVectorStore,\n",
    "    Document,\n",
    "    SearchResult,\n",
    "    make_chunk_id,\n",
    "    parse_chunk_id,\n",
    "    InMemoryDocumentStore,\n",
    "    FAISSVectorStore, PostgresDocumentStore, PgvectorVectorStore,\n",
    ")\n",
    "\n",
    "from datasets import load_dataset, Dataset\n",
    "\n",
    "load_dotenv()"
   ],
   "outputs": [
    {
     "name": "stderr",
     "output_type": "stream",
     "text": [
      "/home/ergot/projects/rag/.venv/lib/python3.12/site-packages/tqdm/auto.py:21: TqdmWarning: IProgress not found. Please update jupyter and ipywidgets. See https://ipywidgets.readthedocs.io/en/stable/user_install.html\n",
      "  from .autonotebook import tqdm as notebook_tqdm\n"
     ]
    },
    {
     "data": {
      "text/plain": [
       "True"
      ]
     },
     "execution_count": 1,
     "metadata": {},
     "output_type": "execute_result"
    }
   ],
   "execution_count": 1
  },
  {
   "metadata": {
    "ExecuteTime": {
     "end_time": "2025-10-25T12:31:39.882596Z",
     "start_time": "2025-10-25T12:31:33.473621Z"
    }
   },
   "cell_type": "code",
   "source": [
    "embedder = create_embedder(settings)\n",
    "chunker = create_chunker(settings)\n",
    "reranker = create_reranker(settings)\n",
    "llm = create_llm(settings)"
   ],
   "id": "e94a6db8a11a9c34",
   "outputs": [
    {
     "name": "stderr",
     "output_type": "stream",
     "text": [
      "Loading checkpoint shards: 100%|██████████| 4/4 [00:00<00:00, 309.30it/s]\n"
     ]
    }
   ],
   "execution_count": 2
  },
  {
   "metadata": {
    "ExecuteTime": {
     "end_time": "2025-10-25T12:31:42.956098Z",
     "start_time": "2025-10-25T12:31:39.927686Z"
    }
   },
   "cell_type": "code",
   "source": [
    "corpus_ds = load_dataset(\"rag-datasets/rag-mini-bioasq\", \"text-corpus\")['passages']\n",
    "queries_ds = load_dataset(\"rag-datasets/rag-mini-bioasq\", \"question-answer-passages\")['test']"
   ],
   "id": "1eb8690662ff6a89",
   "outputs": [],
   "execution_count": 3
  },
  {
   "metadata": {
    "ExecuteTime": {
     "end_time": "2025-10-25T12:31:43.020387Z",
     "start_time": "2025-10-25T12:31:43.003038Z"
    }
   },
   "cell_type": "code",
   "source": "corpus_ds",
   "id": "3377db98104a205b",
   "outputs": [
    {
     "data": {
      "text/plain": [
       "Dataset({\n",
       "    features: ['passage', 'id'],\n",
       "    num_rows: 40221\n",
       "})"
      ]
     },
     "execution_count": 4,
     "metadata": {},
     "output_type": "execute_result"
    }
   ],
   "execution_count": 4
  },
  {
   "metadata": {
    "ExecuteTime": {
     "end_time": "2025-10-25T12:31:43.060664Z",
     "start_time": "2025-10-25T12:31:43.046041Z"
    }
   },
   "cell_type": "code",
   "source": "corpus_ds = corpus_ds.filter(lambda row: row['passage'] != 'nan')",
   "id": "ed7c8883a042e2fb",
   "outputs": [],
   "execution_count": 5
  },
  {
   "metadata": {
    "ExecuteTime": {
     "end_time": "2025-10-25T12:31:43.110371Z",
     "start_time": "2025-10-25T12:31:43.088897Z"
    }
   },
   "cell_type": "code",
   "source": "chunked_ds = chunker.chunk_dataset(corpus_ds, text_col='passage', id_col='id')",
   "id": "8f0b90645ee415c8",
   "outputs": [],
   "execution_count": 6
  },
  {
   "metadata": {
    "ExecuteTime": {
     "end_time": "2025-10-25T12:31:43.413837Z",
     "start_time": "2025-10-25T12:31:43.131907Z"
    }
   },
   "cell_type": "code",
   "source": [
    "from rag.utils import batched\n",
    "\n",
    "doc_store = InMemoryDocumentStore()\n",
    "\n",
    "for batch in batched(chunked_ds):\n",
    "    docs = [\n",
    "        Document(\n",
    "            id=row['chunk_id'],\n",
    "            text=row['text'],\n",
    "            doc_type='chunk',\n",
    "            meta={'parent_id': row['doc_id']},\n",
    "        ) for row in batch\n",
    "    ]\n",
    "    doc_store.add_documents(docs)"
   ],
   "id": "36247d077af72a81",
   "outputs": [
    {
     "ename": "ValueError",
     "evalue": "Document 9797#0 must have doc_type='parent'",
     "output_type": "error",
     "traceback": [
      "\u001B[31m---------------------------------------------------------------------------\u001B[39m",
      "\u001B[31mValueError\u001B[39m                                Traceback (most recent call last)",
      "\u001B[36mCell\u001B[39m\u001B[36m \u001B[39m\u001B[32mIn[7]\u001B[39m\u001B[32m, line 14\u001B[39m\n\u001B[32m      5\u001B[39m \u001B[38;5;28;01mfor\u001B[39;00m batch \u001B[38;5;129;01min\u001B[39;00m batched(chunked_ds):\n\u001B[32m      6\u001B[39m     docs = [\n\u001B[32m      7\u001B[39m         Document(\n\u001B[32m      8\u001B[39m             \u001B[38;5;28mid\u001B[39m=row[\u001B[33m'\u001B[39m\u001B[33mchunk_id\u001B[39m\u001B[33m'\u001B[39m],\n\u001B[32m   (...)\u001B[39m\u001B[32m     12\u001B[39m         ) \u001B[38;5;28;01mfor\u001B[39;00m row \u001B[38;5;129;01min\u001B[39;00m batch\n\u001B[32m     13\u001B[39m     ]\n\u001B[32m---> \u001B[39m\u001B[32m14\u001B[39m     \u001B[43mdoc_store\u001B[49m\u001B[43m.\u001B[49m\u001B[43madd_documents\u001B[49m\u001B[43m(\u001B[49m\u001B[43mdocs\u001B[49m\u001B[43m)\u001B[49m\n",
      "\u001B[36mFile \u001B[39m\u001B[32m~/projects/rag/src/rag/storage/document_stores/memory.py:33\u001B[39m, in \u001B[36mInMemoryDocumentStore.add_documents\u001B[39m\u001B[34m(self, documents)\u001B[39m\n\u001B[32m     31\u001B[39m     \u001B[38;5;28;01mraise\u001B[39;00m \u001B[38;5;167;01mValueError\u001B[39;00m(\u001B[33mf\u001B[39m\u001B[33m\"\u001B[39m\u001B[33mDocument \u001B[39m\u001B[38;5;132;01m{\u001B[39;00mdoc.id\u001B[38;5;132;01m}\u001B[39;00m\u001B[33m must have text content\u001B[39m\u001B[33m\"\u001B[39m)\n\u001B[32m     32\u001B[39m \u001B[38;5;28;01mif\u001B[39;00m doc.doc_type != \u001B[33m\"\u001B[39m\u001B[33mparent\u001B[39m\u001B[33m\"\u001B[39m:\n\u001B[32m---> \u001B[39m\u001B[32m33\u001B[39m     \u001B[38;5;28;01mraise\u001B[39;00m \u001B[38;5;167;01mValueError\u001B[39;00m(\u001B[33mf\u001B[39m\u001B[33m\"\u001B[39m\u001B[33mDocument \u001B[39m\u001B[38;5;132;01m{\u001B[39;00mdoc.id\u001B[38;5;132;01m}\u001B[39;00m\u001B[33m must have doc_type=\u001B[39m\u001B[33m'\u001B[39m\u001B[33mparent\u001B[39m\u001B[33m'\u001B[39m\u001B[33m\"\u001B[39m)\n\u001B[32m     35\u001B[39m doc_id = \u001B[38;5;28mstr\u001B[39m(doc.id)\n\u001B[32m     36\u001B[39m \u001B[38;5;28mself\u001B[39m._documents[doc_id] = doc\n",
      "\u001B[31mValueError\u001B[39m: Document 9797#0 must have doc_type='parent'"
     ]
    }
   ],
   "execution_count": 7
  },
  {
   "metadata": {
    "ExecuteTime": {
     "end_time": "2025-10-25T12:31:43.415487721Z",
     "start_time": "2025-10-25T05:55:46.865261Z"
    }
   },
   "cell_type": "code",
   "source": "doc_store",
   "id": "febde96d37bcb2a3",
   "outputs": [
    {
     "data": {
      "text/plain": [
       "InMemoryDocumentStore(count=64042)"
      ]
     },
     "execution_count": 8,
     "metadata": {},
     "output_type": "execute_result"
    }
   ],
   "execution_count": 8
  },
  {
   "metadata": {
    "ExecuteTime": {
     "end_time": "2025-10-25T12:31:08.439308614Z",
     "start_time": "2025-10-25T05:55:46.908684Z"
    }
   },
   "cell_type": "code",
   "source": "doc_store.save(PROJECT_ROOT / 'data/doc_store.pkl')",
   "id": "731ec91ed9b9a83f",
   "outputs": [],
   "execution_count": 9
  },
  {
   "metadata": {
    "ExecuteTime": {
     "end_time": "2025-10-25T12:31:08.439387115Z",
     "start_time": "2025-10-25T05:55:47.053763Z"
    }
   },
   "cell_type": "code",
   "source": [
    "from tqdm import tqdm\n",
    "\n",
    "embedder = create_embedder(settings)\n",
    "\n",
    "vec_store = FAISSVectorStore(\n",
    "    embedder.dimension,\n",
    ")\n",
    "\n",
    "pbar = tqdm(total=doc_store.count_chunks())\n",
    "\n",
    "for batch in doc_store.iter_chunks():\n",
    "    texts = [x.text for x in batch]\n",
    "    ids = [x.id for x in batch]\n",
    "    embs = embedder.embed_batch(texts)\n",
    "    vec_store.add(embs, ids)\n",
    "    pbar.update(len(batch))\n",
    "\n",
    "pbar.close()"
   ],
   "id": "228cc5093ea59354",
   "outputs": [
    {
     "name": "stderr",
     "output_type": "stream",
     "text": [
      "100%|██████████| 64042/64042 [00:26<00:00, 2460.87it/s]\n"
     ]
    }
   ],
   "execution_count": 10
  },
  {
   "metadata": {
    "ExecuteTime": {
     "end_time": "2025-10-25T12:31:08.439491946Z",
     "start_time": "2025-10-25T05:56:15.099608Z"
    }
   },
   "cell_type": "code",
   "source": "vec_store",
   "id": "849db6fd763e201a",
   "outputs": [
    {
     "data": {
      "text/plain": [
       "FAISSVectorStore(count=64042, dimension=384, index_type=flat_ip)"
      ]
     },
     "execution_count": 11,
     "metadata": {},
     "output_type": "execute_result"
    }
   ],
   "execution_count": 11
  },
  {
   "metadata": {
    "ExecuteTime": {
     "end_time": "2025-10-25T12:31:08.439561687Z",
     "start_time": "2025-10-25T05:56:15.143737Z"
    }
   },
   "cell_type": "code",
   "source": "vec_store.save(PROJECT_ROOT / 'data/vec_store')",
   "id": "544f1ed45deda608",
   "outputs": [],
   "execution_count": 12
  },
  {
   "metadata": {
    "ExecuteTime": {
     "end_time": "2025-10-25T12:31:08.439621317Z",
     "start_time": "2025-10-25T05:56:15.223313Z"
    }
   },
   "cell_type": "code",
   "source": [
    "i = 2\n",
    "question = queries_ds[i]['question']\n",
    "\n",
    "print('Question:', question)\n",
    "print(80*'=')\n",
    "\n",
    "q_emb = embedder.embed_text(question)\n",
    "initial_results = vec_store.search(q_emb, k=settings.k)\n",
    "for res in initial_results[:5]:\n",
    "    print(doc_store.get_chunk(res.chunk_id).text)\n",
    "    print(80*'=')"
   ],
   "id": "478f4d4c81906db7",
   "outputs": [
    {
     "name": "stdout",
     "output_type": "stream",
     "text": [
      "Question: Is the protein Papilin secreted?\n",
      "================================================================================\n",
      "Papilins are homologous, secreted extracellular matrix proteins which share a \n",
      "common order of protein domains. They occur widely, from nematodes to man, and \n",
      "can differ in the number of repeats of a given type of domain. Within one \n",
      "species the number of repeats can vary by differential RNA splicing. A \n",
      "distinctly conserved cassette of domains at the amino-end of papilins is \n",
      "homologous with a cassette of protein domains at the carboxyl-end of the ADAMTS \n",
      "subgroup of secreted, matrix-associated metalloproteases. Papilins primarily \n",
      "occur in basement membranes. Papilins interact with several extracellular matrix \n",
      "components and ADAMTS enzymes. Papilins are essential for embryonic development \n",
      "of Drosophila melanogaster and Caenorhabditis elegans.\n",
      "================================================================================\n",
      "A sulfated glycoprotein was isolated from the culture media of Drosophila Kc \n",
      "cells and named papilin. Affinity purified antibodies against this protein \n",
      "localized it primarily to the basement membranes of embryos. The antibodies \n",
      "cross-reacted with another material which was not sulfated and appeared to be \n",
      "the core protein of papilin, which is proteoglycan-like. After reduction, \n",
      "papilin electrophoresed in sodium dodecyl sulfate-polyacrylamide gel \n",
      "electrophoresis as a broad band of about 900,000 apparent molecular weight and \n",
      "the core protein as a narrow band of approximately 400,000. The core protein was \n",
      "formed by some cell lines and by other cells on incubation with 1 mM \n",
      "4-methylumbelliferyl xyloside, which inhibited formation of the \n",
      "proteoglycan-like form. The buoyant density of papilin in CsCl/4 M guanidine\n",
      "================================================================================\n",
      "Papilin is an extracellular matrix glycoprotein that we have found to be \n",
      "involved in, (1) thin matrix layers during gastrulation, (2) matrix associated \n",
      "with wandering, phagocytic hemocytes, (3) basement membranes and (4) \n",
      "space-filling matrix during Drosophila development. Determination of its cDNA \n",
      "sequence led to the identification of Caenorhabditis and mammalian papilins. A \n",
      "distinctly conserved 'papilin cassette' of domains at the amino-end of papilins \n",
      "is also the carboxyl-end of the ADAMTS subgroup of secreted, matrix-associated \n",
      "metalloproteinases; this cassette contains one thrombospondin type 1 (TSR) \n",
      "domain, a specific cysteine-rich domain and several partial TSR domains. In \n",
      "vitro, papilin non-competitively inhibits procollagen N-proteinase, an ADAMTS\n",
      "================================================================================\n",
      "Papilins are extracellular matrix proteins that share a particular, common order \n",
      "of types of protein domains. They occur widely, from nematodes to man, and can \n",
      "differ in the number of repeats of a given type of domain. Protein variety is \n",
      "increased by differential splicing of pre-mRNA. We report that Drosophila, which \n",
      "has a compact genome, expresses three splice variants of papilin during \n",
      "embryogenesis in developmentally defined patterns. These isoforms have different \n",
      "numbers of Kunitz and IgC2 domains. The papilin isoforms are expressed in \n",
      "specific cell types and contribute to different extracellular matrices in \n",
      "gastrulation folds, early mesoderm, heart formation, basement membranes, and \n",
      "elaboration of the excorporeal peritrophic membrane that lines the gut. This \n",
      "finding indicates an unexpectedly broad spectrum of different pericellular \n",
      "matrices in Drosophila embryos. Such papilin-containing matrices have \n",
      "developmental as well as functional significance, as we previously showed that\n",
      "================================================================================\n",
      "secretion was induced by lacritin or carbachol (Cch, positive control). Proteins \n",
      "were detected and identified by immunoblotting and immunocytochemistry. \n",
      "Intracellular Ca(2+) was measured with the fluorophore Calcium-4, and cell \n",
      "damage was determined by LDH leakage into the culture medium.\n",
      "RESULTS: In cultured monkey acinar cells, lacritin stimulated tear protein \n",
      "secretion in normal cells without elevating intracellular Ca(2+). In contrast, \n",
      "Cch elevated intracellular Ca(2+) and release of tear proteins. This contrast \n",
      "suggested an alternate, calcium-independent mechanism for lacritin-induced \n",
      "protein secretion. TNF-α plus IFN-γ caused LDH leakage from sensitive human \n",
      "corneal epithelial cells, but even higher doses of TNF-α plus IFN-γ did not \n",
      "cause LDH leakage from monkey acinar cells, suggesting a higher tolerance\n",
      "================================================================================\n"
     ]
    }
   ],
   "execution_count": 13
  },
  {
   "metadata": {
    "ExecuteTime": {
     "end_time": "2025-10-25T12:31:08.439675348Z",
     "start_time": "2025-10-25T05:56:15.266940Z"
    }
   },
   "cell_type": "code",
   "source": "res",
   "id": "587da75ff868d852",
   "outputs": [
    {
     "data": {
      "text/plain": [
       "SearchResult(chunk_id='23482462#1', score=0.7417332530021667, meta=None)"
      ]
     },
     "execution_count": 14,
     "metadata": {},
     "output_type": "execute_result"
    }
   ],
   "execution_count": 14
  },
  {
   "metadata": {
    "ExecuteTime": {
     "end_time": "2025-10-25T12:31:08.439760639Z",
     "start_time": "2025-10-25T05:56:15.309733Z"
    }
   },
   "cell_type": "code",
   "source": "retrived_docs = [doc_store.get_by_id(r.chunk_id) for r in initial_results]",
   "id": "425cdc4786f602f6",
   "outputs": [],
   "execution_count": 15
  },
  {
   "metadata": {
    "ExecuteTime": {
     "end_time": "2025-10-25T12:31:08.439851390Z",
     "start_time": "2025-10-25T05:56:15.352167Z"
    }
   },
   "cell_type": "code",
   "source": [
    "ranked = reranker.rerank(question, retrived_docs)\n",
    "reranked_docs = ranked[:settings.top_k]\n",
    "reranked_docs"
   ],
   "id": "f9b8703f13d3feb2",
   "outputs": [
    {
     "data": {
      "text/plain": [
       "[Document(id='15094122#0', text='Papilins are homologous, secreted extracellular matrix proteins which share a \\ncommon order of protein domains. They occur widely, from nematodes to man, and \\ncan differ in the number of repeats of a given type of domain. Within one \\nspecies the number of repeats can vary by differential RNA splicing. A \\ndistinctly conserved cassette of domains at the amino-end of papilins is \\nhomologous with a cassette of protein domains at the carboxyl-end of the ADAMTS \\nsubgroup of secreted, matrix-associated metalloproteases. Papilins primarily \\noccur in basement membranes. Papilins interact with several extracellular matrix \\ncomponents and ADAMTS enzymes. Papilins are essential for embryonic development \\nof Drosophila melanogaster and Caenorhabditis elegans.', score=6.969378471374512, doc_type='chunk', meta={}),\n",
       " Document(id='11076767#0', text=\"Papilin is an extracellular matrix glycoprotein that we have found to be \\ninvolved in, (1) thin matrix layers during gastrulation, (2) matrix associated \\nwith wandering, phagocytic hemocytes, (3) basement membranes and (4) \\nspace-filling matrix during Drosophila development. Determination of its cDNA \\nsequence led to the identification of Caenorhabditis and mammalian papilins. A \\ndistinctly conserved 'papilin cassette' of domains at the amino-end of papilins \\nis also the carboxyl-end of the ADAMTS subgroup of secreted, matrix-associated \\nmetalloproteinases; this cassette contains one thrombospondin type 1 (TSR) \\ndomain, a specific cysteine-rich domain and several partial TSR domains. In \\nvitro, papilin non-competitively inhibits procollagen N-proteinase, an ADAMTS\", score=3.6127939224243164, doc_type='chunk', meta={}),\n",
       " Document(id='3320045#0', text='A sulfated glycoprotein was isolated from the culture media of Drosophila Kc \\ncells and named papilin. Affinity purified antibodies against this protein \\nlocalized it primarily to the basement membranes of embryos. The antibodies \\ncross-reacted with another material which was not sulfated and appeared to be \\nthe core protein of papilin, which is proteoglycan-like. After reduction, \\npapilin electrophoresed in sodium dodecyl sulfate-polyacrylamide gel \\nelectrophoresis as a broad band of about 900,000 apparent molecular weight and \\nthe core protein as a narrow band of approximately 400,000. The core protein was \\nformed by some cell lines and by other cells on incubation with 1 mM \\n4-methylumbelliferyl xyloside, which inhibited formation of the \\nproteoglycan-like form. The buoyant density of papilin in CsCl/4 M guanidine', score=1.7963807582855225, doc_type='chunk', meta={}),\n",
       " Document(id='12666201#0', text='Papilins are extracellular matrix proteins that share a particular, common order \\nof types of protein domains. They occur widely, from nematodes to man, and can \\ndiffer in the number of repeats of a given type of domain. Protein variety is \\nincreased by differential splicing of pre-mRNA. We report that Drosophila, which \\nhas a compact genome, expresses three splice variants of papilin during \\nembryogenesis in developmentally defined patterns. These isoforms have different \\nnumbers of Kunitz and IgC2 domains. The papilin isoforms are expressed in \\nspecific cell types and contribute to different extracellular matrices in \\ngastrulation folds, early mesoderm, heart formation, basement membranes, and \\nelaboration of the excorporeal peritrophic membrane that lines the gut. This \\nfinding indicates an unexpectedly broad spectrum of different pericellular \\nmatrices in Drosophila embryos. Such papilin-containing matrices have \\ndevelopmental as well as functional significance, as we previously showed that', score=0.6183948516845703, doc_type='chunk', meta={}),\n",
       " Document(id='16424866#0', text='Secreted protein, acidic and rich in cysteine (SPARC), is a matricellular \\nglycoprotein with growth-inhibitory and antiangiogenic functions. Although SPARC \\nhas been implicated as a tumor suppressor in humans, its function in normal or \\nmalignant hematopoiesis has not previously been studied. We found that the \\nleukemic cells of AML patients with MLL gene rearrangements express low to \\nundetectable amounts of SPARC whereas normal hematopoietic progenitors and most \\nAML patients express this gene. SPARC RNA and protein levels were also low or \\nundetectable in AML cell lines with MLL translocations. Consistent with its \\ntumor suppressive effects in various solid tumor models, exogenous SPARC protein \\nselectively reduced the growth of cell lines with MLL rearrangements by \\ninhibiting cell cycle progression from G1 to S phase. The lack of SPARC', score=-1.5358200073242188, doc_type='chunk', meta={}),\n",
       " Document(id='11076767#1', text='domain, a specific cysteine-rich domain and several partial TSR domains. In \\nvitro, papilin non-competitively inhibits procollagen N-proteinase, an ADAMTS \\nmetalloproteinase. Inhibiting papilin synthesis in Drosophila or Caenorhabditis \\ncauses defective cell arrangements and embryonic death. Ectopic expression of \\npapilin in Drosophila causes lethal abnormalities in muscle, Malpighian tubule \\nand trachea formation. We suggest that papilin influences cell rearrangements \\nand may modulate metalloproteinases during organogenesis.', score=-1.5527660846710205, doc_type='chunk', meta={}),\n",
       " Document(id='26150355#0', text='Matrix metalloproteinase-9 (MMP-9) is a secreted glycoprotein with a major role \\nin shaping the extracellular matrix and a detailed understanding of the \\nsecretory mechanism could help identify methods to correct diseases resulting \\nfrom dysregulation of secretion. MMP-9 appears to follow a canonical secretory \\npathway through a quality control cycle in the endoplasmic reticulum (ER) before \\ntransport of the properly folded protein to the Golgi apparatus and beyond for \\nsecretion. Through a complementation assay, we determined that LMAN1, a \\nwell-studied lectin-carrier protein, interacts with a secretion-competent \\nN-glycosylated MMP-9 in the ER while N-glycosylation-deficient \\nsecretion-compromised MMP-9 does not. In contrast, co-immunoprecipitation \\ndemonstrated protein interaction between LMAN1 and secretion-compromised', score=-2.2372522354125977, doc_type='chunk', meta={}),\n",
       " Document(id='3320045#1', text='proteoglycan-like form. The buoyant density of papilin in CsCl/4 M guanidine \\nhydrochloride is 1.4 g/ml, that of the core protein is much less. Papilin forms \\noligomers linked by disulfide bridges, as shown by sodium dodecyl \\nsulfate-agarose gel electrophoresis and electron microscopy. The protomer is a \\n225 +/- 15-nm thread which is disulfide-linked into a loop with fine, protruding \\nthread ends. Oligomers form clover-leaf-like structures. The protein contains \\n22% combined serine and threonine residues and 25% combined aspartic and \\nglutamic residues. 10 g of polypeptide has attached 6.4 g of glucosamine, 3.1 g \\nof galactosamine, 6.1 g of uronic acid, and 2.7 g of neutral sugars. There are', score=-2.314455986022949, doc_type='chunk', meta={}),\n",
       " Document(id='3320045#2', text='of galactosamine, 6.1 g of uronic acid, and 2.7 g of neutral sugars. There are \\nabout 80 O-linked carbohydrate chains/core protein molecule. Sulfate is attached \\nto these chains. The O-linkage is through an unidentified neutral sugar. Papilin \\nis largely resistant to common glycosidases and several proteases. The degree of \\nsulfation varies with the sulfate concentration of the incubation medium. This \\nproteoglycan-like glycoprotein differs substantially from corresponding \\nproteoglycans found in vertebrate basement membranes, in contrast to Drosophila \\nbasement membrane laminin and collagen IV which have been conserved \\nevolutionarily.', score=-2.3610925674438477, doc_type='chunk', meta={}),\n",
       " Document(id='1334264#0', text='In eukaryotic cells, protein secretion provides a complex organizational \\nproblem. Secretory proteins are first transported, in an unfolded state, across \\nthe membrane of the endoplasmic reticulum (ER), and are then carried in small \\nvesicles to the Golgi apparatus and finally to the cell membrane. The ER \\ncontains soluble proteins which catalyse the folding of newly synthesized \\npolypeptides. These proteins are sorted from secretory proteins in the Golgi \\ncomplex: they carry a sorting signal (the tetrapeptide KDEL or a related \\nsequence) that allows them to be selectively retrieved and returned to the ER. \\nThis retrieval process also appears to be used by some bacterial toxins to aid \\ntheir invasion of the cell: these toxins contain KDEL-like sequences and may, in \\neffect, follow the secretory pathway in reverse. The membrane-bound receptor \\nresponsible for sorting luminal ER proteins has been identified in yeast by', score=-2.4072518348693848, doc_type='chunk', meta={})]"
      ]
     },
     "execution_count": 16,
     "metadata": {},
     "output_type": "execute_result"
    }
   ],
   "execution_count": 16
  },
  {
   "metadata": {
    "ExecuteTime": {
     "end_time": "2025-10-25T12:31:08.439968272Z",
     "start_time": "2025-10-25T05:56:15.394639Z"
    }
   },
   "cell_type": "code",
   "source": "",
   "id": "c9feaf7616e339c4",
   "outputs": [],
   "execution_count": null
  },
  {
   "metadata": {
    "ExecuteTime": {
     "end_time": "2025-10-25T12:31:08.440040782Z",
     "start_time": "2025-10-25T05:56:15.438465Z"
    }
   },
   "cell_type": "code",
   "source": "",
   "id": "be6c0a15e4f8ffd3",
   "outputs": [],
   "execution_count": null
  },
  {
   "metadata": {
    "ExecuteTime": {
     "end_time": "2025-10-25T12:31:08.440119873Z",
     "start_time": "2025-10-25T05:56:15.482780Z"
    }
   },
   "cell_type": "code",
   "source": [
    "system_prompt = \"\"\"You are a domain-careful, passage-bound assistant. You will be given:\n",
    "\n",
    "CONTEXT: a list of dictionaries, each with keys:\n",
    "\n",
    "text (string) — the passage content (use this only).\n",
    "\n",
    "score (float) — Higher means more relevant. Use for tie-breaking, not as ground truth.\n",
    "\n",
    "id (int or str) — unique identifier for citation (cite this).\n",
    "\n",
    "QUESTION: the user’s query.\n",
    "\n",
    "Ground Rules\n",
    "\n",
    "Use Only the Provided Passages\n",
    "\n",
    "All factual claims must come solely from text fields within CONTEXT.\n",
    "\n",
    "Ignore any prior knowledge and external facts.\n",
    "\n",
    "Cite by index\n",
    "\n",
    "After each factual claim or at the end of a sentence/ bullet, cite like [idx=2025].\n",
    "\n",
    "If multiple passages support a claim, cite the strongest 1–3 (prefer lower distance).\n",
    "\n",
    "Be Concise, Direct, and Structured\n",
    "\n",
    "Lead with a 1–3 sentence answer.\n",
    "\n",
    "Use bullets for lists, mechanisms, pros/cons, steps, etc.\n",
    "\n",
    "Include brief definitions only if needed to answer.\n",
    "\n",
    "Rank & Filter Passages Sensibly\n",
    "\n",
    "Prefer passages with lower distance, high topical match, and specific details.\n",
    "\n",
    "De-duplicate overlapping content; don’t over-cite.\n",
    "\n",
    "If passages conflict and can’t be resolved, state the disagreement and present both sides with citations.\n",
    "\n",
    "No Fabrication\n",
    "\n",
    "Do not invent numbers, dates, mechanisms, or terminology not explicitly present in text.\n",
    "\n",
    "When Information Is Insufficient\n",
    "\n",
    "Say: “I don’t have enough information in the provided passages to answer.”\n",
    "\n",
    "Optionally list what’s missing (e.g., “mechanism”, “dates”, “definitions”).\n",
    "\n",
    "Biomedical/Technical Care (if applicable)\n",
    "\n",
    "Distinguish hypotheses vs. established findings when the wording is tentative.\n",
    "\n",
    "Avoid over-generalization beyond what’s stated.\n",
    "\n",
    "If species/setting (rodent vs. human, in vitro vs. in vivo) isn’t specified in the passages, don’t assume.\n",
    "\n",
    "Working Steps (internal)\n",
    "\n",
    "Parse CONTEXT; extract only text and note each item’s index and distance.\n",
    "\n",
    "Identify passages most relevant to the QUESTION (favor lower distance).\n",
    "\n",
    "Synthesize the answer strictly from the chosen passages.\n",
    "\n",
    "Add minimal, targeted citations using [idx=…].\n",
    "\n",
    "If conflicts remain unresolved, present both views briefly.\n",
    "\n",
    "Input Format (exact)\n",
    "======================== CONTEXT ================================\n",
    "[{'text': '<passage 1 text>', 'distance': <float>, 'index': <int>},\n",
    " {'text': '<passage 2 text>', 'distance': <float>, 'index': <int>},\n",
    " ...\n",
    "]\n",
    "====================== QUESTION: <user question> ================\n",
    "\n",
    "Output Format (default)\n",
    "<Concise answer (1–3 sentences).>\n",
    "\n",
    "- <Key point 1>. [doc_id=33378]\n",
    "- <Key point 2>. [doc_id=37076, doc_id=33378]\n",
    "\n",
    "Citations: [doc_id=33378], [doc_id=37076]\n",
    "\n",
    "Insufficient Information\n",
    "I don’t have enough information in the provided passages to answer. I would need <briefly state what is missing>.\n",
    "Citations: —\n",
    "\n",
    "Optional (if you want a quick audit trail)\n",
    "\n",
    "After the answer (keep it short), you may append:\n",
    "\n",
    "Relevance notes (brief):\n",
    "- Used doc_id=37076 (lower distance, direct on H3 inverse agonism).\n",
    "- Used doc_id=33378 (mechanistic distribution & function).\n",
    "- Skipped doc_id=5234/2025/16517 (off-topic for QUESTION).\n",
    "\"\"\"\n",
    "\n",
    "prompt = f\"\"\"\n",
    "======================== CONTEXT ================================\n",
    "{[doc.to_dict() for doc in reranked_docs]}\n",
    "\n",
    "====================== QUESTION: {question} ================\"\"\"\n",
    "\n",
    "answer = llm.generate(\n",
    "    prompt=prompt,\n",
    "    system_prompt=system_prompt,\n",
    "    max_tokens=1000,\n",
    "    temperature=0.01,\n",
    ")\n",
    "\n",
    "print(answer)"
   ],
   "id": "6e4f536204ff6756",
   "outputs": [
    {
     "name": "stdout",
     "output_type": "stream",
     "text": [
      "Papilin is secreted. [idx=15094122#0], [idx=11076767#0], [idx=12666201#0]\n",
      "\n",
      "Relevance notes:\n",
      "- Used idx=15094122#0 (direct statement on secreted nature).\n",
      "- Used idx=11076767#0 (functional roles indicating secretion).\n",
      "- Used idx=12666201#0 (developmental patterns suggesting secretion).\n"
     ]
    }
   ],
   "execution_count": 17
  },
  {
   "metadata": {
    "ExecuteTime": {
     "end_time": "2025-10-25T12:31:08.440196264Z",
     "start_time": "2025-10-25T05:56:17.484226Z"
    }
   },
   "cell_type": "code",
   "source": [
    "print(queries_ds[i]['answer'])\n",
    "print(queries_ds[i]['relevant_passage_ids'])"
   ],
   "id": "8e61bad564859833",
   "outputs": [
    {
     "name": "stdout",
     "output_type": "stream",
     "text": [
      "Yes,  papilin is a secreted protein\n",
      "[21784067, 19297413, 15094122, 7515725, 3320045, 20805556, 19724244, 12666201, 15094110, 11076767]\n"
     ]
    }
   ],
   "execution_count": 18
  },
  {
   "metadata": {
    "ExecuteTime": {
     "end_time": "2025-10-25T12:31:08.440253525Z",
     "start_time": "2025-10-25T05:56:17.528585Z"
    }
   },
   "cell_type": "code",
   "source": [
    "from rag.pipeline import RAGPipeline\n",
    "\n",
    "pipe = RAGPipeline(\n",
    "    doc_store,\n",
    "    vec_store,\n",
    "    embedder,\n",
    "    reranker,\n",
    "    llm,\n",
    "    settings,\n",
    ")"
   ],
   "id": "837eed82a32f0324",
   "outputs": [],
   "execution_count": 19
  },
  {
   "metadata": {
    "ExecuteTime": {
     "end_time": "2025-10-25T12:31:08.440304486Z",
     "start_time": "2025-10-25T05:57:02.349074Z"
    }
   },
   "cell_type": "code",
   "source": [
    "i = 105\n",
    "question = queries_ds['question'][i]\n",
    "\n",
    "print('============== QUESTION =============')\n",
    "print(question, '\\n')\n",
    "\n",
    "print('=============== RAG ANSWER =============')\n",
    "answer = pipe.query(question)\n",
    "print(answer, '\\n')\n",
    "\n",
    "print('=============== TRUE ANSWER ================')\n",
    "print(queries_ds[i]['answer'])\n",
    "print(queries_ds[i]['relevant_passage_ids'])"
   ],
   "id": "dfb1798961a5aa08",
   "outputs": [
    {
     "name": "stdout",
     "output_type": "stream",
     "text": [
      "============== QUESTION =============\n",
      "Which is the human selenoprotein that contains several Se-Cys residues? \n",
      "\n",
      "=============== RAG ANSWER =============\n",
      "('- Selenoprotein P is unique among human selenoproteins in containing 10-12 selenocysteine residues, depending on the species. [idx=10692426#0]\\n- The human selenoprotein P (HSelP) contains 10 selenocysteines encoded by in-frame UGA codons. [idx=15777501#0]\\n\\nCitations: [idx=10692426#0], [idx=15777501#0]', [Document(id='10692426#0', text='Most selenoproteins contain a single selenocysteine residue per polypeptide \\nchain, encoded by an in-frame UGA codon. Selenoprotein P is unique in that its \\nmRNA encodes 10-12 selenocysteine residues, depending on species. In addition to \\nthe high number of selenocysteines, the protein is cysteine- and histidine-rich. \\nThe function of selenoprotein P has remained elusive, in part due to the \\ninability to express the recombinant protein. This has been attributed to \\npresumed inefficient translation through the selenocysteine/stop codons. Herein, \\nwe report for the first time the expression of recombinant rat selenoprotein P \\nin a transiently transfected human epithelial kidney cell line, as well as the \\nendogenously expressed protein from HepG2 and Chinese hamster ovary cells. The', score=5.653423309326172, doc_type='chunk', meta={}), Document(id='15777501#0', text='OBJECTIVE: Human selenoprotein P (HSelP) is unique protein that contains 10 \\nselenocysteines encoded by 10 inframe UGA, which typically function as stop \\ncodon. The function of HSelP remains unclear, in part due to the inability to \\nexpress it by gene recombinant technique. This study is to investigate \\nexpression and purification of recombinant HSelP in prokaryotic expression \\nsystem, and its activity to induce apoptosis in vitro.\\nMETHODS: The shorter HSelP isoform was cloned. After the selenocysteine (SeCys) \\nat 40th position from N terminus of the HSelP shorter isoform was mutated into \\ncysteine by PCR, it was expressed in E. coli. The expressed product was purified \\nwith DEAE column and identified by Western blot. Subsequently, its function on \\ninduction of mitochondrial apoptotic activity was studied.', score=4.459068298339844, doc_type='chunk', meta={}), Document(id='23614019#0', text=\"Selenoprotein S (SelS) is a 189 amino acid trans-membrane protein that plays an \\nimportant yet undefined role in the unfolded protein response. It has been \\nproposed that SelS may function as a reductase, with the penultimate \\nselenocysteine (Sec(188)) residue participating in a selenosulfide bond with \\ncysteine (Cys(174)). Cotranslational incorporation of Sec into SelS depends on \\nthe recoding of the UGA codon, which requires a Selenocysteine Insertion \\nSequence (SECIS) element in the 3'UTR of the transcript. Here we identify \\nmultiple mechanisms that regulate the expression of SelS. The human SelS gene \\nencodes two transcripts (variants 1 and 2), which differ in their 3'UTR \\nsequences due to an alternative splicing event that removes the SECIS element \\nfrom the variant 1 transcript. Both transcripts are widely expressed in human\", score=3.5322000980377197, doc_type='chunk', meta={}), Document(id='10567350#0', text=\"Mammalian selenium-containing proteins identified thus far contain selenium in \\nthe form of a selenocysteine residue encoded by UGA. These proteins lack common \\namino acid sequence motifs, but 3'-untranslated regions of selenoprotein genes \\ncontain a common stem-loop structure, selenocysteine insertion sequence (SECIS) \\nelement, that is necessary for decoding UGA as selenocysteine rather than a stop \\nsignal. We describe here a computer program, SECISearch, that identifies \\nmammalian selenoprotein genes by recognizing SECIS elements on the basis of \\ntheir primary and secondary structures and free energy requirements. When \\nSECISearch was applied to search human dbEST, two new mammalian selenoproteins, \\ndesignated SelT and SelR, were identified. We determined their cDNA sequences \\nand expressed them in a monkey cell line as fusion proteins with a green \\nfluorescent protein. Incorporation of selenium into new proteins was confirmed\", score=3.4344444274902344, doc_type='chunk', meta={}), Document(id='16260744#0', text='Selenoproteins are a diverse group of proteins that contain selenocysteine \\n(Sec), the 21st amino acid. In the genetic code, UGA serves as a termination \\nsignal and a Sec codon. This dual role has precluded the automatic annotation of \\nselenoproteins. Recent advances in the computational identification of \\nselenoprotein genes have provided a first glimpse of the size, functions, and \\nphylogenetic diversity of eukaryotic selenoproteomes. Here, we describe the \\nidentification of a selenoprotein family named SelJ. In contrast to known \\nselenoproteins, SelJ appears to be restricted to actinopterygian fishes and sea \\nurchin, with Cys homologues only found in cnidarians. SelJ shows significant \\nsimilarity to the jellyfish J1-crystallins and with them constitutes a distinct \\nsubfamily within the large family of ADP-ribosylation enzymes. Consistent with', score=2.3493494987487793, doc_type='chunk', meta={})]) \n",
      "\n",
      "=============== TRUE ANSWER ================\n",
      "Selenoprotein P, that contains 10 selenocysteines.\n",
      "[19345254, 11122377, 10692426, 7637580, 20417644, 15104205, 9288402, 17000762, 15777501]\n"
     ]
    }
   ],
   "execution_count": 22
  },
  {
   "metadata": {
    "ExecuteTime": {
     "end_time": "2025-10-25T12:31:08.440373026Z",
     "start_time": "2025-10-25T05:56:19.541177Z"
    }
   },
   "cell_type": "code",
   "source": "",
   "id": "d795719beb6364c",
   "outputs": [],
   "execution_count": null
  },
  {
   "metadata": {},
   "cell_type": "code",
   "outputs": [],
   "execution_count": null,
   "source": "",
   "id": "3ae05473ceb29b7e"
  },
  {
   "metadata": {},
   "cell_type": "code",
   "outputs": [],
   "execution_count": null,
   "source": "",
   "id": "cf19afde370bf1ee"
  },
  {
   "metadata": {},
   "cell_type": "markdown",
   "source": "# Full pipeline",
   "id": "a6578af396d037db"
  },
  {
   "metadata": {
    "ExecuteTime": {
     "end_time": "2025-10-25T13:00:51.768336Z",
     "start_time": "2025-10-25T13:00:41.164191Z"
    }
   },
   "cell_type": "code",
   "source": [
    "from rag.pipeline import RAGPipeline\n",
    "from rag.embeddings import create_embedder\n",
    "from rag.retrieval import create_reranker\n",
    "from rag.generation import create_llm\n",
    "from rag.storage import PgvectorVectorStore, PostgresDocumentStore\n",
    "from rag.config import settings\n",
    "\n",
    "\n",
    "doc_store = PostgresDocumentStore(settings)\n",
    "vec_store = PgvectorVectorStore(settings)\n",
    "embedder = create_embedder(settings)\n",
    "reranker = create_reranker(settings)\n",
    "llm = create_llm(settings)\n",
    "\n",
    "rag_pipeline = RAGPipeline(\n",
    "    doc_store,\n",
    "    vec_store,\n",
    "    embedder,\n",
    "    reranker,\n",
    "    llm,\n",
    "    settings,\n",
    ")"
   ],
   "id": "dd3a33ff0ded75b3",
   "outputs": [
    {
     "name": "stderr",
     "output_type": "stream",
     "text": [
      "/home/ergot/projects/rag/.venv/lib/python3.12/site-packages/tqdm/auto.py:21: TqdmWarning: IProgress not found. Please update jupyter and ipywidgets. See https://ipywidgets.readthedocs.io/en/stable/user_install.html\n",
      "  from .autonotebook import tqdm as notebook_tqdm\n"
     ]
    },
    {
     "name": "stdout",
     "output_type": "stream",
     "text": [
      "15:00:43 faiss.loader INFO   Loading faiss with AVX512 support.\n",
      "15:00:43 faiss.loader INFO   Successfully loaded faiss with AVX512 support.\n",
      "[2025-10-25 15:00:43] [rag.storage.document_stores.postgres] [INFO] PostgresDocumentStore initialized\n",
      "[2025-10-25 15:00:43] [rag.storage.document_stores.postgres] [INFO] PostgresDocumentStore initialized\n",
      "15:00:43 rag.storage.document_stores.postgres INFO   PostgresDocumentStore initialized\n",
      "[2025-10-25 15:00:43] [rag.storage.vector_stores.pgvector] [INFO] PgvectorVectorStore initialized (cosine distance)\n",
      "[2025-10-25 15:00:43] [rag.storage.vector_stores.pgvector] [INFO] PgvectorVectorStore initialized (cosine distance)\n",
      "15:00:43 rag.storage.vector_stores.pgvector INFO   PgvectorVectorStore initialized (cosine distance)\n",
      "15:00:43 sentence_transformers.SentenceTransformer INFO   Load pretrained SentenceTransformer: BAAI/bge-small-en-v1.5\n"
     ]
    },
    {
     "name": "stderr",
     "output_type": "stream",
     "text": [
      "Loading checkpoint shards: 100%|██████████| 4/4 [00:00<00:00, 281.28it/s]\n"
     ]
    },
    {
     "name": "stdout",
     "output_type": "stream",
     "text": [
      "15:00:49 sentence_transformers.SentenceTransformer INFO   Load pretrained SentenceTransformer: BAAI/bge-small-en-v1.5\n",
      "15:00:51 redisvl.index.index INFO   Index already exists, not overwriting.\n"
     ]
    }
   ],
   "execution_count": 1
  },
  {
   "metadata": {
    "ExecuteTime": {
     "end_time": "2025-10-25T13:00:51.789867Z",
     "start_time": "2025-10-25T13:00:51.770746Z"
    }
   },
   "cell_type": "code",
   "source": "rag_pipeline.query('What causes diabetes?');",
   "id": "ef156199e1b817c2",
   "outputs": [],
   "execution_count": 2
  },
  {
   "metadata": {
    "ExecuteTime": {
     "end_time": "2025-10-25T13:00:51.833017Z",
     "start_time": "2025-10-25T13:00:51.814549Z"
    }
   },
   "cell_type": "code",
   "source": [
    "answer, doc_ids = rag_pipeline.query('What genes are responsible for insulin tolerance?')\n",
    "print(answer)"
   ],
   "id": "320ad4672706de68",
   "outputs": [
    {
     "name": "stdout",
     "output_type": "stream",
     "text": [
      "Insulin tolerance is primarily characterized by defects at multiple levels, including insulin receptor concentration, glucose transport mechanisms, and intracellular enzyme activities. These defects are commonly observed in individuals with obesity and type 2 diabetes, contributing to the insulin resistance syndrome (syndrome X or metabolic syndrome).\n",
      "\n",
      "- Insulin tolerance is associated with defects in insulin receptor concentration, glucose transport mechanisms, and intracellular enzyme activities. [idx=12148078#0]\n",
      "- Impaired glucose tolerance (IGT) and non-insulin-dependent diabetes mellitus (NIDDM) are linked to insulin resistance, which can be corrected by interventions like alpha-glucosidase inhibitors and metformin. [idx=8914439#0]\n"
     ]
    }
   ],
   "execution_count": 3
  },
  {
   "metadata": {
    "ExecuteTime": {
     "end_time": "2025-10-25T13:04:33.519181Z",
     "start_time": "2025-10-25T13:04:33.395495Z"
    }
   },
   "cell_type": "code",
   "source": [
    "import seaborn as sns\n",
    "from rag.utils import cosine_similarity_matrix\n",
    "\n",
    "sim_matr = cosine_similarity_matrix([\n",
    "    'Which genes are responsible for insulin tolerance?',\n",
    "    'What genes are related to insulin',\n",
    "    'Which genes are related to diabetes?',\n",
    "    'What causes insulin tolerance?',\n",
    "    'What is the primary reason of insuline tolerance',\n",
    "    'What causes diabetes?',\n",
    "    'What is diabetes',\n",
    "], embedder)\n",
    "\n",
    "sns.heatmap(sim_matr, vmin=0.8, annot=True);"
   ],
   "id": "e3adc602715fe653",
   "outputs": [
    {
     "data": {
      "text/plain": [
       "<Figure size 640x480 with 2 Axes>"
      ],
      "image/png": "[encoded data removed]"
     },
     "metadata": {},
     "output_type": "display_data",
     "jetTransient": {
      "display_id": null
     }
    }
   ],
   "execution_count": 13
  },
  {
   "metadata": {
    "ExecuteTime": {
     "end_time": "2025-10-25T12:44:22.889133Z",
     "start_time": "2025-10-25T12:44:22.886953Z"
    }
   },
   "cell_type": "code",
   "source": "doc_ids",
   "id": "602e5978836cc606",
   "outputs": [
    {
     "data": {
      "text/plain": [
       "[Document(id='26546829#3', text=\"etiology consisting of multiple genetic variants as established by genome wide \\nassociation studies. Secondary factors, obesity, metabolic syndrome, diabetes, \\nrenal disease, estrogen and antipsychotics can increase the likelihood of \\nclinical presentation of an individual with predisposed genetic susceptibility \\nto hyperlipoproteinemia. The genetic profiles studied are far from complete and \\nthere is room for further characterization of genes influencing lipid levels. \\nGenetic assessment can help identify patients at risk for developing \\ndyslipidemias and for treatment decisions based on 'risk allele' profiles. This \\nreview will present the current information on the genetics and pathophysiology \\nof disorders that cause dyslipidemias.\", score=0.0, doc_type='chunk', meta={}),\n",
       " Document(id='26018251#0', text='Genome-wide association studies in human type 2 diabetes (T2D) have renewed \\ninterest in the pancreatic islet as a contributor to T2D risk. Chronic low-grade \\ninflammation resulting from obesity is a risk factor for T2D and a possible \\ntrigger of β-cell failure. In this study, microarray data were collected from \\nmouse islets after overnight treatment with cytokines at concentrations \\nconsistent with the chronic low-grade inflammation in T2D. Genes with a \\ncytokine-induced change of >2-fold were then examined for associations between \\nsingle nucleotide polymorphisms and the acute insulin response to glucose (AIRg) \\nusing data from the Genetics Underlying Diabetes in Hispanics (GUARDIAN) \\nConsortium. Significant evidence of association was found between AIRg and \\nsingle nucleotide polymorphisms in Arap3 (5q31.3), F13a1 (6p25.3), Klhl6', score=0.0, doc_type='chunk', meta={}),\n",
       " Document(id='26908163#0', text='Type 1 diabetes (T1D) is an autoimmune disease resulting from T cell-mediated \\ndestruction of the insulin-secreting pancreatic beta cells. During the past 50 \\nyears T1D incidence has increased dramatically in many countries accompanied by \\nan earlier age of onset especially in persons with lower genetic risk. These \\nobservations have prompted investigations of dynamic environmental factors that \\nmay contributor to risk for anti-pancreatic immunity. The gut and pancreas are \\nanatomically and biochemically linked through the enteroinsular axis, a system \\nin which gut-derived immune and metabolic signals have the potential to evoke \\neffects in the pancreas. The gut microbiome (i.e. the 100 trillion symbiotic \\nmicroorganisms which inhabit the mammalian gastrointestinal tract) influences \\nnumerous aspects of host metabolism, development and immunity. Here we examine \\nrecent evidence linking gut microbiome composition and function to pancreatic', score=0.0, doc_type='chunk', meta={}),\n",
       " Document(id='26163814#0', text='Diabetes and obesity, two major public health concerns, are associated with \\nincreased risk for problems in multiple organ systems, including the central \\nnervous system. The adverse effects of diabetes and obesity on cognitive \\nfunctioning are increasingly well recognized. This special issue of \\nPsychosomatic Medicine features the latest research linking diabetes, obesity, \\nand brain structure, function, and metabolism and follows a special meeting on \\nthis topic organized by the American Psychosomatic Society in October 2013. \\nEvidence for the increased prevalence of diabetes and obesity is reviewed as it \\nrelates to cognitive decline. These articles indicate that the age of onset of \\nType 1 diabetes may be relevant to future cognitive function and that disease \\nduration of Type 2 diabetes and sociocultural factors are related to cognitive \\ndecline during the aging process. The hypothalamus and other neural circuits, \\nnotably the dopaminergic system that underlies feeding and reward-related \\naspects of food intake, are among the key factors involved in obesity. Research', score=0.0, doc_type='chunk', meta={}),\n",
       " Document(id='9371825#0', text='Hepatocyte nuclear factor 4alpha (HNF4alpha) plays a critical role in regulating \\nthe expression of many genes essential for normal functioning of liver, gut, \\nkidney, and pancreatic islets. A nonsense mutation (Q268X) in exon 7 of the \\nHNF4alpha gene is responsible for an autosomal dominant, early-onset form of \\nnon-insulin-dependent diabetes mellitus (maturity-onset diabetes of the young; \\ngene named MODY1). Although this mutation is predicted to delete 187 C-terminal \\namino acids of the HNF4alpha protein the molecular mechanism by which it causes \\ndiabetes is unknown. To address this, we first studied the functional properties \\nof the MODY1 mutant protein. We show that it has lost its transcriptional \\ntransactivation activity, fails to dimerize and bind DNA, implying that the \\nMODY1 phenotype is because of a loss of HNF4alpha function. The effect of loss', score=0.0, doc_type='chunk', meta={}),\n",
       " Document(id='24290377#1', text='number of genes analyzed. Thus, we could reject a model for the genetic \\narchitecture of type 2 diabetes where rare nonsynonymous variants clustered in a \\nmodest number of genes (fewer than 20) are responsible for the majority of \\ndisease risk.', score=0.0, doc_type='chunk', meta={}),\n",
       " Document(id='19346957#0', text='PURPOSE: We present an approach to prioritize single nucleotide polymorphisms \\nfor further follow-up in genome-wide association studies of type 2 diabetes.\\nMETHOD: The proposed method combines both the use of open data access from two \\ntype 2 diabetes-genome-wide association studies (granted by the Diabetes \\nGenetics Initiative and the Welcome Trust Case Control Consortium) and the \\ncomprehensive analysis of candidate regions generated by the freely accessible \\nENDEAVOUR software.\\nRESULTS: The algorithm prioritized all genes of the whole genome in relation to \\ntype 2 diabetes. There were six of 1096 single nucleotide polymorphisms in five \\ngenes potentially associated with type 2 diabetes: tachykinin receptor 3 \\n(rs1384401), anaplastic lymphoma receptor tyrosine kinase (rs4319896), calcium \\nchannel, voltage-dependent, L type, alpha 1D subunit (rs12487452), FOXO1A', score=0.0, doc_type='chunk', meta={}),\n",
       " Document(id='16060710#0', text='The etiologies of a variety of skin conditions associated with diabetes have not \\nbeen fully explained. One possible etiological factor is diabetic \\nmicroangiopathy, which is known to affect the eyes and kidneys in patients with \\ndiabetes. There are many mechanisms by which diabetes may cause microangiopathy. \\nThese include excess sorbitol formation, increased glycation end products, \\noxidative damage, and protein kinase C overactivity. All of these processes \\noccur in the skin, and the existence of a cutaneous diabetic microangiopathy has \\nbeen well demonstrated. These microangiopathic changes are associated with \\nabnormalities of skin perfusion. Because the skin plays a thermoregulatory role, \\nthere is significant capillary redundancy in normal skin. In diabetic patients, \\nloss of capillaries is associated with a decrease in perfusion reserve. This \\nlost reserve is demonstrable under stressed conditions, such as thermal', score=0.0, doc_type='chunk', meta={}),\n",
       " Document(id='18781962#0', text='Susceptibility to autoimmune disorders results from the interaction of multiple \\ngenetic factors that regulate the threshold of autoreactivity. Genome-wide \\nmicrosatellite screens and large-scale single nucleotide polymorphism (SNP) \\nassociation studies have identified chromosomal loci that are associated with \\nspecific disorders including systemic lupus erythematosus, rheumatoid arthritis, \\njuvenile arthritis, multiple sclerosis, and diabetes. Numerous candidate gene \\nassociation studies have in turn investigated the association of specific genes \\nwithin these chromosomal regions, with susceptibility to autoimmune diseases \\n(e.g. FcgammaReceptors, TYK2 and systemic lupus). More recently, large-scale \\ndifferential gene expression studies performed on selected tissues from patients \\nwith autoimmune disorders, have led to the identification of gene signatures \\nassociated with the activation of specific pathways in these diseases (e.g.', score=0.0, doc_type='chunk', meta={}),\n",
       " Document(id='20594164#3', text='factors are multipotential; they stimulate proliferation or differentiation of \\nendothelial cells. This review attempts to briefly outline the knowledge about \\npeptide growth factor involvement in diabetic retinopathy. Further ongoing \\nresearch may provide better understanding of molecular mechanisms, disease \\npathogenesis and therapeutic interactions.', score=0.0, doc_type='chunk', meta={})]"
      ]
     },
     "execution_count": 5,
     "metadata": {},
     "output_type": "execute_result"
    }
   ],
   "execution_count": 5
  }
 ],
 "metadata": {
  "kernelspec": {
   "display_name": "Python 3",
   "language": "python",
   "name": "python3"
  },
  "language_info": {
   "codemirror_mode": {
    "name": "ipython",
    "version": 2
   },
   "file_extension": ".py",
   "mimetype": "text/x-python",
   "name": "python",
   "nbconvert_exporter": "python",
   "pygments_lexer": "ipython2",
   "version": "2.7.6"
  }
 },
 "nbformat": 4,
 "nbformat_minor": 5
}
