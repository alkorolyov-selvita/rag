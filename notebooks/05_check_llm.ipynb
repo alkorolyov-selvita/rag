{
 "cells": [
  {
   "cell_type": "code",
   "id": "initial_id",
   "metadata": {
    "collapsed": true,
    "ExecuteTime": {
     "end_time": "2025-10-13T05:18:07.939073Z",
     "start_time": "2025-10-13T05:18:07.050419Z"
    }
   },
   "source": [
    "import time\n",
    "\n",
    "import torch\n",
    "torch.cuda.is_available()"
   ],
   "outputs": [
    {
     "data": {
      "text/plain": [
       "True"
      ]
     },
     "execution_count": 1,
     "metadata": {},
     "output_type": "execute_result"
    }
   ],
   "execution_count": 1
  },
  {
   "metadata": {
    "ExecuteTime": {
     "end_time": "2025-10-13T05:18:07.942870Z",
     "start_time": "2025-10-13T05:18:07.941095Z"
    }
   },
   "cell_type": "code",
   "source": "torch.__version__",
   "id": "4d105e582e1ba041",
   "outputs": [
    {
     "data": {
      "text/plain": [
       "'2.8.0+cu128'"
      ]
     },
     "execution_count": 2,
     "metadata": {},
     "output_type": "execute_result"
    }
   ],
   "execution_count": 2
  },
  {
   "metadata": {
    "ExecuteTime": {
     "end_time": "2025-10-13T05:18:07.984681Z",
     "start_time": "2025-10-13T05:18:07.983120Z"
    }
   },
   "cell_type": "code",
   "source": [
    "device = torch.device(\"cuda:0\" if torch.cuda.is_available() else \"cpu\")\n",
    "device"
   ],
   "id": "dcfe77324190d019",
   "outputs": [
    {
     "data": {
      "text/plain": [
       "device(type='cuda', index=0)"
      ]
     },
     "execution_count": 3,
     "metadata": {},
     "output_type": "execute_result"
    }
   ],
   "execution_count": 3
  },
  {
   "metadata": {
    "ExecuteTime": {
     "end_time": "2025-10-13T05:18:15.265469Z",
     "start_time": "2025-10-13T05:18:08.025143Z"
    }
   },
   "cell_type": "code",
   "source": [
    "from transformers import AutoModelForCausalLM, AutoTokenizer\n",
    "\n",
    "model_name = \"Qwen/Qwen2.5-7B-Instruct\"\n",
    "\n",
    "model = AutoModelForCausalLM.from_pretrained(model_name)\n",
    "model.to(device)"
   ],
   "id": "1c2aff410d03d37b",
   "outputs": [
    {
     "name": "stderr",
     "output_type": "stream",
     "text": [
      "/home/ergot/projects/rag/.venv/lib/python3.12/site-packages/tqdm/auto.py:21: TqdmWarning: IProgress not found. Please update jupyter and ipywidgets. See https://ipywidgets.readthedocs.io/en/stable/user_install.html\n",
      "  from .autonotebook import tqdm as notebook_tqdm\n",
      "Loading checkpoint shards: 100%|██████████| 4/4 [00:02<00:00,  1.50it/s]\n"
     ]
    },
    {
     "data": {
      "text/plain": [
       "Qwen2ForCausalLM(\n",
       "  (model): Qwen2Model(\n",
       "    (embed_tokens): Embedding(152064, 3584)\n",
       "    (layers): ModuleList(\n",
       "      (0-27): 28 x Qwen2DecoderLayer(\n",
       "        (self_attn): Qwen2Attention(\n",
       "          (q_proj): Linear(in_features=3584, out_features=3584, bias=True)\n",
       "          (k_proj): Linear(in_features=3584, out_features=512, bias=True)\n",
       "          (v_proj): Linear(in_features=3584, out_features=512, bias=True)\n",
       "          (o_proj): Linear(in_features=3584, out_features=3584, bias=False)\n",
       "        )\n",
       "        (mlp): Qwen2MLP(\n",
       "          (gate_proj): Linear(in_features=3584, out_features=18944, bias=False)\n",
       "          (up_proj): Linear(in_features=3584, out_features=18944, bias=False)\n",
       "          (down_proj): Linear(in_features=18944, out_features=3584, bias=False)\n",
       "          (act_fn): SiLU()\n",
       "        )\n",
       "        (input_layernorm): Qwen2RMSNorm((3584,), eps=1e-06)\n",
       "        (post_attention_layernorm): Qwen2RMSNorm((3584,), eps=1e-06)\n",
       "      )\n",
       "    )\n",
       "    (norm): Qwen2RMSNorm((3584,), eps=1e-06)\n",
       "    (rotary_emb): Qwen2RotaryEmbedding()\n",
       "  )\n",
       "  (lm_head): Linear(in_features=3584, out_features=152064, bias=False)\n",
       ")"
      ]
     },
     "execution_count": 4,
     "metadata": {},
     "output_type": "execute_result"
    }
   ],
   "execution_count": 4
  },
  {
   "metadata": {
    "ExecuteTime": {
     "end_time": "2025-10-13T05:18:15.720473Z",
     "start_time": "2025-10-13T05:18:15.310137Z"
    }
   },
   "cell_type": "code",
   "source": [
    "tokenizer = AutoTokenizer.from_pretrained(model_name)\n",
    "tokenizer"
   ],
   "id": "ec9084bcc23eb8b8",
   "outputs": [
    {
     "data": {
      "text/plain": [
       "Qwen2TokenizerFast(name_or_path='Qwen/Qwen2.5-7B-Instruct', vocab_size=151643, model_max_length=131072, is_fast=True, padding_side='right', truncation_side='right', special_tokens={'eos_token': '<|im_end|>', 'pad_token': '<|endoftext|>', 'additional_special_tokens': ['<|im_start|>', '<|im_end|>', '<|object_ref_start|>', '<|object_ref_end|>', '<|box_start|>', '<|box_end|>', '<|quad_start|>', '<|quad_end|>', '<|vision_start|>', '<|vision_end|>', '<|vision_pad|>', '<|image_pad|>', '<|video_pad|>']}, clean_up_tokenization_spaces=False, added_tokens_decoder={\n",
       "\t151643: AddedToken(\"<|endoftext|>\", rstrip=False, lstrip=False, single_word=False, normalized=False, special=True),\n",
       "\t151644: AddedToken(\"<|im_start|>\", rstrip=False, lstrip=False, single_word=False, normalized=False, special=True),\n",
       "\t151645: AddedToken(\"<|im_end|>\", rstrip=False, lstrip=False, single_word=False, normalized=False, special=True),\n",
       "\t151646: AddedToken(\"<|object_ref_start|>\", rstrip=False, lstrip=False, single_word=False, normalized=False, special=True),\n",
       "\t151647: AddedToken(\"<|object_ref_end|>\", rstrip=False, lstrip=False, single_word=False, normalized=False, special=True),\n",
       "\t151648: AddedToken(\"<|box_start|>\", rstrip=False, lstrip=False, single_word=False, normalized=False, special=True),\n",
       "\t151649: AddedToken(\"<|box_end|>\", rstrip=False, lstrip=False, single_word=False, normalized=False, special=True),\n",
       "\t151650: AddedToken(\"<|quad_start|>\", rstrip=False, lstrip=False, single_word=False, normalized=False, special=True),\n",
       "\t151651: AddedToken(\"<|quad_end|>\", rstrip=False, lstrip=False, single_word=False, normalized=False, special=True),\n",
       "\t151652: AddedToken(\"<|vision_start|>\", rstrip=False, lstrip=False, single_word=False, normalized=False, special=True),\n",
       "\t151653: AddedToken(\"<|vision_end|>\", rstrip=False, lstrip=False, single_word=False, normalized=False, special=True),\n",
       "\t151654: AddedToken(\"<|vision_pad|>\", rstrip=False, lstrip=False, single_word=False, normalized=False, special=True),\n",
       "\t151655: AddedToken(\"<|image_pad|>\", rstrip=False, lstrip=False, single_word=False, normalized=False, special=True),\n",
       "\t151656: AddedToken(\"<|video_pad|>\", rstrip=False, lstrip=False, single_word=False, normalized=False, special=True),\n",
       "\t151657: AddedToken(\"<tool_call>\", rstrip=False, lstrip=False, single_word=False, normalized=False, special=False),\n",
       "\t151658: AddedToken(\"</tool_call>\", rstrip=False, lstrip=False, single_word=False, normalized=False, special=False),\n",
       "\t151659: AddedToken(\"<|fim_prefix|>\", rstrip=False, lstrip=False, single_word=False, normalized=False, special=False),\n",
       "\t151660: AddedToken(\"<|fim_middle|>\", rstrip=False, lstrip=False, single_word=False, normalized=False, special=False),\n",
       "\t151661: AddedToken(\"<|fim_suffix|>\", rstrip=False, lstrip=False, single_word=False, normalized=False, special=False),\n",
       "\t151662: AddedToken(\"<|fim_pad|>\", rstrip=False, lstrip=False, single_word=False, normalized=False, special=False),\n",
       "\t151663: AddedToken(\"<|repo_name|>\", rstrip=False, lstrip=False, single_word=False, normalized=False, special=False),\n",
       "\t151664: AddedToken(\"<|file_sep|>\", rstrip=False, lstrip=False, single_word=False, normalized=False, special=False),\n",
       "}\n",
       ")"
      ]
     },
     "execution_count": 5,
     "metadata": {},
     "output_type": "execute_result"
    }
   ],
   "execution_count": 5
  },
  {
   "metadata": {
    "ExecuteTime": {
     "end_time": "2025-10-13T05:18:15.729373Z",
     "start_time": "2025-10-13T05:18:15.722515Z"
    }
   },
   "cell_type": "code",
   "source": [
    "prompt = \"Help me prepare for my Senior AI developer interview\"\n",
    "\n",
    "conversation = [\n",
    "    {\"role\": \"system\", \"content\": \"You are Qwen, created by Alibaba Cloud. You are a helpful assistant.\"},\n",
    "    {\"role\": \"user\", \"content\": prompt}\n",
    "]\n",
    "\n",
    "text = tokenizer.apply_chat_template(\n",
    "    conversation,\n",
    "    tokenize=False,\n",
    "    add_generation_prompt=True,\n",
    ")\n",
    "\n",
    "text"
   ],
   "id": "7dd82eb2ff319e13",
   "outputs": [
    {
     "data": {
      "text/plain": [
       "'<|im_start|>system\\nYou are Qwen, created by Alibaba Cloud. You are a helpful assistant.<|im_end|>\\n<|im_start|>user\\nHelp me prepare for my Senior AI developer interview<|im_end|>\\n<|im_start|>assistant\\n'"
      ]
     },
     "execution_count": 6,
     "metadata": {},
     "output_type": "execute_result"
    }
   ],
   "execution_count": 6
  },
  {
   "metadata": {
    "ExecuteTime": {
     "end_time": "2025-10-13T05:18:15.772408Z",
     "start_time": "2025-10-13T05:18:15.766397Z"
    }
   },
   "cell_type": "code",
   "source": [
    "model_inputs = tokenizer([text], return_tensors=\"pt\").to(device)\n",
    "model_inputs"
   ],
   "id": "5f4784084cfa5cb",
   "outputs": [
    {
     "data": {
      "text/plain": [
       "{'input_ids': tensor([[151644,   8948,    198,   2610,    525,   1207,  16948,     11,   3465,\n",
       "            553,  54364,  14817,     13,   1446,    525,    264,  10950,  17847,\n",
       "             13, 151645,    198, 151644,    872,    198,  12689,    752,  10549,\n",
       "            369,    847,  19342,  15235,  15754,   7128, 151645,    198, 151644,\n",
       "          77091,    198]], device='cuda:0'), 'attention_mask': tensor([[1, 1, 1, 1, 1, 1, 1, 1, 1, 1, 1, 1, 1, 1, 1, 1, 1, 1, 1, 1, 1, 1, 1, 1,\n",
       "         1, 1, 1, 1, 1, 1, 1, 1, 1, 1, 1, 1, 1, 1]], device='cuda:0')}"
      ]
     },
     "execution_count": 7,
     "metadata": {},
     "output_type": "execute_result"
    }
   ],
   "execution_count": 7
  },
  {
   "metadata": {
    "ExecuteTime": {
     "end_time": "2025-10-13T05:18:27.027097Z",
     "start_time": "2025-10-13T05:18:15.810367Z"
    }
   },
   "cell_type": "code",
   "source": [
    "tic = time.time()\n",
    "generated_ids = model.generate(**model_inputs, max_new_tokens=512)\n",
    "toc = time.time()\n",
    "\n"
   ],
   "id": "aa475e478f676b2a",
   "outputs": [],
   "execution_count": 8
  },
  {
   "metadata": {
    "ExecuteTime": {
     "end_time": "2025-10-13T05:18:27.072185Z",
     "start_time": "2025-10-13T05:18:27.071025Z"
    }
   },
   "cell_type": "code",
   "source": "",
   "id": "80cd9bbb1dc50de",
   "outputs": [],
   "execution_count": null
  },
  {
   "metadata": {
    "ExecuteTime": {
     "end_time": "2025-10-13T05:18:27.115070Z",
     "start_time": "2025-10-13T05:18:27.113163Z"
    }
   },
   "cell_type": "code",
   "source": "model_inputs.input_ids",
   "id": "51f4f78991141ad1",
   "outputs": [
    {
     "data": {
      "text/plain": [
       "tensor([[151644,   8948,    198,   2610,    525,   1207,  16948,     11,   3465,\n",
       "            553,  54364,  14817,     13,   1446,    525,    264,  10950,  17847,\n",
       "             13, 151645,    198, 151644,    872,    198,  12689,    752,  10549,\n",
       "            369,    847,  19342,  15235,  15754,   7128, 151645,    198, 151644,\n",
       "          77091,    198]], device='cuda:0')"
      ]
     },
     "execution_count": 9,
     "metadata": {},
     "output_type": "execute_result"
    }
   ],
   "execution_count": 9
  },
  {
   "metadata": {
    "ExecuteTime": {
     "end_time": "2025-10-13T05:18:27.185926Z",
     "start_time": "2025-10-13T05:18:27.155289Z"
    }
   },
   "cell_type": "code",
   "source": "generated_ids[0]",
   "id": "65488103fb93351e",
   "outputs": [
    {
     "data": {
      "text/plain": [
       "tensor([151644,   8948,    198,   2610,    525,   1207,  16948,     11,   3465,\n",
       "           553,  54364,  14817,     13,   1446,    525,    264,  10950,  17847,\n",
       "            13, 151645,    198, 151644,    872,    198,  12689,    752,  10549,\n",
       "           369,    847,  19342,  15235,  15754,   7128, 151645,    198, 151644,\n",
       "         77091,    198,  97191,    369,    264,   9990,  15235,  15754,   7128,\n",
       "         17601,   8660,   2176,    279,  10916,  13566,    315,  15235,    323,\n",
       "           279,  26829,   2266,    304,    892,   1493,  14310,    525,   9251,\n",
       "            13,   5692,    748,    264,  32930,   5486,    311,   1492,    498,\n",
       "         10549,   1447,  14374,    220,     16,     13,  26668,  31925,    271,\n",
       "           820,   9518,  75772,    510,     12,   3070,  21605,  20909,  95518,\n",
       "         70894,   5257,  19614,  25185,    320,     68,   1302,   2572,  13482,\n",
       "         30549,     11,   5480,  12408,     11,  90009,     82,     11,  29728,\n",
       "         14155,    701,    862,  35386,     11,  43567,     11,    323,    979,\n",
       "           311,    990,   1105,    624,     12,   3070,  33464,  20909,  95518,\n",
       "          2823,  11285,    448,   5538,   6832,  77235,   1075,  19769,     82,\n",
       "            11,    431,   9745,     82,     11,    444,    784,  21634,     11,\n",
       "           323,  86870,    624,     12,   3070,  54281,  11434,  28125,    320,\n",
       "            45,  12567,  32295,     25,  31925,    315,    451,  12567,  12538,\n",
       "            11,   4119,    320,  61437,     11,    479,   2828,    701,    323,\n",
       "          8357,    624,     12,   3070,  37332,  30441,  95518,  45451,    315,\n",
       "          2168,   8692,     11,   1633,  17984,     11,  59752,     11,    323,\n",
       "          3579,  17843,    382,    820,  23752,     82,    323,  13852,    510,\n",
       "            12,   3070,  25336,  18878,    334,    323,   3070,  13828,     51,\n",
       "         21584,  95518,   8459,  10387,    304,   1667,   1493,  48025,    369,\n",
       "          4752,    323,   4862,   4119,    624,     12,   3070,   3326,  60403,\n",
       "          8125,  10118,  95518,  50512,    369,   6770,   5662,   6832,   9079,\n",
       "           624,     12,   3070,     42,   9247,  95518,    362,   1550,  11591,\n",
       "          5333,    369,  94986,    624,     12,   3070,   5002,  19589,  95518,\n",
       "          1752,   6366,  11129,   9079,    624,     12,   3070,  30042,  15778,\n",
       "           334,    323,   3070,  89198,  56715,  95518,   1752,    451,  12567,\n",
       "          9079,    382,    820,  39288,  54190,    510,     12,   3070,  45822,\n",
       "         97219,   3070,  55501,  97219,   3070,   3820,    541,  97219,   3070,\n",
       "            37,     16,  18115,   1019,     12,   3070,  73645,  35933,  97219,\n",
       "          3070,     32,   5459,   1019,     12,   3070,  28501,  58346,  56177,\n",
       "           820,  57739,  64944,    510,     12,   3070,  29369,   3874,   1168,\n",
       "          1019,     12,   3070,  30404,   2022,    334,    320,     43,     16,\n",
       "            11,    444,     17,    340,     12,   3070,  21074,  18437,   2022,\n",
       "          1019,     12,   3070,  19871,    411,  56177,    820,  66292,    323,\n",
       "         24039,    510,     12,   3070,   1712,  71643,  95518,  45451,   1246,\n",
       "           311,  10517,   4119,    304,   5670,    624,     12,   3070,   7082,\n",
       "         40069,  95518,   2585,    311,  31072,   4119,   1119,   3482,    476,\n",
       "          6371,   8357,    624,     12,   3070,  11237,     14,   6484,  77382,\n",
       "         10999,  95518,  68967,  17590,    323,  23172,  11364,    382,  14374,\n",
       "           220,     17,     13,  22079,   6222,  19648,  30240,    271,    820,\n",
       "         11538,  18720,    510,     12,  31166,    311,   4263,   3267,   7079,\n",
       "          1380,    498,    614,   9251,  15235,   9904,    624,     12,  65279,\n",
       "         11513,  16601,    323,   1246,    498,    916,   6014,   1105,    382,\n",
       "           820,  40325,   6982,    510,     12,   2823,   5527,    311,   2884,\n",
       "           323,  10339,  25185,    369,   3151,   5322,    624,     12,  65279,\n",
       "          6559,  63939,   1948,   2155,  19827,    382,  14374,    220,     18,\n",
       "            13,  24079,  30240,    271,    820,  30866,    510,     12,  81917,\n",
       "          6351,  10916,  18940,    304,   4285,   3793,    624,     12,  35983,\n",
       "           311,  10339,    697,   3381,   1882,   2337,   3491,  98146,    382,\n",
       "           820,   7909,  86587,    510,     12,  65279,  11449,   3238,    304,\n",
       "          5312,  98516,   7263,    624,     12,  25311,    315,  11438,    323,\n",
       "         75479,    382,    820,   4120,   9551,    510,     12,  60785,   1246,\n",
       "           498,  10091,    882,    323,  62552,   9079,    304,    264,   4937,\n",
       "         64219,   4573,    382,  14374,    220,     19,     13,  71984,  23382,\n",
       "           271,    820,  36163,    510,     12,  60785,    264,   6534,   1380,\n",
       "           498,   1030,    311,   2990,    264,   2083,    624,     12,   2585,\n",
       "           653,    498,   3705,  25800,   2878,    264,   2083,   1939,    820,\n",
       "         58431], device='cuda:0')"
      ]
     },
     "execution_count": 10,
     "metadata": {},
     "output_type": "execute_result"
    }
   ],
   "execution_count": 10
  },
  {
   "metadata": {
    "ExecuteTime": {
     "end_time": "2025-10-13T05:18:27.202253Z",
     "start_time": "2025-10-13T05:18:27.197145Z"
    }
   },
   "cell_type": "code",
   "source": [
    "generated_ids = [\n",
    "    output_ids[len(input_ids):] for input_ids, output_ids in zip(model_inputs.input_ids, generated_ids)\n",
    "]\n",
    "\n",
    "generated_ids"
   ],
   "id": "bcdbc2d888f0d44",
   "outputs": [
    {
     "data": {
      "text/plain": [
       "[tensor([97191,   369,   264,  9990, 15235, 15754,  7128, 17601,  8660,  2176,\n",
       "           279, 10916, 13566,   315, 15235,   323,   279, 26829,  2266,   304,\n",
       "           892,  1493, 14310,   525,  9251,    13,  5692,   748,   264, 32930,\n",
       "          5486,   311,  1492,   498, 10549,  1447, 14374,   220,    16,    13,\n",
       "         26668, 31925,   271,   820,  9518, 75772,   510,    12,  3070, 21605,\n",
       "         20909, 95518, 70894,  5257, 19614, 25185,   320,    68,  1302,  2572,\n",
       "         13482, 30549,    11,  5480, 12408,    11, 90009,    82,    11, 29728,\n",
       "         14155,   701,   862, 35386,    11, 43567,    11,   323,   979,   311,\n",
       "           990,  1105,   624,    12,  3070, 33464, 20909, 95518,  2823, 11285,\n",
       "           448,  5538,  6832, 77235,  1075, 19769,    82,    11,   431,  9745,\n",
       "            82,    11,   444,   784, 21634,    11,   323, 86870,   624,    12,\n",
       "          3070, 54281, 11434, 28125,   320,    45, 12567, 32295,    25, 31925,\n",
       "           315,   451, 12567, 12538,    11,  4119,   320, 61437,    11,   479,\n",
       "          2828,   701,   323,  8357,   624,    12,  3070, 37332, 30441, 95518,\n",
       "         45451,   315,  2168,  8692,    11,  1633, 17984,    11, 59752,    11,\n",
       "           323,  3579, 17843,   382,   820, 23752,    82,   323, 13852,   510,\n",
       "            12,  3070, 25336, 18878,   334,   323,  3070, 13828,    51, 21584,\n",
       "         95518,  8459, 10387,   304,  1667,  1493, 48025,   369,  4752,   323,\n",
       "          4862,  4119,   624,    12,  3070,  3326, 60403,  8125, 10118, 95518,\n",
       "         50512,   369,  6770,  5662,  6832,  9079,   624,    12,  3070,    42,\n",
       "          9247, 95518,   362,  1550, 11591,  5333,   369, 94986,   624,    12,\n",
       "          3070,  5002, 19589, 95518,  1752,  6366, 11129,  9079,   624,    12,\n",
       "          3070, 30042, 15778,   334,   323,  3070, 89198, 56715, 95518,  1752,\n",
       "           451, 12567,  9079,   382,   820, 39288, 54190,   510,    12,  3070,\n",
       "         45822, 97219,  3070, 55501, 97219,  3070,  3820,   541, 97219,  3070,\n",
       "            37,    16, 18115,  1019,    12,  3070, 73645, 35933, 97219,  3070,\n",
       "            32,  5459,  1019,    12,  3070, 28501, 58346, 56177,   820, 57739,\n",
       "         64944,   510,    12,  3070, 29369,  3874,  1168,  1019,    12,  3070,\n",
       "         30404,  2022,   334,   320,    43,    16,    11,   444,    17,   340,\n",
       "            12,  3070, 21074, 18437,  2022,  1019,    12,  3070, 19871,   411,\n",
       "         56177,   820, 66292,   323, 24039,   510,    12,  3070,  1712, 71643,\n",
       "         95518, 45451,  1246,   311, 10517,  4119,   304,  5670,   624,    12,\n",
       "          3070,  7082, 40069, 95518,  2585,   311, 31072,  4119,  1119,  3482,\n",
       "           476,  6371,  8357,   624,    12,  3070, 11237,    14,  6484, 77382,\n",
       "         10999, 95518, 68967, 17590,   323, 23172, 11364,   382, 14374,   220,\n",
       "            17,    13, 22079,  6222, 19648, 30240,   271,   820, 11538, 18720,\n",
       "           510,    12, 31166,   311,  4263,  3267,  7079,  1380,   498,   614,\n",
       "          9251, 15235,  9904,   624,    12, 65279, 11513, 16601,   323,  1246,\n",
       "           498,   916,  6014,  1105,   382,   820, 40325,  6982,   510,    12,\n",
       "          2823,  5527,   311,  2884,   323, 10339, 25185,   369,  3151,  5322,\n",
       "           624,    12, 65279,  6559, 63939,  1948,  2155, 19827,   382, 14374,\n",
       "           220,    18,    13, 24079, 30240,   271,   820, 30866,   510,    12,\n",
       "         81917,  6351, 10916, 18940,   304,  4285,  3793,   624,    12, 35983,\n",
       "           311, 10339,   697,  3381,  1882,  2337,  3491, 98146,   382,   820,\n",
       "          7909, 86587,   510,    12, 65279, 11449,  3238,   304,  5312, 98516,\n",
       "          7263,   624,    12, 25311,   315, 11438,   323, 75479,   382,   820,\n",
       "          4120,  9551,   510,    12, 60785,  1246,   498, 10091,   882,   323,\n",
       "         62552,  9079,   304,   264,  4937, 64219,  4573,   382, 14374,   220,\n",
       "            19,    13, 71984, 23382,   271,   820, 36163,   510,    12, 60785,\n",
       "           264,  6534,  1380,   498,  1030,   311,  2990,   264,  2083,   624,\n",
       "            12,  2585,   653,   498,  3705, 25800,  2878,   264,  2083,  1939,\n",
       "           820, 58431], device='cuda:0')]"
      ]
     },
     "execution_count": 11,
     "metadata": {},
     "output_type": "execute_result"
    }
   ],
   "execution_count": 11
  },
  {
   "metadata": {
    "ExecuteTime": {
     "end_time": "2025-10-13T05:18:27.243010Z",
     "start_time": "2025-10-13T05:18:27.241053Z"
    }
   },
   "cell_type": "code",
   "source": [
    "response = tokenizer.batch_decode(generated_ids, skip_special_tokens=True)[0]\n",
    "print(response)"
   ],
   "id": "fa5ae8a4a6c36cac",
   "outputs": [
    {
     "name": "stdout",
     "output_type": "stream",
     "text": [
      "Preparing for a senior AI developer interview involves understanding both the technical aspects of AI and the broader context in which these technologies are applied. Here’s a structured approach to help you prepare:\n",
      "\n",
      "### 1. Technical Knowledge\n",
      "\n",
      "#### Core Concepts:\n",
      "- **Machine Learning**: Understand various ML algorithms (e.g., linear regression, decision trees, SVMs, neural networks), their strengths, weaknesses, and when to use them.\n",
      "- **Deep Learning**: Be familiar with deep learning architectures like CNNs, RNNs, LSTMs, and transformers.\n",
      "- **Natural Language Processing (NLP)**: Knowledge of NLP techniques, models (BERT, GPT), and applications.\n",
      "- **Computer Vision**: Understanding of image processing, object detection, segmentation, and face recognition.\n",
      "\n",
      "#### Frameworks and Tools:\n",
      "- **TensorFlow** and **PyTorch**: Proficiency in using these frameworks for building and training models.\n",
      "- **Scikit-Learn**: Useful for basic machine learning tasks.\n",
      "- **Keras**: A high-level API for TensorFlow.\n",
      "- **OpenCV**: For computer vision tasks.\n",
      "- **NLTK** and **spaCy**: For NLP tasks.\n",
      "\n",
      "#### Evaluation Metrics:\n",
      "- **Accuracy**, **Precision**, **Recall**, **F1 Score**\n",
      "- **ROC curves**, **AUC**\n",
      "- **Cross-validation**\n",
      "\n",
      "#### Optimization Techniques:\n",
      "- **Gradient Descent**\n",
      "- **Regularization** (L1, L2)\n",
      "- **Batch Normalization**\n",
      "- **Dropout**\n",
      "\n",
      "#### Deployment and Production:\n",
      "- **Model Serving**: Understanding how to deploy models in production.\n",
      "- **API Integration**: How to integrate models into web or mobile applications.\n",
      "- **CI/CD Pipelines**: Continuous integration and deployment processes.\n",
      "\n",
      "### 2. Problem-Solving Skills\n",
      "\n",
      "#### Case Studies:\n",
      "- Prepare to discuss past projects where you have applied AI solutions.\n",
      "- Discuss challenges faced and how you overcame them.\n",
      "\n",
      "#### Algorithm Design:\n",
      "- Be ready to design and explain algorithms for specific problems.\n",
      "- Discuss trade-offs between different approaches.\n",
      "\n",
      "### 3. Soft Skills\n",
      "\n",
      "#### Communication:\n",
      "- Explain complex technical concepts in simple terms.\n",
      "- Ability to explain your thought process during problem-solving.\n",
      "\n",
      "#### Team Collaboration:\n",
      "- Discuss experiences working in cross-functional teams.\n",
      "- Examples of leadership and mentoring.\n",
      "\n",
      "#### Time Management:\n",
      "- Describe how you manage time and prioritize tasks in a fast-paced environment.\n",
      "\n",
      "### 4. Behavioral Questions\n",
      "\n",
      "#### Leadership:\n",
      "- Describe a situation where you had to lead a team.\n",
      "- How do you handle conflicts within a team?\n",
      "\n",
      "#### Adapt\n"
     ]
    }
   ],
   "execution_count": 12
  },
  {
   "metadata": {
    "ExecuteTime": {
     "end_time": "2025-10-13T05:18:27.284237Z",
     "start_time": "2025-10-13T05:18:27.283112Z"
    }
   },
   "cell_type": "code",
   "source": "",
   "id": "c73d49aed7607fe8",
   "outputs": [],
   "execution_count": null
  },
  {
   "metadata": {
    "ExecuteTime": {
     "end_time": "2025-10-13T05:18:27.326185Z",
     "start_time": "2025-10-13T05:18:27.325073Z"
    }
   },
   "cell_type": "code",
   "source": "",
   "id": "a4f75289b5b50eef",
   "outputs": [],
   "execution_count": null
  },
  {
   "metadata": {},
   "cell_type": "markdown",
   "source": [
    "\n",
    "# Metricsь"
   ],
   "id": "3608cdb041f9b4d2"
  },
  {
   "metadata": {
    "ExecuteTime": {
     "end_time": "2025-10-13T05:18:44.267696Z",
     "start_time": "2025-10-13T05:18:27.367090Z"
    }
   },
   "cell_type": "code",
   "source": [
    "from typing import Any\n",
    "import time\n",
    "import numpy as np\n",
    "import torch\n",
    "from threading import Thread\n",
    "from transformers import StoppingCriteria, StoppingCriteriaList, TextIteratorStreamer\n",
    "\n",
    "class TokenTimingCriteria(StoppingCriteria):\n",
    "    \"\"\"Records a timestamp at each decoding step (one per generated token).\"\"\"\n",
    "    def __init__(self, device_type=\"cpu\", sync_each_step=True):\n",
    "        super().__init__()\n",
    "        self.timestamps = []\n",
    "        self.device_type = device_type\n",
    "        self.sync_each_step = sync_each_step\n",
    "\n",
    "    def _now(self):\n",
    "        # Ensure GPU kernels are finished before timing (accurate per-token)\n",
    "        if self.device_type.startswith(\"cuda\") and self.sync_each_step:\n",
    "            torch.cuda.synchronize()\n",
    "        return time.perf_counter()\n",
    "\n",
    "    def __call__(self, input_ids, scores, **kwargs):\n",
    "        self.timestamps.append(self._now())\n",
    "        return False  # never stop on our own\n",
    "\n",
    "\n",
    "def generate_with_streaming(model, tokenizer, model_inputs, max_new_tokens=128, print_stream=True):\n",
    "    # Resolve device type robustly\n",
    "    device_type = model.device.type\n",
    "\n",
    "    # Stopping criteria for accurate per-token timing\n",
    "    timer = TokenTimingCriteria(device_type=device_type, sync_each_step=True)\n",
    "    stopping = StoppingCriteriaList([timer])\n",
    "\n",
    "    # Text streamer for user-visible incremental text\n",
    "    streamer = TextIteratorStreamer(\n",
    "        tokenizer,\n",
    "        skip_special_tokens=True,\n",
    "        skip_prompt=True\n",
    "    )\n",
    "\n",
    "    # Kick off generation in a background thread\n",
    "    gen_kwargs = dict(\n",
    "        **model_inputs,\n",
    "        max_new_tokens=max_new_tokens,\n",
    "        do_sample=True,\n",
    "        temperature=0.7,\n",
    "        top_p=0.8,\n",
    "        stopping_criteria=stopping,\n",
    "        streamer=streamer,\n",
    "    )\n",
    "\n",
    "    start_time = time.perf_counter()\n",
    "    thread = Thread(target=model.generate, kwargs=gen_kwargs, daemon=True)\n",
    "    thread.start()\n",
    "\n",
    "    # Consume stream while generation runs (prints as it arrives)\n",
    "    pieces = []\n",
    "    for chunk in streamer:\n",
    "        if print_stream:\n",
    "            print(chunk, end=\"\", flush=True)\n",
    "        pieces.append(chunk)\n",
    "\n",
    "    thread.join()\n",
    "    end_time = time.perf_counter()\n",
    "\n",
    "    # Build metrics from true per-token timestamps\n",
    "    metrics = get_metrics(end_time, start_time, timer)\n",
    "\n",
    "    return \"\".join(pieces), metrics\n",
    "\n",
    "\n",
    "def get_metrics(end_time: float, start_time: float, timer: TokenTimingCriteria) -> dict[Any, Any]:\n",
    "    ts = np.asarray(timer.timestamps, dtype=np.float64)\n",
    "    metrics = {}\n",
    "\n",
    "    if ts.size >= 1:\n",
    "        ttft_ms = (ts[0] - start_time) * 1000.0\n",
    "        metrics[\"ttft_ms\"] = float(ttft_ms)\n",
    "        metrics[\"num_generated_tokens\"] = int(ts.size)\n",
    "        metrics[\"total_time_s\"] = float(end_time - start_time)\n",
    "        metrics[\"throughput_tokens_per_sec\"] = float(\n",
    "            (ts.size / (end_time - start_time)) if end_time > start_time else 0.0\n",
    "        )\n",
    "\n",
    "        if ts.size >= 2:\n",
    "            inter_ms = np.diff(ts) * 1000.0\n",
    "            metrics[\"tpot_mean_ms\"] = float(np.mean(inter_ms))\n",
    "            metrics[\"tpot_p50_ms\"] = float(np.percentile(inter_ms, 50))\n",
    "            metrics[\"tpot_p95_ms\"] = float(np.percentile(inter_ms, 95))\n",
    "    else:\n",
    "        # No tokens generated\n",
    "        metrics = {\n",
    "            \"ttft_ms\": None,\n",
    "            \"num_generated_tokens\": 0,\n",
    "            \"total_time_s\": float(end_time - start_time),\n",
    "            \"throughput_tokens_per_sec\": 0.0,\n",
    "        }\n",
    "    return metrics\n",
    "\n",
    "\n",
    "# ===== Example usage =====\n",
    "\n",
    "\n",
    "generated_text, metrics = generate_with_streaming(model, tokenizer, model_inputs, max_new_tokens=1024, print_stream=True)\n",
    "print(\"\\n\", \"=\"*20, \"METRICS\", \"=\"*20)\n",
    "for key, value in metrics.items():\n",
    "    if isinstance(value, float):\n",
    "        print(f\"{key}: {value:.2f}\")\n",
    "    else:\n",
    "        print(f\"{key}: {value}\")\n"
   ],
   "id": "571624cb2bb5a67b",
   "outputs": [
    {
     "name": "stdout",
     "output_type": "stream",
     "text": [
      "Certainly! Preparing for a senior AI developer interview involves understanding the technical aspects of AI and machine learning, as well as demonstrating your experience in leading projects and managing teams. Here’s a structured approach to help you prepare:\n",
      "\n",
      "### 1. Technical Knowledge\n",
      "\n",
      "#### Key Concepts:\n",
      "- **Machine Learning**: Supervised vs unsupervised learning, reinforcement learning.\n",
      "- **Deep Learning**: Neural networks, CNNs, RNNs, GANs, Transformers.\n",
      "- **Natural Language Processing (NLP)**: Text preprocessing, sentiment analysis, named entity recognition.\n",
      "- **Computer Vision**: Image classification, object detection, segmentation.\n",
      "- **Reinforcement Learning**: Q-learning, policy gradients.\n",
      "- **Statistical Methods**: Probability distributions, Bayesian inference, hypothesis testing.\n",
      "\n",
      "#### Algorithms and Techniques:\n",
      "- **Optimization**: Gradient descent, stochastic gradient descent, Adam.\n",
      "- **Evaluation Metrics**: Accuracy, precision, recall, F1-score, ROC curves, AUC.\n",
      "- **Feature Engineering**: Feature selection, dimensionality reduction (PCA, t-SNE).\n",
      "- **Model Selection**: Cross-validation, hyperparameter tuning, ensemble methods.\n",
      "\n",
      "#### Tools and Frameworks:\n",
      "- **Python Libraries**: TensorFlow, PyTorch, Scikit-learn, Keras, NumPy, Pandas.\n",
      "- **Data Handling**: SQL databases, NoSQL databases, data warehousing.\n",
      "- **Deployment**: Docker, Kubernetes, cloud services (AWS, Google Cloud, Azure).\n",
      "\n",
      "### 2. Project Experience\n",
      "\n",
      "#### Prepare to Discuss:\n",
      "- **Projects**: Describe at least two significant projects you have worked on. Highlight the problem statement, methodology, tools used, and outcomes.\n",
      "- **Challenges**: What challenges did you face? How did you overcome them?\n",
      "- **Impact**: What was the impact of your work? Did it solve a real-world problem or improve an existing system?\n",
      "\n",
      "### 3. Leadership and Management\n",
      "\n",
      "#### Key Skills:\n",
      "- **Team Management**: How do you manage a team of developers? What strategies do you use to motivate and lead?\n",
      "- **Problem Solving**: Describe a complex problem you solved in a project. How did you approach it?\n",
      "- **Communication**: How do you communicate technical information to non-technical stakeholders?\n",
      "\n",
      "#### Questions to Practice:\n",
      "- \"Can you describe a time when you had to manage a difficult team member?\"\n",
      "- \"How do you handle conflicting requirements from different stakeholders?\"\n",
      "\n",
      "### 4. Soft Skills\n",
      "\n",
      "#### Key Areas:\n",
      "- **Problem Solving**: Be prepared to explain how you tackle complex problems.\n",
      "- **Adaptability**: How do you adapt to new technologies or methodologies?\n",
      "- **Collaboration**: How do you collaborate with cross-functional teams?\n",
      "\n",
      "### 5. Behavioral Questions\n",
      "\n",
      "#### Common Questions:\n",
      "- \"Tell me about a time when you faced a challenging situation at work.\"\n",
      "- \"How do you handle stress or tight deadlines?\"\n",
      "- \"Describe a time when you took initiative to solve a problem.\"\n",
      "\n",
      "### 6. Research and Trends\n",
      "\n",
      "#### Stay Updated:\n",
      "- **Current Trends**: Keep up with the latest trends in AI and machine learning.\n",
      "- **Research Papers**: Read and discuss recent research papers relevant to your field.\n",
      "- **Industry News**: Follow industry news and developments.\n",
      "\n",
      "### 7. Practice Interviews\n",
      "\n",
      "#### Mock Interviews:\n",
      "- Conduct mock interviews with friends, colleagues, or use platforms like LeetCode, HackerRank, or InterviewBit.\n",
      "- Focus on both technical questions and behavioral questions.\n",
      "\n",
      "### 8. Preparation Checklist\n",
      "\n",
      "- Review key concepts and algorithms.\n",
      "- Prepare a list of projects and their details.\n",
      "- Practice explaining your thought process and problem-solving techniques.\n",
      "- Be ready to discuss your leadership and management experiences.\n",
      "- Stay updated with the latest AI trends and research.\n",
      "\n",
      "By following this structured approach, you should be well-prepared for your senior AI developer interview. Good luck!\n",
      " ==================== METRICS ====================\n",
      "ttft_ms: 35.97\n",
      "num_generated_tokens: 771\n",
      "total_time_s: 16.90\n",
      "throughput_tokens_per_sec: 45.63\n",
      "tpot_mean_ms: 21.89\n",
      "tpot_p50_ms: 21.92\n",
      "tpot_p95_ms: 22.31\n"
     ]
    }
   ],
   "execution_count": 13
  },
  {
   "metadata": {
    "ExecuteTime": {
     "end_time": "2025-10-13T05:18:44.351895Z",
     "start_time": "2025-10-13T05:18:44.350893Z"
    }
   },
   "cell_type": "code",
   "source": "",
   "id": "29216865403dd2bd",
   "outputs": [],
   "execution_count": null
  }
 ],
 "metadata": {
  "kernelspec": {
   "display_name": "Python 3",
   "language": "python",
   "name": "python3"
  },
  "language_info": {
   "codemirror_mode": {
    "name": "ipython",
    "version": 2
   },
   "file_extension": ".py",
   "mimetype": "text/x-python",
   "name": "python",
   "nbconvert_exporter": "python",
   "pygments_lexer": "ipython2",
   "version": "2.7.6"
  }
 },
 "nbformat": 4,
 "nbformat_minor": 5
}
