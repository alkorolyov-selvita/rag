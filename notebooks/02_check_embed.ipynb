{
 "cells": [
  {
   "cell_type": "code",
   "id": "initial_id",
   "metadata": {
    "collapsed": true,
    "ExecuteTime": {
     "end_time": "2025-10-12T09:38:22.449850Z",
     "start_time": "2025-10-12T09:38:20.476531Z"
    }
   },
   "source": [
    "from sentence_transformers.util import cos_sim\n",
    "\n",
    "from rag.embeddings import LocalEmbedder\n",
    "from rag.config import settings\n",
    "\n",
    "embedder = LocalEmbedder(settings.embedding_model)\n",
    "embedder.model_name"
   ],
   "outputs": [
    {
     "data": {
      "text/plain": [
       "'all-MiniLM-L6-v2'"
      ]
     },
     "execution_count": 11,
     "metadata": {},
     "output_type": "execute_result"
    }
   ],
   "execution_count": 11
  },
  {
   "metadata": {
    "ExecuteTime": {
     "end_time": "2025-10-12T09:38:22.462949Z",
     "start_time": "2025-10-12T09:38:22.456365Z"
    }
   },
   "cell_type": "code",
   "source": "embedder.embed_text('Test sentence')",
   "id": "db0a2809fb302f89",
   "outputs": [
    {
     "data": {
      "text/plain": [
       "array([ 4.29728217e-02,  9.66348723e-02, -2.12918106e-03,  7.82682896e-02,\n",
       "       -6.41744724e-03,  3.80002558e-02,  9.46168005e-02,  3.93962720e-04,\n",
       "       -5.45614138e-02,  1.48365591e-02,  1.35712281e-01, -7.15561882e-02,\n",
       "        1.98368188e-02,  4.60876711e-03,  2.93407440e-02, -2.44426411e-02,\n",
       "        2.55676303e-02, -3.15778181e-02, -6.94974139e-02,  2.44781654e-03,\n",
       "        4.08358350e-02, -1.56645365e-02,  6.57426333e-03,  4.47515920e-02,\n",
       "        4.42353403e-03,  5.28066978e-02, -5.22431880e-02,  2.03372333e-02,\n",
       "        7.58799911e-02, -2.19202712e-02, -2.24517342e-02,  2.38462575e-02,\n",
       "        9.50960536e-03,  8.76056403e-02,  5.16428910e-02, -5.79361478e-03,\n",
       "        6.01317780e-03,  2.46344740e-03,  1.73994247e-02, -2.02384545e-03,\n",
       "       -1.28351490e-03, -1.18024200e-01,  6.54889494e-02, -1.59118150e-03,\n",
       "        2.21067704e-02,  3.98668926e-03, -5.12573682e-02,  4.59730960e-02,\n",
       "       -5.94871603e-02, -4.02599163e-02, -4.32095118e-02, -4.56050448e-02,\n",
       "       -8.21539015e-02, -3.29703726e-02, -1.93325859e-02,  3.19093652e-02,\n",
       "        6.29870547e-03,  5.59609570e-03, -4.56801243e-03,  6.45427778e-03,\n",
       "       -7.08488189e-03, -3.66104357e-02, -7.68164173e-02,  4.68343310e-02,\n",
       "        1.07686527e-01, -2.29284521e-02, -1.79801267e-02, -8.53630006e-02,\n",
       "       -5.53470589e-02,  4.30554673e-02, -2.59934496e-02,  3.70318890e-02,\n",
       "        5.14610158e-03,  3.12300939e-02, -1.42374933e-02,  3.78848729e-03,\n",
       "        6.97217835e-03, -7.23819137e-02,  9.77919102e-02,  4.59001027e-03,\n",
       "       -5.24475574e-02, -1.34153783e-01, -1.77996233e-02,  5.57135530e-02,\n",
       "        3.77225801e-02,  2.64264327e-02,  8.52381065e-02, -4.34715785e-02,\n",
       "       -1.15083747e-01,  3.01381908e-02,  1.15143573e-02, -6.90704063e-02,\n",
       "        1.49317575e-03,  2.94745285e-02, -2.51135975e-02,  4.44449186e-02,\n",
       "       -4.78883460e-02, -4.57313210e-02,  4.33188975e-02,  1.61351025e-01,\n",
       "        5.57281151e-02,  4.23104726e-02,  1.16117457e-02, -3.55468318e-02,\n",
       "       -1.21924147e-01, -5.99862263e-02,  1.06154019e-02, -9.00767595e-02,\n",
       "        6.93381950e-02, -3.75782475e-02, -5.66832314e-04,  1.03533901e-02,\n",
       "        4.50851731e-02,  9.31745768e-03, -3.90490666e-02, -2.69060936e-02,\n",
       "       -9.38311815e-02,  6.03033379e-02, -6.05729222e-02,  3.28136645e-02,\n",
       "        5.87999970e-02,  5.55175282e-02, -9.09303781e-03, -4.12376504e-03,\n",
       "       -3.34346592e-02, -4.47558463e-02,  1.13295533e-01, -4.37911135e-33,\n",
       "       -5.27270138e-03, -6.72027245e-02,  4.43590097e-02,  4.94091734e-02,\n",
       "       -2.44420432e-02,  3.22087482e-02, -2.78077684e-02,  1.01029053e-01,\n",
       "       -3.52156423e-02,  4.52208482e-02, -2.08255742e-02, -9.83219519e-02,\n",
       "        1.12822792e-02,  3.84233110e-02,  4.92548309e-02,  8.08036551e-02,\n",
       "       -3.31730880e-02,  2.71390323e-02, -2.65451074e-02,  3.52763161e-02,\n",
       "        4.14838493e-02, -3.51199061e-02, -1.05239516e-02, -6.64989054e-02,\n",
       "       -6.74167424e-02, -8.51691216e-02,  6.18813233e-03, -3.08593996e-02,\n",
       "       -4.21841294e-02,  9.47032217e-03, -3.96481901e-02, -3.21099348e-02,\n",
       "       -6.27840012e-02,  7.61146769e-02,  4.82236184e-02,  5.98350093e-02,\n",
       "        5.41525856e-02, -4.20566611e-02,  2.69581154e-02, -3.92391899e-04,\n",
       "       -8.32631290e-02, -1.83575582e-02,  2.65994165e-02,  3.20607051e-02,\n",
       "        5.26300669e-02, -1.25841778e-02, -2.19656955e-02,  9.44053195e-03,\n",
       "        4.26766574e-02,  3.49450894e-02, -1.47353048e-02,  5.73520511e-02,\n",
       "        1.44527601e-02, -1.42789921e-02,  7.73955807e-02,  6.93497658e-02,\n",
       "        2.40205545e-02,  2.13899594e-02,  2.30211429e-02,  7.47723207e-02,\n",
       "        4.96241637e-02,  3.99097428e-02, -2.17059143e-02,  6.90038428e-02,\n",
       "        1.64577011e-02,  1.00794323e-02, -5.32856919e-02, -1.13038756e-01,\n",
       "        1.08548626e-01,  3.87234576e-02, -4.46830690e-02, -6.33711815e-02,\n",
       "       -4.62802202e-02,  4.61921357e-02, -1.91594120e-02, -7.42104929e-03,\n",
       "        2.24479977e-02,  7.43453503e-02, -1.18145877e-02, -6.67349026e-02,\n",
       "        8.25936124e-02, -8.45544189e-02, -1.85421633e-03,  7.84109719e-03,\n",
       "       -6.65393919e-02,  1.03258686e-02,  1.74191575e-02, -8.78740698e-02,\n",
       "        2.79268399e-02, -4.53915335e-02,  2.07824539e-02,  2.51709297e-03,\n",
       "        2.35436410e-02, -1.94679126e-02,  1.08143367e-01,  2.44996477e-33,\n",
       "       -4.92171757e-02,  5.52740060e-02, -5.82063906e-02,  7.36118332e-02,\n",
       "        8.26225579e-02, -5.48170656e-02,  5.65408990e-02, -8.10846910e-02,\n",
       "       -6.08424842e-02,  7.70215020e-02,  1.74648762e-02, -2.91636661e-02,\n",
       "       -3.09557043e-04, -2.33890489e-02, -1.25132762e-02,  2.43681837e-02,\n",
       "        1.71411950e-02, -3.64693776e-02, -3.16016972e-02,  6.32760674e-02,\n",
       "       -6.57097399e-02,  8.08130279e-02,  4.55829082e-03,  9.78651457e-03,\n",
       "       -7.13628232e-02,  1.96885187e-02,  1.75891295e-02, -7.32676014e-02,\n",
       "       -7.79645741e-02, -1.20967077e-02,  4.03927602e-02, -3.85409854e-02,\n",
       "       -3.59157957e-02,  7.29885623e-02,  4.50849459e-02, -6.54248474e-03,\n",
       "        1.25381649e-01, -8.25847834e-02, -4.08581346e-02,  1.12017326e-01,\n",
       "        7.61473328e-02,  1.03330426e-02,  1.71354041e-02,  4.82128412e-02,\n",
       "        1.16558298e-02,  2.58668214e-02, -3.19126695e-02, -9.09800678e-02,\n",
       "        1.29503747e-02,  5.38696386e-02, -7.14048445e-02,  3.00491489e-02,\n",
       "       -4.04645875e-02,  1.19142737e-02, -4.08065468e-02, -8.09548050e-03,\n",
       "       -6.94270507e-02, -3.67938280e-02, -3.51474397e-02, -7.22304499e-03,\n",
       "       -6.51242808e-02,  8.33758563e-02, -6.17540674e-03,  3.12937871e-02,\n",
       "        1.63873509e-02, -8.98951516e-02, -3.28299850e-02,  4.18127105e-02,\n",
       "        6.20299987e-02, -1.22521259e-02,  5.34566538e-03,  3.15770833e-03,\n",
       "       -4.48911749e-02, -2.02630963e-02, -1.91584788e-02, -4.91733439e-02,\n",
       "       -6.56887665e-02, -3.94651368e-02, -2.56791953e-02, -6.50714710e-02,\n",
       "       -2.99258512e-02, -3.75361107e-02, -3.46391313e-02,  2.94933897e-02,\n",
       "       -4.48614545e-02,  2.36570602e-03,  6.49279729e-02, -2.68936474e-02,\n",
       "       -1.28394784e-02,  6.94927052e-02,  5.59816360e-02,  2.96556745e-02,\n",
       "        8.96235090e-03, -2.98858620e-02, -9.47067700e-03, -1.39522278e-08,\n",
       "       -2.66483389e-02, -4.30469364e-02, -2.08142996e-02,  1.59762818e-02,\n",
       "       -4.15227264e-02, -2.48434721e-03,  1.39887910e-02, -6.45600483e-02,\n",
       "       -4.32879813e-02, -2.12720856e-02,  4.90580834e-02,  2.94798333e-02,\n",
       "       -4.20931429e-02,  2.07408126e-02,  5.63049223e-03, -1.71238966e-02,\n",
       "       -3.56707312e-02, -9.11850855e-03, -9.01412405e-03,  3.83853093e-02,\n",
       "       -1.05692248e-04,  6.06444962e-02,  1.18662079e-03,  1.01592049e-01,\n",
       "       -4.88769934e-02,  5.00244424e-02,  8.70619714e-02,  7.61166662e-02,\n",
       "        1.50397432e-03,  2.80856937e-02,  1.08622968e-01,  6.83618486e-02,\n",
       "       -5.81336953e-02, -5.58396876e-02,  9.68818367e-03,  5.68997748e-02,\n",
       "        2.58675497e-02, -9.54370014e-03,  7.10770041e-02,  3.44452970e-02,\n",
       "       -6.59759045e-02, -1.13343550e-02, -3.87070216e-02,  2.68640332e-02,\n",
       "        9.82087455e-04, -9.54115018e-02, -5.57169802e-02, -3.99815738e-02,\n",
       "       -1.39719732e-02, -1.19603641e-01, -2.42329203e-02, -1.53067326e-02,\n",
       "       -2.19649486e-02,  1.09828531e-03,  3.76526862e-02,  4.10741270e-02,\n",
       "        4.23793979e-02, -2.38943435e-02, -1.31847516e-01,  1.38901398e-02,\n",
       "        1.16752796e-01,  5.10800295e-02,  3.65838669e-02, -9.78239253e-02],\n",
       "      dtype=float32)"
      ]
     },
     "execution_count": 12,
     "metadata": {},
     "output_type": "execute_result"
    }
   ],
   "execution_count": 12
  },
  {
   "metadata": {
    "ExecuteTime": {
     "end_time": "2025-10-12T09:38:22.502146Z",
     "start_time": "2025-10-12T09:38:22.500344Z"
    }
   },
   "cell_type": "code",
   "source": "print(embedder.model.max_seq_length)  # Usually 256 or 512",
   "id": "77f41a07f65bfc2",
   "outputs": [
    {
     "name": "stdout",
     "output_type": "stream",
     "text": [
      "256\n"
     ]
    }
   ],
   "execution_count": 13
  },
  {
   "metadata": {
    "ExecuteTime": {
     "end_time": "2025-10-12T09:38:22.549312Z",
     "start_time": "2025-10-12T09:38:22.544580Z"
    }
   },
   "cell_type": "code",
   "source": "embedder.embed_text('Test sentence').shape, embedder.dimension",
   "id": "d2ff47d226448bd4",
   "outputs": [
    {
     "data": {
      "text/plain": [
       "((384,), 384)"
      ]
     },
     "execution_count": 14,
     "metadata": {},
     "output_type": "execute_result"
    }
   ],
   "execution_count": 14
  },
  {
   "metadata": {
    "ExecuteTime": {
     "end_time": "2025-10-12T09:38:22.591744Z",
     "start_time": "2025-10-12T09:38:22.587750Z"
    }
   },
   "cell_type": "code",
   "source": [
    "import numpy as np\n",
    "\n",
    "emb = embedder.embed_text('Test sentence')\n",
    "np.linalg.norm(emb)"
   ],
   "id": "98a94c43b0337edc",
   "outputs": [
    {
     "data": {
      "text/plain": [
       "np.float32(1.0)"
      ]
     },
     "execution_count": 15,
     "metadata": {},
     "output_type": "execute_result"
    }
   ],
   "execution_count": 15
  },
  {
   "metadata": {
    "ExecuteTime": {
     "end_time": "2025-10-12T09:38:22.635411Z",
     "start_time": "2025-10-12T09:38:22.630794Z"
    }
   },
   "cell_type": "code",
   "source": [
    "embedder.embed_batch([\n",
    "    'Test sentence 123',\n",
    "    'Test sentence 234',\n",
    "]).shape"
   ],
   "id": "42af02171cc0abc3",
   "outputs": [
    {
     "data": {
      "text/plain": [
       "(2, 384)"
      ]
     },
     "execution_count": 16,
     "metadata": {},
     "output_type": "execute_result"
    }
   ],
   "execution_count": 16
  },
  {
   "metadata": {
    "ExecuteTime": {
     "end_time": "2025-10-12T09:47:25.080418Z",
     "start_time": "2025-10-12T09:47:25.066235Z"
    }
   },
   "cell_type": "code",
   "source": [
    "from datasets import Dataset, DatasetDict\n",
    "from sentence_transformers.util import cos_sim\n",
    "\n",
    "sentences = [\n",
    "    \"Myocarditis symptom\",\n",
    "    \"Heart disease\"\n",
    "]\n",
    "\n",
    "embs = embedder.embed_batch(sentences)\n",
    "\n",
    "ds = Dataset.from_dict({\n",
    "    \"text\": sentences,\n",
    "    \"emb\": embs.tolist()\n",
    "})\n",
    "ds"
   ],
   "id": "f24a0884f54f07a2",
   "outputs": [
    {
     "data": {
      "text/plain": [
       "Dataset({\n",
       "    features: ['text', 'emb'],\n",
       "    num_rows: 2\n",
       "})"
      ]
     },
     "execution_count": 24,
     "metadata": {},
     "output_type": "execute_result"
    }
   ],
   "execution_count": 24
  },
  {
   "metadata": {
    "ExecuteTime": {
     "end_time": "2025-10-12T09:53:12.823355Z",
     "start_time": "2025-10-12T09:53:12.820103Z"
    }
   },
   "cell_type": "code",
   "source": "",
   "id": "20f5aa34f5015fc",
   "outputs": [
    {
     "data": {
      "text/plain": [
       "[0.02470497041940689,\n",
       " -0.014249959029257298,\n",
       " 0.02994726225733757,\n",
       " 0.08571617305278778,\n",
       " 0.027141571044921875,\n",
       " -0.04962596669793129,\n",
       " 0.024072395637631416,\n",
       " 0.03553302586078644,\n",
       " 0.01784556545317173,\n",
       " -0.0340292751789093,\n",
       " -0.022301161661744118,\n",
       " -0.04641974717378616,\n",
       " 0.07517695426940918,\n",
       " 0.09429674595594406,\n",
       " -0.010060606524348259,\n",
       " -0.06624175608158112,\n",
       " -0.02012551762163639,\n",
       " -0.07879673689603806,\n",
       " 0.026864126324653625,\n",
       " 0.02471201866865158,\n",
       " -0.0701221227645874,\n",
       " 0.03728414699435234,\n",
       " -0.10861827433109283,\n",
       " -0.07574409246444702,\n",
       " -0.031138760969042778,\n",
       " 0.07756059616804123,\n",
       " 0.04919148609042168,\n",
       " -0.05582064017653465,\n",
       " 0.022198688238859177,\n",
       " 0.02176506631076336,\n",
       " -0.014494634233415127,\n",
       " -0.04769505187869072,\n",
       " 0.06901286542415619,\n",
       " 0.061628732830286026,\n",
       " 0.10493464767932892,\n",
       " 0.0423213467001915,\n",
       " 0.07035005837678909,\n",
       " -0.004289128817617893,\n",
       " -0.0031397745478898287,\n",
       " 0.05423405393958092,\n",
       " 0.02102644182741642,\n",
       " -0.029968731105327606,\n",
       " 0.07579449564218521,\n",
       " 0.0047347331419587135,\n",
       " 0.029901739209890366,\n",
       " 0.05771731585264206,\n",
       " -0.09760705381631851,\n",
       " 0.042060356587171555,\n",
       " -0.006438661832362413,\n",
       " 0.06777699291706085,\n",
       " -0.04525482654571533,\n",
       " -0.03284243494272232,\n",
       " 0.022135736420750618,\n",
       " -0.10167428106069565,\n",
       " 0.03794087469577789,\n",
       " -0.05287956818938255,\n",
       " -0.05792948603630066,\n",
       " -0.045362379401922226,\n",
       " -0.02651083655655384,\n",
       " -0.02994232065975666,\n",
       " 0.04698321968317032,\n",
       " -0.02634332701563835,\n",
       " 0.006401998456567526,\n",
       " 0.06163257732987404,\n",
       " -0.03698938339948654,\n",
       " 0.026544826105237007,\n",
       " -0.029975460842251778,\n",
       " 0.06676579266786575,\n",
       " 0.10754397511482239,\n",
       " 0.06360321491956711,\n",
       " 0.050117019563913345,\n",
       " -0.052714455872774124,\n",
       " -0.07353846728801727,\n",
       " 0.004767235834151506,\n",
       " 0.04264899715781212,\n",
       " 0.01492285169661045,\n",
       " 0.0010567691642791033,\n",
       " -0.12367486953735352,\n",
       " -0.04518229141831398,\n",
       " 0.01997608318924904,\n",
       " -0.060824498534202576,\n",
       " -0.010783370584249496,\n",
       " -0.02667158469557762,\n",
       " -0.03498324751853943,\n",
       " 0.020682573318481445,\n",
       " 0.052883997559547424,\n",
       " 0.11273406445980072,\n",
       " -0.044146932661533356,\n",
       " -0.08143933117389679,\n",
       " 0.0011108550243079662,\n",
       " 0.07640350610017776,\n",
       " -0.09880398213863373,\n",
       " 0.005470355972647667,\n",
       " 0.01366333570331335,\n",
       " 0.028372861444950104,\n",
       " -0.010248327627778053,\n",
       " 0.0067804306745529175,\n",
       " -0.020010652020573616,\n",
       " -0.10072305798530579,\n",
       " -0.02606603503227234,\n",
       " 0.008490287698805332,\n",
       " -0.03627355769276619,\n",
       " -0.005691069643944502,\n",
       " 0.02866862155497074,\n",
       " 0.05181253328919411,\n",
       " 0.016461864113807678,\n",
       " 0.023890316486358643,\n",
       " -0.0379008874297142,\n",
       " -0.004959288518875837,\n",
       " 0.015101371333003044,\n",
       " 0.06463654339313507,\n",
       " 0.04489744454622269,\n",
       " 0.03375712409615517,\n",
       " -0.07224936038255692,\n",
       " 0.07554049789905548,\n",
       " 0.07089335471391678,\n",
       " 0.0665992721915245,\n",
       " -0.0004444474179763347,\n",
       " -0.06635577976703644,\n",
       " 0.08384853601455688,\n",
       " 0.015436194837093353,\n",
       " -0.09798438847064972,\n",
       " 0.008766590617597103,\n",
       " -0.028044458478689194,\n",
       " -0.09733863174915314,\n",
       " 0.029235485941171646,\n",
       " -0.11799102276563644,\n",
       " 4.9656224190793575e-34,\n",
       " 0.019842764362692833,\n",
       " -0.025348391383886337,\n",
       " -0.03544452786445618,\n",
       " -0.018955878913402557,\n",
       " 0.044101521372795105,\n",
       " -0.08697088807821274,\n",
       " 0.004772743675857782,\n",
       " 0.031428854912519455,\n",
       " 0.03369344770908356,\n",
       " -0.04053473472595215,\n",
       " 0.02760573849081993,\n",
       " 0.04198513552546501,\n",
       " 0.06837861239910126,\n",
       " -0.06236622482538223,\n",
       " -0.08137277513742447,\n",
       " -0.03569266200065613,\n",
       " 0.018342165276408195,\n",
       " 0.04609972983598709,\n",
       " -0.018153153359889984,\n",
       " 0.0036191304679960012,\n",
       " 0.014324109070003033,\n",
       " -0.0030312128365039825,\n",
       " 0.05463134124875069,\n",
       " -0.007047953549772501,\n",
       " 0.03721151500940323,\n",
       " -0.0173343438655138,\n",
       " -0.012450897134840488,\n",
       " -0.035326678305864334,\n",
       " 0.040729399770498276,\n",
       " -0.056712597608566284,\n",
       " -0.01720949076116085,\n",
       " -0.046155113726854324,\n",
       " -0.03681505098938942,\n",
       " -0.0011843425454571843,\n",
       " -0.028421675786376,\n",
       " 0.027295997366309166,\n",
       " 0.001864066463895142,\n",
       " 0.09823361784219742,\n",
       " 0.005905286408960819,\n",
       " 0.01020097080618143,\n",
       " 0.009301313199102879,\n",
       " 0.010778139345347881,\n",
       " -0.022095048800110817,\n",
       " -0.01679323986172676,\n",
       " 0.11176018416881561,\n",
       " -0.061294060200452805,\n",
       " -0.025152191519737244,\n",
       " -0.02025621570646763,\n",
       " -0.12017372995615005,\n",
       " -0.03264709189534187,\n",
       " 0.02200963906943798,\n",
       " 0.026960521936416626,\n",
       " 0.014278635382652283,\n",
       " -0.019219743087887764,\n",
       " -0.028644835576415062,\n",
       " -0.02578030899167061,\n",
       " 0.11599091440439224,\n",
       " 0.01031514536589384,\n",
       " -0.013391364365816116,\n",
       " -0.014028691686689854,\n",
       " 0.04012829065322876,\n",
       " -0.01834299974143505,\n",
       " 0.00036579743027687073,\n",
       " -0.003939517308026552,\n",
       " -0.05224974825978279,\n",
       " -0.043495941907167435,\n",
       " -0.029895780608057976,\n",
       " -0.037484172731637955,\n",
       " -0.036240968853235245,\n",
       " 0.07640933245420456,\n",
       " 0.009808258153498173,\n",
       " -0.02924056351184845,\n",
       " -0.019789371639490128,\n",
       " -0.033711425960063934,\n",
       " 0.00697535602375865,\n",
       " 0.04648102447390556,\n",
       " -0.07537283003330231,\n",
       " -0.010752200148999691,\n",
       " -0.09917962551116943,\n",
       " -0.10805027186870575,\n",
       " -0.07167382538318634,\n",
       " 0.03444817289710045,\n",
       " 0.11936009675264359,\n",
       " 0.06181555241346359,\n",
       " 0.030031103640794754,\n",
       " -0.03521965444087982,\n",
       " -0.030346745625138283,\n",
       " 0.04854849725961685,\n",
       " -0.013587400317192078,\n",
       " 0.014275157824158669,\n",
       " 0.01912377029657364,\n",
       " 0.06626128405332565,\n",
       " -0.011620625853538513,\n",
       " 0.03042205609381199,\n",
       " -0.03991944342851639,\n",
       " -2.4771431227168075e-33,\n",
       " 0.00625101663172245,\n",
       " 0.010343961417675018,\n",
       " 0.006432296242564917,\n",
       " -0.09322383254766464,\n",
       " -0.014489753171801567,\n",
       " 0.00012880803842563182,\n",
       " 0.052659835666418076,\n",
       " 0.1099657416343689,\n",
       " 0.01884886622428894,\n",
       " -0.0606456883251667,\n",
       " 0.054539985954761505,\n",
       " 0.02028360404074192,\n",
       " -0.08025852590799332,\n",
       " 0.06052670627832413,\n",
       " -0.0769110694527626,\n",
       " 0.10592874139547348,\n",
       " 0.05788464471697807,\n",
       " -0.013128607533872128,\n",
       " 0.03258105367422104,\n",
       " -0.018624983727931976,\n",
       " -0.12493707239627838,\n",
       " 0.01990491710603237,\n",
       " 0.057379480451345444,\n",
       " -0.00770379276946187,\n",
       " 0.03274206072092056,\n",
       " 0.059428658336400986,\n",
       " 0.04398242384195328,\n",
       " -0.09820935875177383,\n",
       " -0.044324811547994614,\n",
       " -0.07967100292444229,\n",
       " 0.12820282578468323,\n",
       " -0.020573677495121956,\n",
       " 0.0004909169510938227,\n",
       " 0.04342005401849747,\n",
       " -0.02105560526251793,\n",
       " 0.09393473714590073,\n",
       " -0.02568855695426464,\n",
       " -0.01752321794629097,\n",
       " -0.029570989310741425,\n",
       " 0.012193042784929276,\n",
       " 0.013251366093754768,\n",
       " 0.004656163044273853,\n",
       " 0.04519636183977127,\n",
       " 0.06227068603038788,\n",
       " -0.021336693316698074,\n",
       " -0.06857719272375107,\n",
       " 0.012357227504253387,\n",
       " -0.03272034972906113,\n",
       " 0.022444942966103554,\n",
       " 0.00693327933549881,\n",
       " -0.040978770703077316,\n",
       " -0.05112779140472412,\n",
       " 0.026611296460032463,\n",
       " 0.043899208307266235,\n",
       " -0.014457367360591888,\n",
       " -0.009261381812393665,\n",
       " 0.0031162151135504246,\n",
       " 0.03723978251218796,\n",
       " -0.07973890751600266,\n",
       " -0.025208011269569397,\n",
       " 0.027118608355522156,\n",
       " -0.0041829608380794525,\n",
       " -0.0001810633111745119,\n",
       " -0.10137996077537537,\n",
       " 0.06395765393972397,\n",
       " 0.008590715937316418,\n",
       " 0.013987577520310879,\n",
       " -0.03601272404193878,\n",
       " 0.07605022192001343,\n",
       " 0.01928376965224743,\n",
       " 0.01754613034427166,\n",
       " 0.026550795882940292,\n",
       " -0.15295444428920746,\n",
       " 0.046348318457603455,\n",
       " 0.00670347036793828,\n",
       " 0.028624340891838074,\n",
       " 0.025555605068802834,\n",
       " 0.08541567623615265,\n",
       " 0.08719941228628159,\n",
       " -0.03479429706931114,\n",
       " -0.04031822457909584,\n",
       " 0.004287336487323046,\n",
       " 0.05032721161842346,\n",
       " 0.01749478280544281,\n",
       " -0.06956283748149872,\n",
       " -0.04172920063138008,\n",
       " 0.09865549206733704,\n",
       " 0.002147122984752059,\n",
       " 0.02991136536002159,\n",
       " -0.012831070460379124,\n",
       " 0.1094655692577362,\n",
       " 0.06713110208511353,\n",
       " -0.0889865830540657,\n",
       " 0.012372306548058987,\n",
       " -0.03190954029560089,\n",
       " -1.6083106402220437e-08,\n",
       " -0.05867912992835045,\n",
       " -0.05771658942103386,\n",
       " -0.007590345572680235,\n",
       " -0.05266149342060089,\n",
       " -0.08743911981582642,\n",
       " -0.04260088875889778,\n",
       " 0.007410382851958275,\n",
       " -0.03932971879839897,\n",
       " 0.011952247470617294,\n",
       " -0.011170458979904652,\n",
       " -0.050312478095293045,\n",
       " 0.007322416175156832,\n",
       " -0.01892746426165104,\n",
       " -0.130783811211586,\n",
       " 0.019220789894461632,\n",
       " -0.06084034591913223,\n",
       " -0.08807048201560974,\n",
       " -0.023492345586419106,\n",
       " 0.03157828748226166,\n",
       " -0.08114653080701828,\n",
       " 0.08207777142524719,\n",
       " 0.01135297678411007,\n",
       " 0.001721539767459035,\n",
       " 0.007174720522016287,\n",
       " 0.0053694890812039375,\n",
       " -0.034335605800151825,\n",
       " -0.031865522265434265,\n",
       " 0.015937993302941322,\n",
       " 0.051582977175712585,\n",
       " 0.023677369579672813,\n",
       " -0.004040263593196869,\n",
       " 0.04452842101454735,\n",
       " 0.019226884469389915,\n",
       " -0.01609678566455841,\n",
       " 0.07156827300786972,\n",
       " -0.03967098519206047,\n",
       " 0.029350606724619865,\n",
       " -0.055438458919525146,\n",
       " -0.030743762850761414,\n",
       " -0.007000880781561136,\n",
       " 0.0862642154097557,\n",
       " -9.548712841933593e-05,\n",
       " -0.026378875598311424,\n",
       " -0.011564829386770725,\n",
       " -0.059018734842538834,\n",
       " -0.04927283525466919,\n",
       " 0.050334326922893524,\n",
       " -0.005623835138976574,\n",
       " 0.11382070183753967,\n",
       " -0.04504721239209175,\n",
       " 0.06433173269033432,\n",
       " 0.04719352722167969,\n",
       " 0.0532313734292984,\n",
       " 0.06568469107151031,\n",
       " -0.09072832018136978,\n",
       " -0.0018650076817721128,\n",
       " -0.0482538603246212,\n",
       " 0.045533712953329086,\n",
       " 0.014566448517143726,\n",
       " -0.028567733243107796,\n",
       " 0.01621650531888008,\n",
       " -0.0290851928293705,\n",
       " -0.04497764632105827,\n",
       " 0.04505974426865578]"
      ]
     },
     "execution_count": 39,
     "metadata": {},
     "output_type": "execute_result"
    }
   ],
   "execution_count": 39
  },
  {
   "metadata": {
    "ExecuteTime": {
     "end_time": "2025-10-12T09:50:56.742234Z",
     "start_time": "2025-10-12T09:50:56.686032Z"
    }
   },
   "cell_type": "code",
   "source": [
    "import seaborn as sns\n",
    "\n",
    "\n",
    "sns.heatmap(embs.dot(embs.T))"
   ],
   "id": "2e30d90fc7cf346a",
   "outputs": [
    {
     "data": {
      "text/plain": [
       "<Axes: >"
      ]
     },
     "execution_count": 28,
     "metadata": {},
     "output_type": "execute_result"
    },
    {
     "data": {
      "text/plain": [
       "<Figure size 640x480 with 2 Axes>"
      ],
      "image/png": "[encoded data removed]"
     },
     "metadata": {},
     "output_type": "display_data",
     "jetTransient": {
      "display_id": null
     }
    }
   ],
   "execution_count": 28
  },
  {
   "metadata": {
    "ExecuteTime": {
     "end_time": "2025-10-12T09:47:49.175100Z",
     "start_time": "2025-10-12T09:47:49.172911Z"
    }
   },
   "cell_type": "code",
   "source": "embs.dot(embs.T)",
   "id": "ade1496eea29bc5a",
   "outputs": [
    {
     "data": {
      "text/plain": [
       "array([[1.0000001, 0.5085638],\n",
       "       [0.5085638, 1.0000002]], dtype=float32)"
      ]
     },
     "execution_count": 26,
     "metadata": {},
     "output_type": "execute_result"
    }
   ],
   "execution_count": 26
  },
  {
   "metadata": {
    "ExecuteTime": {
     "end_time": "2025-10-12T09:57:38.060359Z",
     "start_time": "2025-10-12T09:57:37.960148Z"
    }
   },
   "cell_type": "code",
   "source": [
    "\n",
    "sentences = [\n",
    "    \"Myocarditis symptom\",\n",
    "    \"Heart attack\",\n",
    "    \"Heart disease\",\n",
    "    \"Chest pain\",\n",
    "    \"Top ten signs you might have a heart attack\",\n",
    "    \"Should you call for ambulance on heart attack?\",\n",
    "    \"General medial condition\",\n",
    "    \"Cornerstone house\"\n",
    "]\n",
    "\n",
    "embs = embedder.embed_batch(sentences)\n",
    "\n",
    "sns.heatmap(embs.dot(embs.T), annot=True, yticklabels=sentences, xticklabels=sentences)"
   ],
   "id": "4baaf3caf638bfa6",
   "outputs": [
    {
     "data": {
      "text/plain": [
       "<Axes: >"
      ]
     },
     "execution_count": 47,
     "metadata": {},
     "output_type": "execute_result"
    },
    {
     "data": {
      "text/plain": [
       "<Figure size 640x480 with 2 Axes>"
      ],
      "image/png": "[encoded data removed]"
     },
     "metadata": {},
     "output_type": "display_data",
     "jetTransient": {
      "display_id": null
     }
    }
   ],
   "execution_count": 47
  }
 ],
 "metadata": {
  "kernelspec": {
   "display_name": "Python 3",
   "language": "python",
   "name": "python3"
  },
  "language_info": {
   "codemirror_mode": {
    "name": "ipython",
    "version": 2
   },
   "file_extension": ".py",
   "mimetype": "text/x-python",
   "name": "python",
   "nbconvert_exporter": "python",
   "pygments_lexer": "ipython2",
   "version": "2.7.6"
  }
 },
 "nbformat": 4,
 "nbformat_minor": 5
}
