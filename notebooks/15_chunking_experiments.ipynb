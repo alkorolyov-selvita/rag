{
 "cells": [
  {
   "cell_type": "markdown",
   "id": "initial_id",
   "metadata": {},
   "source": "# Chunking Experiments with MLflow Tracking\n\nThis notebook explores different chunking strategies for RAG:\n- Multiple chunk sizes (128, 256, 512, 1024 tokens)\n- Multiple overlap values (0, 25, 50 tokens)\n- Multiple embedders\n- Token-based chunking using each embedder's tokenizer\n\nAll experiments are tracked in MLflow for comparison."
  },
  {
   "cell_type": "code",
   "id": "setup",
   "metadata": {
    "ExecuteTime": {
     "end_time": "2025-10-26T09:12:55.591669Z",
     "start_time": "2025-10-26T09:12:53.055242Z"
    }
   },
   "source": [
    "import numpy as np\n",
    "import faiss\n",
    "import torch\n",
    "import gc\n",
    "from time import time\n",
    "from datasets import load_from_disk, disable_caching, Dataset, load_dataset\n",
    "from rag.config import PROJECT_ROOT\n",
    "from rag.tracking import ExperimentTracker\n",
    "from rag.utils import embed_dataset, get_metrics\n",
    "from rag.embeddings import LocalEmbedder\n",
    "from rag.config import settings\n",
    "from rag.ingestion.chunker import RecursiveChunker"
   ],
   "outputs": [
    {
     "name": "stderr",
     "output_type": "stream",
     "text": [
      "/home/ergot/projects/rag/.venv/lib/python3.12/site-packages/tqdm/auto.py:21: TqdmWarning: IProgress not found. Please update jupyter and ipywidgets. See https://ipywidgets.readthedocs.io/en/stable/user_install.html\n",
      "  from .autonotebook import tqdm as notebook_tqdm\n"
     ]
    }
   ],
   "execution_count": 1
  },
  {
   "cell_type": "code",
   "id": "load_data",
   "metadata": {
    "ExecuteTime": {
     "end_time": "2025-10-26T09:12:58.796270Z",
     "start_time": "2025-10-26T09:12:55.594074Z"
    }
   },
   "source": [
    "# Load datasets\n",
    "doc_ds = load_dataset(\"rag-datasets/rag-mini-bioasq\", \"text-corpus\", split=\"passages\")\n",
    "doc_ds = doc_ds.filter(lambda row: row['passage'] != 'nan')\n",
    "query_ds = load_dataset(\"rag-datasets/rag-mini-bioasq\", \"question-answer-passages\", split=\"test\")\n",
    "\n",
    "# Precompute\n",
    "doc_id_to_text = doc_ds.select_columns(['id', 'passage']).to_pandas().set_index('id')['passage'].to_dict()\n",
    "queries = np.array(query_ds['question'])\n",
    "qrels = [np.array(eval(gold)) for gold in query_ds['relevant_passage_ids']]\n",
    "qrels_counts = [len(s) for s in qrels]\n",
    "\n",
    "disable_caching()"
   ],
   "outputs": [],
   "execution_count": 2
  },
  {
   "cell_type": "code",
   "id": "experiment_config",
   "metadata": {
    "ExecuteTime": {
     "end_time": "2025-10-26T09:12:58.858827Z",
     "start_time": "2025-10-26T09:12:58.843410Z"
    }
   },
   "source": [
    "# Initialize tracker\n",
    "tracker = ExperimentTracker('chunking-experiments-bioasq')\n",
    "\n",
    "# Experiment configuration\n",
    "embedder_models = [\n",
    "    \"sentence-transformers/all-MiniLM-L6-v2\",\n",
    "    \"sentence-transformers/all-MiniLM-L12-v2\",\n",
    "    \"BAAI/bge-small-en-v1.5\",\n",
    "    \"BAAI/bge-base-en-v1.5\",\n",
    "    \"BAAI/bge-large-en-v1.5\",\n",
    "]\n",
    "\n",
    "chunk_sizes = [None, 128, 256, 512]  # None = no chunking, others in tokens\n",
    "chunk_overlaps = [0, 25, 50, 100]  # in tokens\n",
    "\n",
    "faiss_metric = 'IP'\n",
    "rerank_model = None\n",
    "\n",
    "\n",
    "def deduplicate_retrieved_docs(retrieved_ids_all, k):\n",
    "    \"\"\"\n",
    "    Deduplicate document IDs per query, keeping only first occurrence.\n",
    "    \n",
    "    For chunked retrieval, multiple chunks from same document may be retrieved.\n",
    "    This keeps only the highest-ranked occurrence of each unique document.\n",
    "    \n",
    "    Args:\n",
    "        retrieved_ids_all: (n_queries, n_retrieved) array of document IDs\n",
    "        k: Number of unique documents to keep per query\n",
    "    \n",
    "    Returns:\n",
    "        (n_queries, k) array of unique document IDs\n",
    "    \"\"\"\n",
    "    deduped = []\n",
    "    for query_results in retrieved_ids_all:\n",
    "        seen = set()\n",
    "        unique_docs = []\n",
    "        for doc_id in query_results:\n",
    "            if doc_id not in seen:\n",
    "                unique_docs.append(doc_id)\n",
    "                seen.add(doc_id)\n",
    "            if len(unique_docs) == k:\n",
    "                break\n",
    "        # Pad if needed\n",
    "        while len(unique_docs) < k:\n",
    "            unique_docs.append(0)  # Padding with 0 (won't match any real doc)\n",
    "        deduped.append(unique_docs)\n",
    "    return np.array(deduped)"
   ],
   "outputs": [
    {
     "name": "stdout",
     "output_type": "stream",
     "text": [
      "[2025-10-26 10:12:58] [rag.tracking] [INFO] Tracking to: http://localhost:5000\n",
      "[2025-10-26 10:12:58] [rag.tracking] [INFO] Experiment: chunking-experiments-bioasq\n"
     ]
    }
   ],
   "execution_count": 3
  },
  {
   "cell_type": "code",
   "id": "run_experiments",
   "metadata": {
    "ExecuteTime": {
     "end_time": "2025-10-26T12:30:19.576264Z",
     "start_time": "2025-10-26T09:12:58.887177Z"
    }
   },
   "source": [
    "# Run experiments\n",
    "for embedder_name in embedder_models:\n",
    "    embedder_name_short = embedder_name.split('/')[-1]\n",
    "    \n",
    "    for chunk_size in chunk_sizes:\n",
    "        # Skip overlap experiments when not chunking\n",
    "        overlaps_to_test = [0] if chunk_size is None else chunk_overlaps\n",
    "        \n",
    "        for chunk_overlap in overlaps_to_test:\n",
    "            # Skip invalid configurations\n",
    "            if chunk_size is not None and chunk_overlap >= chunk_size:\n",
    "                continue\n",
    "            \n",
    "            print(f\"\\n{'='*80}\")\n",
    "            print(f\"Testing: {embedder_name_short} | chunk_size={chunk_size} | overlap={chunk_overlap}\")\n",
    "            print(f\"{'='*80}\")\n",
    "            \n",
    "            try:\n",
    "                # Create chunked dataset using token-based chunking\n",
    "                if chunk_size is None:\n",
    "                    current_doc_ds = doc_ds\n",
    "                else:\n",
    "                    chunker = RecursiveChunker(\n",
    "                        chunk_size=chunk_size,\n",
    "                        chunk_overlap=chunk_overlap,\n",
    "                        embedder_model=embedder_name,\n",
    "                    )\n",
    "                    current_doc_ds = chunker.chunk_dataset(doc_ds, text_col='passage', id_col='id')\n",
    "                    # Rename columns to match expected format\n",
    "                    current_doc_ds = current_doc_ds.rename_column('doc_id', 'parent_id')\n",
    "                    current_doc_ds = current_doc_ds.rename_column('text', 'passage')\n",
    "                    print(f\"Created {len(current_doc_ds)} chunks from {len(doc_ds)} documents\")\n",
    "                \n",
    "                # Initialize embedder\n",
    "                embedder = LocalEmbedder(embedder_name, device=\"cuda\")\n",
    "                \n",
    "                # Embed documents and queries\n",
    "                start_time = time()\n",
    "                current_doc_ds = embed_dataset(current_doc_ds, embedder, column=\"passage\")\n",
    "                current_query_ds = embed_dataset(query_ds, embedder, column=\"question\")\n",
    "                elapsed_time = time() - start_time\n",
    "                \n",
    "                # Build FAISS index\n",
    "                current_doc_ds.add_faiss_index(\n",
    "                    column='embedding',\n",
    "                    string_factory='Flat',\n",
    "                    metric_type=faiss.METRIC_INNER_PRODUCT,\n",
    "                    batch_size=128,\n",
    "                )\n",
    "                \n",
    "                # Retrieve top-100 chunks/documents\n",
    "                retrieve_k = 100\n",
    "                res = current_doc_ds.get_index('embedding').search_batch(\n",
    "                    np.array(current_query_ds['embedding']), \n",
    "                    k=retrieve_k\n",
    "                )\n",
    "                \n",
    "                # Map chunk IDs back to parent document IDs if chunked\n",
    "                if chunk_size is None:\n",
    "                    index_to_doc_id = np.array(current_doc_ds['id'])\n",
    "                else:\n",
    "                    index_to_doc_id = np.array(current_doc_ds['parent_id'])\n",
    "                \n",
    "                retrieved_ids_all = index_to_doc_id[res.total_indices]\n",
    "                \n",
    "                # Deduplicate documents (keeping top-100 unique docs)\n",
    "                retrieved_ids_all = deduplicate_retrieved_docs(retrieved_ids_all, retrieve_k)\n",
    "                \n",
    "                # Calculate metrics at different k values\n",
    "                metrics = {}\n",
    "                for k in [1, 3, 5, 10]:\n",
    "                    retrieved_ids = retrieved_ids_all[:, :k]\n",
    "                    metrics = {\n",
    "                        **metrics,\n",
    "                        **get_metrics(retrieved_ids, query_ds, k),\n",
    "                    }\n",
    "                \n",
    "                metrics = {\n",
    "                    **{k: round(v, 4) for k, v in metrics.items()},\n",
    "                    \"elapsed_time\": round(elapsed_time, 1),\n",
    "                    \"num_chunks\": len(current_doc_ds),\n",
    "                }\n",
    "                \n",
    "                # Parameters to track\n",
    "                params = {\n",
    "                    'embed_model': embedder_name,\n",
    "                    'rerank_model': rerank_model,\n",
    "                    'chunked': chunk_size is not None,\n",
    "                    'chunk_size': chunk_size if chunk_size is not None else 'none',\n",
    "                    'chunk_overlap': ch\n",
    "                    unk_overlap if chunk_size is not None else 'none',\n",
    "                    'faiss_metric': faiss_metric,\n",
    "                }\n",
    "                \n",
    "                # Create run name\n",
    "                if chunk_size is None:\n",
    "                    run_name = f\"{embedder_name_short}_no-chunking\"\n",
    "                else:\n",
    "                    run_name = f\"{embedder_name_short}_cs{chunk_size}_ov{chunk_overlap}\"\n",
    "                \n",
    "                # Tags for filtering\n",
    "                tags = {\n",
    "                    'experiment_type': 'chunking',\n",
    "                    'phase': 'exploration',\n",
    "                    'dataset': 'bioasq-mini',\n",
    "                    'embedder': embedder_name_short,\n",
    "                    'chunked': str(chunk_size is not None),\n",
    "                }\n",
    "                \n",
    "                # Log to MLflow\n",
    "                with tracker.start_run(run_name=run_name, tags=tags):\n",
    "                    tracker.log_params(params)\n",
    "                    tracker.log_metrics(metrics)\n",
    "\n",
    "                print(f\"\\nResults:\")\n",
    "                print(f\"  P@10: {metrics.get('P@10', 0):.4f}\")\n",
    "                print(f\"  R@10: {metrics.get('R@10', 0):.4f}\")\n",
    "                print(f\"  MRR@10: {metrics.get('MRR@10', 0):.4f}\")\n",
    "                print(f\"  Time: {elapsed_time:.1f}s\")\n",
    "                \n",
    "                # Cleanup\n",
    "                current_doc_ds.drop_index('embedding')\n",
    "                del embedder\n",
    "                del current_doc_ds\n",
    "                del current_query_ds\n",
    "                gc.collect()\n",
    "                torch.cuda.empty_cache()\n",
    "                \n",
    "            except Exception as e:\n",
    "                print(f\"\\nFailed: {e}\")\n",
    "                import traceback\n",
    "                traceback.print_exc()\n",
    "                gc.collect()\n",
    "                torch.cuda.empty_cache()\n",
    "                continue\n",
    "\n",
    "print(\"\\n\" + \"=\"*80)\n",
    "print(\"All experiments completed!\")\n",
    "print(\"=\"*80)"
   ],
   "outputs": [
    {
     "name": "stdout",
     "output_type": "stream",
     "text": [
      "\n",
      "================================================================================\n",
      "Testing: all-MiniLM-L6-v2 | chunk_size=None | overlap=0\n",
      "================================================================================\n"
     ]
    },
    {
     "name": "stderr",
     "output_type": "stream",
     "text": [
      "Map: 100%|██████████| 28001/28001 [00:18<00:00, 1505.49 examples/s]\n",
      "Map: 100%|██████████| 4719/4719 [00:01<00:00, 3126.43 examples/s]\n",
      "100%|██████████| 219/219 [00:00<00:00, 4905.49it/s]\n"
     ]
    },
    {
     "name": "stdout",
     "output_type": "stream",
     "text": [
      "🏃 View run all-MiniLM-L6-v2_no-chunking at: http://localhost:5000/#/experiments/354692744483317738/runs/82816706e00a45318dbaacf717d0c83f\n",
      "🧪 View experiment at: http://localhost:5000/#/experiments/354692744483317738\n",
      "\n",
      "Results:\n",
      "  P@10: 0.2844\n",
      "  R@10: 0.3734\n",
      "  MRR@10: 0.6314\n",
      "  Time: 35.3s\n",
      "\n",
      "================================================================================\n",
      "Testing: all-MiniLM-L6-v2 | chunk_size=128 | overlap=0\n",
      "================================================================================\n"
     ]
    },
    {
     "name": "stderr",
     "output_type": "stream",
     "text": [
      "Chunking: 100%|██████████| 28001/28001 [00:39<00:00, 705.38it/s]\n"
     ]
    },
    {
     "name": "stdout",
     "output_type": "stream",
     "text": [
      "Created 109865 chunks from 28001 documents\n"
     ]
    },
    {
     "name": "stderr",
     "output_type": "stream",
     "text": [
      "Map: 100%|██████████| 109865/109865 [00:46<00:00, 2375.70 examples/s]\n",
      "Map: 100%|██████████| 4719/4719 [00:01<00:00, 3116.75 examples/s]\n",
      "100%|██████████| 859/859 [00:00<00:00, 4658.70it/s]\n"
     ]
    },
    {
     "name": "stdout",
     "output_type": "stream",
     "text": [
      "🏃 View run all-MiniLM-L6-v2_cs128_ov0 at: http://localhost:5000/#/experiments/354692744483317738/runs/31a78fd5de754c03bc9fde8432359c42\n",
      "🧪 View experiment at: http://localhost:5000/#/experiments/354692744483317738\n",
      "\n",
      "Results:\n",
      "  P@10: 0.3039\n",
      "  R@10: 0.4021\n",
      "  MRR@10: 0.6519\n",
      "  Time: 63.5s\n",
      "\n",
      "================================================================================\n",
      "Testing: all-MiniLM-L6-v2 | chunk_size=128 | overlap=25\n",
      "================================================================================\n"
     ]
    },
    {
     "name": "stderr",
     "output_type": "stream",
     "text": [
      "Chunking: 100%|██████████| 28001/28001 [00:39<00:00, 704.81it/s]\n"
     ]
    },
    {
     "name": "stdout",
     "output_type": "stream",
     "text": [
      "Created 121866 chunks from 28001 documents\n"
     ]
    },
    {
     "name": "stderr",
     "output_type": "stream",
     "text": [
      "Map: 100%|██████████| 121866/121866 [00:51<00:00, 2375.26 examples/s]\n",
      "Map: 100%|██████████| 4719/4719 [00:01<00:00, 3123.39 examples/s]\n",
      "100%|██████████| 953/953 [00:00<00:00, 4913.20it/s]\n"
     ]
    },
    {
     "name": "stdout",
     "output_type": "stream",
     "text": [
      "🏃 View run all-MiniLM-L6-v2_cs128_ov25 at: http://localhost:5000/#/experiments/354692744483317738/runs/55cd982cac7e4afc9d7aa0e619794677\n",
      "🧪 View experiment at: http://localhost:5000/#/experiments/354692744483317738\n",
      "\n",
      "Results:\n",
      "  P@10: 0.3123\n",
      "  R@10: 0.4144\n",
      "  MRR@10: 0.6838\n",
      "  Time: 68.2s\n",
      "\n",
      "================================================================================\n",
      "Testing: all-MiniLM-L6-v2 | chunk_size=128 | overlap=50\n",
      "================================================================================\n"
     ]
    },
    {
     "name": "stderr",
     "output_type": "stream",
     "text": [
      "Chunking: 100%|██████████| 28001/28001 [00:37<00:00, 754.33it/s]\n"
     ]
    },
    {
     "name": "stdout",
     "output_type": "stream",
     "text": [
      "Created 146055 chunks from 28001 documents\n"
     ]
    },
    {
     "name": "stderr",
     "output_type": "stream",
     "text": [
      "Map: 100%|██████████| 146055/146055 [01:01<00:00, 2362.95 examples/s]\n",
      "Map: 100%|██████████| 4719/4719 [00:01<00:00, 3239.36 examples/s]\n",
      "100%|██████████| 1142/1142 [00:00<00:00, 4351.06it/s]\n"
     ]
    },
    {
     "name": "stdout",
     "output_type": "stream",
     "text": [
      "🏃 View run all-MiniLM-L6-v2_cs128_ov50 at: http://localhost:5000/#/experiments/354692744483317738/runs/9d5b1cad6c4e49e5b2413b1ba001b0ac\n",
      "🧪 View experiment at: http://localhost:5000/#/experiments/354692744483317738\n",
      "\n",
      "Results:\n",
      "  P@10: 0.3157\n",
      "  R@10: 0.4203\n",
      "  MRR@10: 0.6882\n",
      "  Time: 78.7s\n",
      "\n",
      "================================================================================\n",
      "Testing: all-MiniLM-L6-v2 | chunk_size=128 | overlap=100\n",
      "================================================================================\n"
     ]
    },
    {
     "name": "stderr",
     "output_type": "stream",
     "text": [
      "Chunking: 100%|██████████| 28001/28001 [00:39<00:00, 708.96it/s]\n"
     ]
    },
    {
     "name": "stdout",
     "output_type": "stream",
     "text": [
      "Created 328219 chunks from 28001 documents\n"
     ]
    },
    {
     "name": "stderr",
     "output_type": "stream",
     "text": [
      "Map: 100%|██████████| 328219/328219 [02:18<00:00, 2362.44 examples/s]\n",
      "Map: 100%|██████████| 4719/4719 [00:01<00:00, 3160.88 examples/s]\n",
      "100%|██████████| 2565/2565 [00:00<00:00, 4461.08it/s]\n"
     ]
    },
    {
     "name": "stdout",
     "output_type": "stream",
     "text": [
      "🏃 View run all-MiniLM-L6-v2_cs128_ov100 at: http://localhost:5000/#/experiments/354692744483317738/runs/8f34b13ac47c4d399b3a204ebdad407f\n",
      "🧪 View experiment at: http://localhost:5000/#/experiments/354692744483317738\n",
      "\n",
      "Results:\n",
      "  P@10: 0.3220\n",
      "  R@10: 0.4294\n",
      "  MRR@10: 0.6946\n",
      "  Time: 155.9s\n",
      "\n",
      "================================================================================\n",
      "Testing: all-MiniLM-L6-v2 | chunk_size=256 | overlap=0\n",
      "================================================================================\n"
     ]
    },
    {
     "name": "stderr",
     "output_type": "stream",
     "text": [
      "Chunking: 100%|██████████| 28001/28001 [00:36<00:00, 757.08it/s]\n"
     ]
    },
    {
     "name": "stdout",
     "output_type": "stream",
     "text": [
      "Created 60178 chunks from 28001 documents\n"
     ]
    },
    {
     "name": "stderr",
     "output_type": "stream",
     "text": [
      "Map: 100%|██████████| 60178/60178 [00:34<00:00, 1726.82 examples/s]\n",
      "Map: 100%|██████████| 4719/4719 [00:01<00:00, 3145.45 examples/s]\n",
      "100%|██████████| 471/471 [00:00<00:00, 5332.92it/s]\n"
     ]
    },
    {
     "name": "stdout",
     "output_type": "stream",
     "text": [
      "🏃 View run all-MiniLM-L6-v2_cs256_ov0 at: http://localhost:5000/#/experiments/354692744483317738/runs/9a018bdc449d4efcb85a8f316244bac3\n",
      "🧪 View experiment at: http://localhost:5000/#/experiments/354692744483317738\n",
      "\n",
      "Results:\n",
      "  P@10: 0.2847\n",
      "  R@10: 0.3753\n",
      "  MRR@10: 0.6215\n",
      "  Time: 52.0s\n",
      "\n",
      "================================================================================\n",
      "Testing: all-MiniLM-L6-v2 | chunk_size=256 | overlap=25\n",
      "================================================================================\n"
     ]
    },
    {
     "name": "stderr",
     "output_type": "stream",
     "text": [
      "Chunking: 100%|██████████| 28001/28001 [00:37<00:00, 743.39it/s]\n"
     ]
    },
    {
     "name": "stdout",
     "output_type": "stream",
     "text": [
      "Created 61682 chunks from 28001 documents\n"
     ]
    },
    {
     "name": "stderr",
     "output_type": "stream",
     "text": [
      "Map: 100%|██████████| 61682/61682 [00:35<00:00, 1732.57 examples/s]\n",
      "Map: 100%|██████████| 4719/4719 [00:01<00:00, 3084.62 examples/s]\n",
      "100%|██████████| 482/482 [00:00<00:00, 5399.80it/s]\n"
     ]
    },
    {
     "name": "stdout",
     "output_type": "stream",
     "text": [
      "🏃 View run all-MiniLM-L6-v2_cs256_ov25 at: http://localhost:5000/#/experiments/354692744483317738/runs/d7f780d3a1194e22b643b04621ed2eaf\n",
      "🧪 View experiment at: http://localhost:5000/#/experiments/354692744483317738\n",
      "\n",
      "Results:\n",
      "  P@10: 0.2923\n",
      "  R@10: 0.3854\n",
      "  MRR@10: 0.6459\n",
      "  Time: 52.6s\n",
      "\n",
      "================================================================================\n",
      "Testing: all-MiniLM-L6-v2 | chunk_size=256 | overlap=50\n",
      "================================================================================\n"
     ]
    },
    {
     "name": "stderr",
     "output_type": "stream",
     "text": [
      "Chunking: 100%|██████████| 28001/28001 [00:35<00:00, 786.51it/s]\n"
     ]
    },
    {
     "name": "stdout",
     "output_type": "stream",
     "text": [
      "Created 64042 chunks from 28001 documents\n"
     ]
    },
    {
     "name": "stderr",
     "output_type": "stream",
     "text": [
      "Map: 100%|██████████| 64042/64042 [00:36<00:00, 1735.67 examples/s]\n",
      "Map: 100%|██████████| 4719/4719 [00:01<00:00, 3109.52 examples/s]\n",
      "100%|██████████| 501/501 [00:00<00:00, 5518.91it/s]\n"
     ]
    },
    {
     "name": "stdout",
     "output_type": "stream",
     "text": [
      "🏃 View run all-MiniLM-L6-v2_cs256_ov50 at: http://localhost:5000/#/experiments/354692744483317738/runs/9520a33fb47444e4acc7864784c16682\n",
      "🧪 View experiment at: http://localhost:5000/#/experiments/354692744483317738\n",
      "\n",
      "Results:\n",
      "  P@10: 0.2957\n",
      "  R@10: 0.3907\n",
      "  MRR@10: 0.6543\n",
      "  Time: 53.9s\n",
      "\n",
      "================================================================================\n",
      "Testing: all-MiniLM-L6-v2 | chunk_size=256 | overlap=100\n",
      "================================================================================\n"
     ]
    },
    {
     "name": "stderr",
     "output_type": "stream",
     "text": [
      "Chunking: 100%|██████████| 28001/28001 [00:35<00:00, 786.78it/s]\n"
     ]
    },
    {
     "name": "stdout",
     "output_type": "stream",
     "text": [
      "Created 71128 chunks from 28001 documents\n"
     ]
    },
    {
     "name": "stderr",
     "output_type": "stream",
     "text": [
      "Map: 100%|██████████| 71128/71128 [00:41<00:00, 1714.75 examples/s]\n",
      "Map: 100%|██████████| 4719/4719 [00:01<00:00, 3193.57 examples/s]\n",
      "100%|██████████| 556/556 [00:00<00:00, 4539.49it/s]\n"
     ]
    },
    {
     "name": "stdout",
     "output_type": "stream",
     "text": [
      "🏃 View run all-MiniLM-L6-v2_cs256_ov100 at: http://localhost:5000/#/experiments/354692744483317738/runs/4f4b491c224848eb8bae170b83a305df\n",
      "🧪 View experiment at: http://localhost:5000/#/experiments/354692744483317738\n",
      "\n",
      "Results:\n",
      "  P@10: 0.2976\n",
      "  R@10: 0.3924\n",
      "  MRR@10: 0.6568\n",
      "  Time: 58.1s\n",
      "\n",
      "================================================================================\n",
      "Testing: all-MiniLM-L6-v2 | chunk_size=512 | overlap=0\n",
      "================================================================================\n"
     ]
    },
    {
     "name": "stderr",
     "output_type": "stream",
     "text": [
      "Chunking: 100%|██████████| 28001/28001 [00:32<00:00, 869.58it/s]\n"
     ]
    },
    {
     "name": "stdout",
     "output_type": "stream",
     "text": [
      "Created 34787 chunks from 28001 documents\n"
     ]
    },
    {
     "name": "stderr",
     "output_type": "stream",
     "text": [
      "Map: 100%|██████████| 34787/34787 [00:22<00:00, 1541.38 examples/s]\n",
      "Map: 100%|██████████| 4719/4719 [00:01<00:00, 3141.21 examples/s]\n",
      "100%|██████████| 272/272 [00:00<00:00, 4940.27it/s]\n"
     ]
    },
    {
     "name": "stdout",
     "output_type": "stream",
     "text": [
      "🏃 View run all-MiniLM-L6-v2_cs512_ov0 at: http://localhost:5000/#/experiments/354692744483317738/runs/b6e3e6774ba14b478fcec38526fa43cf\n",
      "🧪 View experiment at: http://localhost:5000/#/experiments/354692744483317738\n",
      "\n",
      "Results:\n",
      "  P@10: 0.2768\n",
      "  R@10: 0.3632\n",
      "  MRR@10: 0.6057\n",
      "  Time: 39.6s\n",
      "\n",
      "================================================================================\n",
      "Testing: all-MiniLM-L6-v2 | chunk_size=512 | overlap=25\n",
      "================================================================================\n"
     ]
    },
    {
     "name": "stderr",
     "output_type": "stream",
     "text": [
      "Chunking: 100%|██████████| 28001/28001 [00:32<00:00, 865.53it/s]\n"
     ]
    },
    {
     "name": "stdout",
     "output_type": "stream",
     "text": [
      "Created 34803 chunks from 28001 documents\n"
     ]
    },
    {
     "name": "stderr",
     "output_type": "stream",
     "text": [
      "Map: 100%|██████████| 34803/34803 [00:22<00:00, 1562.08 examples/s]\n",
      "Map: 100%|██████████| 4719/4719 [00:01<00:00, 3175.51 examples/s]\n",
      "100%|██████████| 272/272 [00:00<00:00, 4812.90it/s]\n"
     ]
    },
    {
     "name": "stdout",
     "output_type": "stream",
     "text": [
      "🏃 View run all-MiniLM-L6-v2_cs512_ov25 at: http://localhost:5000/#/experiments/354692744483317738/runs/0491d52e014b4a9f9614a1e6e2706b79\n",
      "🧪 View experiment at: http://localhost:5000/#/experiments/354692744483317738\n",
      "\n",
      "Results:\n",
      "  P@10: 0.2837\n",
      "  R@10: 0.3706\n",
      "  MRR@10: 0.6240\n",
      "  Time: 39.3s\n",
      "\n",
      "================================================================================\n",
      "Testing: all-MiniLM-L6-v2 | chunk_size=512 | overlap=50\n",
      "================================================================================\n"
     ]
    },
    {
     "name": "stderr",
     "output_type": "stream",
     "text": [
      "Chunking: 100%|██████████| 28001/28001 [00:31<00:00, 898.14it/s]\n"
     ]
    },
    {
     "name": "stdout",
     "output_type": "stream",
     "text": [
      "Created 34841 chunks from 28001 documents\n"
     ]
    },
    {
     "name": "stderr",
     "output_type": "stream",
     "text": [
      "Map: 100%|██████████| 34841/34841 [00:22<00:00, 1557.71 examples/s]\n",
      "Map: 100%|██████████| 4719/4719 [00:01<00:00, 3202.59 examples/s]\n",
      "100%|██████████| 273/273 [00:00<00:00, 4927.72it/s]\n"
     ]
    },
    {
     "name": "stdout",
     "output_type": "stream",
     "text": [
      "🏃 View run all-MiniLM-L6-v2_cs512_ov50 at: http://localhost:5000/#/experiments/354692744483317738/runs/2cf3d355a43c4ab38032cc5b2b5a0d32\n",
      "🧪 View experiment at: http://localhost:5000/#/experiments/354692744483317738\n",
      "\n",
      "Results:\n",
      "  P@10: 0.2857\n",
      "  R@10: 0.3736\n",
      "  MRR@10: 0.6277\n",
      "  Time: 39.1s\n",
      "\n",
      "================================================================================\n",
      "Testing: all-MiniLM-L6-v2 | chunk_size=512 | overlap=100\n",
      "================================================================================\n"
     ]
    },
    {
     "name": "stderr",
     "output_type": "stream",
     "text": [
      "Chunking: 100%|██████████| 28001/28001 [00:32<00:00, 871.39it/s]\n"
     ]
    },
    {
     "name": "stdout",
     "output_type": "stream",
     "text": [
      "Created 34965 chunks from 28001 documents\n"
     ]
    },
    {
     "name": "stderr",
     "output_type": "stream",
     "text": [
      "Map: 100%|██████████| 34965/34965 [00:22<00:00, 1556.37 examples/s]\n",
      "Map: 100%|██████████| 4719/4719 [00:01<00:00, 3105.58 examples/s]\n",
      "100%|██████████| 274/274 [00:00<00:00, 4977.54it/s]\n"
     ]
    },
    {
     "name": "stdout",
     "output_type": "stream",
     "text": [
      "🏃 View run all-MiniLM-L6-v2_cs512_ov100 at: http://localhost:5000/#/experiments/354692744483317738/runs/2e59b4e6e22d4a439daea8eac5b17519\n",
      "🧪 View experiment at: http://localhost:5000/#/experiments/354692744483317738\n",
      "\n",
      "Results:\n",
      "  P@10: 0.2866\n",
      "  R@10: 0.3738\n",
      "  MRR@10: 0.6326\n",
      "  Time: 39.4s\n",
      "\n",
      "================================================================================\n",
      "Testing: all-MiniLM-L12-v2 | chunk_size=None | overlap=0\n",
      "================================================================================\n"
     ]
    },
    {
     "name": "stderr",
     "output_type": "stream",
     "text": [
      "Map: 100%|██████████| 28001/28001 [00:21<00:00, 1279.92 examples/s]\n",
      "Map: 100%|██████████| 4719/4719 [00:02<00:00, 2143.30 examples/s]\n",
      "100%|██████████| 219/219 [00:00<00:00, 6018.88it/s]\n"
     ]
    },
    {
     "name": "stdout",
     "output_type": "stream",
     "text": [
      "🏃 View run all-MiniLM-L12-v2_no-chunking at: http://localhost:5000/#/experiments/354692744483317738/runs/f99c8e18fec3464fbceb8f138fc7d04c\n",
      "🧪 View experiment at: http://localhost:5000/#/experiments/354692744483317738\n",
      "\n",
      "Results:\n",
      "  P@10: 0.2696\n",
      "  R@10: 0.3507\n",
      "  MRR@10: 0.6049\n",
      "  Time: 40.3s\n",
      "\n",
      "================================================================================\n",
      "Testing: all-MiniLM-L12-v2 | chunk_size=128 | overlap=0\n",
      "================================================================================\n"
     ]
    },
    {
     "name": "stderr",
     "output_type": "stream",
     "text": [
      "Chunking: 100%|██████████| 28001/28001 [00:38<00:00, 728.80it/s]\n"
     ]
    },
    {
     "name": "stdout",
     "output_type": "stream",
     "text": [
      "Created 109865 chunks from 28001 documents\n"
     ]
    },
    {
     "name": "stderr",
     "output_type": "stream",
     "text": [
      "Map: 100%|██████████| 109865/109865 [01:11<00:00, 1528.46 examples/s]\n",
      "Map: 100%|██████████| 4719/4719 [00:02<00:00, 2104.92 examples/s]\n",
      "100%|██████████| 859/859 [00:00<00:00, 4595.37it/s]\n"
     ]
    },
    {
     "name": "stdout",
     "output_type": "stream",
     "text": [
      "🏃 View run all-MiniLM-L12-v2_cs128_ov0 at: http://localhost:5000/#/experiments/354692744483317738/runs/e623e79452954b7094340d5d6919059c\n",
      "🧪 View experiment at: http://localhost:5000/#/experiments/354692744483317738\n",
      "\n",
      "Results:\n",
      "  P@10: 0.2818\n",
      "  R@10: 0.3768\n",
      "  MRR@10: 0.6169\n",
      "  Time: 89.7s\n",
      "\n",
      "================================================================================\n",
      "Testing: all-MiniLM-L12-v2 | chunk_size=128 | overlap=25\n",
      "================================================================================\n"
     ]
    },
    {
     "name": "stderr",
     "output_type": "stream",
     "text": [
      "Chunking: 100%|██████████| 28001/28001 [00:39<00:00, 702.72it/s]\n"
     ]
    },
    {
     "name": "stdout",
     "output_type": "stream",
     "text": [
      "Created 121866 chunks from 28001 documents\n"
     ]
    },
    {
     "name": "stderr",
     "output_type": "stream",
     "text": [
      "Map: 100%|██████████| 121866/121866 [01:19<00:00, 1525.90 examples/s]\n",
      "Map: 100%|██████████| 4719/4719 [00:02<00:00, 2137.02 examples/s]\n",
      "100%|██████████| 953/953 [00:00<00:00, 4856.22it/s]\n"
     ]
    },
    {
     "name": "stdout",
     "output_type": "stream",
     "text": [
      "🏃 View run all-MiniLM-L12-v2_cs128_ov25 at: http://localhost:5000/#/experiments/354692744483317738/runs/33fbb046253a4611a4fc06e7159c99be\n",
      "🧪 View experiment at: http://localhost:5000/#/experiments/354692744483317738\n",
      "\n",
      "Results:\n",
      "  P@10: 0.2923\n",
      "  R@10: 0.3910\n",
      "  MRR@10: 0.6463\n",
      "  Time: 98.0s\n",
      "\n",
      "================================================================================\n",
      "Testing: all-MiniLM-L12-v2 | chunk_size=128 | overlap=50\n",
      "================================================================================\n"
     ]
    },
    {
     "name": "stderr",
     "output_type": "stream",
     "text": [
      "Chunking: 100%|██████████| 28001/28001 [00:38<00:00, 719.63it/s]\n"
     ]
    },
    {
     "name": "stdout",
     "output_type": "stream",
     "text": [
      "Created 146055 chunks from 28001 documents\n"
     ]
    },
    {
     "name": "stderr",
     "output_type": "stream",
     "text": [
      "Map: 100%|██████████| 146055/146055 [01:35<00:00, 1531.18 examples/s]\n",
      "Map: 100%|██████████| 4719/4719 [00:02<00:00, 2110.46 examples/s]\n",
      "100%|██████████| 1142/1142 [00:00<00:00, 4343.97it/s]\n"
     ]
    },
    {
     "name": "stdout",
     "output_type": "stream",
     "text": [
      "🏃 View run all-MiniLM-L12-v2_cs128_ov50 at: http://localhost:5000/#/experiments/354692744483317738/runs/97a3b27aef814108b63f7e56614ed912\n",
      "🧪 View experiment at: http://localhost:5000/#/experiments/354692744483317738\n",
      "\n",
      "Results:\n",
      "  P@10: 0.2990\n",
      "  R@10: 0.4038\n",
      "  MRR@10: 0.6626\n",
      "  Time: 113.2s\n",
      "\n",
      "================================================================================\n",
      "Testing: all-MiniLM-L12-v2 | chunk_size=128 | overlap=100\n",
      "================================================================================\n"
     ]
    },
    {
     "name": "stderr",
     "output_type": "stream",
     "text": [
      "Chunking: 100%|██████████| 28001/28001 [00:38<00:00, 720.68it/s]\n"
     ]
    },
    {
     "name": "stdout",
     "output_type": "stream",
     "text": [
      "Created 328219 chunks from 28001 documents\n"
     ]
    },
    {
     "name": "stderr",
     "output_type": "stream",
     "text": [
      "Map: 100%|██████████| 328219/328219 [03:36<00:00, 1518.60 examples/s]\n",
      "Map: 100%|██████████| 4719/4719 [00:02<00:00, 2125.59 examples/s]\n",
      "100%|██████████| 2565/2565 [00:00<00:00, 4539.15it/s]\n"
     ]
    },
    {
     "name": "stdout",
     "output_type": "stream",
     "text": [
      "🏃 View run all-MiniLM-L12-v2_cs128_ov100 at: http://localhost:5000/#/experiments/354692744483317738/runs/ef791783b4ad4d8ab2c5b3265e498150\n",
      "🧪 View experiment at: http://localhost:5000/#/experiments/354692744483317738\n",
      "\n",
      "Results:\n",
      "  P@10: 0.3040\n",
      "  R@10: 0.4093\n",
      "  MRR@10: 0.6721\n",
      "  Time: 234.4s\n",
      "\n",
      "================================================================================\n",
      "Testing: all-MiniLM-L12-v2 | chunk_size=256 | overlap=0\n",
      "================================================================================\n"
     ]
    },
    {
     "name": "stderr",
     "output_type": "stream",
     "text": [
      "Chunking: 100%|██████████| 28001/28001 [00:36<00:00, 763.81it/s]\n"
     ]
    },
    {
     "name": "stdout",
     "output_type": "stream",
     "text": [
      "Created 60178 chunks from 28001 documents\n"
     ]
    },
    {
     "name": "stderr",
     "output_type": "stream",
     "text": [
      "Map: 100%|██████████| 60178/60178 [00:42<00:00, 1404.36 examples/s]\n",
      "Map: 100%|██████████| 4719/4719 [00:02<00:00, 2131.10 examples/s]\n",
      "100%|██████████| 471/471 [00:00<00:00, 5261.38it/s]\n"
     ]
    },
    {
     "name": "stdout",
     "output_type": "stream",
     "text": [
      "🏃 View run all-MiniLM-L12-v2_cs256_ov0 at: http://localhost:5000/#/experiments/354692744483317738/runs/9c95db18bcf641808d3f5b7a39104fa1\n",
      "🧪 View experiment at: http://localhost:5000/#/experiments/354692744483317738\n",
      "\n",
      "Results:\n",
      "  P@10: 0.2666\n",
      "  R@10: 0.3539\n",
      "  MRR@10: 0.5882\n",
      "  Time: 60.7s\n",
      "\n",
      "================================================================================\n",
      "Testing: all-MiniLM-L12-v2 | chunk_size=256 | overlap=25\n",
      "================================================================================\n"
     ]
    },
    {
     "name": "stderr",
     "output_type": "stream",
     "text": [
      "Chunking: 100%|██████████| 28001/28001 [00:36<00:00, 762.94it/s]\n"
     ]
    },
    {
     "name": "stdout",
     "output_type": "stream",
     "text": [
      "Created 61682 chunks from 28001 documents\n"
     ]
    },
    {
     "name": "stderr",
     "output_type": "stream",
     "text": [
      "Map: 100%|██████████| 61682/61682 [00:44<00:00, 1388.30 examples/s]\n",
      "Map: 100%|██████████| 4719/4719 [00:02<00:00, 2158.76 examples/s]\n",
      "100%|██████████| 482/482 [00:00<00:00, 5278.28it/s]\n"
     ]
    },
    {
     "name": "stdout",
     "output_type": "stream",
     "text": [
      "🏃 View run all-MiniLM-L12-v2_cs256_ov25 at: http://localhost:5000/#/experiments/354692744483317738/runs/77e913e87a2f47649737330b5c613161\n",
      "🧪 View experiment at: http://localhost:5000/#/experiments/354692744483317738\n",
      "\n",
      "Results:\n",
      "  P@10: 0.2757\n",
      "  R@10: 0.3629\n",
      "  MRR@10: 0.6168\n",
      "  Time: 62.6s\n",
      "\n",
      "================================================================================\n",
      "Testing: all-MiniLM-L12-v2 | chunk_size=256 | overlap=50\n",
      "================================================================================\n"
     ]
    },
    {
     "name": "stderr",
     "output_type": "stream",
     "text": [
      "Chunking: 100%|██████████| 28001/28001 [00:36<00:00, 759.01it/s]\n"
     ]
    },
    {
     "name": "stdout",
     "output_type": "stream",
     "text": [
      "Created 64042 chunks from 28001 documents\n"
     ]
    },
    {
     "name": "stderr",
     "output_type": "stream",
     "text": [
      "Map: 100%|██████████| 64042/64042 [00:45<00:00, 1394.04 examples/s]\n",
      "Map: 100%|██████████| 4719/4719 [00:02<00:00, 2110.06 examples/s]\n",
      "100%|██████████| 501/501 [00:00<00:00, 5285.25it/s]\n"
     ]
    },
    {
     "name": "stdout",
     "output_type": "stream",
     "text": [
      "🏃 View run all-MiniLM-L12-v2_cs256_ov50 at: http://localhost:5000/#/experiments/354692744483317738/runs/a0b9a5b5875b4ad38cf7453b80ba2f4f\n",
      "🧪 View experiment at: http://localhost:5000/#/experiments/354692744483317738\n",
      "\n",
      "Results:\n",
      "  P@10: 0.2809\n",
      "  R@10: 0.3735\n",
      "  MRR@10: 0.6287\n",
      "  Time: 64.1s\n",
      "\n",
      "================================================================================\n",
      "Testing: all-MiniLM-L12-v2 | chunk_size=256 | overlap=100\n",
      "================================================================================\n"
     ]
    },
    {
     "name": "stderr",
     "output_type": "stream",
     "text": [
      "Chunking: 100%|██████████| 28001/28001 [00:35<00:00, 783.18it/s]\n"
     ]
    },
    {
     "name": "stdout",
     "output_type": "stream",
     "text": [
      "Created 71128 chunks from 28001 documents\n"
     ]
    },
    {
     "name": "stderr",
     "output_type": "stream",
     "text": [
      "Map: 100%|██████████| 71128/71128 [00:51<00:00, 1388.43 examples/s]\n",
      "Map: 100%|██████████| 4719/4719 [00:02<00:00, 2078.01 examples/s]\n",
      "100%|██████████| 556/556 [00:00<00:00, 4582.61it/s]\n"
     ]
    },
    {
     "name": "stdout",
     "output_type": "stream",
     "text": [
      "🏃 View run all-MiniLM-L12-v2_cs256_ov100 at: http://localhost:5000/#/experiments/354692744483317738/runs/cfa377354c3841acb1f78f398f64b8d4\n",
      "🧪 View experiment at: http://localhost:5000/#/experiments/354692744483317738\n",
      "\n",
      "Results:\n",
      "  P@10: 0.2867\n",
      "  R@10: 0.3818\n",
      "  MRR@10: 0.6365\n",
      "  Time: 69.5s\n",
      "\n",
      "================================================================================\n",
      "Testing: all-MiniLM-L12-v2 | chunk_size=512 | overlap=0\n",
      "================================================================================\n"
     ]
    },
    {
     "name": "stderr",
     "output_type": "stream",
     "text": [
      "Chunking: 100%|██████████| 28001/28001 [00:32<00:00, 864.96it/s]\n"
     ]
    },
    {
     "name": "stdout",
     "output_type": "stream",
     "text": [
      "Created 34787 chunks from 28001 documents\n"
     ]
    },
    {
     "name": "stderr",
     "output_type": "stream",
     "text": [
      "Map: 100%|██████████| 34787/34787 [00:26<00:00, 1314.03 examples/s]\n",
      "Map: 100%|██████████| 4719/4719 [00:02<00:00, 2090.65 examples/s]\n",
      "100%|██████████| 272/272 [00:00<00:00, 4497.72it/s]\n"
     ]
    },
    {
     "name": "stdout",
     "output_type": "stream",
     "text": [
      "🏃 View run all-MiniLM-L12-v2_cs512_ov0 at: http://localhost:5000/#/experiments/354692744483317738/runs/5bd5bbf9867c4f73add9d4bba7cbff1d\n",
      "🧪 View experiment at: http://localhost:5000/#/experiments/354692744483317738\n",
      "\n",
      "Results:\n",
      "  P@10: 0.2590\n",
      "  R@10: 0.3382\n",
      "  MRR@10: 0.5727\n",
      "  Time: 45.1s\n",
      "\n",
      "================================================================================\n",
      "Testing: all-MiniLM-L12-v2 | chunk_size=512 | overlap=25\n",
      "================================================================================\n"
     ]
    },
    {
     "name": "stderr",
     "output_type": "stream",
     "text": [
      "Chunking: 100%|██████████| 28001/28001 [00:30<00:00, 914.04it/s]\n"
     ]
    },
    {
     "name": "stdout",
     "output_type": "stream",
     "text": [
      "Created 34803 chunks from 28001 documents\n"
     ]
    },
    {
     "name": "stderr",
     "output_type": "stream",
     "text": [
      "Map: 100%|██████████| 34803/34803 [00:26<00:00, 1312.91 examples/s]\n",
      "Map: 100%|██████████| 4719/4719 [00:02<00:00, 2118.51 examples/s]\n",
      "100%|██████████| 272/272 [00:00<00:00, 4465.82it/s]\n"
     ]
    },
    {
     "name": "stdout",
     "output_type": "stream",
     "text": [
      "🏃 View run all-MiniLM-L12-v2_cs512_ov25 at: http://localhost:5000/#/experiments/354692744483317738/runs/a94278c7521241d78c26b7a8d8e8eb44\n",
      "🧪 View experiment at: http://localhost:5000/#/experiments/354692744483317738\n",
      "\n",
      "Results:\n",
      "  P@10: 0.2675\n",
      "  R@10: 0.3481\n",
      "  MRR@10: 0.5969\n",
      "  Time: 44.4s\n",
      "\n",
      "================================================================================\n",
      "Testing: all-MiniLM-L12-v2 | chunk_size=512 | overlap=50\n",
      "================================================================================\n"
     ]
    },
    {
     "name": "stderr",
     "output_type": "stream",
     "text": [
      "Chunking: 100%|██████████| 28001/28001 [00:30<00:00, 910.60it/s]\n"
     ]
    },
    {
     "name": "stdout",
     "output_type": "stream",
     "text": [
      "Created 34841 chunks from 28001 documents\n"
     ]
    },
    {
     "name": "stderr",
     "output_type": "stream",
     "text": [
      "Map: 100%|██████████| 34841/34841 [00:26<00:00, 1308.88 examples/s]\n",
      "Map: 100%|██████████| 4719/4719 [00:02<00:00, 2106.23 examples/s]\n",
      "100%|██████████| 273/273 [00:00<00:00, 4491.96it/s]\n"
     ]
    },
    {
     "name": "stdout",
     "output_type": "stream",
     "text": [
      "🏃 View run all-MiniLM-L12-v2_cs512_ov50 at: http://localhost:5000/#/experiments/354692744483317738/runs/b1612df8fbb3423f9c11810be4aab73e\n",
      "🧪 View experiment at: http://localhost:5000/#/experiments/354692744483317738\n",
      "\n",
      "Results:\n",
      "  P@10: 0.2693\n",
      "  R@10: 0.3495\n",
      "  MRR@10: 0.6045\n",
      "  Time: 44.4s\n",
      "\n",
      "================================================================================\n",
      "Testing: all-MiniLM-L12-v2 | chunk_size=512 | overlap=100\n",
      "================================================================================\n"
     ]
    },
    {
     "name": "stderr",
     "output_type": "stream",
     "text": [
      "Chunking: 100%|██████████| 28001/28001 [00:30<00:00, 918.92it/s]\n"
     ]
    },
    {
     "name": "stdout",
     "output_type": "stream",
     "text": [
      "Created 34965 chunks from 28001 documents\n"
     ]
    },
    {
     "name": "stderr",
     "output_type": "stream",
     "text": [
      "Map: 100%|██████████| 34965/34965 [00:26<00:00, 1296.24 examples/s]\n",
      "Map: 100%|██████████| 4719/4719 [00:02<00:00, 2136.46 examples/s]\n",
      "100%|██████████| 274/274 [00:00<00:00, 4707.60it/s]\n"
     ]
    },
    {
     "name": "stdout",
     "output_type": "stream",
     "text": [
      "🏃 View run all-MiniLM-L12-v2_cs512_ov100 at: http://localhost:5000/#/experiments/354692744483317738/runs/2e627c8290e04e9d983473cfb05f4d68\n",
      "🧪 View experiment at: http://localhost:5000/#/experiments/354692744483317738\n",
      "\n",
      "Results:\n",
      "  P@10: 0.2704\n",
      "  R@10: 0.3507\n",
      "  MRR@10: 0.6066\n",
      "  Time: 45.1s\n",
      "\n",
      "================================================================================\n",
      "Testing: bge-small-en-v1.5 | chunk_size=None | overlap=0\n",
      "================================================================================\n"
     ]
    },
    {
     "name": "stderr",
     "output_type": "stream",
     "text": [
      "Map: 100%|██████████| 28001/28001 [00:37<00:00, 741.56 examples/s]\n",
      "Map: 100%|██████████| 4719/4719 [00:02<00:00, 2133.77 examples/s]\n",
      "100%|██████████| 219/219 [00:00<00:00, 5246.74it/s]\n"
     ]
    },
    {
     "name": "stdout",
     "output_type": "stream",
     "text": [
      "🏃 View run bge-small-en-v1.5_no-chunking at: http://localhost:5000/#/experiments/354692744483317738/runs/819e79e397124873b4c0decb140b23a9\n",
      "🧪 View experiment at: http://localhost:5000/#/experiments/354692744483317738\n",
      "\n",
      "Results:\n",
      "  P@10: 0.3399\n",
      "  R@10: 0.4504\n",
      "  MRR@10: 0.7380\n",
      "  Time: 55.7s\n",
      "\n",
      "================================================================================\n",
      "Testing: bge-small-en-v1.5 | chunk_size=128 | overlap=0\n",
      "================================================================================\n"
     ]
    },
    {
     "name": "stderr",
     "output_type": "stream",
     "text": [
      "Chunking: 100%|██████████| 28001/28001 [00:38<00:00, 733.91it/s]\n"
     ]
    },
    {
     "name": "stdout",
     "output_type": "stream",
     "text": [
      "Created 109865 chunks from 28001 documents\n"
     ]
    },
    {
     "name": "stderr",
     "output_type": "stream",
     "text": [
      "Map: 100%|██████████| 109865/109865 [01:11<00:00, 1529.63 examples/s]\n",
      "Map: 100%|██████████| 4719/4719 [00:02<00:00, 2140.55 examples/s]\n",
      "100%|██████████| 859/859 [00:00<00:00, 5026.01it/s]\n"
     ]
    },
    {
     "name": "stdout",
     "output_type": "stream",
     "text": [
      "🏃 View run bge-small-en-v1.5_cs128_ov0 at: http://localhost:5000/#/experiments/354692744483317738/runs/872d724ea12d44149578e6f46c5f6961\n",
      "🧪 View experiment at: http://localhost:5000/#/experiments/354692744483317738\n",
      "\n",
      "Results:\n",
      "  P@10: 0.3524\n",
      "  R@10: 0.4707\n",
      "  MRR@10: 0.7488\n",
      "  Time: 90.2s\n",
      "\n",
      "================================================================================\n",
      "Testing: bge-small-en-v1.5 | chunk_size=128 | overlap=25\n",
      "================================================================================\n"
     ]
    },
    {
     "name": "stderr",
     "output_type": "stream",
     "text": [
      "Chunking: 100%|██████████| 28001/28001 [00:38<00:00, 723.72it/s]\n"
     ]
    },
    {
     "name": "stdout",
     "output_type": "stream",
     "text": [
      "Created 121866 chunks from 28001 documents\n"
     ]
    },
    {
     "name": "stderr",
     "output_type": "stream",
     "text": [
      "Map: 100%|██████████| 121866/121866 [01:19<00:00, 1538.08 examples/s]\n",
      "Map: 100%|██████████| 4719/4719 [00:02<00:00, 2175.98 examples/s]\n",
      "100%|██████████| 953/953 [00:00<00:00, 5188.19it/s]\n"
     ]
    },
    {
     "name": "stdout",
     "output_type": "stream",
     "text": [
      "🏃 View run bge-small-en-v1.5_cs128_ov25 at: http://localhost:5000/#/experiments/354692744483317738/runs/dd38a99a04a04574aa3f0a9abe8bb603\n",
      "🧪 View experiment at: http://localhost:5000/#/experiments/354692744483317738\n",
      "\n",
      "Results:\n",
      "  P@10: 0.3570\n",
      "  R@10: 0.4766\n",
      "  MRR@10: 0.7598\n",
      "  Time: 97.3s\n",
      "\n",
      "================================================================================\n",
      "Testing: bge-small-en-v1.5 | chunk_size=128 | overlap=50\n",
      "================================================================================\n"
     ]
    },
    {
     "name": "stderr",
     "output_type": "stream",
     "text": [
      "Chunking: 100%|██████████| 28001/28001 [00:39<00:00, 706.62it/s]\n"
     ]
    },
    {
     "name": "stdout",
     "output_type": "stream",
     "text": [
      "Created 146055 chunks from 28001 documents\n"
     ]
    },
    {
     "name": "stderr",
     "output_type": "stream",
     "text": [
      "Map: 100%|██████████| 146055/146055 [01:35<00:00, 1530.84 examples/s]\n",
      "Map: 100%|██████████| 4719/4719 [00:02<00:00, 2189.84 examples/s]\n",
      "100%|██████████| 1142/1142 [00:00<00:00, 4553.66it/s]\n"
     ]
    },
    {
     "name": "stdout",
     "output_type": "stream",
     "text": [
      "🏃 View run bge-small-en-v1.5_cs128_ov50 at: http://localhost:5000/#/experiments/354692744483317738/runs/1fb91b3df74b4e9d97bfa70272cbc4c4\n",
      "🧪 View experiment at: http://localhost:5000/#/experiments/354692744483317738\n",
      "\n",
      "Results:\n",
      "  P@10: 0.3600\n",
      "  R@10: 0.4815\n",
      "  MRR@10: 0.7615\n",
      "  Time: 113.9s\n",
      "\n",
      "================================================================================\n",
      "Testing: bge-small-en-v1.5 | chunk_size=128 | overlap=100\n",
      "================================================================================\n"
     ]
    },
    {
     "name": "stderr",
     "output_type": "stream",
     "text": [
      "Chunking: 100%|██████████| 28001/28001 [00:38<00:00, 719.09it/s]\n"
     ]
    },
    {
     "name": "stdout",
     "output_type": "stream",
     "text": [
      "Created 328219 chunks from 28001 documents\n"
     ]
    },
    {
     "name": "stderr",
     "output_type": "stream",
     "text": [
      "Map: 100%|██████████| 328219/328219 [03:34<00:00, 1528.13 examples/s]\n",
      "Map: 100%|██████████| 4719/4719 [00:02<00:00, 2131.55 examples/s]\n",
      "100%|██████████| 2565/2565 [00:00<00:00, 4365.48it/s]\n"
     ]
    },
    {
     "name": "stdout",
     "output_type": "stream",
     "text": [
      "🏃 View run bge-small-en-v1.5_cs128_ov100 at: http://localhost:5000/#/experiments/354692744483317738/runs/4090814a784040469f9d964517de730c\n",
      "🧪 View experiment at: http://localhost:5000/#/experiments/354692744483317738\n",
      "\n",
      "Results:\n",
      "  P@10: 0.3659\n",
      "  R@10: 0.4897\n",
      "  MRR@10: 0.7667\n",
      "  Time: 233.0s\n",
      "\n",
      "================================================================================\n",
      "Testing: bge-small-en-v1.5 | chunk_size=256 | overlap=0\n",
      "================================================================================\n"
     ]
    },
    {
     "name": "stderr",
     "output_type": "stream",
     "text": [
      "Chunking: 100%|██████████| 28001/28001 [00:37<00:00, 739.01it/s]\n"
     ]
    },
    {
     "name": "stdout",
     "output_type": "stream",
     "text": [
      "Created 60178 chunks from 28001 documents\n"
     ]
    },
    {
     "name": "stderr",
     "output_type": "stream",
     "text": [
      "Map: 100%|██████████| 60178/60178 [00:54<00:00, 1106.73 examples/s]\n",
      "Map: 100%|██████████| 4719/4719 [00:02<00:00, 2164.95 examples/s]\n",
      "100%|██████████| 471/471 [00:00<00:00, 5090.54it/s]\n"
     ]
    },
    {
     "name": "stdout",
     "output_type": "stream",
     "text": [
      "🏃 View run bge-small-en-v1.5_cs256_ov0 at: http://localhost:5000/#/experiments/354692744483317738/runs/4e50e9f7166442029761ed17138720e8\n",
      "🧪 View experiment at: http://localhost:5000/#/experiments/354692744483317738\n",
      "\n",
      "Results:\n",
      "  P@10: 0.3451\n",
      "  R@10: 0.4588\n",
      "  MRR@10: 0.7444\n",
      "  Time: 72.7s\n",
      "\n",
      "================================================================================\n",
      "Testing: bge-small-en-v1.5 | chunk_size=256 | overlap=25\n",
      "================================================================================\n"
     ]
    },
    {
     "name": "stderr",
     "output_type": "stream",
     "text": [
      "Chunking: 100%|██████████| 28001/28001 [00:35<00:00, 779.41it/s]\n"
     ]
    },
    {
     "name": "stdout",
     "output_type": "stream",
     "text": [
      "Created 61682 chunks from 28001 documents\n"
     ]
    },
    {
     "name": "stderr",
     "output_type": "stream",
     "text": [
      "Map: 100%|██████████| 61682/61682 [00:56<00:00, 1100.47 examples/s]\n",
      "Map: 100%|██████████| 4719/4719 [00:02<00:00, 2170.04 examples/s]\n",
      "100%|██████████| 482/482 [00:00<00:00, 5393.80it/s]\n"
     ]
    },
    {
     "name": "stdout",
     "output_type": "stream",
     "text": [
      "🏃 View run bge-small-en-v1.5_cs256_ov25 at: http://localhost:5000/#/experiments/354692744483317738/runs/866e9b0250874bb6a0f5fb07330751f8\n",
      "🧪 View experiment at: http://localhost:5000/#/experiments/354692744483317738\n",
      "\n",
      "Results:\n",
      "  P@10: 0.3478\n",
      "  R@10: 0.4634\n",
      "  MRR@10: 0.7509\n",
      "  Time: 73.9s\n",
      "\n",
      "================================================================================\n",
      "Testing: bge-small-en-v1.5 | chunk_size=256 | overlap=50\n",
      "================================================================================\n"
     ]
    },
    {
     "name": "stderr",
     "output_type": "stream",
     "text": [
      "Chunking: 100%|██████████| 28001/28001 [00:36<00:00, 761.68it/s]\n"
     ]
    },
    {
     "name": "stdout",
     "output_type": "stream",
     "text": [
      "Created 64042 chunks from 28001 documents\n"
     ]
    },
    {
     "name": "stderr",
     "output_type": "stream",
     "text": [
      "Map: 100%|██████████| 64042/64042 [00:58<00:00, 1101.85 examples/s]\n",
      "Map: 100%|██████████| 4719/4719 [00:02<00:00, 2138.48 examples/s]\n",
      "100%|██████████| 501/501 [00:00<00:00, 5338.49it/s]\n"
     ]
    },
    {
     "name": "stdout",
     "output_type": "stream",
     "text": [
      "🏃 View run bge-small-en-v1.5_cs256_ov50 at: http://localhost:5000/#/experiments/354692744483317738/runs/9f244ffc9cc04002b500ac8ec017465a\n",
      "🧪 View experiment at: http://localhost:5000/#/experiments/354692744483317738\n",
      "\n",
      "Results:\n",
      "  P@10: 0.3491\n",
      "  R@10: 0.4649\n",
      "  MRR@10: 0.7530\n",
      "  Time: 76.3s\n",
      "\n",
      "================================================================================\n",
      "Testing: bge-small-en-v1.5 | chunk_size=256 | overlap=100\n",
      "================================================================================\n"
     ]
    },
    {
     "name": "stderr",
     "output_type": "stream",
     "text": [
      "Chunking: 100%|██████████| 28001/28001 [00:34<00:00, 803.15it/s]\n"
     ]
    },
    {
     "name": "stdout",
     "output_type": "stream",
     "text": [
      "Created 71128 chunks from 28001 documents\n"
     ]
    },
    {
     "name": "stderr",
     "output_type": "stream",
     "text": [
      "Map: 100%|██████████| 71128/71128 [01:04<00:00, 1096.74 examples/s]\n",
      "Map: 100%|██████████| 4719/4719 [00:02<00:00, 2126.57 examples/s]\n",
      "100%|██████████| 556/556 [00:00<00:00, 4468.52it/s]\n"
     ]
    },
    {
     "name": "stdout",
     "output_type": "stream",
     "text": [
      "🏃 View run bge-small-en-v1.5_cs256_ov100 at: http://localhost:5000/#/experiments/354692744483317738/runs/33450d4d60ee4d32a1a9ac9adc7a629c\n",
      "🧪 View experiment at: http://localhost:5000/#/experiments/354692744483317738\n",
      "\n",
      "Results:\n",
      "  P@10: 0.3492\n",
      "  R@10: 0.4648\n",
      "  MRR@10: 0.7525\n",
      "  Time: 82.7s\n",
      "\n",
      "================================================================================\n",
      "Testing: bge-small-en-v1.5 | chunk_size=512 | overlap=0\n",
      "================================================================================\n"
     ]
    },
    {
     "name": "stderr",
     "output_type": "stream",
     "text": [
      "Chunking: 100%|██████████| 28001/28001 [00:32<00:00, 859.42it/s]\n"
     ]
    },
    {
     "name": "stdout",
     "output_type": "stream",
     "text": [
      "Created 34787 chunks from 28001 documents\n"
     ]
    },
    {
     "name": "stderr",
     "output_type": "stream",
     "text": [
      "Map: 100%|██████████| 34787/34787 [00:40<00:00, 860.33 examples/s]\n",
      "Map: 100%|██████████| 4719/4719 [00:02<00:00, 2123.90 examples/s]\n",
      "100%|██████████| 272/272 [00:00<00:00, 4439.76it/s]\n"
     ]
    },
    {
     "name": "stdout",
     "output_type": "stream",
     "text": [
      "🏃 View run bge-small-en-v1.5_cs512_ov0 at: http://localhost:5000/#/experiments/354692744483317738/runs/71e01618c7e74a30a28fb87753b34054\n",
      "🧪 View experiment at: http://localhost:5000/#/experiments/354692744483317738\n",
      "\n",
      "Results:\n",
      "  P@10: 0.3400\n",
      "  R@10: 0.4492\n",
      "  MRR@10: 0.7362\n",
      "  Time: 58.4s\n",
      "\n",
      "================================================================================\n",
      "Testing: bge-small-en-v1.5 | chunk_size=512 | overlap=25\n",
      "================================================================================\n"
     ]
    },
    {
     "name": "stderr",
     "output_type": "stream",
     "text": [
      "Chunking: 100%|██████████| 28001/28001 [00:30<00:00, 911.84it/s]\n"
     ]
    },
    {
     "name": "stdout",
     "output_type": "stream",
     "text": [
      "Created 34803 chunks from 28001 documents\n"
     ]
    },
    {
     "name": "stderr",
     "output_type": "stream",
     "text": [
      "Map: 100%|██████████| 34803/34803 [00:41<00:00, 846.84 examples/s]\n",
      "Map: 100%|██████████| 4719/4719 [00:02<00:00, 2114.18 examples/s]\n",
      "100%|██████████| 272/272 [00:00<00:00, 4664.93it/s]\n"
     ]
    },
    {
     "name": "stdout",
     "output_type": "stream",
     "text": [
      "🏃 View run bge-small-en-v1.5_cs512_ov25 at: http://localhost:5000/#/experiments/354692744483317738/runs/17301cdd400b4a1089bbebc4e494b6f9\n",
      "🧪 View experiment at: http://localhost:5000/#/experiments/354692744483317738\n",
      "\n",
      "Results:\n",
      "  P@10: 0.3413\n",
      "  R@10: 0.4517\n",
      "  MRR@10: 0.7399\n",
      "  Time: 59.6s\n",
      "\n",
      "================================================================================\n",
      "Testing: bge-small-en-v1.5 | chunk_size=512 | overlap=50\n",
      "================================================================================\n"
     ]
    },
    {
     "name": "stderr",
     "output_type": "stream",
     "text": [
      "Chunking: 100%|██████████| 28001/28001 [00:31<00:00, 891.51it/s]\n"
     ]
    },
    {
     "name": "stdout",
     "output_type": "stream",
     "text": [
      "Created 34841 chunks from 28001 documents\n"
     ]
    },
    {
     "name": "stderr",
     "output_type": "stream",
     "text": [
      "Map: 100%|██████████| 34841/34841 [00:41<00:00, 849.22 examples/s]\n",
      "Map: 100%|██████████| 4719/4719 [00:02<00:00, 2149.55 examples/s]\n",
      "100%|██████████| 273/273 [00:00<00:00, 4579.21it/s]\n"
     ]
    },
    {
     "name": "stdout",
     "output_type": "stream",
     "text": [
      "🏃 View run bge-small-en-v1.5_cs512_ov50 at: http://localhost:5000/#/experiments/354692744483317738/runs/b18ca3b23d704f76bc624d88c79c9803\n",
      "🧪 View experiment at: http://localhost:5000/#/experiments/354692744483317738\n",
      "\n",
      "Results:\n",
      "  P@10: 0.3414\n",
      "  R@10: 0.4519\n",
      "  MRR@10: 0.7394\n",
      "  Time: 59.4s\n",
      "\n",
      "================================================================================\n",
      "Testing: bge-small-en-v1.5 | chunk_size=512 | overlap=100\n",
      "================================================================================\n"
     ]
    },
    {
     "name": "stderr",
     "output_type": "stream",
     "text": [
      "Chunking: 100%|██████████| 28001/28001 [00:30<00:00, 916.40it/s]\n"
     ]
    },
    {
     "name": "stdout",
     "output_type": "stream",
     "text": [
      "Created 34965 chunks from 28001 documents\n"
     ]
    },
    {
     "name": "stderr",
     "output_type": "stream",
     "text": [
      "Map: 100%|██████████| 34965/34965 [00:40<00:00, 854.12 examples/s]\n",
      "Map: 100%|██████████| 4719/4719 [00:02<00:00, 2148.20 examples/s]\n",
      "100%|██████████| 274/274 [00:00<00:00, 4637.26it/s]\n"
     ]
    },
    {
     "name": "stdout",
     "output_type": "stream",
     "text": [
      "🏃 View run bge-small-en-v1.5_cs512_ov100 at: http://localhost:5000/#/experiments/354692744483317738/runs/8097b642e298438e907f69c940527901\n",
      "🧪 View experiment at: http://localhost:5000/#/experiments/354692744483317738\n",
      "\n",
      "Results:\n",
      "  P@10: 0.3413\n",
      "  R@10: 0.4515\n",
      "  MRR@10: 0.7372\n",
      "  Time: 59.1s\n",
      "\n",
      "================================================================================\n",
      "Testing: bge-base-en-v1.5 | chunk_size=None | overlap=0\n",
      "================================================================================\n"
     ]
    },
    {
     "name": "stderr",
     "output_type": "stream",
     "text": [
      "Map: 100%|██████████| 28001/28001 [01:25<00:00, 328.43 examples/s]\n",
      "Map: 100%|██████████| 4719/4719 [00:03<00:00, 1550.63 examples/s]\n",
      "100%|██████████| 219/219 [00:00<00:00, 3187.36it/s]\n"
     ]
    },
    {
     "name": "stdout",
     "output_type": "stream",
     "text": [
      "🏃 View run bge-base-en-v1.5_no-chunking at: http://localhost:5000/#/experiments/354692744483317738/runs/65c8d4dd2e4a477dbb1f57aea00c6af1\n",
      "🧪 View experiment at: http://localhost:5000/#/experiments/354692744483317738\n",
      "\n",
      "Results:\n",
      "  P@10: 0.3502\n",
      "  R@10: 0.4627\n",
      "  MRR@10: 0.7494\n",
      "  Time: 105.4s\n",
      "\n",
      "================================================================================\n",
      "Testing: bge-base-en-v1.5 | chunk_size=128 | overlap=0\n",
      "================================================================================\n"
     ]
    },
    {
     "name": "stderr",
     "output_type": "stream",
     "text": [
      "Chunking: 100%|██████████| 28001/28001 [00:40<00:00, 694.54it/s]\n"
     ]
    },
    {
     "name": "stdout",
     "output_type": "stream",
     "text": [
      "Created 109865 chunks from 28001 documents\n"
     ]
    },
    {
     "name": "stderr",
     "output_type": "stream",
     "text": [
      "Map: 100%|██████████| 109865/109865 [01:53<00:00, 964.11 examples/s]\n",
      "Map: 100%|██████████| 4719/4719 [00:03<00:00, 1544.20 examples/s]\n",
      "100%|██████████| 859/859 [00:00<00:00, 3423.11it/s]\n"
     ]
    },
    {
     "name": "stdout",
     "output_type": "stream",
     "text": [
      "🏃 View run bge-base-en-v1.5_cs128_ov0 at: http://localhost:5000/#/experiments/354692744483317738/runs/8e561d5c77954317819ec3adc2337370\n",
      "🧪 View experiment at: http://localhost:5000/#/experiments/354692744483317738\n",
      "\n",
      "Results:\n",
      "  P@10: 0.3640\n",
      "  R@10: 0.4844\n",
      "  MRR@10: 0.7568\n",
      "  Time: 134.2s\n",
      "\n",
      "================================================================================\n",
      "Testing: bge-base-en-v1.5 | chunk_size=128 | overlap=25\n",
      "================================================================================\n"
     ]
    },
    {
     "name": "stderr",
     "output_type": "stream",
     "text": [
      "Chunking: 100%|██████████| 28001/28001 [00:37<00:00, 737.78it/s]\n"
     ]
    },
    {
     "name": "stdout",
     "output_type": "stream",
     "text": [
      "Created 121866 chunks from 28001 documents\n"
     ]
    },
    {
     "name": "stderr",
     "output_type": "stream",
     "text": [
      "Map: 100%|██████████| 121866/121866 [02:06<00:00, 966.57 examples/s]\n",
      "Map: 100%|██████████| 4719/4719 [00:02<00:00, 1575.24 examples/s]\n",
      "100%|██████████| 953/953 [00:00<00:00, 3342.65it/s]\n"
     ]
    },
    {
     "name": "stdout",
     "output_type": "stream",
     "text": [
      "🏃 View run bge-base-en-v1.5_cs128_ov25 at: http://localhost:5000/#/experiments/354692744483317738/runs/c26f4c51b91f4d519e1fa279218e47da\n",
      "🧪 View experiment at: http://localhost:5000/#/experiments/354692744483317738\n",
      "\n",
      "Results:\n",
      "  P@10: 0.3678\n",
      "  R@10: 0.4910\n",
      "  MRR@10: 0.7683\n",
      "  Time: 145.9s\n",
      "\n",
      "================================================================================\n",
      "Testing: bge-base-en-v1.5 | chunk_size=128 | overlap=50\n",
      "================================================================================\n"
     ]
    },
    {
     "name": "stderr",
     "output_type": "stream",
     "text": [
      "Chunking: 100%|██████████| 28001/28001 [00:39<00:00, 715.50it/s]\n"
     ]
    },
    {
     "name": "stdout",
     "output_type": "stream",
     "text": [
      "Created 146055 chunks from 28001 documents\n"
     ]
    },
    {
     "name": "stderr",
     "output_type": "stream",
     "text": [
      "Map: 100%|██████████| 146055/146055 [02:31<00:00, 964.73 examples/s]\n",
      "Map: 100%|██████████| 4719/4719 [00:03<00:00, 1569.75 examples/s]\n",
      "100%|██████████| 1142/1142 [00:00<00:00, 3051.94it/s]\n"
     ]
    },
    {
     "name": "stdout",
     "output_type": "stream",
     "text": [
      "🏃 View run bge-base-en-v1.5_cs128_ov50 at: http://localhost:5000/#/experiments/354692744483317738/runs/034fb0024f9a483482b46829385a4f49\n",
      "🧪 View experiment at: http://localhost:5000/#/experiments/354692744483317738\n",
      "\n",
      "Results:\n",
      "  P@10: 0.3708\n",
      "  R@10: 0.4948\n",
      "  MRR@10: 0.7692\n",
      "  Time: 171.7s\n",
      "\n",
      "================================================================================\n",
      "Testing: bge-base-en-v1.5 | chunk_size=128 | overlap=100\n",
      "================================================================================\n"
     ]
    },
    {
     "name": "stderr",
     "output_type": "stream",
     "text": [
      "Chunking: 100%|██████████| 28001/28001 [00:38<00:00, 728.27it/s]\n"
     ]
    },
    {
     "name": "stdout",
     "output_type": "stream",
     "text": [
      "Created 328219 chunks from 28001 documents\n"
     ]
    },
    {
     "name": "stderr",
     "output_type": "stream",
     "text": [
      "Map: 100%|██████████| 328219/328219 [05:41<00:00, 961.51 examples/s]\n",
      "Map: 100%|██████████| 4719/4719 [00:03<00:00, 1560.73 examples/s]\n",
      "100%|██████████| 2565/2565 [00:00<00:00, 3056.37it/s]\n"
     ]
    },
    {
     "name": "stdout",
     "output_type": "stream",
     "text": [
      "🏃 View run bge-base-en-v1.5_cs128_ov100 at: http://localhost:5000/#/experiments/354692744483317738/runs/01b2701dff4a4bb3937ea5b1409f07b1\n",
      "🧪 View experiment at: http://localhost:5000/#/experiments/354692744483317738\n",
      "\n",
      "Results:\n",
      "  P@10: 0.3750\n",
      "  R@10: 0.5008\n",
      "  MRR@10: 0.7745\n",
      "  Time: 361.4s\n",
      "\n",
      "================================================================================\n",
      "Testing: bge-base-en-v1.5 | chunk_size=256 | overlap=0\n",
      "================================================================================\n"
     ]
    },
    {
     "name": "stderr",
     "output_type": "stream",
     "text": [
      "Chunking: 100%|██████████| 28001/28001 [00:37<00:00, 748.42it/s]\n"
     ]
    },
    {
     "name": "stdout",
     "output_type": "stream",
     "text": [
      "Created 60178 chunks from 28001 documents\n"
     ]
    },
    {
     "name": "stderr",
     "output_type": "stream",
     "text": [
      "Map: 100%|██████████| 60178/60178 [01:27<00:00, 691.11 examples/s]\n",
      "Map: 100%|██████████| 4719/4719 [00:03<00:00, 1568.54 examples/s]\n",
      "100%|██████████| 471/471 [00:00<00:00, 3415.73it/s]\n"
     ]
    },
    {
     "name": "stdout",
     "output_type": "stream",
     "text": [
      "🏃 View run bge-base-en-v1.5_cs256_ov0 at: http://localhost:5000/#/experiments/354692744483317738/runs/b89921a4ec564a52a83a1606720b0015\n",
      "🧪 View experiment at: http://localhost:5000/#/experiments/354692744483317738\n",
      "\n",
      "Results:\n",
      "  P@10: 0.3561\n",
      "  R@10: 0.4712\n",
      "  MRR@10: 0.7497\n",
      "  Time: 107.6s\n",
      "\n",
      "================================================================================\n",
      "Testing: bge-base-en-v1.5 | chunk_size=256 | overlap=25\n",
      "================================================================================\n"
     ]
    },
    {
     "name": "stderr",
     "output_type": "stream",
     "text": [
      "Chunking: 100%|██████████| 28001/28001 [00:37<00:00, 753.71it/s]\n"
     ]
    },
    {
     "name": "stdout",
     "output_type": "stream",
     "text": [
      "Created 61682 chunks from 28001 documents\n"
     ]
    },
    {
     "name": "stderr",
     "output_type": "stream",
     "text": [
      "Map: 100%|██████████| 61682/61682 [01:29<00:00, 690.32 examples/s]\n",
      "Map: 100%|██████████| 4719/4719 [00:03<00:00, 1565.99 examples/s]\n",
      "100%|██████████| 482/482 [00:00<00:00, 3578.68it/s]\n"
     ]
    },
    {
     "name": "stdout",
     "output_type": "stream",
     "text": [
      "🏃 View run bge-base-en-v1.5_cs256_ov25 at: http://localhost:5000/#/experiments/354692744483317738/runs/ee19fb7f1f234c6d95b84cc54c11a2bb\n",
      "🧪 View experiment at: http://localhost:5000/#/experiments/354692744483317738\n",
      "\n",
      "Results:\n",
      "  P@10: 0.3579\n",
      "  R@10: 0.4737\n",
      "  MRR@10: 0.7564\n",
      "  Time: 109.6s\n",
      "\n",
      "================================================================================\n",
      "Testing: bge-base-en-v1.5 | chunk_size=256 | overlap=50\n",
      "================================================================================\n"
     ]
    },
    {
     "name": "stderr",
     "output_type": "stream",
     "text": [
      "Chunking: 100%|██████████| 28001/28001 [00:36<00:00, 761.20it/s]\n"
     ]
    },
    {
     "name": "stdout",
     "output_type": "stream",
     "text": [
      "Created 64042 chunks from 28001 documents\n"
     ]
    },
    {
     "name": "stderr",
     "output_type": "stream",
     "text": [
      "Map: 100%|██████████| 64042/64042 [01:32<00:00, 688.88 examples/s]\n",
      "Map: 100%|██████████| 4719/4719 [00:03<00:00, 1568.66 examples/s]\n",
      "100%|██████████| 501/501 [00:00<00:00, 3578.73it/s]\n"
     ]
    },
    {
     "name": "stdout",
     "output_type": "stream",
     "text": [
      "🏃 View run bge-base-en-v1.5_cs256_ov50 at: http://localhost:5000/#/experiments/354692744483317738/runs/ec525f10334f460c9769ea4a76e80cbe\n",
      "🧪 View experiment at: http://localhost:5000/#/experiments/354692744483317738\n",
      "\n",
      "Results:\n",
      "  P@10: 0.3591\n",
      "  R@10: 0.4760\n",
      "  MRR@10: 0.7596\n",
      "  Time: 112.7s\n",
      "\n",
      "================================================================================\n",
      "Testing: bge-base-en-v1.5 | chunk_size=256 | overlap=100\n",
      "================================================================================\n"
     ]
    },
    {
     "name": "stderr",
     "output_type": "stream",
     "text": [
      "Chunking: 100%|██████████| 28001/28001 [00:36<00:00, 776.20it/s]\n"
     ]
    },
    {
     "name": "stdout",
     "output_type": "stream",
     "text": [
      "Created 71128 chunks from 28001 documents\n"
     ]
    },
    {
     "name": "stderr",
     "output_type": "stream",
     "text": [
      "Map: 100%|██████████| 71128/71128 [01:43<00:00, 687.48 examples/s]\n",
      "Map: 100%|██████████| 4719/4719 [00:02<00:00, 1581.98 examples/s]\n",
      "100%|██████████| 556/556 [00:00<00:00, 2941.56it/s]\n"
     ]
    },
    {
     "name": "stdout",
     "output_type": "stream",
     "text": [
      "🏃 View run bge-base-en-v1.5_cs256_ov100 at: http://localhost:5000/#/experiments/354692744483317738/runs/c88ddd5cc38c45478e1a70e7c36692c6\n",
      "🧪 View experiment at: http://localhost:5000/#/experiments/354692744483317738\n",
      "\n",
      "Results:\n",
      "  P@10: 0.3609\n",
      "  R@10: 0.4786\n",
      "  MRR@10: 0.7584\n",
      "  Time: 123.5s\n",
      "\n",
      "================================================================================\n",
      "Testing: bge-base-en-v1.5 | chunk_size=512 | overlap=0\n",
      "================================================================================\n"
     ]
    },
    {
     "name": "stderr",
     "output_type": "stream",
     "text": [
      "Chunking: 100%|██████████| 28001/28001 [00:31<00:00, 876.90it/s]\n"
     ]
    },
    {
     "name": "stdout",
     "output_type": "stream",
     "text": [
      "Created 34787 chunks from 28001 documents\n"
     ]
    },
    {
     "name": "stderr",
     "output_type": "stream",
     "text": [
      "Map: 100%|██████████| 34787/34787 [01:30<00:00, 382.39 examples/s]\n",
      "Map: 100%|██████████| 4719/4719 [00:03<00:00, 1569.26 examples/s]\n",
      "100%|██████████| 272/272 [00:00<00:00, 3081.82it/s]\n"
     ]
    },
    {
     "name": "stdout",
     "output_type": "stream",
     "text": [
      "🏃 View run bge-base-en-v1.5_cs512_ov0 at: http://localhost:5000/#/experiments/354692744483317738/runs/b3966b06714a4645a8caa2113e2349b6\n",
      "🧪 View experiment at: http://localhost:5000/#/experiments/354692744483317738\n",
      "\n",
      "Results:\n",
      "  P@10: 0.3504\n",
      "  R@10: 0.4630\n",
      "  MRR@10: 0.7438\n",
      "  Time: 111.1s\n",
      "\n",
      "================================================================================\n",
      "Testing: bge-base-en-v1.5 | chunk_size=512 | overlap=25\n",
      "================================================================================\n"
     ]
    },
    {
     "name": "stderr",
     "output_type": "stream",
     "text": [
      "Chunking: 100%|██████████| 28001/28001 [00:32<00:00, 873.36it/s]\n"
     ]
    },
    {
     "name": "stdout",
     "output_type": "stream",
     "text": [
      "Created 34803 chunks from 28001 documents\n"
     ]
    },
    {
     "name": "stderr",
     "output_type": "stream",
     "text": [
      "Map: 100%|██████████| 34803/34803 [01:31<00:00, 382.29 examples/s]\n",
      "Map: 100%|██████████| 4719/4719 [00:02<00:00, 1575.22 examples/s]\n",
      "100%|██████████| 272/272 [00:00<00:00, 2892.83it/s]\n"
     ]
    },
    {
     "name": "stdout",
     "output_type": "stream",
     "text": [
      "🏃 View run bge-base-en-v1.5_cs512_ov25 at: http://localhost:5000/#/experiments/354692744483317738/runs/d4201facbc14446b922c68ef505a1488\n",
      "🧪 View experiment at: http://localhost:5000/#/experiments/354692744483317738\n",
      "\n",
      "Results:\n",
      "  P@10: 0.3513\n",
      "  R@10: 0.4637\n",
      "  MRR@10: 0.7487\n",
      "  Time: 110.8s\n",
      "\n",
      "================================================================================\n",
      "Testing: bge-base-en-v1.5 | chunk_size=512 | overlap=50\n",
      "================================================================================\n"
     ]
    },
    {
     "name": "stderr",
     "output_type": "stream",
     "text": [
      "Chunking: 100%|██████████| 28001/28001 [00:32<00:00, 850.42it/s]\n"
     ]
    },
    {
     "name": "stdout",
     "output_type": "stream",
     "text": [
      "Created 34841 chunks from 28001 documents\n"
     ]
    },
    {
     "name": "stderr",
     "output_type": "stream",
     "text": [
      "Map: 100%|██████████| 34841/34841 [01:31<00:00, 381.83 examples/s]\n",
      "Map: 100%|██████████| 4719/4719 [00:03<00:00, 1570.78 examples/s]\n",
      "100%|██████████| 273/273 [00:00<00:00, 2729.21it/s]\n"
     ]
    },
    {
     "name": "stdout",
     "output_type": "stream",
     "text": [
      "🏃 View run bge-base-en-v1.5_cs512_ov50 at: http://localhost:5000/#/experiments/354692744483317738/runs/20f46cfb5c974e7a94a36df66b00de63\n",
      "🧪 View experiment at: http://localhost:5000/#/experiments/354692744483317738\n",
      "\n",
      "Results:\n",
      "  P@10: 0.3515\n",
      "  R@10: 0.4640\n",
      "  MRR@10: 0.7491\n",
      "  Time: 111.7s\n",
      "\n",
      "================================================================================\n",
      "Testing: bge-base-en-v1.5 | chunk_size=512 | overlap=100\n",
      "================================================================================\n"
     ]
    },
    {
     "name": "stderr",
     "output_type": "stream",
     "text": [
      "Chunking: 100%|██████████| 28001/28001 [00:31<00:00, 885.90it/s]\n"
     ]
    },
    {
     "name": "stdout",
     "output_type": "stream",
     "text": [
      "Created 34965 chunks from 28001 documents\n"
     ]
    },
    {
     "name": "stderr",
     "output_type": "stream",
     "text": [
      "Map: 100%|██████████| 34965/34965 [01:31<00:00, 381.66 examples/s]\n",
      "Map: 100%|██████████| 4719/4719 [00:03<00:00, 1563.58 examples/s]\n",
      "100%|██████████| 274/274 [00:00<00:00, 3079.47it/s]\n"
     ]
    },
    {
     "name": "stdout",
     "output_type": "stream",
     "text": [
      "🏃 View run bge-base-en-v1.5_cs512_ov100 at: http://localhost:5000/#/experiments/354692744483317738/runs/be384c60df3f47f9acab81151b0609b6\n",
      "🧪 View experiment at: http://localhost:5000/#/experiments/354692744483317738\n",
      "\n",
      "Results:\n",
      "  P@10: 0.3517\n",
      "  R@10: 0.4648\n",
      "  MRR@10: 0.7494\n",
      "  Time: 111.8s\n",
      "\n",
      "================================================================================\n",
      "Testing: bge-large-en-v1.5 | chunk_size=None | overlap=0\n",
      "================================================================================\n"
     ]
    },
    {
     "name": "stderr",
     "output_type": "stream",
     "text": [
      "Map: 100%|██████████| 28001/28001 [03:30<00:00, 133.14 examples/s]\n",
      "Map: 100%|██████████| 4719/4719 [00:06<00:00, 750.80 examples/s]\n",
      "100%|██████████| 219/219 [00:00<00:00, 3239.18it/s]\n"
     ]
    },
    {
     "name": "stdout",
     "output_type": "stream",
     "text": [
      "🏃 View run bge-large-en-v1.5_no-chunking at: http://localhost:5000/#/experiments/354692744483317738/runs/e460e9188a49458fa35b8ab8663d178b\n",
      "🧪 View experiment at: http://localhost:5000/#/experiments/354692744483317738\n",
      "\n",
      "Results:\n",
      "  P@10: 0.3556\n",
      "  R@10: 0.4733\n",
      "  MRR@10: 0.7552\n",
      "  Time: 234.1s\n",
      "\n",
      "================================================================================\n",
      "Testing: bge-large-en-v1.5 | chunk_size=128 | overlap=0\n",
      "================================================================================\n"
     ]
    },
    {
     "name": "stderr",
     "output_type": "stream",
     "text": [
      "Chunking: 100%|██████████| 28001/28001 [00:39<00:00, 703.26it/s]\n"
     ]
    },
    {
     "name": "stdout",
     "output_type": "stream",
     "text": [
      "Created 109865 chunks from 28001 documents\n"
     ]
    },
    {
     "name": "stderr",
     "output_type": "stream",
     "text": [
      "Map: 100%|██████████| 109865/109865 [04:24<00:00, 415.30 examples/s]\n",
      "Map: 100%|██████████| 4719/4719 [00:06<00:00, 749.33 examples/s]\n",
      "100%|██████████| 859/859 [00:00<00:00, 2814.21it/s]\n"
     ]
    },
    {
     "name": "stdout",
     "output_type": "stream",
     "text": [
      "🏃 View run bge-large-en-v1.5_cs128_ov0 at: http://localhost:5000/#/experiments/354692744483317738/runs/9d688ec493144775bac9a0d46b061f52\n",
      "🧪 View experiment at: http://localhost:5000/#/experiments/354692744483317738\n",
      "\n",
      "Results:\n",
      "  P@10: 0.3667\n",
      "  R@10: 0.4895\n",
      "  MRR@10: 0.7669\n",
      "  Time: 288.6s\n",
      "\n",
      "================================================================================\n",
      "Testing: bge-large-en-v1.5 | chunk_size=128 | overlap=25\n",
      "================================================================================\n"
     ]
    },
    {
     "name": "stderr",
     "output_type": "stream",
     "text": [
      "Chunking: 100%|██████████| 28001/28001 [00:39<00:00, 707.53it/s]\n"
     ]
    },
    {
     "name": "stdout",
     "output_type": "stream",
     "text": [
      "Created 121866 chunks from 28001 documents\n"
     ]
    },
    {
     "name": "stderr",
     "output_type": "stream",
     "text": [
      "Map: 100%|██████████| 121866/121866 [04:53<00:00, 414.89 examples/s]\n",
      "Map: 100%|██████████| 4719/4719 [00:06<00:00, 749.93 examples/s]\n",
      "100%|██████████| 953/953 [00:00<00:00, 3065.29it/s]\n"
     ]
    },
    {
     "name": "stdout",
     "output_type": "stream",
     "text": [
      "🏃 View run bge-large-en-v1.5_cs128_ov25 at: http://localhost:5000/#/experiments/354692744483317738/runs/4546834d7bce474894cd9aeff210f639\n",
      "🧪 View experiment at: http://localhost:5000/#/experiments/354692744483317738\n",
      "\n",
      "Results:\n",
      "  P@10: 0.3709\n",
      "  R@10: 0.4953\n",
      "  MRR@10: 0.7749\n",
      "  Time: 317.3s\n",
      "\n",
      "================================================================================\n",
      "Testing: bge-large-en-v1.5 | chunk_size=128 | overlap=50\n",
      "================================================================================\n"
     ]
    },
    {
     "name": "stderr",
     "output_type": "stream",
     "text": [
      "Chunking: 100%|██████████| 28001/28001 [00:39<00:00, 712.02it/s]\n"
     ]
    },
    {
     "name": "stdout",
     "output_type": "stream",
     "text": [
      "Created 146055 chunks from 28001 documents\n"
     ]
    },
    {
     "name": "stderr",
     "output_type": "stream",
     "text": [
      "Map: 100%|██████████| 146055/146055 [05:52<00:00, 414.63 examples/s]\n",
      "Map: 100%|██████████| 4719/4719 [00:06<00:00, 749.72 examples/s]\n",
      "100%|██████████| 1142/1142 [00:00<00:00, 2538.86it/s]\n"
     ]
    },
    {
     "name": "stdout",
     "output_type": "stream",
     "text": [
      "🏃 View run bge-large-en-v1.5_cs128_ov50 at: http://localhost:5000/#/experiments/354692744483317738/runs/aa24fd7d06da475d992d696a6e8610d2\n",
      "🧪 View experiment at: http://localhost:5000/#/experiments/354692744483317738\n",
      "\n",
      "Results:\n",
      "  P@10: 0.3724\n",
      "  R@10: 0.4977\n",
      "  MRR@10: 0.7767\n",
      "  Time: 375.9s\n",
      "\n",
      "================================================================================\n",
      "Testing: bge-large-en-v1.5 | chunk_size=128 | overlap=100\n",
      "================================================================================\n"
     ]
    },
    {
     "name": "stderr",
     "output_type": "stream",
     "text": [
      "Chunking: 100%|██████████| 28001/28001 [00:38<00:00, 721.23it/s]\n"
     ]
    },
    {
     "name": "stdout",
     "output_type": "stream",
     "text": [
      "Created 328219 chunks from 28001 documents\n"
     ]
    },
    {
     "name": "stderr",
     "output_type": "stream",
     "text": [
      "Map: 100%|██████████| 328219/328219 [13:11<00:00, 414.77 examples/s]\n",
      "Map: 100%|██████████| 4719/4719 [00:06<00:00, 752.48 examples/s]\n",
      "100%|██████████| 2565/2565 [00:01<00:00, 2507.03it/s]\n"
     ]
    },
    {
     "name": "stdout",
     "output_type": "stream",
     "text": [
      "🏃 View run bge-large-en-v1.5_cs128_ov100 at: http://localhost:5000/#/experiments/354692744483317738/runs/f52bd7fcab7b41dfafb1ca19ca7700da\n",
      "🧪 View experiment at: http://localhost:5000/#/experiments/354692744483317738\n",
      "\n",
      "Results:\n",
      "  P@10: 0.3778\n",
      "  R@10: 0.5050\n",
      "  MRR@10: 0.7835\n",
      "  Time: 815.6s\n",
      "\n",
      "================================================================================\n",
      "Testing: bge-large-en-v1.5 | chunk_size=256 | overlap=0\n",
      "================================================================================\n"
     ]
    },
    {
     "name": "stderr",
     "output_type": "stream",
     "text": [
      "Chunking: 100%|██████████| 28001/28001 [00:36<00:00, 775.97it/s]\n"
     ]
    },
    {
     "name": "stdout",
     "output_type": "stream",
     "text": [
      "Created 60178 chunks from 28001 documents\n"
     ]
    },
    {
     "name": "stderr",
     "output_type": "stream",
     "text": [
      "Map: 100%|██████████| 60178/60178 [03:36<00:00, 277.97 examples/s]\n",
      "Map: 100%|██████████| 4719/4719 [00:06<00:00, 745.47 examples/s]\n",
      "100%|██████████| 471/471 [00:00<00:00, 2887.93it/s]\n"
     ]
    },
    {
     "name": "stdout",
     "output_type": "stream",
     "text": [
      "🏃 View run bge-large-en-v1.5_cs256_ov0 at: http://localhost:5000/#/experiments/354692744483317738/runs/5053eb65fb49482f893e921124874384\n",
      "🧪 View experiment at: http://localhost:5000/#/experiments/354692744483317738\n",
      "\n",
      "Results:\n",
      "  P@10: 0.3601\n",
      "  R@10: 0.4800\n",
      "  MRR@10: 0.7588\n",
      "  Time: 240.2s\n",
      "\n",
      "================================================================================\n",
      "Testing: bge-large-en-v1.5 | chunk_size=256 | overlap=25\n",
      "================================================================================\n"
     ]
    },
    {
     "name": "stderr",
     "output_type": "stream",
     "text": [
      "Chunking: 100%|██████████| 28001/28001 [00:36<00:00, 774.34it/s]\n"
     ]
    },
    {
     "name": "stdout",
     "output_type": "stream",
     "text": [
      "Created 61682 chunks from 28001 documents\n"
     ]
    },
    {
     "name": "stderr",
     "output_type": "stream",
     "text": [
      "Map: 100%|██████████| 61682/61682 [03:41<00:00, 277.98 examples/s]\n",
      "Map: 100%|██████████| 4719/4719 [00:06<00:00, 748.44 examples/s]\n",
      "100%|██████████| 482/482 [00:00<00:00, 3194.27it/s]\n"
     ]
    },
    {
     "name": "stdout",
     "output_type": "stream",
     "text": [
      "🏃 View run bge-large-en-v1.5_cs256_ov25 at: http://localhost:5000/#/experiments/354692744483317738/runs/2e5b8744ad4c46cba9f58be2788460f0\n",
      "🧪 View experiment at: http://localhost:5000/#/experiments/354692744483317738\n",
      "\n",
      "Results:\n",
      "  P@10: 0.3619\n",
      "  R@10: 0.4823\n",
      "  MRR@10: 0.7620\n",
      "  Time: 245.6s\n",
      "\n",
      "================================================================================\n",
      "Testing: bge-large-en-v1.5 | chunk_size=256 | overlap=50\n",
      "================================================================================\n"
     ]
    },
    {
     "name": "stderr",
     "output_type": "stream",
     "text": [
      "Chunking: 100%|██████████| 28001/28001 [00:36<00:00, 760.89it/s]\n"
     ]
    },
    {
     "name": "stdout",
     "output_type": "stream",
     "text": [
      "Created 64042 chunks from 28001 documents\n"
     ]
    },
    {
     "name": "stderr",
     "output_type": "stream",
     "text": [
      "Map: 100%|██████████| 64042/64042 [03:50<00:00, 277.40 examples/s]\n",
      "Map: 100%|██████████| 4719/4719 [00:06<00:00, 751.62 examples/s]\n",
      "100%|██████████| 501/501 [00:00<00:00, 2732.24it/s]\n"
     ]
    },
    {
     "name": "stdout",
     "output_type": "stream",
     "text": [
      "🏃 View run bge-large-en-v1.5_cs256_ov50 at: http://localhost:5000/#/experiments/354692744483317738/runs/577e8e44bbb64b9da29c47e819661e04\n",
      "🧪 View experiment at: http://localhost:5000/#/experiments/354692744483317738\n",
      "\n",
      "Results:\n",
      "  P@10: 0.3628\n",
      "  R@10: 0.4833\n",
      "  MRR@10: 0.7629\n",
      "  Time: 254.5s\n",
      "\n",
      "================================================================================\n",
      "Testing: bge-large-en-v1.5 | chunk_size=256 | overlap=100\n",
      "================================================================================\n"
     ]
    },
    {
     "name": "stderr",
     "output_type": "stream",
     "text": [
      "Chunking: 100%|██████████| 28001/28001 [00:36<00:00, 769.23it/s]\n"
     ]
    },
    {
     "name": "stdout",
     "output_type": "stream",
     "text": [
      "Created 71128 chunks from 28001 documents\n"
     ]
    },
    {
     "name": "stderr",
     "output_type": "stream",
     "text": [
      "Map: 100%|██████████| 71128/71128 [04:16<00:00, 276.81 examples/s]\n",
      "Map: 100%|██████████| 4719/4719 [00:06<00:00, 745.33 examples/s]\n",
      "100%|██████████| 556/556 [00:00<00:00, 2483.71it/s]\n"
     ]
    },
    {
     "name": "stdout",
     "output_type": "stream",
     "text": [
      "🏃 View run bge-large-en-v1.5_cs256_ov100 at: http://localhost:5000/#/experiments/354692744483317738/runs/d9f1ed5c341e46cfb88f084ed37a658e\n",
      "🧪 View experiment at: http://localhost:5000/#/experiments/354692744483317738\n",
      "\n",
      "Results:\n",
      "  P@10: 0.3634\n",
      "  R@10: 0.4849\n",
      "  MRR@10: 0.7646\n",
      "  Time: 281.1s\n",
      "\n",
      "================================================================================\n",
      "Testing: bge-large-en-v1.5 | chunk_size=512 | overlap=0\n",
      "================================================================================\n"
     ]
    },
    {
     "name": "stderr",
     "output_type": "stream",
     "text": [
      "Chunking: 100%|██████████| 28001/28001 [00:31<00:00, 898.60it/s]\n"
     ]
    },
    {
     "name": "stdout",
     "output_type": "stream",
     "text": [
      "Created 34787 chunks from 28001 documents\n"
     ]
    },
    {
     "name": "stderr",
     "output_type": "stream",
     "text": [
      "Map: 100%|██████████| 34787/34787 [04:00<00:00, 144.70 examples/s]\n",
      "Map: 100%|██████████| 4719/4719 [00:06<00:00, 749.58 examples/s]\n",
      "100%|██████████| 272/272 [00:00<00:00, 2009.25it/s]\n"
     ]
    },
    {
     "name": "stdout",
     "output_type": "stream",
     "text": [
      "🏃 View run bge-large-en-v1.5_cs512_ov0 at: http://localhost:5000/#/experiments/354692744483317738/runs/922fd80554c44979ad1fee2d707e6394\n",
      "🧪 View experiment at: http://localhost:5000/#/experiments/354692744483317738\n",
      "\n",
      "Results:\n",
      "  P@10: 0.3550\n",
      "  R@10: 0.4734\n",
      "  MRR@10: 0.7523\n",
      "  Time: 263.8s\n",
      "\n",
      "================================================================================\n",
      "Testing: bge-large-en-v1.5 | chunk_size=512 | overlap=25\n",
      "================================================================================\n"
     ]
    },
    {
     "name": "stderr",
     "output_type": "stream",
     "text": [
      "Chunking: 100%|██████████| 28001/28001 [00:31<00:00, 892.47it/s]\n"
     ]
    },
    {
     "name": "stdout",
     "output_type": "stream",
     "text": [
      "Created 34803 chunks from 28001 documents\n"
     ]
    },
    {
     "name": "stderr",
     "output_type": "stream",
     "text": [
      "Map: 100%|██████████| 34803/34803 [04:00<00:00, 144.62 examples/s]\n",
      "Map: 100%|██████████| 4719/4719 [00:06<00:00, 753.56 examples/s]\n",
      "100%|██████████| 272/272 [00:00<00:00, 2566.35it/s]\n"
     ]
    },
    {
     "name": "stdout",
     "output_type": "stream",
     "text": [
      "🏃 View run bge-large-en-v1.5_cs512_ov25 at: http://localhost:5000/#/experiments/354692744483317738/runs/5617833ecbfa4a1aa9bdd05077b8409f\n",
      "🧪 View experiment at: http://localhost:5000/#/experiments/354692744483317738\n",
      "\n",
      "Results:\n",
      "  P@10: 0.3554\n",
      "  R@10: 0.4741\n",
      "  MRR@10: 0.7529\n",
      "  Time: 264.6s\n",
      "\n",
      "================================================================================\n",
      "Testing: bge-large-en-v1.5 | chunk_size=512 | overlap=50\n",
      "================================================================================\n"
     ]
    },
    {
     "name": "stderr",
     "output_type": "stream",
     "text": [
      "Chunking: 100%|██████████| 28001/28001 [00:31<00:00, 901.91it/s]\n"
     ]
    },
    {
     "name": "stdout",
     "output_type": "stream",
     "text": [
      "Created 34841 chunks from 28001 documents\n"
     ]
    },
    {
     "name": "stderr",
     "output_type": "stream",
     "text": [
      "Map: 100%|██████████| 34841/34841 [04:00<00:00, 144.73 examples/s]\n",
      "Map: 100%|██████████| 4719/4719 [00:06<00:00, 744.33 examples/s]\n",
      "100%|██████████| 273/273 [00:00<00:00, 1875.58it/s]\n"
     ]
    },
    {
     "name": "stdout",
     "output_type": "stream",
     "text": [
      "🏃 View run bge-large-en-v1.5_cs512_ov50 at: http://localhost:5000/#/experiments/354692744483317738/runs/4191efa517c448ad94dc19dbe2f7c87f\n",
      "🧪 View experiment at: http://localhost:5000/#/experiments/354692744483317738\n",
      "\n",
      "Results:\n",
      "  P@10: 0.3556\n",
      "  R@10: 0.4745\n",
      "  MRR@10: 0.7539\n",
      "  Time: 264.8s\n",
      "\n",
      "================================================================================\n",
      "Testing: bge-large-en-v1.5 | chunk_size=512 | overlap=100\n",
      "================================================================================\n"
     ]
    },
    {
     "name": "stderr",
     "output_type": "stream",
     "text": [
      "Chunking: 100%|██████████| 28001/28001 [00:31<00:00, 900.95it/s]\n"
     ]
    },
    {
     "name": "stdout",
     "output_type": "stream",
     "text": [
      "Created 34965 chunks from 28001 documents\n"
     ]
    },
    {
     "name": "stderr",
     "output_type": "stream",
     "text": [
      "Map: 100%|██████████| 34965/34965 [04:01<00:00, 144.65 examples/s]\n",
      "Map: 100%|██████████| 4719/4719 [00:06<00:00, 746.69 examples/s]\n",
      "100%|██████████| 274/274 [00:00<00:00, 2100.45it/s]\n"
     ]
    },
    {
     "name": "stdout",
     "output_type": "stream",
     "text": [
      "🏃 View run bge-large-en-v1.5_cs512_ov100 at: http://localhost:5000/#/experiments/354692744483317738/runs/092c99f1073945ca8a0a67d3d16ac7bc\n",
      "🧪 View experiment at: http://localhost:5000/#/experiments/354692744483317738\n",
      "\n",
      "Results:\n",
      "  P@10: 0.3561\n",
      "  R@10: 0.4748\n",
      "  MRR@10: 0.7533\n",
      "  Time: 265.8s\n",
      "\n",
      "================================================================================\n",
      "All experiments completed!\n",
      "================================================================================\n"
     ]
    }
   ],
   "execution_count": 4
  },
  {
   "cell_type": "code",
   "id": "analysis",
   "metadata": {
    "ExecuteTime": {
     "end_time": "2025-10-26T12:30:19.628556Z",
     "start_time": "2025-10-26T12:30:19.626182Z"
    }
   },
   "source": [
    "# Optional: Quick analysis of results\n",
    "print(\"\\nView all results in MLflow UI at: http://localhost:5000\")\n",
    "print(\"\\nKey questions to explore:\")\n",
    "print(\"1. Does chunking improve retrieval performance?\")\n",
    "print(\"2. What is the optimal chunk size for each embedder?\")\n",
    "print(\"3. Does overlap help? What's the optimal overlap?\")\n",
    "print(\"4. How does chunking affect embedding time?\")"
   ],
   "outputs": [
    {
     "name": "stdout",
     "output_type": "stream",
     "text": [
      "\n",
      "View all results in MLflow UI at: http://localhost:5000\n",
      "\n",
      "Key questions to explore:\n",
      "1. Does chunking improve retrieval performance?\n",
      "2. What is the optimal chunk size for each embedder?\n",
      "3. Does overlap help? What's the optimal overlap?\n",
      "4. How does chunking affect embedding time?\n"
     ]
    }
   ],
   "execution_count": 5
  }
 ],
 "metadata": {
  "kernelspec": {
   "display_name": "Python 3",
   "language": "python",
   "name": "python3"
  },
  "language_info": {
   "codemirror_mode": {
    "name": "ipython",
    "version": 3
   },
   "file_extension": ".py",
   "mimetype": "text/x-python",
   "name": "python",
   "nbconvert_exporter": "python",
   "pygments_lexer": "ipython3",
   "version": "3.12.0"
  }
 },
 "nbformat": 4,
 "nbformat_minor": 5
}
