{
 "cells": [
  {
   "cell_type": "code",
   "id": "initial_id",
   "metadata": {
    "collapsed": true,
    "ExecuteTime": {
     "end_time": "2025-10-15T05:35:17.084289Z",
     "start_time": "2025-10-15T05:35:06.466753Z"
    }
   },
   "source": [
    "%load_ext autoreload\n",
    "%autoreload 2\n",
    "\n",
    "from rag.generation.local_llm import LocalLLM\n",
    "\n",
    "llm_model = LocalLLM(\n",
    "    model_name='Qwen/Qwen2.5-7B-Instruct',\n",
    "    device='cuda'\n",
    ")\n",
    "llm_model"
   ],
   "outputs": [
    {
     "name": "stderr",
     "output_type": "stream",
     "text": [
      "/home/ergot/projects/rag/.venv/lib/python3.12/site-packages/tqdm/auto.py:21: TqdmWarning: IProgress not found. Please update jupyter and ipywidgets. See https://ipywidgets.readthedocs.io/en/stable/user_install.html\n",
      "  from .autonotebook import tqdm as notebook_tqdm\n",
      "Loading checkpoint shards: 100%|██████████| 4/4 [00:00<00:00, 88.93it/s]\n"
     ]
    },
    {
     "data": {
      "text/plain": [
       "<rag.generation.local_llm.LocalLLM at 0x7499ff608980>"
      ]
     },
     "execution_count": 1,
     "metadata": {},
     "output_type": "execute_result"
    }
   ],
   "execution_count": 1
  },
  {
   "metadata": {
    "ExecuteTime": {
     "end_time": "2025-10-15T05:35:17.100734Z",
     "start_time": "2025-10-15T05:35:17.086792Z"
    }
   },
   "cell_type": "code",
   "source": "llm_model.model",
   "id": "6b236727e2e977c2",
   "outputs": [
    {
     "data": {
      "text/plain": [
       "Qwen2ForCausalLM(\n",
       "  (model): Qwen2Model(\n",
       "    (embed_tokens): Embedding(152064, 3584)\n",
       "    (layers): ModuleList(\n",
       "      (0-27): 28 x Qwen2DecoderLayer(\n",
       "        (self_attn): Qwen2Attention(\n",
       "          (q_proj): Linear(in_features=3584, out_features=3584, bias=True)\n",
       "          (k_proj): Linear(in_features=3584, out_features=512, bias=True)\n",
       "          (v_proj): Linear(in_features=3584, out_features=512, bias=True)\n",
       "          (o_proj): Linear(in_features=3584, out_features=3584, bias=False)\n",
       "        )\n",
       "        (mlp): Qwen2MLP(\n",
       "          (gate_proj): Linear(in_features=3584, out_features=18944, bias=False)\n",
       "          (up_proj): Linear(in_features=3584, out_features=18944, bias=False)\n",
       "          (down_proj): Linear(in_features=18944, out_features=3584, bias=False)\n",
       "          (act_fn): SiLU()\n",
       "        )\n",
       "        (input_layernorm): Qwen2RMSNorm((3584,), eps=1e-06)\n",
       "        (post_attention_layernorm): Qwen2RMSNorm((3584,), eps=1e-06)\n",
       "      )\n",
       "    )\n",
       "    (norm): Qwen2RMSNorm((3584,), eps=1e-06)\n",
       "    (rotary_emb): Qwen2RotaryEmbedding()\n",
       "  )\n",
       "  (lm_head): Linear(in_features=3584, out_features=152064, bias=False)\n",
       ")"
      ]
     },
     "execution_count": 2,
     "metadata": {},
     "output_type": "execute_result"
    }
   ],
   "execution_count": 2
  },
  {
   "metadata": {
    "ExecuteTime": {
     "end_time": "2025-10-15T05:35:19.151846Z",
     "start_time": "2025-10-15T05:35:17.129575Z"
    }
   },
   "cell_type": "code",
   "source": [
    "from rag.retrieval.vector_store import DocumentStore\n",
    "from rag.embeddings import create_embedder\n",
    "from rag.config import settings\n",
    "\n",
    "embedder = create_embedder(settings)\n",
    "\n",
    "store = DocumentStore(embedder)\n",
    "store.load(\"bioasq-mini\")\n",
    "store"
   ],
   "id": "ba64ec0378583991",
   "outputs": [
    {
     "data": {
      "text/plain": [
       "DocumentStore(total=40221)"
      ]
     },
     "execution_count": 3,
     "metadata": {},
     "output_type": "execute_result"
    }
   ],
   "execution_count": 3
  },
  {
   "metadata": {
    "ExecuteTime": {
     "end_time": "2025-10-15T05:35:19.225055Z",
     "start_time": "2025-10-15T05:35:19.197359Z"
    }
   },
   "cell_type": "code",
   "source": [
    "user_question = \"Which disorders are associated with histamine receptors?\"\n",
    "\n",
    "retrieved_docs = store.search(user_question, k=20)"
   ],
   "id": "bb6be39e45b177b9",
   "outputs": [],
   "execution_count": 4
  },
  {
   "metadata": {
    "ExecuteTime": {
     "end_time": "2025-10-15T05:35:19.259158Z",
     "start_time": "2025-10-15T05:35:19.242154Z"
    }
   },
   "cell_type": "code",
   "source": "len(str(retrieved_docs))",
   "id": "6fc891124fe25eaa",
   "outputs": [
    {
     "data": {
      "text/plain": [
       "31942"
      ]
     },
     "execution_count": 5,
     "metadata": {},
     "output_type": "execute_result"
    }
   ],
   "execution_count": 5
  },
  {
   "metadata": {
    "ExecuteTime": {
     "end_time": "2025-10-17T12:14:19.203721Z",
     "start_time": "2025-10-17T12:14:15.167073Z"
    }
   },
   "cell_type": "code",
   "source": [
    "system_prompt = \"\"\"You are a domain-careful, passage-bound assistant. You will be given:\n",
    "\n",
    "CONTEXT: a list of dictionaries, each with keys:\n",
    "\n",
    "text (string) — the passage content (use this only).\n",
    "\n",
    "distance (number) — smaller usually means more relevant. Use for tie-breaking, not as ground truth.\n",
    "\n",
    "index (int) — unique identifier for citation (cite this).\n",
    "\n",
    "QUESTION: the user’s query.\n",
    "\n",
    "Ground Rules\n",
    "\n",
    "Use Only the Provided Passages\n",
    "\n",
    "All factual claims must come solely from text fields within CONTEXT.\n",
    "\n",
    "Ignore any prior knowledge and external facts.\n",
    "\n",
    "Cite by index\n",
    "\n",
    "After each factual claim or at the end of a sentence/ bullet, cite like [idx=2025].\n",
    "\n",
    "If multiple passages support a claim, cite the strongest 1–3 (prefer lower distance).\n",
    "\n",
    "Be Concise, Direct, and Structured\n",
    "\n",
    "Lead with a 1–3 sentence answer.\n",
    "\n",
    "Use bullets for lists, mechanisms, pros/cons, steps, etc.\n",
    "\n",
    "Include brief definitions only if needed to answer.\n",
    "\n",
    "Rank & Filter Passages Sensibly\n",
    "\n",
    "Prefer passages with lower distance, high topical match, and specific details.\n",
    "\n",
    "De-duplicate overlapping content; don’t over-cite.\n",
    "\n",
    "If passages conflict and can’t be resolved, state the disagreement and present both sides with citations.\n",
    "\n",
    "No Fabrication\n",
    "\n",
    "Do not invent numbers, dates, mechanisms, or terminology not explicitly present in text.\n",
    "\n",
    "When Information Is Insufficient\n",
    "\n",
    "Say: “I don’t have enough information in the provided passages to answer.”\n",
    "\n",
    "Optionally list what’s missing (e.g., “mechanism”, “dates”, “definitions”).\n",
    "\n",
    "Biomedical/Technical Care (if applicable)\n",
    "\n",
    "Distinguish hypotheses vs. established findings when the wording is tentative.\n",
    "\n",
    "Avoid over-generalization beyond what’s stated.\n",
    "\n",
    "If species/setting (rodent vs. human, in vitro vs. in vivo) isn’t specified in the passages, don’t assume.\n",
    "\n",
    "Working Steps (internal)\n",
    "\n",
    "Parse CONTEXT; extract only text and note each item’s index and distance.\n",
    "\n",
    "Identify passages most relevant to the QUESTION (favor lower distance).\n",
    "\n",
    "Synthesize the answer strictly from the chosen passages.\n",
    "\n",
    "Add minimal, targeted citations using [idx=…].\n",
    "\n",
    "If conflicts remain unresolved, present both views briefly.\n",
    "\n",
    "Input Format (exact)\n",
    "======================== CONTEXT ================================\n",
    "[{'text': '<passage 1 text>', 'distance': <float>, 'index': <int>},\n",
    " {'text': '<passage 2 text>', 'distance': <float>, 'index': <int>},\n",
    " ...\n",
    "]\n",
    "====================== QUESTION: <user question> ================\n",
    "\n",
    "Output Format (default)\n",
    "<Concise answer (1–3 sentences).>\n",
    "\n",
    "- <Key point 1>. [doc_id=33378]\n",
    "- <Key point 2>. [doc_id=37076, doc_id=33378]\n",
    "\n",
    "Citations: [doc_id=33378], [doc_id=37076]\n",
    "\n",
    "Insufficient Information\n",
    "I don’t have enough information in the provided passages to answer. I would need <briefly state what is missing>.\n",
    "Citations: —\n",
    "\n",
    "Optional (if you want a quick audit trail)\n",
    "\n",
    "After the answer (keep it short), you may append:\n",
    "\n",
    "Relevance notes (brief):\n",
    "- Used doc_id=37076 (lower distance, direct on H3 inverse agonism).\n",
    "- Used doc_id=33378 (mechanistic distribution & function).\n",
    "- Skipped doc_id=5234/2025/16517 (off-topic for QUESTION).\n",
    "\"\"\"\n",
    "\n",
    "prompt = f\"\"\"\n",
    "======================== CONTEXT ================================\n",
    "{retrieved_docs}\n",
    "\n",
    "====================== QUESTION: {user_question} ================\"\"\"\n",
    "\n",
    "response = llm_model.generate(\n",
    "    prompt=prompt,\n",
    "    system_prompt=system_prompt,\n",
    "    max_tokens=1024,\n",
    "    temperature=1.0,\n",
    ")\n",
    "\n",
    "print(response)"
   ],
   "id": "33667d101b29b7d9",
   "outputs": [
    {
     "name": "stdout",
     "output_type": "stream",
     "text": [
      "The histamine receptors are associated with various neurological and psychiatric disorders. Specifically:\n",
      "\n",
      "- **Alzheimer's Disease**: The H3 receptor, in particular, has been implicated in cognitive functions and may contribute to cognitive impairment in conditions like Alzheimer's disease.\n",
      "- **Attention Deficit Hyperactivity Disorder (ADHD)**: The H3 receptor is considered a relevant target for potential therapeutic interventions.\n",
      "- **Neuropathic Pain**: The H3 receptor is involved in pain regulation and has been linked to conditions associated with neuropathic pain.\n",
      "- **Schizophrenia**: The H3 receptor is a potential target for developing treatments for schizophrenia.\n",
      "- **Tourette Syndrome**: The H3 receptor plays a role in regulating the cortico-basal ganglia circuitry, which is disrupted in Tourette syndrome. A mouse model with a mutation affecting histamine levels exhibited TS-like phenotypes.\n",
      "- **Dementia**: Although the benefits of H3 inverse agonists for dementia are inconclusive, they show potential for treating disorders associated with excessive daytime sleepiness.\n",
      "\n",
      "[Citation: idx=27787717, idx=25464894]\n"
     ]
    }
   ],
   "execution_count": 11
  },
  {
   "metadata": {
    "ExecuteTime": {
     "end_time": "2025-10-15T05:35:25.216275Z",
     "start_time": "2025-10-15T05:35:25.203011Z"
    }
   },
   "cell_type": "code",
   "source": [
    "def get_rag_response(user_question):\n",
    "    retrieved_docs = store.search(user_question, k=20)\n",
    "    prompt = f\"\"\"\n",
    "    ======================== CONTEXT ================================\n",
    "    {retrieved_docs}\n",
    "\n",
    "    ====================== QUESTION: {user_question} ================\"\"\"\n",
    "\n",
    "    response = llm_model.generate(\n",
    "        prompt=prompt,\n",
    "        system_prompt=system_prompt,\n",
    "        max_tokens=1024,\n",
    "        temperature=0.1,\n",
    "    )\n",
    "    return response"
   ],
   "id": "8e6d7660f14684ed",
   "outputs": [],
   "execution_count": 7
  },
  {
   "metadata": {
    "ExecuteTime": {
     "end_time": "2025-10-15T05:35:27.415727Z",
     "start_time": "2025-10-15T05:35:25.244986Z"
    }
   },
   "cell_type": "code",
   "source": [
    "from datasets import load_dataset\n",
    "\n",
    "test_ds = load_dataset(\"rag-datasets/rag-mini-bioasq\", \"question-answer-passages\")['test']\n",
    "test_ds"
   ],
   "id": "7023bc8cd1b1af38",
   "outputs": [
    {
     "data": {
      "text/plain": [
       "Dataset({\n",
       "    features: ['question', 'answer', 'relevant_passage_ids', 'id'],\n",
       "    num_rows: 4719\n",
       "})"
      ]
     },
     "execution_count": 8,
     "metadata": {},
     "output_type": "execute_result"
    }
   ],
   "execution_count": 8
  },
  {
   "metadata": {
    "ExecuteTime": {
     "end_time": "2025-10-15T05:35:27.478368Z",
     "start_time": "2025-10-15T05:35:27.462112Z"
    }
   },
   "cell_type": "code",
   "source": [
    "row = test_ds[24]\n",
    "row"
   ],
   "id": "8cc53695aa93306a",
   "outputs": [
    {
     "data": {
      "text/plain": [
       "{'question': 'Is Alu hypomethylation associated with breast cancer?',\n",
       " 'answer': 'Yes, Alu elements were found to be hypomethylated in breast cancer, especially in the HER2-enriched subtype. Furthermore, Alu hypomethylation was identified as a late event during breast cancer progression, and in invasive breast cancer, tended to be associated with negative estrogen receptor status and poor disease-free survival of the patients.',\n",
       " 'relevant_passage_ids': '[20682973, 24971511]',\n",
       " 'id': 24}"
      ]
     },
     "execution_count": 9,
     "metadata": {},
     "output_type": "execute_result"
    }
   ],
   "execution_count": 9
  },
  {
   "metadata": {
    "ExecuteTime": {
     "end_time": "2025-10-15T05:35:29.455278Z",
     "start_time": "2025-10-15T05:35:27.504725Z"
    }
   },
   "cell_type": "code",
   "source": [
    "response = get_rag_response(row['question'])\n",
    "print(response)"
   ],
   "id": "a5630a192c332bb0",
   "outputs": [
    {
     "name": "stdout",
     "output_type": "stream",
     "text": [
      "- Alu hypomethylation is associated with breast cancer, particularly correlating with negative estrogen receptor (ER) status in invasive breast cancer (IBC). [idx=24971511]\n",
      "\n",
      "Citations: [idx=24971511]\n",
      "\n",
      "Relevance notes:\n",
      "- Used idx=24971511 (directly states the association between Alu hypomethylation and breast cancer characteristics).\n"
     ]
    }
   ],
   "execution_count": 10
  },
  {
   "metadata": {
    "ExecuteTime": {
     "end_time": "2025-10-15T05:35:29.501088Z",
     "start_time": "2025-10-15T05:35:29.499942Z"
    }
   },
   "cell_type": "code",
   "source": "",
   "id": "86120193f24f0fea",
   "outputs": [],
   "execution_count": null
  }
 ],
 "metadata": {
  "kernelspec": {
   "display_name": "Python 3",
   "language": "python",
   "name": "python3"
  },
  "language_info": {
   "codemirror_mode": {
    "name": "ipython",
    "version": 2
   },
   "file_extension": ".py",
   "mimetype": "text/x-python",
   "name": "python",
   "nbconvert_exporter": "python",
   "pygments_lexer": "ipython2",
   "version": "2.7.6"
  }
 },
 "nbformat": 4,
 "nbformat_minor": 5
}
