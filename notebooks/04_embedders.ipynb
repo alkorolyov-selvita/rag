{
 "cells": [
  {
   "cell_type": "code",
   "id": "initial_id",
   "metadata": {
    "collapsed": true,
    "ExecuteTime": {
     "end_time": "2025-10-23T06:23:17.481744Z",
     "start_time": "2025-10-23T06:23:11.935029Z"
    }
   },
   "source": [
    "%load_ext autoreload\n",
    "%autoreload 2\n",
    "\n",
    "\n",
    "import faiss\n",
    "import numpy as np\n",
    "import pandas as pd\n",
    "from datasets import load_dataset\n",
    "\n",
    "from rag.embeddings import LocalEmbedder\n",
    "from rag.utils import embed_biorag_datasets, precision_at_k, recall_at_k, mrr_at_k, ndcg_at_k, get_hit_flags, \\\n",
    "    get_metrics\n",
    "\n",
    "doc_ds = load_dataset(\"rag-datasets/rag-mini-bioasq\", \"text-corpus\")['passages']\n",
    "query_ds = load_dataset(\"rag-datasets/rag-mini-bioasq\", \"question-answer-passages\")['test']"
   ],
   "outputs": [
    {
     "name": "stderr",
     "output_type": "stream",
     "text": [
      "/home/ergot/projects/rag/.venv/lib/python3.12/site-packages/tqdm/auto.py:21: TqdmWarning: IProgress not found. Please update jupyter and ipywidgets. See https://ipywidgets.readthedocs.io/en/stable/user_install.html\n",
      "  from .autonotebook import tqdm as notebook_tqdm\n"
     ]
    }
   ],
   "execution_count": 1
  },
  {
   "metadata": {
    "ExecuteTime": {
     "end_time": "2025-10-23T06:23:19.547759Z",
     "start_time": "2025-10-23T06:23:17.484875Z"
    }
   },
   "cell_type": "code",
   "source": [
    "faiss_metric = 'IP' #  L2 or IP\n",
    "\n",
    "embedder = LocalEmbedder(\"all-MiniLM-L6-v2\", device=\"cuda\")\n",
    "# embedder = LocalEmbedder(\"BAAI/bge-large-en-v1.5\", device='cuda')\n",
    "# embedder = LocalEmbedder(\"BAAI/bge-small-en-v1.5\", device='cpu')"
   ],
   "id": "685639e9d9b31b4",
   "outputs": [],
   "execution_count": 2
  },
  {
   "metadata": {
    "ExecuteTime": {
     "end_time": "2025-10-23T06:23:28.518613Z",
     "start_time": "2025-10-23T06:23:19.593609Z"
    }
   },
   "cell_type": "code",
   "source": [
    "from tqdm import tqdm\n",
    "\n",
    "# assumes you already have your embedder\n",
    "tokenizer = embedder.model.tokenizer\n",
    "\n",
    "def get_seq_lengths(ds, column=\"passage\"):\n",
    "    lengths = []\n",
    "    for text in tqdm(ds[column], desc=\"Tokenizing\"):\n",
    "        tokens = tokenizer(text, truncation=False, padding=False, return_length=True)\n",
    "        lengths.append(tokens[\"length\"][0])\n",
    "    return pd.Series(lengths)\n",
    "\n",
    "# Example usage\n",
    "ds_lengths = get_seq_lengths(doc_ds, column=\"passage\")"
   ],
   "id": "cdbdf73570de154c",
   "outputs": [
    {
     "name": "stderr",
     "output_type": "stream",
     "text": [
      "Tokenizing:   0%|          | 0/40221 [00:00<?, ?it/s]Token indices sequence length is longer than the specified maximum sequence length for this model (340 > 256). Running this sequence through the model will result in indexing errors\n",
      "Tokenizing: 100%|██████████| 40221/40221 [00:08<00:00, 4517.34it/s]\n"
     ]
    }
   ],
   "execution_count": 3
  },
  {
   "metadata": {
    "ExecuteTime": {
     "end_time": "2025-10-23T06:23:28.580866Z",
     "start_time": "2025-10-23T06:23:28.563568Z"
    }
   },
   "cell_type": "code",
   "source": "ds_lengths.describe()",
   "id": "3fcadf8b907c1f9",
   "outputs": [
    {
     "data": {
      "text/plain": [
       "count    40221.000000\n",
       "mean       238.106586\n",
       "std        218.792328\n",
       "min          3.000000\n",
       "25%          3.000000\n",
       "50%        258.000000\n",
       "75%        371.000000\n",
       "max       8099.000000\n",
       "dtype: float64"
      ]
     },
     "execution_count": 4,
     "metadata": {},
     "output_type": "execute_result"
    }
   ],
   "execution_count": 4
  },
  {
   "metadata": {
    "ExecuteTime": {
     "end_time": "2025-10-23T06:24:05.993547Z",
     "start_time": "2025-10-23T06:23:28.607285Z"
    }
   },
   "cell_type": "code",
   "source": "doc_ds, query_ds = embed_biorag_datasets(doc_ds, query_ds, embedder)",
   "id": "996943239e4a974a",
   "outputs": [
    {
     "name": "stderr",
     "output_type": "stream",
     "text": [
      "Map: 100%|██████████| 40221/40221 [00:22<00:00, 1810.40 examples/s]\n",
      "Map: 100%|██████████| 4719/4719 [00:01<00:00, 3122.70 examples/s]\n"
     ]
    }
   ],
   "execution_count": 5
  },
  {
   "metadata": {
    "ExecuteTime": {
     "end_time": "2025-10-23T06:24:06.125251Z",
     "start_time": "2025-10-23T06:24:06.039768Z"
    }
   },
   "cell_type": "code",
   "source": [
    "doc_ds.add_faiss_index(\n",
    "    column='embedding',\n",
    "    string_factory='Flat',\n",
    "    metric_type=faiss.METRIC_L2 if faiss_metric == 'L2' else faiss.METRIC_INNER_PRODUCT,\n",
    "    batch_size=128,\n",
    ")"
   ],
   "id": "8a4dee1d7ea95c18",
   "outputs": [
    {
     "name": "stderr",
     "output_type": "stream",
     "text": [
      "100%|██████████| 315/315 [00:00<00:00, 4561.99it/s]\n"
     ]
    },
    {
     "data": {
      "text/plain": [
       "Dataset({\n",
       "    features: ['passage', 'id', 'embedding'],\n",
       "    num_rows: 40221\n",
       "})"
      ]
     },
     "execution_count": 6,
     "metadata": {},
     "output_type": "execute_result"
    }
   ],
   "execution_count": 6
  },
  {
   "metadata": {},
   "cell_type": "markdown",
   "source": "# Precompute vals",
   "id": "dee36ccc8fc16427"
  },
  {
   "metadata": {
    "ExecuteTime": {
     "end_time": "2025-10-23T06:24:06.469545Z",
     "start_time": "2025-10-23T06:24:06.126987Z"
    }
   },
   "cell_type": "code",
   "source": [
    "doc_id_to_text = doc_ds.select_columns(['id', 'passage']).to_pandas().set_index('id')['passage'].to_dict()\n",
    "index_to_doc_id = np.array(doc_ds['id'])\n",
    "queries = np.array(query_ds['question'])\n",
    "\n",
    "qrels = [np.array(eval(gold)) for gold in query_ds['relevant_passage_ids']]\n",
    "qrels_counts = [len(s) for s in qrels]"
   ],
   "id": "663cbc5096f5c045",
   "outputs": [],
   "execution_count": 7
  },
  {
   "metadata": {},
   "cell_type": "markdown",
   "source": "# Search",
   "id": "5ded4f160b9c0ce5"
  },
  {
   "metadata": {
    "ExecuteTime": {
     "end_time": "2025-10-23T06:24:09.225693Z",
     "start_time": "2025-10-23T06:24:06.471467Z"
    }
   },
   "cell_type": "code",
   "source": [
    "k = 5\n",
    "res = doc_ds.get_index('embedding').search_batch(np.array(query_ds['embedding']), k=k)\n",
    "retrieved_ids = index_to_doc_id[res.total_indices]\n",
    "retrieved_ids"
   ],
   "id": "9f807005f606568a",
   "outputs": [
    {
     "data": {
      "text/plain": [
       "array([[23001136,  1785632,  9727738, 17965226, 22584707],\n",
       "       [23382875, 27426127, 22829865, 34667080, 23637683],\n",
       "       [15094122,  3320045, 11076767, 34489718, 12666201],\n",
       "       ...,\n",
       "       [32529410, 28624872, 18637493, 16394582, 20007317],\n",
       "       [28614408, 18824533, 34169075,  7676521, 18654798],\n",
       "       [30580288, 24310308,  8275569, 29383495, 12497758]],\n",
       "      shape=(4719, 5))"
      ]
     },
     "execution_count": 8,
     "metadata": {},
     "output_type": "execute_result"
    }
   ],
   "execution_count": 8
  },
  {
   "metadata": {},
   "cell_type": "markdown",
   "source": "# Metrics",
   "id": "84a3a46d3bc77465"
  },
  {
   "metadata": {
    "ExecuteTime": {
     "end_time": "2025-10-23T06:24:09.376820Z",
     "start_time": "2025-10-23T06:24:09.270539Z"
    }
   },
   "cell_type": "code",
   "source": [
    "metrics = get_metrics(retrieved_ids, query_ds, k)\n",
    "\n",
    "print(embedder.model_name, faiss_metric)\n",
    "for k, v in metrics.items():\n",
    "    print(f\"{k:6s}\", f\"{v:.3f}\")"
   ],
   "id": "2bd98d7ba014d2bb",
   "outputs": [
    {
     "name": "stdout",
     "output_type": "stream",
     "text": [
      "all-MiniLM-L6-v2 IP\n",
      "P@5   0.380\n",
      "R@5   0.293\n",
      "MRR@5 0.626\n",
      "nDCG@5 0.489\n"
     ]
    }
   ],
   "execution_count": 9
  },
  {
   "metadata": {
    "ExecuteTime": {
     "end_time": "2025-10-23T06:24:09.379271Z",
     "start_time": "2025-10-23T06:24:09.378124Z"
    }
   },
   "cell_type": "code",
   "source": "",
   "id": "626c226ca1b68c90",
   "outputs": [],
   "execution_count": null
  },
  {
   "metadata": {
    "ExecuteTime": {
     "end_time": "2025-10-23T06:24:09.422013Z",
     "start_time": "2025-10-23T06:24:09.420821Z"
    }
   },
   "cell_type": "code",
   "source": "",
   "id": "ab4b06fd8f5480d7",
   "outputs": [],
   "execution_count": null
  }
 ],
 "metadata": {
  "kernelspec": {
   "display_name": "Python 3",
   "language": "python",
   "name": "python3"
  },
  "language_info": {
   "codemirror_mode": {
    "name": "ipython",
    "version": 2
   },
   "file_extension": ".py",
   "mimetype": "text/x-python",
   "name": "python",
   "nbconvert_exporter": "python",
   "pygments_lexer": "ipython2",
   "version": "2.7.6"
  }
 },
 "nbformat": 4,
 "nbformat_minor": 5
}
